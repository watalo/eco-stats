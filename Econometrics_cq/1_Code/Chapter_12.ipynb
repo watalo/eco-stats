{
 "cells": [
  {
   "cell_type": "markdown",
   "metadata": {},
   "source": [
    "## 12.13 面板模型的python命令及实例\n",
    "\n",
    "### 1.面板数据的设定"
   ]
  },
  {
   "cell_type": "code",
   "execution_count": 1,
   "metadata": {},
   "outputs": [],
   "source": [
    "import pandas as pd\n",
    "import statsmodels.api as sm\n",
    "from linearmodels.panel import PanelOLS, PooledOLS, RandomEffects, FirstDifferenceOLS"
   ]
  },
  {
   "cell_type": "markdown",
   "metadata": {},
   "source": [
    "`statsmodels`和`linearmodels`的数据类型不一样\n",
    "- `linearmodels`需要设置多重索引形成真正意义上的面板数据\n",
    "- `statsmodels`是按照截面数据的形式指定个体和时间的字段即可"
   ]
  },
  {
   "cell_type": "code",
   "execution_count": 2,
   "metadata": {},
   "outputs": [],
   "source": [
    "lin = pd.read_stata('../2_Data/Data-2e/lin_1992.dta')\n",
    "lin.dropna(inplace=True)\n",
    "panel_lin = lin.set_index(['province', 'year']) # 第1个索引是个体，第2个索引是时间"
   ]
  },
  {
   "cell_type": "markdown",
   "metadata": {},
   "source": [
    "原始数据是以截面数据形式展现的面板数据。\n",
    "- `province` 是面板变量（个体变量）= `prov`\n",
    "- `t` 是时间变量（时间序列） = `year`\n",
    "\n",
    "### 2.混合回归"
   ]
  },
  {
   "cell_type": "markdown",
   "metadata": {},
   "source": [
    "#### （1）以`'province'`作为聚类变量的聚类稳健的标准误\n",
    "##### a. 使用`linearmodels.panel.PooledOLS()`\n",
    "\n",
    "在`fit()`中设置`cov_type='Clustered'`\n",
    "- `cluster_entity` - Boolean flag indicating to use entity clusters\n",
    "-  `cluster_time` - Boolean indicating to use time clusters"
   ]
  },
  {
   "cell_type": "code",
   "execution_count": 3,
   "metadata": {},
   "outputs": [
    {
     "name": "stdout",
     "output_type": "stream",
     "text": [
      "                          PooledOLS Estimation Summary                          \n",
      "================================================================================\n",
      "Dep. Variable:                  ltvfo   R-squared:                        0.8685\n",
      "Estimator:                  PooledOLS   R-squared (Between):              0.8901\n",
      "No. Observations:                 476   R-squared (Within):               0.8146\n",
      "Date:                Fri, May 03 2024   R-squared (Overall):              0.8685\n",
      "Time:                        03:14:41   Log-likelihood                    103.19\n",
      "Cov. Estimator:             Clustered                                           \n",
      "                                        F-statistic:                      342.09\n",
      "Entities:                          28   P-value                           0.0000\n",
      "Avg Obs:                       17.000   Distribution:                   F(9,466)\n",
      "Min Obs:                       17.000                                           \n",
      "Max Obs:                       17.000   F-statistic (robust):             81.390\n",
      "                                        P-value                           0.0000\n",
      "Time periods:                      17   Distribution:                   F(9,466)\n",
      "Avg Obs:                       28.000                                           \n",
      "Min Obs:                       28.000                                           \n",
      "Max Obs:                       28.000                                           \n",
      "                                                                                \n",
      "                             Parameter Estimates                              \n",
      "==============================================================================\n",
      "            Parameter  Std. Err.     T-stat    P-value    Lower CI    Upper CI\n",
      "------------------------------------------------------------------------------\n",
      "const          1.0806     0.8270     1.3067     0.1920     -0.5445      2.7057\n",
      "ltlan          0.6938     0.1150     6.0317     0.0000      0.4678      0.9198\n",
      "ltwlab         0.2650     0.0566     4.6799     0.0000      0.1537      0.3763\n",
      "ltpow         -0.0292     0.0670    -0.4354     0.6635     -0.1609      0.1025\n",
      "ltfer          0.3111     0.0531     5.8545     0.0000      0.2067      0.4155\n",
      "hrs            0.2287     0.0489     4.6724     0.0000      0.1325      0.3249\n",
      "mipric1        0.0122     0.0548     0.2228     0.8238     -0.0954      0.1199\n",
      "giprice       -0.0539     0.0274    -1.9634     0.0502     -0.1078   4.564e-05\n",
      "mci            0.6949     0.1690     4.1127     0.0000      0.3629      1.0270\n",
      "ngca           0.3053     0.5223     0.5846     0.5591     -0.7210      1.3316\n",
      "==============================================================================\n"
     ]
    },
    {
     "name": "stderr",
     "output_type": "stream",
     "text": [
      "e:\\Eco-stats\\eco-stats\\.venv\\lib\\site-packages\\linearmodels\\panel\\data.py:681: FutureWarning: The default of observed=False is deprecated and will be changed to True in a future version of pandas. Pass observed=False to retain current behavior or observed=True to adopt the future default and silence this warning.\n",
      "  mu = self._frame.groupby(level=level).mean()\n",
      "e:\\Eco-stats\\eco-stats\\.venv\\lib\\site-packages\\linearmodels\\panel\\data.py:681: FutureWarning: The default of observed=False is deprecated and will be changed to True in a future version of pandas. Pass observed=False to retain current behavior or observed=True to adopt the future default and silence this warning.\n",
      "  mu = self._frame.groupby(level=level).mean()\n",
      "e:\\Eco-stats\\eco-stats\\.venv\\lib\\site-packages\\linearmodels\\panel\\data.py:641: FutureWarning: The default of observed=False is deprecated and will be changed to True in a future version of pandas. Pass observed=False to retain current behavior or observed=True to adopt the future default and silence this warning.\n",
      "  out = self._frame.groupby(level=level).count()\n",
      "e:\\Eco-stats\\eco-stats\\.venv\\lib\\site-packages\\linearmodels\\panel\\data.py:681: FutureWarning: The default of observed=False is deprecated and will be changed to True in a future version of pandas. Pass observed=False to retain current behavior or observed=True to adopt the future default and silence this warning.\n",
      "  mu = self._frame.groupby(level=level).mean()\n",
      "e:\\Eco-stats\\eco-stats\\.venv\\lib\\site-packages\\linearmodels\\panel\\data.py:591: FutureWarning: The default of observed=False is deprecated and will be changed to True in a future version of pandas. Pass observed=False to retain current behavior or observed=True to adopt the future default and silence this warning.\n",
      "  group_mu = self._frame.groupby(level=level).transform(\"mean\")\n",
      "e:\\Eco-stats\\eco-stats\\.venv\\lib\\site-packages\\linearmodels\\panel\\data.py:681: FutureWarning: The default of observed=False is deprecated and will be changed to True in a future version of pandas. Pass observed=False to retain current behavior or observed=True to adopt the future default and silence this warning.\n",
      "  mu = self._frame.groupby(level=level).mean()\n",
      "e:\\Eco-stats\\eco-stats\\.venv\\lib\\site-packages\\linearmodels\\panel\\data.py:681: FutureWarning: The default of observed=False is deprecated and will be changed to True in a future version of pandas. Pass observed=False to retain current behavior or observed=True to adopt the future default and silence this warning.\n",
      "  mu = self._frame.groupby(level=level).mean()\n",
      "e:\\Eco-stats\\eco-stats\\.venv\\lib\\site-packages\\linearmodels\\panel\\data.py:591: FutureWarning: The default of observed=False is deprecated and will be changed to True in a future version of pandas. Pass observed=False to retain current behavior or observed=True to adopt the future default and silence this warning.\n",
      "  group_mu = self._frame.groupby(level=level).transform(\"mean\")\n"
     ]
    }
   ],
   "source": [
    "# 使用聚类稳健的标准误，聚类变量为entity\n",
    "exog = panel_lin[['ltlan', 'ltwlab', 'ltpow', \n",
    "                  'ltfer','hrs','mipric1',\n",
    "                  'giprice','mci','ngca']]\n",
    "dep = panel_lin['ltvfo']\n",
    "exog = sm.add_constant(exog)\n",
    "model = PooledOLS(dependent=dep, exog=exog)\n",
    "result = model.fit(cov_type='clustered', # 采用聚类标准误\n",
    "                   cluster_entity=True, # 按个体进行聚类\n",
    "                #  debiased=True, \n",
    "                   group_debias=True)  # 是否按照个体数n进行聚类\n",
    "print(result.summary)"
   ]
  },
  {
   "cell_type": "markdown",
   "metadata": {},
   "source": [
    "##### b. 使用`sm.OLS()`估计\n",
    "\n",
    "在`.fit()`函数中：\n",
    "- `cov_type='cluster'`：使用聚类标准误\n",
    "- `cov_kwds={'groups':lin['province]}`：指定按个体变量进行聚类"
   ]
  },
  {
   "cell_type": "code",
   "execution_count": 4,
   "metadata": {},
   "outputs": [
    {
     "name": "stdout",
     "output_type": "stream",
     "text": [
      "                            OLS Regression Results                            \n",
      "==============================================================================\n",
      "Dep. Variable:                  ltvfo   R-squared:                       0.869\n",
      "Model:                            OLS   Adj. R-squared:                  0.866\n",
      "Method:                 Least Squares   F-statistic:                     81.39\n",
      "Date:                Fri, 03 May 2024   Prob (F-statistic):           3.21e-17\n",
      "Time:                        03:14:41   Log-Likelihood:                 103.19\n",
      "No. Observations:                 476   AIC:                            -186.4\n",
      "Df Residuals:                     466   BIC:                            -144.7\n",
      "Df Model:                           9                                         \n",
      "Covariance Type:              cluster                                         \n",
      "==============================================================================\n",
      "                 coef    std err          z      P>|z|      [0.025      0.975]\n",
      "------------------------------------------------------------------------------\n",
      "const          1.0806      0.827      1.307      0.191      -0.540       2.701\n",
      "ltlan          0.6938      0.115      6.032      0.000       0.468       0.919\n",
      "ltwlab         0.2650      0.057      4.680      0.000       0.154       0.376\n",
      "ltpow         -0.0292      0.067     -0.435      0.663      -0.161       0.102\n",
      "ltfer          0.3111      0.053      5.855      0.000       0.207       0.415\n",
      "hrs            0.2287      0.049      4.672      0.000       0.133       0.325\n",
      "mipric1        0.0122      0.055      0.223      0.824      -0.095       0.120\n",
      "giprice       -0.0539      0.027     -1.963      0.050      -0.108   -9.44e-05\n",
      "mci            0.6949      0.169      4.113      0.000       0.364       1.026\n",
      "ngca           0.3053      0.522      0.585      0.559      -0.718       1.329\n",
      "==============================================================================\n",
      "Omnibus:                       14.820   Durbin-Watson:                   0.475\n",
      "Prob(Omnibus):                  0.001   Jarque-Bera (JB):               16.597\n",
      "Skew:                          -0.359   Prob(JB):                     0.000249\n",
      "Kurtosis:                       3.567   Cond. No.                         278.\n",
      "==============================================================================\n",
      "\n",
      "Notes:\n",
      "[1] Standard Errors are robust to cluster correlation (cluster)\n"
     ]
    }
   ],
   "source": [
    "exog = lin[['ltlan', 'ltwlab', 'ltpow', \n",
    "                  'ltfer','hrs','mipric1',\n",
    "                  'giprice','mci','ngca']]\n",
    "dep = lin['ltvfo']\n",
    "exog = sm.add_constant(exog)\n",
    "model = sm.OLS(endog=dep, exog=exog)\n",
    "results = model.fit(cov_type='cluster', \n",
    "                    cov_kwds={'groups': lin['province']})\n",
    "print(results.summary())"
   ]
  },
  {
   "cell_type": "markdown",
   "metadata": {},
   "source": [
    "#### （2）使用普通标准误进行对比\n",
    "\n",
    "##### a. 使用`linearmodels.panel.PooledOLS`"
   ]
  },
  {
   "cell_type": "code",
   "execution_count": 5,
   "metadata": {},
   "outputs": [
    {
     "name": "stdout",
     "output_type": "stream",
     "text": [
      "                          PooledOLS Estimation Summary                          \n",
      "================================================================================\n",
      "Dep. Variable:                  ltvfo   R-squared:                        0.8685\n",
      "Estimator:                  PooledOLS   R-squared (Between):              0.8901\n",
      "No. Observations:                 476   R-squared (Within):               0.8146\n",
      "Date:                Fri, May 03 2024   R-squared (Overall):              0.8685\n",
      "Time:                        03:14:41   Log-likelihood                    103.19\n",
      "Cov. Estimator:            Unadjusted                                           \n",
      "                                        F-statistic:                      342.09\n",
      "Entities:                          28   P-value                           0.0000\n",
      "Avg Obs:                       17.000   Distribution:                   F(9,466)\n",
      "Min Obs:                       17.000                                           \n",
      "Max Obs:                       17.000   F-statistic (robust):             342.09\n",
      "                                        P-value                           0.0000\n",
      "Time periods:                      17   Distribution:                   F(9,466)\n",
      "Avg Obs:                       28.000                                           \n",
      "Min Obs:                       28.000                                           \n",
      "Max Obs:                       28.000                                           \n",
      "                                                                                \n",
      "                             Parameter Estimates                              \n",
      "==============================================================================\n",
      "            Parameter  Std. Err.     T-stat    P-value    Lower CI    Upper CI\n",
      "------------------------------------------------------------------------------\n",
      "const          1.0806     0.2833     3.8149     0.0002      0.5240      1.6372\n",
      "ltlan          0.6938     0.0369     18.806     0.0000      0.6213      0.7663\n",
      "ltwlab         0.2650     0.0238     11.116     0.0000      0.2182      0.3119\n",
      "ltpow         -0.0292     0.0332    -0.8795     0.3796     -0.0944      0.0360\n",
      "ltfer          0.3111     0.0206     15.067     0.0000      0.2705      0.3516\n",
      "hrs            0.2287     0.0307     7.4463     0.0000      0.1683      0.2890\n",
      "mipric1        0.0122     0.0534     0.2286     0.8193     -0.0927      0.1171\n",
      "giprice       -0.0539     0.0272    -1.9812     0.0482     -0.1073     -0.0004\n",
      "mci            0.6949     0.0522     13.302     0.0000      0.5923      0.7976\n",
      "ngca           0.3053     0.1953     1.5635     0.1186     -0.0784      0.6890\n",
      "==============================================================================\n"
     ]
    },
    {
     "name": "stderr",
     "output_type": "stream",
     "text": [
      "e:\\Eco-stats\\eco-stats\\.venv\\lib\\site-packages\\linearmodels\\panel\\data.py:681: FutureWarning: The default of observed=False is deprecated and will be changed to True in a future version of pandas. Pass observed=False to retain current behavior or observed=True to adopt the future default and silence this warning.\n",
      "  mu = self._frame.groupby(level=level).mean()\n",
      "e:\\Eco-stats\\eco-stats\\.venv\\lib\\site-packages\\linearmodels\\panel\\data.py:681: FutureWarning: The default of observed=False is deprecated and will be changed to True in a future version of pandas. Pass observed=False to retain current behavior or observed=True to adopt the future default and silence this warning.\n",
      "  mu = self._frame.groupby(level=level).mean()\n",
      "e:\\Eco-stats\\eco-stats\\.venv\\lib\\site-packages\\linearmodels\\panel\\data.py:641: FutureWarning: The default of observed=False is deprecated and will be changed to True in a future version of pandas. Pass observed=False to retain current behavior or observed=True to adopt the future default and silence this warning.\n",
      "  out = self._frame.groupby(level=level).count()\n",
      "e:\\Eco-stats\\eco-stats\\.venv\\lib\\site-packages\\linearmodels\\panel\\data.py:681: FutureWarning: The default of observed=False is deprecated and will be changed to True in a future version of pandas. Pass observed=False to retain current behavior or observed=True to adopt the future default and silence this warning.\n",
      "  mu = self._frame.groupby(level=level).mean()\n",
      "e:\\Eco-stats\\eco-stats\\.venv\\lib\\site-packages\\linearmodels\\panel\\data.py:591: FutureWarning: The default of observed=False is deprecated and will be changed to True in a future version of pandas. Pass observed=False to retain current behavior or observed=True to adopt the future default and silence this warning.\n",
      "  group_mu = self._frame.groupby(level=level).transform(\"mean\")\n",
      "e:\\Eco-stats\\eco-stats\\.venv\\lib\\site-packages\\linearmodels\\panel\\data.py:681: FutureWarning: The default of observed=False is deprecated and will be changed to True in a future version of pandas. Pass observed=False to retain current behavior or observed=True to adopt the future default and silence this warning.\n",
      "  mu = self._frame.groupby(level=level).mean()\n",
      "e:\\Eco-stats\\eco-stats\\.venv\\lib\\site-packages\\linearmodels\\panel\\data.py:681: FutureWarning: The default of observed=False is deprecated and will be changed to True in a future version of pandas. Pass observed=False to retain current behavior or observed=True to adopt the future default and silence this warning.\n",
      "  mu = self._frame.groupby(level=level).mean()\n",
      "e:\\Eco-stats\\eco-stats\\.venv\\lib\\site-packages\\linearmodels\\panel\\data.py:591: FutureWarning: The default of observed=False is deprecated and will be changed to True in a future version of pandas. Pass observed=False to retain current behavior or observed=True to adopt the future default and silence this warning.\n",
      "  group_mu = self._frame.groupby(level=level).transform(\"mean\")\n"
     ]
    }
   ],
   "source": [
    "exog = panel_lin[['ltlan', 'ltwlab', 'ltpow', \n",
    "                  'ltfer','hrs','mipric1',\n",
    "                  'giprice','mci','ngca']]\n",
    "dep = panel_lin['ltvfo']\n",
    "exog = sm.add_constant(exog)\n",
    "model = PooledOLS(dependent=dep, exog=exog)\n",
    "result = model.fit()\n",
    "print(result.summary)"
   ]
  },
  {
   "cell_type": "markdown",
   "metadata": {},
   "source": [
    "##### b. 使用`sm.OLS()`"
   ]
  },
  {
   "cell_type": "code",
   "execution_count": 6,
   "metadata": {},
   "outputs": [
    {
     "name": "stdout",
     "output_type": "stream",
     "text": [
      "                            OLS Regression Results                            \n",
      "==============================================================================\n",
      "Dep. Variable:                  ltvfo   R-squared:                       0.869\n",
      "Model:                            OLS   Adj. R-squared:                  0.866\n",
      "Method:                 Least Squares   F-statistic:                     342.1\n",
      "Date:                Fri, 03 May 2024   Prob (F-statistic):          5.01e-199\n",
      "Time:                        03:14:41   Log-Likelihood:                 103.19\n",
      "No. Observations:                 476   AIC:                            -186.4\n",
      "Df Residuals:                     466   BIC:                            -144.7\n",
      "Df Model:                           9                                         \n",
      "Covariance Type:            nonrobust                                         \n",
      "==============================================================================\n",
      "                 coef    std err          t      P>|t|      [0.025      0.975]\n",
      "------------------------------------------------------------------------------\n",
      "const          1.0806      0.283      3.815      0.000       0.524       1.637\n",
      "ltlan          0.6938      0.037     18.806      0.000       0.621       0.766\n",
      "ltwlab         0.2650      0.024     11.116      0.000       0.218       0.312\n",
      "ltpow         -0.0292      0.033     -0.879      0.380      -0.094       0.036\n",
      "ltfer          0.3111      0.021     15.067      0.000       0.270       0.352\n",
      "hrs            0.2287      0.031      7.446      0.000       0.168       0.289\n",
      "mipric1        0.0122      0.053      0.229      0.819      -0.093       0.117\n",
      "giprice       -0.0539      0.027     -1.981      0.048      -0.107      -0.000\n",
      "mci            0.6949      0.052     13.302      0.000       0.592       0.798\n",
      "ngca           0.3053      0.195      1.563      0.119      -0.078       0.689\n",
      "==============================================================================\n",
      "Omnibus:                       14.820   Durbin-Watson:                   0.475\n",
      "Prob(Omnibus):                  0.001   Jarque-Bera (JB):               16.597\n",
      "Skew:                          -0.359   Prob(JB):                     0.000249\n",
      "Kurtosis:                       3.567   Cond. No.                         278.\n",
      "==============================================================================\n",
      "\n",
      "Notes:\n",
      "[1] Standard Errors assume that the covariance matrix of the errors is correctly specified.\n"
     ]
    }
   ],
   "source": [
    "exog = lin[['ltlan', 'ltwlab', 'ltpow', \n",
    "                  'ltfer','hrs','mipric1',\n",
    "                  'giprice','mci','ngca']]\n",
    "dep = lin['ltvfo']\n",
    "exog = sm.add_constant(exog)\n",
    "model = sm.OLS(endog=dep, exog=exog)\n",
    "results = model.fit()\n",
    "print(results.summary())"
   ]
  },
  {
   "cell_type": "markdown",
   "metadata": {},
   "source": [
    "### 3.固定效应\n",
    "\n",
    "#### （1）使用组内估计量"
   ]
  },
  {
   "cell_type": "code",
   "execution_count": 7,
   "metadata": {},
   "outputs": [
    {
     "ename": "ValueError",
     "evalue": "Series can only be used with a 2-level MultiIndex",
     "output_type": "error",
     "traceback": [
      "\u001b[1;31m---------------------------------------------------------------------------\u001b[0m",
      "\u001b[1;31mValueError\u001b[0m                                Traceback (most recent call last)",
      "Cell \u001b[1;32mIn[7], line 1\u001b[0m\n\u001b[1;32m----> 1\u001b[0m mod \u001b[38;5;241m=\u001b[39m \u001b[43mPanelOLS\u001b[49m\u001b[43m(\u001b[49m\u001b[43mdependent\u001b[49m\u001b[38;5;241;43m=\u001b[39;49m\u001b[43mdep\u001b[49m\u001b[43m,\u001b[49m\u001b[43m \u001b[49m\u001b[43mexog\u001b[49m\u001b[38;5;241;43m=\u001b[39;49m\u001b[43mexog\u001b[49m\u001b[43m,\u001b[49m\u001b[43m \u001b[49m\u001b[43mentity_effects\u001b[49m\u001b[38;5;241;43m=\u001b[39;49m\u001b[38;5;28;43;01mTrue\u001b[39;49;00m\u001b[43m)\u001b[49m\n\u001b[0;32m      2\u001b[0m fe_res \u001b[38;5;241m=\u001b[39m mod\u001b[38;5;241m.\u001b[39mfit(cov_type\u001b[38;5;241m=\u001b[39m\u001b[38;5;124m'\u001b[39m\u001b[38;5;124mclustered\u001b[39m\u001b[38;5;124m'\u001b[39m, \n\u001b[0;32m      3\u001b[0m                  cluster_entity\u001b[38;5;241m=\u001b[39m\u001b[38;5;28;01mTrue\u001b[39;00m,\n\u001b[0;32m      4\u001b[0m                  group_debias\u001b[38;5;241m=\u001b[39m\u001b[38;5;28;01mTrue\u001b[39;00m)\n\u001b[0;32m      5\u001b[0m \u001b[38;5;28mprint\u001b[39m(fe_res)\n",
      "File \u001b[1;32me:\\Eco-stats\\eco-stats\\.venv\\lib\\site-packages\\linearmodels\\panel\\model.py:1219\u001b[0m, in \u001b[0;36mPanelOLS.__init__\u001b[1;34m(self, dependent, exog, weights, entity_effects, time_effects, other_effects, singletons, drop_absorbed, check_rank)\u001b[0m\n\u001b[0;32m   1206\u001b[0m \u001b[38;5;28;01mdef\u001b[39;00m \u001b[38;5;21m__init__\u001b[39m(\n\u001b[0;32m   1207\u001b[0m     \u001b[38;5;28mself\u001b[39m,\n\u001b[0;32m   1208\u001b[0m     dependent: PanelDataLike,\n\u001b[1;32m   (...)\u001b[0m\n\u001b[0;32m   1217\u001b[0m     check_rank: \u001b[38;5;28mbool\u001b[39m \u001b[38;5;241m=\u001b[39m \u001b[38;5;28;01mTrue\u001b[39;00m,\n\u001b[0;32m   1218\u001b[0m ) \u001b[38;5;241m-\u001b[39m\u001b[38;5;241m>\u001b[39m \u001b[38;5;28;01mNone\u001b[39;00m:\n\u001b[1;32m-> 1219\u001b[0m     \u001b[38;5;28;43msuper\u001b[39;49m\u001b[43m(\u001b[49m\u001b[43m)\u001b[49m\u001b[38;5;241;43m.\u001b[39;49m\u001b[38;5;21;43m__init__\u001b[39;49m\u001b[43m(\u001b[49m\u001b[43mdependent\u001b[49m\u001b[43m,\u001b[49m\u001b[43m \u001b[49m\u001b[43mexog\u001b[49m\u001b[43m,\u001b[49m\u001b[43m \u001b[49m\u001b[43mweights\u001b[49m\u001b[38;5;241;43m=\u001b[39;49m\u001b[43mweights\u001b[49m\u001b[43m,\u001b[49m\u001b[43m \u001b[49m\u001b[43mcheck_rank\u001b[49m\u001b[38;5;241;43m=\u001b[39;49m\u001b[43mcheck_rank\u001b[49m\u001b[43m)\u001b[49m\n\u001b[0;32m   1221\u001b[0m     \u001b[38;5;28mself\u001b[39m\u001b[38;5;241m.\u001b[39m_entity_effects \u001b[38;5;241m=\u001b[39m entity_effects\n\u001b[0;32m   1222\u001b[0m     \u001b[38;5;28mself\u001b[39m\u001b[38;5;241m.\u001b[39m_time_effects \u001b[38;5;241m=\u001b[39m time_effects\n",
      "File \u001b[1;32me:\\Eco-stats\\eco-stats\\.venv\\lib\\site-packages\\linearmodels\\panel\\model.py:313\u001b[0m, in \u001b[0;36m_PanelModelBase.__init__\u001b[1;34m(self, dependent, exog, weights, check_rank)\u001b[0m\n\u001b[0;32m    305\u001b[0m \u001b[38;5;28;01mdef\u001b[39;00m \u001b[38;5;21m__init__\u001b[39m(\n\u001b[0;32m    306\u001b[0m     \u001b[38;5;28mself\u001b[39m,\n\u001b[0;32m    307\u001b[0m     dependent: PanelDataLike,\n\u001b[1;32m   (...)\u001b[0m\n\u001b[0;32m    311\u001b[0m     check_rank: \u001b[38;5;28mbool\u001b[39m \u001b[38;5;241m=\u001b[39m \u001b[38;5;28;01mTrue\u001b[39;00m,\n\u001b[0;32m    312\u001b[0m ) \u001b[38;5;241m-\u001b[39m\u001b[38;5;241m>\u001b[39m \u001b[38;5;28;01mNone\u001b[39;00m:\n\u001b[1;32m--> 313\u001b[0m     \u001b[38;5;28mself\u001b[39m\u001b[38;5;241m.\u001b[39mdependent \u001b[38;5;241m=\u001b[39m \u001b[43mPanelData\u001b[49m\u001b[43m(\u001b[49m\u001b[43mdependent\u001b[49m\u001b[43m,\u001b[49m\u001b[43m \u001b[49m\u001b[38;5;124;43m\"\u001b[39;49m\u001b[38;5;124;43mDep\u001b[39;49m\u001b[38;5;124;43m\"\u001b[39;49m\u001b[43m)\u001b[49m\n\u001b[0;32m    314\u001b[0m     \u001b[38;5;28mself\u001b[39m\u001b[38;5;241m.\u001b[39mexog \u001b[38;5;241m=\u001b[39m PanelData(exog, \u001b[38;5;124m\"\u001b[39m\u001b[38;5;124mExog\u001b[39m\u001b[38;5;124m\"\u001b[39m)\n\u001b[0;32m    315\u001b[0m     \u001b[38;5;28mself\u001b[39m\u001b[38;5;241m.\u001b[39m_original_shape \u001b[38;5;241m=\u001b[39m \u001b[38;5;28mself\u001b[39m\u001b[38;5;241m.\u001b[39mdependent\u001b[38;5;241m.\u001b[39mshape\n",
      "File \u001b[1;32me:\\Eco-stats\\eco-stats\\.venv\\lib\\site-packages\\linearmodels\\panel\\data.py:217\u001b[0m, in \u001b[0;36mPanelData.__init__\u001b[1;34m(self, x, var_name, convert_dummies, drop_first, copy)\u001b[0m\n\u001b[0;32m    215\u001b[0m     x \u001b[38;5;241m=\u001b[39m DataFrame(x)\n\u001b[0;32m    216\u001b[0m \u001b[38;5;28;01melif\u001b[39;00m \u001b[38;5;28misinstance\u001b[39m(x, Series):\n\u001b[1;32m--> 217\u001b[0m     \u001b[38;5;28;01mraise\u001b[39;00m \u001b[38;5;167;01mValueError\u001b[39;00m(\u001b[38;5;124m\"\u001b[39m\u001b[38;5;124mSeries can only be used with a 2-level MultiIndex\u001b[39m\u001b[38;5;124m\"\u001b[39m)\n\u001b[0;32m    219\u001b[0m \u001b[38;5;28;01mif\u001b[39;00m \u001b[38;5;28misinstance\u001b[39m(x, DataFrame):\n\u001b[0;32m    220\u001b[0m     \u001b[38;5;28;01mif\u001b[39;00m \u001b[38;5;28misinstance\u001b[39m(x\u001b[38;5;241m.\u001b[39mindex, MultiIndex):\n",
      "\u001b[1;31mValueError\u001b[0m: Series can only be used with a 2-level MultiIndex"
     ]
    }
   ],
   "source": [
    "mod = PanelOLS(dependent=dep, exog=exog, entity_effects=True)\n",
    "fe_res = mod.fit(cov_type='clustered', \n",
    "                 cluster_entity=True,\n",
    "                 group_debias=True)\n",
    "print(fe_res)"
   ]
  },
  {
   "cell_type": "markdown",
   "metadata": {},
   "source": [
    "#### （2）LSDV法\n",
    "\n",
    "##### a. 使用`linearmodels.panel.PanelOLS`进行LSDV法"
   ]
  },
  {
   "cell_type": "code",
   "execution_count": null,
   "metadata": {},
   "outputs": [
    {
     "name": "stdout",
     "output_type": "stream",
     "text": [
      "                          PanelOLS Estimation Summary                           \n",
      "================================================================================\n",
      "Dep. Variable:                  ltvfo   R-squared:                        0.8732\n",
      "Estimator:                   PanelOLS   R-squared (Between):              0.5992\n",
      "No. Observations:                 476   R-squared (Within):               0.8732\n",
      "Date:                Fri, May 03 2024   R-squared (Overall):              0.6775\n",
      "Time:                        02:48:09   Log-likelihood                    409.94\n",
      "Cov. Estimator:             Clustered                                           \n",
      "                                        F-statistic:                      433.77\n",
      "Entities:                          28   P-value                           0.0000\n",
      "Avg Obs:                       17.000   Distribution:                   F(7,441)\n",
      "Min Obs:                       17.000                                           \n",
      "Max Obs:                       17.000   F-statistic (robust):             322.57\n",
      "                                        P-value                           0.0000\n",
      "Time periods:                      17   Distribution:                   F(7,441)\n",
      "Avg Obs:                       28.000                                           \n",
      "Min Obs:                       28.000                                           \n",
      "Max Obs:                       28.000                                           \n",
      "                                                                                \n",
      "                             Parameter Estimates                              \n",
      "==============================================================================\n",
      "            Parameter  Std. Err.     T-stat    P-value    Lower CI    Upper CI\n",
      "------------------------------------------------------------------------------\n",
      "const          2.3101     0.7260     3.1821     0.0016      0.8833      3.7369\n",
      "ltlan          0.6400     0.1545     4.1432     0.0000      0.3364      0.9435\n",
      "ltwlab         0.1240     0.0603     2.0551     0.0405      0.0054      0.2426\n",
      "ltpow          0.0772     0.0589     1.3095     0.1911     -0.0386      0.1930\n",
      "ltfer          0.1763     0.0422     4.1809     0.0000      0.0934      0.2591\n",
      "hrs            0.2076     0.0360     5.7603     0.0000      0.1368      0.2784\n",
      "mci            0.2580     0.0611     4.2213     0.0000      0.1379      0.3782\n",
      "ngca           0.7723     0.3760     2.0540     0.0406      0.0333      1.5112\n",
      "==============================================================================\n",
      "\n",
      "F-test for Poolability: 43.538\n",
      "P-value: 0.0000\n",
      "Distribution: F(27,441)\n",
      "\n",
      "Included effects: Entity\n"
     ]
    },
    {
     "name": "stderr",
     "output_type": "stream",
     "text": [
      "e:\\Eco-stats\\eco-stats\\.venv\\lib\\site-packages\\linearmodels\\panel\\data.py:681: FutureWarning: The default of observed=False is deprecated and will be changed to True in a future version of pandas. Pass observed=False to retain current behavior or observed=True to adopt the future default and silence this warning.\n",
      "  mu = self._frame.groupby(level=level).mean()\n",
      "e:\\Eco-stats\\eco-stats\\.venv\\lib\\site-packages\\linearmodels\\panel\\data.py:681: FutureWarning: The default of observed=False is deprecated and will be changed to True in a future version of pandas. Pass observed=False to retain current behavior or observed=True to adopt the future default and silence this warning.\n",
      "  mu = self._frame.groupby(level=level).mean()\n",
      "e:\\Eco-stats\\eco-stats\\.venv\\lib\\site-packages\\linearmodels\\panel\\data.py:641: FutureWarning: The default of observed=False is deprecated and will be changed to True in a future version of pandas. Pass observed=False to retain current behavior or observed=True to adopt the future default and silence this warning.\n",
      "  out = self._frame.groupby(level=level).count()\n",
      "e:\\Eco-stats\\eco-stats\\.venv\\lib\\site-packages\\linearmodels\\panel\\data.py:681: FutureWarning: The default of observed=False is deprecated and will be changed to True in a future version of pandas. Pass observed=False to retain current behavior or observed=True to adopt the future default and silence this warning.\n",
      "  mu = self._frame.groupby(level=level).mean()\n",
      "e:\\Eco-stats\\eco-stats\\.venv\\lib\\site-packages\\linearmodels\\panel\\data.py:591: FutureWarning: The default of observed=False is deprecated and will be changed to True in a future version of pandas. Pass observed=False to retain current behavior or observed=True to adopt the future default and silence this warning.\n",
      "  group_mu = self._frame.groupby(level=level).transform(\"mean\")\n",
      "e:\\Eco-stats\\eco-stats\\.venv\\lib\\site-packages\\linearmodels\\panel\\data.py:681: FutureWarning: The default of observed=False is deprecated and will be changed to True in a future version of pandas. Pass observed=False to retain current behavior or observed=True to adopt the future default and silence this warning.\n",
      "  mu = self._frame.groupby(level=level).mean()\n",
      "e:\\Eco-stats\\eco-stats\\.venv\\lib\\site-packages\\linearmodels\\panel\\data.py:681: FutureWarning: The default of observed=False is deprecated and will be changed to True in a future version of pandas. Pass observed=False to retain current behavior or observed=True to adopt the future default and silence this warning.\n",
      "  mu = self._frame.groupby(level=level).mean()\n",
      "e:\\Eco-stats\\eco-stats\\.venv\\lib\\site-packages\\linearmodels\\panel\\data.py:591: FutureWarning: The default of observed=False is deprecated and will be changed to True in a future version of pandas. Pass observed=False to retain current behavior or observed=True to adopt the future default and silence this warning.\n",
      "  group_mu = self._frame.groupby(level=level).transform(\"mean\")\n"
     ]
    }
   ],
   "source": [
    "\n",
    "mod = PanelOLS(dependent=dep, exog=exog, entity_effects=True)\n",
    "fe_res = mod.fit(use_lsdv=True, \n",
    "                 cov_type='clustered', \n",
    "                 cluster_entity=True,\n",
    "                 group_debias=True\n",
    "                 )\n",
    "print(fe_res)"
   ]
  },
  {
   "cell_type": "code",
   "execution_count": null,
   "metadata": {},
   "outputs": [
    {
     "name": "stdout",
     "output_type": "stream",
     "text": [
      "                          PanelOLS Estimation Summary                           \n",
      "================================================================================\n",
      "Dep. Variable:                  ltvfo   R-squared:                        0.9642\n",
      "Estimator:                   PanelOLS   R-squared (Between):              1.0000\n",
      "No. Observations:                 476   R-squared (Within):               0.8746\n",
      "Date:                Fri, May 03 2024   R-squared (Overall):              0.9642\n",
      "Time:                        03:10:17   Log-likelihood                    412.62\n",
      "Cov. Estimator:             Clustered                                           \n",
      "                                        F-statistic:                      328.23\n",
      "Entities:                          28   P-value                           0.0000\n",
      "Avg Obs:                       17.000   Distribution:                  F(36,439)\n",
      "Min Obs:                       17.000                                           \n",
      "Max Obs:                       17.000   F-statistic (robust):         -9.952e+15\n",
      "                                        P-value                           1.0000\n",
      "Time periods:                      17   Distribution:                  F(36,439)\n",
      "Avg Obs:                       28.000                                           \n",
      "Min Obs:                       28.000                                           \n",
      "Max Obs:                       28.000                                           \n",
      "                                                                                \n",
      "                                 Parameter Estimates                                 \n",
      "=====================================================================================\n",
      "                   Parameter  Std. Err.     T-stat    P-value    Lower CI    Upper CI\n",
      "-------------------------------------------------------------------------------------\n",
      "const                 2.5682     0.8280     3.1018     0.0020      0.9409      4.1954\n",
      "ltlan                 0.6370     0.1732     3.6774     0.0003      0.2966      0.9775\n",
      "ltwlab                0.1388     0.0644     2.1566     0.0316      0.0123      0.2653\n",
      "ltpow                 0.0577     0.0778     0.7414     0.4588     -0.0953      0.2107\n",
      "ltfer                 0.1826     0.0449     4.0663     0.0001      0.0944      0.2709\n",
      "hrs                   0.2134     0.0403     5.2960     0.0000      0.1342      0.2926\n",
      "mipric1               0.0544     0.0608     0.8937     0.3720     -0.0652      0.1739\n",
      "giprice              -0.0151     0.0253    -0.5976     0.5504     -0.0650      0.0347\n",
      "mci                   0.1944     0.0794     2.4484     0.0147      0.0383      0.3504\n",
      "ngca                  0.7562     0.3937     1.9208     0.0554     -0.0176      1.5300\n",
      "prov.beijing         -0.1816     0.1248    -1.4557     0.1462     -0.4269      0.0636\n",
      "prov.fujian           0.0517     0.0502     1.0292     0.3040     -0.0470      0.1503\n",
      "prov.gansu           -0.8166     0.1381    -5.9137     0.0000     -1.0879     -0.5452\n",
      "prov.guangdong       -0.0105     0.0558    -0.1879     0.8510     -0.1202      0.0992\n",
      "prov.guangxi         -0.2305     0.0571    -4.0372     0.0001     -0.3427     -0.1183\n",
      "prov.guizhou         -0.2351     0.0615    -3.8202     0.0002     -0.3560     -0.1141\n",
      "prov.hebei           -0.2924     0.0997    -2.9320     0.0035     -0.4884     -0.0964\n",
      "prov.heilongjiang    -0.1410     0.2892    -0.4876     0.6261     -0.7095      0.4274\n",
      "prov.henan           -0.0905     0.0436    -2.0761     0.0385     -0.1761     -0.0048\n",
      "prov.hubei            0.1119     0.0341     3.2853     0.0011      0.0450      0.1788\n",
      "prov.hunan           -0.0374     0.0608    -0.6151     0.5388     -0.1568      0.0820\n",
      "prov.jiangsu          0.1151     0.0342     3.3648     0.0008      0.0479      0.1823\n",
      "prov.jiangxi         -0.1353     0.0580    -2.3329     0.0201     -0.2492     -0.0213\n",
      "prov.jilin           -0.2220     0.2254    -0.9852     0.3251     -0.6649      0.2209\n",
      "prov.liaoning        -0.2790     0.1727    -1.6158     0.1069     -0.6183      0.0604\n",
      "prov.neimong         -0.9288     0.2561    -3.6263     0.0003     -1.4322     -0.4254\n",
      "prov.ningxia         -0.8814     0.1976    -4.4611     0.0000     -1.2697     -0.4931\n",
      "prov.qinghai         -0.7062     0.1522    -4.6411     0.0000     -1.0053     -0.4072\n",
      "prov.shaanxi         -0.3342     0.0926    -3.6092     0.0003     -0.5162     -0.1522\n",
      "prov.shangdong       -0.0049     0.0582    -0.0846     0.9326     -0.1192      0.1094\n",
      "prov.shanghai         0.1139     0.0649     1.7560     0.0798     -0.0136      0.2414\n",
      "prov.shanxi          -0.5312     0.1515    -3.5068     0.0005     -0.8290     -0.2335\n",
      "prov.sichuan          0.0252     0.0321     0.7845     0.4332     -0.0379      0.0882\n",
      "prov.tianjin         -0.3048     0.1190    -2.5609     0.0108     -0.5386     -0.0709\n",
      "prov.xinjiang        -0.4007     0.2398    -1.6712     0.0954     -0.8720      0.0706\n",
      "prov.yunnan          -0.2775     0.0633    -4.3851     0.0000     -0.4018     -0.1531\n",
      "prov.zhejiang         0.1764     0.0822     2.1460     0.0324      0.0149      0.3380\n",
      "=====================================================================================\n",
      "\n",
      "\n"
     ]
    }
   ],
   "source": [
    "lin = pd.read_stata('../2_Data/Data-2e/lin_1992.dta')\n",
    "lin.dropna(inplace=True)\n",
    "prov = pd.Categorical(lin.prov)\n",
    "lin = lin.set_index(['prov', 'year']) \n",
    "lin['prov'] = prov\n",
    "\n",
    "exog = lin[['ltlan', 'ltwlab', 'ltpow', \n",
    "                  'ltfer','hrs','mipric1',\n",
    "                  'giprice','mci','ngca','prov']]\n",
    "dep = lin['ltvfo']\n",
    "exog = sm.add_constant(exog)\n",
    "\n",
    "\n",
    "mod = PanelOLS(dependent=dep, exog=exog)\n",
    "fe_res = mod.fit(cov_type='clustered', cluster_entity=True,group_debias=True)\n",
    "print(fe_res)"
   ]
  },
  {
   "cell_type": "markdown",
   "metadata": {},
   "source": [
    "- 计算出来的结果与组内估计量一模一样\n",
    "- 将个体虚拟变量显示出来的方法\n",
    "\n",
    "##### b. 使用statamodels回归，需手动增加虚拟变量\n",
    "\n",
    "两种方式，但效果一样\n",
    "- 直接手动增加个体特征的虚拟变量\n",
    "- 用`pd.get_dummies()`\n"
   ]
  },
  {
   "cell_type": "code",
   "execution_count": null,
   "metadata": {},
   "outputs": [],
   "source": [
    "lin = pd.read_stata('../2_Data/Data-2e/lin_1992.dta')\n",
    "\n",
    "entity_ids = lin['province'].unique()\n",
    "entity_vars = [f'entity_{entity_id}' for entity_id in entity_ids]\n",
    "\n",
    "for var in entity_vars:\n",
    "    lin[var] = ( lin['province']== var[7:] ).astype(int)\n",
    "\n",
    "lin.pop(item=entity_vars[0])\n",
    "entity_vars.pop(0)\n",
    "\n",
    "exog_vars = ['ltlan', 'ltwlab', 'ltpow', \n",
    "                  'ltfer','hrs','mipric1',\n",
    "                  'giprice','mci','ngca']+entity_vars\n",
    "\n",
    "lin = lin.dropna()\n",
    "exog = lin[exog_vars]\n",
    "dep = lin['ltvfo']\n",
    "exog = sm.add_constant(exog)\n",
    "mod = sm.OLS(dep, exog)\n",
    "res = mod.fit(cov_type='cluster', \n",
    "              cov_kwds={'groups': lin['province']})\n",
    "print(res.summary())"
   ]
  },
  {
   "cell_type": "code",
   "execution_count": null,
   "metadata": {},
   "outputs": [],
   "source": [
    "lin = pd.read_stata('../2_Data/Data-2e/lin_1992.dta')\n",
    "\n",
    "entity_ids = lin['province'].unique()\n",
    "entity_vars = [f'entity_{entity_id}' for entity_id in entity_ids]\n",
    "entity_vars.pop(0)\n",
    "\n",
    "lin = pd.get_dummies(lin, \n",
    "                     columns=['province'],\n",
    "                     drop_first=True, \n",
    "                     prefix='entity',\n",
    "                     dtype=int,\n",
    "                     ) \n",
    "# 使用后回删除'province'字段，后续使用聚类标准误会出现错误\n",
    "## 原数据中有'prov'字段所以无需增加，如果没有，需提前复制新增'prov'字段\n",
    "\n",
    "exog_vars = ['ltlan', 'ltwlab', 'ltpow', \n",
    "                  'ltfer','hrs','mipric1',\n",
    "                  'giprice','mci','ngca']+entity_vars\n",
    "\n",
    "lin = lin.dropna()\n",
    "exog = lin[exog_vars]\n",
    "dep = lin['ltvfo']\n",
    "exog = sm.add_constant(exog)\n",
    "mod = sm.OLS(dep, exog)\n",
    "res = mod.fit(cov_type='cluster', cov_kwds={'groups': lin['prov']})\n",
    "print(res.summary())"
   ]
  },
  {
   "cell_type": "markdown",
   "metadata": {},
   "source": [
    "#### （3）一阶差分法\n",
    "\n",
    "不常用的方法\n",
    "- 在教材中使用的xtserial命令损失了56个样本，2个时间周期的变量\n",
    "- 而在python命令下，仅损失了1个时间周期的变量，效果应该更好。"
   ]
  },
  {
   "cell_type": "code",
   "execution_count": null,
   "metadata": {},
   "outputs": [],
   "source": [
    "exog = panel_lin[['ltlan', 'ltwlab', 'ltpow', \n",
    "                  'ltfer','hrs','mipric1',\n",
    "                  'giprice','mci','ngca']]\n",
    "dep = panel_lin['ltvfo']\n",
    "mod = FirstDifferenceOLS(dependent=dep, exog=exog)\n",
    "fe_res = mod.fit(cov_type='robust', \n",
    "                 )\n",
    "print(fe_res)"
   ]
  },
  {
   "cell_type": "markdown",
   "metadata": {},
   "source": [
    "#### （4）双向固定效应\n",
    "\n",
    "##### a. 加入时间趋势项\n",
    "\n",
    "`'t'`为时间趋势项"
   ]
  },
  {
   "cell_type": "code",
   "execution_count": null,
   "metadata": {},
   "outputs": [
    {
     "name": "stdout",
     "output_type": "stream",
     "text": [
      "                          PanelOLS Estimation Summary                           \n",
      "================================================================================\n",
      "Dep. Variable:                  ltvfo   R-squared:                        0.8749\n",
      "Estimator:                   PanelOLS   R-squared (Between):              0.5699\n",
      "No. Observations:                 476   R-squared (Within):               0.8749\n",
      "Date:                Fri, May 03 2024   R-squared (Overall):              0.6570\n",
      "Time:                        02:14:21   Log-likelihood                    413.14\n",
      "Cov. Estimator:             Clustered                                           \n",
      "                                        F-statistic:                      306.24\n",
      "Entities:                          28   P-value                           0.0000\n",
      "Avg Obs:                       17.000   Distribution:                  F(10,438)\n",
      "Min Obs:                       17.000                                           \n",
      "Max Obs:                       17.000   F-statistic (robust):             247.93\n",
      "                                        P-value                           0.0000\n",
      "Time periods:                      17   Distribution:                  F(10,438)\n",
      "Avg Obs:                       28.000                                           \n",
      "Min Obs:                       28.000                                           \n",
      "Max Obs:                       28.000                                           \n",
      "                                                                                \n",
      "                             Parameter Estimates                              \n",
      "==============================================================================\n",
      "            Parameter  Std. Err.     T-stat    P-value    Lower CI    Upper CI\n",
      "------------------------------------------------------------------------------\n",
      "const          2.3617     0.8263     2.8583     0.0045      0.7378      3.9857\n",
      "ltlan          0.6517     0.1844     3.5345     0.0005      0.2893      1.0141\n",
      "ltwlab         0.1432     0.0589     2.4298     0.0155      0.0274      0.2590\n",
      "ltpow          0.0366     0.0991     0.3696     0.7119     -0.1582      0.2314\n",
      "ltfer          0.1804     0.0429     4.2042     0.0000      0.0960      0.2647\n",
      "hrs            0.1916     0.0296     6.4828     0.0000      0.1335      0.2497\n",
      "mipric1        0.0199     0.0515     0.3859     0.6998     -0.0814      0.1211\n",
      "giprice       -0.0263     0.0227    -1.1578     0.2476     -0.0709      0.0183\n",
      "mci            0.2015     0.0788     2.5569     0.0109      0.0466      0.3563\n",
      "ngca           0.6761     0.4217     1.6032     0.1096     -0.1528      1.5050\n",
      "t              0.0063     0.0106     0.5922     0.5540     -0.0146      0.0272\n",
      "==============================================================================\n",
      "\n",
      "F-test for Poolability: 42.333\n",
      "P-value: 0.0000\n",
      "Distribution: F(27,438)\n",
      "\n",
      "Included effects: Entity\n"
     ]
    },
    {
     "name": "stderr",
     "output_type": "stream",
     "text": [
      "e:\\Eco-stats\\eco-stats\\.venv\\lib\\site-packages\\linearmodels\\panel\\data.py:591: FutureWarning: The default of observed=False is deprecated and will be changed to True in a future version of pandas. Pass observed=False to retain current behavior or observed=True to adopt the future default and silence this warning.\n",
      "  group_mu = self._frame.groupby(level=level).transform(\"mean\")\n",
      "e:\\Eco-stats\\eco-stats\\.venv\\lib\\site-packages\\linearmodels\\panel\\data.py:591: FutureWarning: The default of observed=False is deprecated and will be changed to True in a future version of pandas. Pass observed=False to retain current behavior or observed=True to adopt the future default and silence this warning.\n",
      "  group_mu = self._frame.groupby(level=level).transform(\"mean\")\n",
      "e:\\Eco-stats\\eco-stats\\.venv\\lib\\site-packages\\linearmodels\\panel\\data.py:681: FutureWarning: The default of observed=False is deprecated and will be changed to True in a future version of pandas. Pass observed=False to retain current behavior or observed=True to adopt the future default and silence this warning.\n",
      "  mu = self._frame.groupby(level=level).mean()\n",
      "e:\\Eco-stats\\eco-stats\\.venv\\lib\\site-packages\\linearmodels\\panel\\data.py:681: FutureWarning: The default of observed=False is deprecated and will be changed to True in a future version of pandas. Pass observed=False to retain current behavior or observed=True to adopt the future default and silence this warning.\n",
      "  mu = self._frame.groupby(level=level).mean()\n",
      "e:\\Eco-stats\\eco-stats\\.venv\\lib\\site-packages\\linearmodels\\panel\\data.py:641: FutureWarning: The default of observed=False is deprecated and will be changed to True in a future version of pandas. Pass observed=False to retain current behavior or observed=True to adopt the future default and silence this warning.\n",
      "  out = self._frame.groupby(level=level).count()\n",
      "e:\\Eco-stats\\eco-stats\\.venv\\lib\\site-packages\\linearmodels\\panel\\data.py:681: FutureWarning: The default of observed=False is deprecated and will be changed to True in a future version of pandas. Pass observed=False to retain current behavior or observed=True to adopt the future default and silence this warning.\n",
      "  mu = self._frame.groupby(level=level).mean()\n",
      "e:\\Eco-stats\\eco-stats\\.venv\\lib\\site-packages\\linearmodels\\panel\\data.py:591: FutureWarning: The default of observed=False is deprecated and will be changed to True in a future version of pandas. Pass observed=False to retain current behavior or observed=True to adopt the future default and silence this warning.\n",
      "  group_mu = self._frame.groupby(level=level).transform(\"mean\")\n",
      "e:\\Eco-stats\\eco-stats\\.venv\\lib\\site-packages\\linearmodels\\panel\\data.py:681: FutureWarning: The default of observed=False is deprecated and will be changed to True in a future version of pandas. Pass observed=False to retain current behavior or observed=True to adopt the future default and silence this warning.\n",
      "  mu = self._frame.groupby(level=level).mean()\n",
      "e:\\Eco-stats\\eco-stats\\.venv\\lib\\site-packages\\linearmodels\\panel\\data.py:681: FutureWarning: The default of observed=False is deprecated and will be changed to True in a future version of pandas. Pass observed=False to retain current behavior or observed=True to adopt the future default and silence this warning.\n",
      "  mu = self._frame.groupby(level=level).mean()\n",
      "e:\\Eco-stats\\eco-stats\\.venv\\lib\\site-packages\\linearmodels\\panel\\data.py:591: FutureWarning: The default of observed=False is deprecated and will be changed to True in a future version of pandas. Pass observed=False to retain current behavior or observed=True to adopt the future default and silence this warning.\n",
      "  group_mu = self._frame.groupby(level=level).transform(\"mean\")\n"
     ]
    }
   ],
   "source": [
    "exog = panel_lin[['ltlan', 'ltwlab', 'ltpow', \n",
    "                  'ltfer','hrs','mipric1',\n",
    "                  'giprice','mci','ngca',\n",
    "                  't'\n",
    "                  ]]\n",
    "dep = panel_lin['ltvfo']\n",
    "exog = sm.add_constant(exog)\n",
    "mod = PanelOLS(dependent=dep, exog=exog, entity_effects=True)\n",
    "fe_res = mod.fit(cov_type='clustered', \n",
    "                 cluster_entity=True,\n",
    "                 group_debias=True)\n",
    "print(fe_res)"
   ]
  },
  {
   "cell_type": "markdown",
   "metadata": {},
   "source": [
    "##### b. 加入时间虚拟变量"
   ]
  },
  {
   "cell_type": "code",
   "execution_count": 8,
   "metadata": {},
   "outputs": [
    {
     "name": "stdout",
     "output_type": "stream",
     "text": [
      "                          PanelOLS Estimation Summary                           \n",
      "================================================================================\n",
      "Dep. Variable:                  ltvfo   R-squared:                        0.8932\n",
      "Estimator:                   PanelOLS   R-squared (Between):              0.5974\n",
      "No. Observations:                 476   R-squared (Within):               0.8932\n",
      "Date:                Fri, May 03 2024   R-squared (Overall):              0.6819\n",
      "Time:                        03:14:50   Log-likelihood                    450.91\n",
      "Cov. Estimator:             Clustered                                           \n",
      "                                        F-statistic:                      154.59\n",
      "Entities:                          28   P-value                           0.0000\n",
      "Avg Obs:                       17.000   Distribution:                  F(23,425)\n",
      "Min Obs:                       17.000                                           \n",
      "Max Obs:                       17.000   F-statistic (robust):             949.82\n",
      "                                        P-value                           0.0000\n",
      "Time periods:                      17   Distribution:                  F(23,425)\n",
      "Avg Obs:                       28.000                                           \n",
      "Min Obs:                       28.000                                           \n",
      "Max Obs:                       28.000                                           \n",
      "                                                                                \n",
      "                             Parameter Estimates                              \n",
      "==============================================================================\n",
      "            Parameter  Std. Err.     T-stat    P-value    Lower CI    Upper CI\n",
      "------------------------------------------------------------------------------\n",
      "const          2.6513     0.7739     3.4259     0.0007      1.1301      4.1724\n",
      "ltlan          0.5834     0.1746     3.3414     0.0009      0.2402      0.9265\n",
      "ltwlab         0.1515     0.0585     2.5891     0.0100      0.0365      0.2665\n",
      "ltpow          0.0971     0.0909     1.0682     0.2860     -0.0816      0.2758\n",
      "ltfer          0.1693     0.0438     3.8652     0.0001      0.0832      0.2554\n",
      "hrs            0.1504     0.0588     2.5592     0.0108      0.0349      0.2659\n",
      "mci            0.1978     0.0811     2.4407     0.0151      0.0385      0.3572\n",
      "ngca           0.7784     0.4016     1.9381     0.0533     -0.0110      1.5678\n",
      "year.71       -0.0240     0.0234    -1.0289     0.3041     -0.0700      0.0219\n",
      "year.72       -0.1324     0.0405    -3.2696     0.0012     -0.2119     -0.0528\n",
      "year.73       -0.0377     0.0358    -1.0544     0.2923     -0.1081      0.0326\n",
      "year.74        0.0059     0.0501     0.1169     0.9070     -0.0926      0.1043\n",
      "year.75        0.0097     0.0567     0.1706     0.8646     -0.1018      0.1211\n",
      "year.76       -0.0476     0.0614    -0.7757     0.4384     -0.1684      0.0731\n",
      "year.77       -0.0869     0.0681    -1.2773     0.2022     -0.2207      0.0468\n",
      "year.78       -0.0325     0.0766    -0.4243     0.6716     -0.1832      0.1181\n",
      "year.79       -0.0076     0.0833    -0.0916     0.9271     -0.1715      0.1562\n",
      "year.81       -0.0935     0.1094    -0.8548     0.3932     -0.3084      0.1215\n",
      "year.82       -0.0448     0.1207    -0.3709     0.7109     -0.2821      0.1925\n",
      "year.83       -0.0309     0.1377    -0.2247     0.8223     -0.3016      0.2398\n",
      "year.84        0.0443     0.1429     0.3097     0.7569     -0.2366      0.3251\n",
      "year.85       -0.0033     0.1561    -0.0214     0.9830     -0.3102      0.3035\n",
      "year.86        0.0048     0.1580     0.0306     0.9756     -0.3057      0.3154\n",
      "year.87        0.0386     0.1640     0.2357     0.8138     -0.2836      0.3609\n",
      "==============================================================================\n",
      "\n",
      "F-test for Poolability: 46.557\n",
      "P-value: 0.0000\n",
      "Distribution: F(27,425)\n",
      "\n",
      "Included effects: Entity\n"
     ]
    },
    {
     "name": "stderr",
     "output_type": "stream",
     "text": [
      "e:\\Eco-stats\\eco-stats\\.venv\\lib\\site-packages\\linearmodels\\panel\\data.py:591: FutureWarning: The default of observed=False is deprecated and will be changed to True in a future version of pandas. Pass observed=False to retain current behavior or observed=True to adopt the future default and silence this warning.\n",
      "  group_mu = self._frame.groupby(level=level).transform(\"mean\")\n",
      "e:\\Eco-stats\\eco-stats\\.venv\\lib\\site-packages\\linearmodels\\panel\\data.py:591: FutureWarning: The default of observed=False is deprecated and will be changed to True in a future version of pandas. Pass observed=False to retain current behavior or observed=True to adopt the future default and silence this warning.\n",
      "  group_mu = self._frame.groupby(level=level).transform(\"mean\")\n",
      "e:\\Eco-stats\\eco-stats\\.venv\\lib\\site-packages\\linearmodels\\panel\\data.py:681: FutureWarning: The default of observed=False is deprecated and will be changed to True in a future version of pandas. Pass observed=False to retain current behavior or observed=True to adopt the future default and silence this warning.\n",
      "  mu = self._frame.groupby(level=level).mean()\n",
      "e:\\Eco-stats\\eco-stats\\.venv\\lib\\site-packages\\linearmodels\\panel\\data.py:681: FutureWarning: The default of observed=False is deprecated and will be changed to True in a future version of pandas. Pass observed=False to retain current behavior or observed=True to adopt the future default and silence this warning.\n",
      "  mu = self._frame.groupby(level=level).mean()\n",
      "e:\\Eco-stats\\eco-stats\\.venv\\lib\\site-packages\\linearmodels\\panel\\data.py:641: FutureWarning: The default of observed=False is deprecated and will be changed to True in a future version of pandas. Pass observed=False to retain current behavior or observed=True to adopt the future default and silence this warning.\n",
      "  out = self._frame.groupby(level=level).count()\n",
      "e:\\Eco-stats\\eco-stats\\.venv\\lib\\site-packages\\linearmodels\\panel\\data.py:681: FutureWarning: The default of observed=False is deprecated and will be changed to True in a future version of pandas. Pass observed=False to retain current behavior or observed=True to adopt the future default and silence this warning.\n",
      "  mu = self._frame.groupby(level=level).mean()\n",
      "e:\\Eco-stats\\eco-stats\\.venv\\lib\\site-packages\\linearmodels\\panel\\data.py:591: FutureWarning: The default of observed=False is deprecated and will be changed to True in a future version of pandas. Pass observed=False to retain current behavior or observed=True to adopt the future default and silence this warning.\n",
      "  group_mu = self._frame.groupby(level=level).transform(\"mean\")\n",
      "e:\\Eco-stats\\eco-stats\\.venv\\lib\\site-packages\\linearmodels\\panel\\data.py:681: FutureWarning: The default of observed=False is deprecated and will be changed to True in a future version of pandas. Pass observed=False to retain current behavior or observed=True to adopt the future default and silence this warning.\n",
      "  mu = self._frame.groupby(level=level).mean()\n",
      "e:\\Eco-stats\\eco-stats\\.venv\\lib\\site-packages\\linearmodels\\panel\\data.py:681: FutureWarning: The default of observed=False is deprecated and will be changed to True in a future version of pandas. Pass observed=False to retain current behavior or observed=True to adopt the future default and silence this warning.\n",
      "  mu = self._frame.groupby(level=level).mean()\n",
      "e:\\Eco-stats\\eco-stats\\.venv\\lib\\site-packages\\linearmodels\\panel\\data.py:591: FutureWarning: The default of observed=False is deprecated and will be changed to True in a future version of pandas. Pass observed=False to retain current behavior or observed=True to adopt the future default and silence this warning.\n",
      "  group_mu = self._frame.groupby(level=level).transform(\"mean\")\n"
     ]
    }
   ],
   "source": [
    "lin = pd.read_stata('../2_Data/Data-2e/lin_1992.dta')\n",
    "lin.dropna(inplace=True)\n",
    "year = pd.Categorical(lin.year)\n",
    "lin = lin.set_index(['province', 'year']) \n",
    "lin['year'] = year\n",
    "\n",
    "exog = lin[['ltlan', 'ltwlab', 'ltpow', \n",
    "                  'ltfer','hrs',\n",
    "                  'mci','ngca','year']]\n",
    "dep = lin['ltvfo']\n",
    "exog = sm.add_constant(exog)\n",
    "\n",
    "mod = PanelOLS(dependent=dep, exog=exog, entity_effects=True)\n",
    "fe_res = mod.fit(cov_type='clustered', cluster_entity=True,group_debias=True)\n",
    "print(fe_res)"
   ]
  },
  {
   "cell_type": "code",
   "execution_count": null,
   "metadata": {},
   "outputs": [],
   "source": []
  },
  {
   "cell_type": "markdown",
   "metadata": {},
   "source": [
    "### 4.随机效应"
   ]
  },
  {
   "cell_type": "code",
   "execution_count": null,
   "metadata": {},
   "outputs": [],
   "source": []
  },
  {
   "cell_type": "markdown",
   "metadata": {},
   "source": [
    "### 5.豪斯曼检验"
   ]
  },
  {
   "cell_type": "markdown",
   "metadata": {},
   "source": [
    "### 6.组间统计量"
   ]
  }
 ],
 "metadata": {
  "kernelspec": {
   "display_name": ".venv",
   "language": "python",
   "name": "python3"
  },
  "language_info": {
   "codemirror_mode": {
    "name": "ipython",
    "version": 3
   },
   "file_extension": ".py",
   "mimetype": "text/x-python",
   "name": "python",
   "nbconvert_exporter": "python",
   "pygments_lexer": "ipython3",
   "version": "3.10.8"
  }
 },
 "nbformat": 4,
 "nbformat_minor": 2
}
