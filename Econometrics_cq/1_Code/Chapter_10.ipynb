{
 "cells": [
  {
   "cell_type": "markdown",
   "metadata": {},
   "source": [
    "# 第10章 工具变量法\n",
    "![工具变量法流程图](../pic/10-1-工具变量法流程.png)\n",
    "\n",
    "#### （1）构建参照OLS\n",
    "发现：教育投资回报率太高，可能存在“遗漏变量”，考虑引入遗漏变量“能力”。\n",
    "- s的回归系数为10.26%，这与现实情况相差太大。\n",
    "- 以iq作为能力的代理变量"
   ]
  },
  {
   "cell_type": "code",
   "execution_count": 119,
   "metadata": {},
   "outputs": [],
   "source": [
    "import pandas as pd\n",
    "import statsmodels.api as sm\n",
    "from linearmodels.iv import IV2SLS\n",
    "\n",
    "grilic = pd.read_stata('../2_Data/Data-2e/grilic.dta')\n",
    "\n",
    "dependent = grilic['lnw']\n",
    "exog = grilic[['s','expr', 'tenure', 'rns', 'smsa']]\n",
    "exog = sm.add_constant(exog)\n",
    "endog = grilic['iq']\n",
    "instruments = grilic[['med','kww']]\n",
    "exog_iq = grilic[['s','expr', 'tenure', 'rns', 'smsa','iq']]\n",
    "exog_iq = sm.add_constant(exog_iq)"
   ]
  },
  {
   "cell_type": "code",
   "execution_count": 120,
   "metadata": {},
   "outputs": [],
   "source": [
    "res_ols = IV2SLS(dependent, exog, None,None).fit()"
   ]
  },
  {
   "cell_type": "markdown",
   "metadata": {},
   "source": [
    "\n",
    "#### （2）引入“智商（iq）”作为“能力”的代理变量，进行OLS\n",
    "发现：教育投资回报率依然很高,还有9.28%。"
   ]
  },
  {
   "cell_type": "code",
   "execution_count": 121,
   "metadata": {},
   "outputs": [],
   "source": [
    "res_ols_iq = IV2SLS(dependent, exog_iq,None,None).fit()"
   ]
  },
  {
   "cell_type": "markdown",
   "metadata": {},
   "source": [
    "\n",
    "#### （3）由于用“iq”度量“能力”存在“测量误差”，考虑引入工具变量进行2SLS，使用稳健标准误。\n",
    "工具变量：\n",
    "- med：母亲的教育年限\n",
    "- kww：kww测试成绩\n",
    "都与iq成正相关，且假设都外生。\n",
    "\n",
    "发现：教育投资回报率将为6.08%，显著"
   ]
  },
  {
   "cell_type": "markdown",
   "metadata": {},
   "source": []
  },
  {
   "cell_type": "code",
   "execution_count": 122,
   "metadata": {},
   "outputs": [],
   "source": [
    "iv_model = IV2SLS(dependent=dependent,\n",
    "                exog=exog,\n",
    "                endog=endog,\n",
    "                instruments=instruments\n",
    "                )\n",
    "res_iv = iv_model.fit()"
   ]
  },
  {
   "cell_type": "code",
   "execution_count": 123,
   "metadata": {},
   "outputs": [
    {
     "name": "stdout",
     "output_type": "stream",
     "text": [
      "                          IV-2SLS Estimation Summary                          \n",
      "==============================================================================\n",
      "Dep. Variable:                    lnw   R-squared:                      0.2775\n",
      "Estimator:                    IV-2SLS   Adj. R-squared:                 0.2718\n",
      "No. Observations:                 758   F-statistic:                    370.04\n",
      "Date:                Fri, Apr 26 2024   P-value (F-stat)                0.0000\n",
      "Time:                        19:58:31   Distribution:                  chi2(6)\n",
      "Cov. Estimator:                robust                                         \n",
      "                                                                              \n",
      "                             Parameter Estimates                              \n",
      "==============================================================================\n",
      "            Parameter  Std. Err.     T-stat    P-value    Lower CI    Upper CI\n",
      "------------------------------------------------------------------------------\n",
      "const          3.2180     0.3984     8.0781     0.0000      2.4373      3.9988\n",
      "s              0.0608     0.0190     3.2073     0.0013      0.0236      0.0979\n",
      "expr           0.0433     0.0074     5.8452     0.0000      0.0288      0.0579\n",
      "tenure         0.0296     0.0083     3.5643     0.0004      0.0133      0.0459\n",
      "rns           -0.0435     0.0345    -1.2625     0.2068     -0.1111      0.0240\n",
      "smsa           0.1272     0.0297     4.2776     0.0000      0.0689      0.1855\n",
      "iq             0.0139     0.0060     2.3063     0.0211      0.0021      0.0258\n",
      "==============================================================================\n",
      "\n",
      "Endogenous: iq\n",
      "Instruments: med, kww\n",
      "Robust Covariance (Heteroskedastic)\n",
      "Debiased: False\n"
     ]
    }
   ],
   "source": [
    "print(res_iv.summary)"
   ]
  },
  {
   "cell_type": "markdown",
   "metadata": {},
   "source": [
    "\n",
    "#### （4）进行工具变量外生性的过度识别检验"
   ]
  },
  {
   "cell_type": "code",
   "execution_count": 124,
   "metadata": {},
   "outputs": [
    {
     "name": "stdout",
     "output_type": "stream",
     "text": [
      "Wooldridge's score test of overidentification\n",
      "H0: Model is not overidentified.\n",
      "Statistic: 0.1515\n",
      "P-value: 0.6972\n",
      "Distributed: chi2(1)\n",
      "=======================\n",
      "Sargan's test of overidentification\n",
      "H0: The model is not overidentified.\n",
      "Statistic: 0.1300\n",
      "P-value: 0.7185\n",
      "Distributed: chi2(1)\n",
      "=======================\n",
      "Anderson-Rubin test of overidentification\n",
      "H0: The model is not overidentified.\n",
      "Statistic: 0.1299\n",
      "P-value: 0.7185\n",
      "Distributed: chi2(1)\n",
      "=======================\n",
      "Basmann's test of overidentification\n",
      "H0: The model is not overidentified.\n",
      "Statistic: 0.1286\n",
      "P-value: 0.7199\n",
      "Distributed: chi2(1)\n"
     ]
    }
   ],
   "source": [
    "print(res_iv.wooldridge_overid)\n",
    "print('=======================')\n",
    "print(res_iv.sargan)\n",
    "print('=======================')\n",
    "print(res_iv.anderson_rubin)\n",
    "print('=======================')\n",
    "print(res_iv.basmann)"
   ]
  },
  {
   "cell_type": "markdown",
   "metadata": {},
   "source": [
    "#### （5）弱工具变量检验：工具变量与解释变量的相关性检验\n",
    "\n",
    "默认是稳健标准误情况下的第一阶段结果"
   ]
  },
  {
   "cell_type": "code",
   "execution_count": 130,
   "metadata": {},
   "outputs": [
    {
     "name": "stdout",
     "output_type": "stream",
     "text": [
      "    rsquared  partial.rsquared  shea.rsquared     f.stat    f.pval   f.dist\n",
      "iq    0.3066          0.038229       0.038229  27.091564  0.000001  chi2(2)\n",
      "{'iq':                             OLS Estimation Summary                            \n",
      "==============================================================================\n",
      "Dep. Variable:                     iq   R-squared:                      0.3066\n",
      "Estimator:                        OLS   Adj. R-squared:                 0.3001\n",
      "No. Observations:                 758   F-statistic:                    337.72\n",
      "Date:                Fri, Apr 26 2024   P-value (F-stat)                0.0000\n",
      "Time:                        20:06:38   Distribution:                  chi2(7)\n",
      "Cov. Estimator:                robust                                         \n",
      "                                                                              \n",
      "                             Parameter Estimates                              \n",
      "==============================================================================\n",
      "            Parameter  Std. Err.     T-stat    P-value    Lower CI    Upper CI\n",
      "------------------------------------------------------------------------------\n",
      "const          56.671     3.0607     18.516     0.0000      50.672      62.670\n",
      "s              2.4670     0.2315     10.655     0.0000      2.0132      2.9208\n",
      "expr          -0.4501     0.2379    -1.8921     0.0585     -0.9164      0.0161\n",
      "tenure         0.2060     0.2681     0.7681     0.4424     -0.3196      0.7315\n",
      "rns           -2.6898     0.8874    -3.0311     0.0024     -4.4291     -0.9505\n",
      "smsa           0.2627     0.9415     0.2791     0.7802     -1.5826      2.1081\n",
      "med            0.3470     0.1672     2.0749     0.0380      0.0192      0.6748\n",
      "kww            0.3082     0.0643     4.7901     0.0000      0.1821      0.4343\n",
      "==============================================================================\n",
      "OLSResults, id: 0x2cde3757ee0}\n"
     ]
    }
   ],
   "source": [
    "print(res_iv.first_stage.diagnostics)\n",
    "print(res_iv.first_stage.individual) # 第一阶段完整结果 \n",
    "## 工具变量都显著不为0."
   ]
  },
  {
   "cell_type": "markdown",
   "metadata": {},
   "source": [
    "正式检验需要第一阶段的非稳健的F统计量，是cov_type调整"
   ]
  },
  {
   "cell_type": "code",
   "execution_count": 126,
   "metadata": {},
   "outputs": [
    {
     "name": "stdout",
     "output_type": "stream",
     "text": [
      "    rsquared  partial.rsquared  shea.rsquared     f.stat        f.pval  \\\n",
      "iq    0.3066          0.038229       0.038229  15.064763  3.849954e-07   \n",
      "\n",
      "      f.dist  \n",
      "iq  F(2,750)  \n",
      "==============================================================================\n",
      "{'iq':                             OLS Estimation Summary                            \n",
      "==============================================================================\n",
      "Dep. Variable:                     iq   R-squared:                      0.3066\n",
      "Estimator:                        OLS   Adj. R-squared:                 0.3001\n",
      "No. Observations:                 758   F-statistic:                    335.16\n",
      "Date:                Fri, Apr 26 2024   P-value (F-stat)                0.0000\n",
      "Time:                        19:58:32   Distribution:                  chi2(7)\n",
      "Cov. Estimator:            unadjusted                                         \n",
      "                                                                              \n",
      "                             Parameter Estimates                              \n",
      "==============================================================================\n",
      "            Parameter  Std. Err.     T-stat    P-value    Lower CI    Upper CI\n",
      "------------------------------------------------------------------------------\n",
      "const          56.671     3.0883     18.350     0.0000      50.618      62.724\n",
      "s              2.4670     0.2157     11.436     0.0000      2.0442      2.8898\n",
      "expr          -0.4501     0.2091    -2.1531     0.0313     -0.8599     -0.0404\n",
      "tenure         0.2060     0.2580     0.7982     0.4248     -0.2998      0.7117\n",
      "rns           -2.6898     0.9497    -2.8324     0.0046     -4.5511     -0.8285\n",
      "smsa           0.2627     0.9259     0.2838     0.7766     -1.5521      2.0775\n",
      "med            0.3470     0.1626     2.1340     0.0328      0.0283      0.6657\n",
      "kww            0.3082     0.0636     4.8483     0.0000      0.1836      0.4328\n",
      "==============================================================================\n",
      "OLSResults, id: 0x2cde38059f0}\n"
     ]
    }
   ],
   "source": [
    "print(iv_model.fit(cov_type='unadjusted').first_stage.diagnostics)  # 第一阶段模型诊断\n",
    "print('==============================================================================')\n",
    "print(iv_model.fit(cov_type='unadjusted').first_stage.individual)  # 第一阶段完整模型结果"
   ]
  },
  {
   "cell_type": "markdown",
   "metadata": {},
   "source": [
    "#### （6）稳健起见，使用LIML再次估计\n",
    "\n",
    "kappa 为 1 说明与2SLS基本一样。"
   ]
  },
  {
   "cell_type": "code",
   "execution_count": 127,
   "metadata": {},
   "outputs": [
    {
     "name": "stdout",
     "output_type": "stream",
     "text": [
      "                          IV-LIML Estimation Summary                          \n",
      "==============================================================================\n",
      "Dep. Variable:                    lnw   R-squared:                      0.2768\n",
      "Estimator:                    IV-LIML   Adj. R-squared:                 0.2710\n",
      "No. Observations:                 758   F-statistic:                    369.62\n",
      "Date:                Fri, Apr 26 2024   P-value (F-stat)                0.0000\n",
      "Time:                        19:58:32   Distribution:                  chi2(6)\n",
      "Cov. Estimator:                robust                                         \n",
      "                                                                              \n",
      "                             Parameter Estimates                              \n",
      "==============================================================================\n",
      "            Parameter  Std. Err.     T-stat    P-value    Lower CI    Upper CI\n",
      "------------------------------------------------------------------------------\n",
      "const          3.2150     0.4001     8.0345     0.0000      2.4307      3.9993\n",
      "s              0.0606     0.0190     3.1857     0.0014      0.0233      0.0979\n",
      "expr           0.0433     0.0074     5.8424     0.0000      0.0288      0.0579\n",
      "tenure         0.0296     0.0083     3.5593     0.0004      0.0133      0.0459\n",
      "rns           -0.0434     0.0345    -1.2566     0.2089     -0.1111      0.0243\n",
      "smsa           0.1272     0.0298     4.2735     0.0000      0.0689      0.1855\n",
      "iq             0.0140     0.0061     2.3032     0.0213      0.0021      0.0259\n",
      "==============================================================================\n",
      "\n",
      "Endogenous: iq\n",
      "Instruments: med, kww\n",
      "Robust Covariance (Heteroskedastic)\n",
      "Debiased: False\n",
      "Kappa: 1.000\n"
     ]
    }
   ],
   "source": [
    "from linearmodels.iv  import IVLIML\n",
    "\n",
    "iv_liml_model = IVLIML(dependent=dependent,exog=exog,endog=endog,instruments=instruments)\n",
    "res_iv_liml = iv_liml_model.fit()\n",
    "\n",
    "print(res_iv_liml.summary)"
   ]
  },
  {
   "cell_type": "markdown",
   "metadata": {},
   "source": [
    "#### （7）检验存在内生解释变量"
   ]
  },
  {
   "cell_type": "code",
   "execution_count": 128,
   "metadata": {},
   "outputs": [
    {
     "name": "stdout",
     "output_type": "stream",
     "text": [
      "Wu-Hausman test of exogeneity\n",
      "H0: All endogenous variables are exogenous\n",
      "Statistic: 3.8719\n",
      "P-value: 0.0495\n",
      "Distributed: F(1,750)\n",
      "Durbin test of exogeneity\n",
      "H0: All endogenous variables are exogenous\n",
      "Statistic: 3.8931\n",
      "P-value: 0.0485\n",
      "Distributed: chi2(1)\n"
     ]
    }
   ],
   "source": [
    "print(res_iv.wu_hausman())\n",
    "print(res_iv.durbin())"
   ]
  },
  {
   "cell_type": "markdown",
   "metadata": {},
   "source": [
    "\n",
    "#### （8）汇报结果"
   ]
  },
  {
   "cell_type": "code",
   "execution_count": 131,
   "metadata": {},
   "outputs": [
    {
     "name": "stdout",
     "output_type": "stream",
     "text": [
      "                               Model Comparison                              \n",
      "=============================================================================\n",
      "                     ols_without_iq   ols_with_iq          2sls       liml_iq\n",
      "-----------------------------------------------------------------------------\n",
      "Dep. Variable                   lnw           lnw           lnw           lnw\n",
      "Estimator                       OLS           OLS       IV-2SLS       IV-LIML\n",
      "No. Observations                758           758           758           758\n",
      "Cov. Est.                    robust        robust        robust        robust\n",
      "R-squared                    0.3521        0.3600        0.2775        0.2768\n",
      "Adj. R-squared               0.3478        0.3548        0.2718        0.2710\n",
      "F-statistic                  423.58        435.33        370.04        369.62\n",
      "P-value (F-stat)             0.0000        0.0000        0.0000        0.0000\n",
      "==================     ============   ===========   ===========   ===========\n",
      "const                     4.1037***     3.8952***     3.2180***     3.2150***\n",
      "                           (46.996)      (33.756)      (8.0781)      (8.0345)\n",
      "s                         0.1026***     0.0928***     0.0608***     0.0606***\n",
      "                           (16.595)      (13.362)      (3.2073)      (3.1857)\n",
      "expr                      0.0381***     0.0393***     0.0433***     0.0433***\n",
      "                           (5.7860)      (5.9347)      (5.8452)      (5.8424)\n",
      "tenure                    0.0356***     0.0342***     0.0296***     0.0296***\n",
      "                           (4.4702)      (4.3528)      (3.5643)      (3.5593)\n",
      "rns                      -0.0841***     -0.0745**       -0.0435       -0.0434\n",
      "                          (-2.8583)     (-2.4979)     (-1.2625)     (-1.2566)\n",
      "smsa                      0.1397***     0.1367***     0.1272***     0.1272***\n",
      "                           (4.9980)      (4.9466)      (4.2776)      (4.2735)\n",
      "iq                                      0.0033***      0.0139**      0.0140**\n",
      "                                         (2.9099)      (2.3063)      (2.3032)\n",
      "==================== ============== ============= ============= =============\n",
      "Instruments                                                 med           med\n",
      "                                                            kww           kww\n",
      "-----------------------------------------------------------------------------\n",
      "\n",
      "T-stats reported in parentheses\n"
     ]
    }
   ],
   "source": [
    "from linearmodels.iv.results import compare\n",
    "from collections import OrderedDict\n",
    "\n",
    "od = OrderedDict()\n",
    "od['ols_without_iq'] = res_ols\n",
    "od['ols_with_iq'] = res_ols_iq\n",
    "od['2sls'] = res_iv\n",
    "od['liml_iq'] = res_iv_liml\n",
    "\n",
    "print(compare(od,stars=True))"
   ]
  }
 ],
 "metadata": {
  "kernelspec": {
   "display_name": ".venv",
   "language": "python",
   "name": "python3"
  },
  "language_info": {
   "codemirror_mode": {
    "name": "ipython",
    "version": 3
   },
   "file_extension": ".py",
   "mimetype": "text/x-python",
   "name": "python",
   "nbconvert_exporter": "python",
   "pygments_lexer": "ipython3",
   "version": "3.10.8"
  }
 },
 "nbformat": 4,
 "nbformat_minor": 2
}
