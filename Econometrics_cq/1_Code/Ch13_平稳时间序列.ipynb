{
 "cells": [
  {
   "cell_type": "markdown",
   "metadata": {},
   "source": [
    "# 第13章 平稳时间序列"
   ]
  },
  {
   "cell_type": "code",
   "execution_count": null,
   "metadata": {},
   "outputs": [],
   "source": [
    "import pandas as pd\n",
    "import numpy as np\n",
    "import matplotlib.pyplot as plt\n",
    "import statsmodels.api as sm\n",
    "import seaborn as sns\n",
    "\n",
    "data = pd.read_stata('../2_Data/Data-2e/gdp_china.dta')\n",
    "data.set_index('year', inplace=True)\n",
    "data['lny'] = np.log(data['y'])\n",
    "data['dlny']  = data['lny'].diff().dropna()\n",
    "data['dy'] = (data['y'] - data['y'].shift(1))/data['y'].shift(1)\n",
    "\n",
    "\n",
    "class Dataset:\n",
    "    def __init__(self, data):\n",
    "        self.original = data\n",
    "        self.dif = self.dif_y()\n",
    "        self.lny = self.ln_y()\n",
    "        self.dlny = self.dln_y()\n",
    "        self.dy = self.d_y()\n",
    "\n"
   ]
  },
  {
   "cell_type": "markdown",
   "metadata": {},
   "source": [
    "## 13.1 时间序列的自相关\n",
    "\n",
    "自相关图（ACF）是描述时间序列自相关性的图形。它显示了时间序列的相关性随时间的变化情况。\n",
    "\n",
    "ACF的计算方法：\n",
    "\n",
    "1. 计算时间序列的差分值（即滞后1阶）\n",
    "2. 计算差分值的自相关函数\n",
    "\n",
    "ACF的计算公式：\n",
    "\n",
    "$$\n",
    "\\rho_k = \\frac{\\sum_{t=1}^{T-k}(y_t-\\bar{y})(y_{t+k}-\\bar{y})}{\\sqrt{\\sum_{t=1}^{T}(y_t-\\bar{y})^2\\sum_{t=1}^{T}(y_{t+k}-\\bar{y})^2}}\n",
    "$$\n",
    "\n",
    "其中，$\\rho_k$表示滞后k阶的自相关系数，$T$表示时间序列的长度，$y_t$表示时间序列的第t个观测值，$\\bar{y}$表示时间序列的均值。"
   ]
  },
  {
   "cell_type": "code",
   "execution_count": null,
   "metadata": {},
   "outputs": [],
   "source": [
    "# 时间序列的趋势图\n",
    "fig = plt.figure(figsize=(8,4))\n",
    "sns.lineplot(x='year', y='y', data=data)"
   ]
  },
  {
   "cell_type": "code",
   "execution_count": null,
   "metadata": {},
   "outputs": [],
   "source": [
    "# 对数时间序列的趋势图\n",
    "fig = plt.figure(figsize=(8,4))\n",
    "sns.lineplot(x='year', y='lny', data=data)"
   ]
  },
  {
   "cell_type": "code",
   "execution_count": null,
   "metadata": {},
   "outputs": [],
   "source": [
    "# 对比\n",
    "fig = plt.figure(figsize=(10,4))\n",
    "sns.lineplot(x='year', y='dlny', data=data)\n",
    "sns.lineplot(x='year', y='dy', data=data)"
   ]
  },
  {
   "cell_type": "code",
   "execution_count": null,
   "metadata": {},
   "outputs": [],
   "source": [
    "from cq import acfgram\n",
    "\n",
    "ac = acfgram(data['dlny'],lags=15)\n",
    "ac"
   ]
  },
  {
   "cell_type": "markdown",
   "metadata": {},
   "source": [
    "\n",
    "## 13.2 一阶自回归\n",
    "\n"
   ]
  },
  {
   "cell_type": "code",
   "execution_count": null,
   "metadata": {},
   "outputs": [],
   "source": [
    "# 使用OLS回归\n",
    "data2012 = data[data.index<2013].dropna()\n",
    "mod = sm.OLS(endog=data2012['dlny'], \n",
    "             exog=sm.add_constant(data2012['dlny'].shift(1)),\n",
    "             missing='drop') # 缺失值直接drop\n",
    "res = mod.fit(cov_type='HC1', use_t=True)\n",
    "print(res.summary())"
   ]
  },
  {
   "cell_type": "code",
   "execution_count": null,
   "metadata": {},
   "outputs": [],
   "source": [
    "# 使用MLE\n",
    "from statsmodels.tsa.ar_model import AutoReg\n",
    "mod_mle = AutoReg(data2012['dlny'], lags=1)\n",
    "res_mle = mod_mle.fit(cov_type='HC1',use_t=True)\n",
    "print(res_mle.summary())"
   ]
  },
  {
   "cell_type": "code",
   "execution_count": null,
   "metadata": {},
   "outputs": [],
   "source": [
    "from math import exp\n",
    "# 预测值\n",
    "a = res.predict([1,data.loc[2013,'dlny']])\n",
    "# OLS模型回归后的预测：\n",
    "## - 参数是对应的 const + 其他自变量的值\n",
    "b = res_mle.predict(len(data['lny']),len(data['lny']))\n",
    "# AutoReg模型回归后的预测：\n",
    "## - 参数是start、end\n",
    "\n",
    "resid = exp(a + data.loc[2012,'lny']) - data.loc[2013,'y']\n",
    "resid"
   ]
  },
  {
   "cell_type": "markdown",
   "metadata": {},
   "source": [
    "## 13.3 高阶自回归\n",
    "\n"
   ]
  },
  {
   "cell_type": "markdown",
   "metadata": {},
   "source": [
    "## 13.4 自回归分布滞后模型\n",
    "\n",
    "\n"
   ]
  },
  {
   "cell_type": "markdown",
   "metadata": {},
   "source": [
    "## 13.5 误差修正模型\n",
    "\n"
   ]
  },
  {
   "cell_type": "markdown",
   "metadata": {},
   "source": [
    "## 13.6 移动平均与ARMA模型\n",
    "\n"
   ]
  },
  {
   "cell_type": "markdown",
   "metadata": {},
   "source": [
    "## 13.7 脉冲响应函数\n",
    "\n"
   ]
  },
  {
   "cell_type": "markdown",
   "metadata": {},
   "source": [
    "## 13.8 向量自回归过程\n",
    "\n"
   ]
  },
  {
   "cell_type": "markdown",
   "metadata": {},
   "source": [
    "## 13.9 VAR的脉冲响应函数\n",
    "\n"
   ]
  },
  {
   "cell_type": "markdown",
   "metadata": {},
   "source": [
    "## 13.10 格兰杰因果检验\n",
    "\n"
   ]
  },
  {
   "cell_type": "markdown",
   "metadata": {},
   "source": [
    "## 13.11 VAR的Stata命令及实例\n",
    "\n"
   ]
  },
  {
   "cell_type": "markdown",
   "metadata": {},
   "source": [
    "## 13.12 时间趋势项\n",
    "\n"
   ]
  },
  {
   "cell_type": "markdown",
   "metadata": {},
   "source": [
    "## 13.13 季节调整\n",
    "\n"
   ]
  },
  {
   "cell_type": "markdown",
   "metadata": {},
   "source": [
    "## 13.14 日期数据的导入"
   ]
  }
 ],
 "metadata": {
  "kernelspec": {
   "display_name": ".venv",
   "language": "python",
   "name": "python3"
  },
  "language_info": {
   "codemirror_mode": {
    "name": "ipython",
    "version": 3
   },
   "file_extension": ".py",
   "mimetype": "text/x-python",
   "name": "python",
   "nbconvert_exporter": "python",
   "pygments_lexer": "ipython3",
   "version": "3.10.8"
  }
 },
 "nbformat": 4,
 "nbformat_minor": 2
}
