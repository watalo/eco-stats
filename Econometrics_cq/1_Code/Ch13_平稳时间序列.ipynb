{
 "cells": [
  {
   "cell_type": "markdown",
   "metadata": {},
   "source": [
    "# 第13章 平稳时间序列\n",
    "\n",
    "## 13.1 时间序列的自相关\n",
    "\n",
    "## 13.2 一阶自回归\n",
    "\n",
    "## 13.3 高阶自回归\n",
    "\n",
    "## 13.4 自回归分布滞后模型\n",
    "\n",
    "## 13.5 误差修正模型\n",
    "\n",
    "## 13.6 移动平均与ARMA模型\n",
    "\n",
    "## 13.7 脉冲响应函数\n",
    "\n",
    "## 13.8 向量自回归过程\n",
    "\n",
    "## 13.9 VAR的脉冲响应函数\n",
    "\n",
    "## 13.10 格兰杰因果检验\n",
    "\n",
    "## 13.11 VAR的Stata命令及实例\n",
    "\n",
    "## 13.12 时间趋势项\n",
    "\n",
    "## 13.13 季节调整\n",
    "\n",
    "## 13.14 日期数据的导入\n"
   ]
  },
  {
   "cell_type": "markdown",
   "metadata": {},
   "source": []
  }
 ],
 "metadata": {
  "kernelspec": {
   "display_name": ".venv",
   "language": "python",
   "name": "python3"
  },
  "language_info": {
   "name": "python",
   "version": "3.10.8"
  }
 },
 "nbformat": 4,
 "nbformat_minor": 2
}
