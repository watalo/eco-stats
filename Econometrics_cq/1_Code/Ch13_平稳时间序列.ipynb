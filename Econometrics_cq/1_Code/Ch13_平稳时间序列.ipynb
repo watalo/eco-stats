{
 "cells": [
  {
   "cell_type": "markdown",
   "metadata": {},
   "source": [
    "# 第13章 平稳时间序列"
   ]
  },
  {
   "cell_type": "code",
   "execution_count": null,
   "metadata": {},
   "outputs": [],
   "source": [
    "import pandas as pd\n",
    "import numpy as np\n",
    "import matplotlib.pyplot as plt\n",
    "import statsmodels.api as sm\n",
    "import seaborn as sns\n",
    "\n",
    "data = pd.read_stata('../2_Data/Data-2e/gdp_china.dta')\n",
    "data.set_index('year', inplace=True)\n",
    "data['lny'] = np.log(data['y'])\n",
    "data['dlny']  = data['lny'].diff()\n",
    "data['dy'] = (data['y'] - data['y'].shift(1))/data['y'].shift(1)"
   ]
  },
  {
   "cell_type": "markdown",
   "metadata": {},
   "source": [
    "## 13.1 时间序列的自相关\n",
    "\n",
    "定义  k阶自协方差\n",
    "autocovanriance of oder k\n",
    "$$\\gamma_k\\equiv Cov(y_t,y_{t-k})=E[(y_t-\\mu)(y_{t-K}-\\mu)]$$\n",
    "- $\\mu$ 为总体均值（$E(y)$）\n",
    "- 反映了同一变量相隔k期之间的自相关程度\n",
    "- $k=0$ 时，$\\gamma_0=Var(y)$\n",
    "- 估计值为样本自协方差：$$\\hat\\gamma_k \\equiv = \\frac{1}{T-k}\\sum_{t=1}^{T-k}(y_t-\\overline y)(y_{t+k}-\\overline y)$$\n",
    "\n",
    "定义 k阶自相关系数\n",
    "autocorrelation of oder k\n",
    "$$\\rho_k \\equiv \\frac{Cov(y_t,y_{t+k})}{Var(y_t)}$$\n",
    "- 自相关系数是自协方差的标准化，取值范围[-1,1]\n",
    "- 估计值为 $$\\hat\\rho_k \\equiv \\frac{\\hat\\gamma_k}{\\hat\\gamma_0}$$\n",
    "\t- 其中$\\hat\\rho_0 \\equiv \\frac{1}{T-1}\\sum_{i=1}^T (y_t-\\overline y)^2$ 为样本方差\n",
    "\n",
    "$\\rho_k$ 不依赖于具体时间，仅是滞后阶数k的函数，称为<span style=\"color:#00b0f0\">自相关函数（Auto-correlation function，ACF）</span>\n",
    "\n",
    "（k，$\\rho_k$）画出图，称为<span style=\"color:#00b0f0\">自相关图（correlogram）</span>\n"
   ]
  },
  {
   "cell_type": "code",
   "execution_count": null,
   "metadata": {},
   "outputs": [],
   "source": [
    "# 时间序列的趋势图\n",
    "fig = plt.figure(figsize=(8,4))\n",
    "sns.lineplot(x='year', y='y', data=data)"
   ]
  },
  {
   "cell_type": "code",
   "execution_count": null,
   "metadata": {},
   "outputs": [],
   "source": [
    "# 对数时间序列的趋势图\n",
    "fig = plt.figure(figsize=(8,4))\n",
    "sns.lineplot(x='year', y='lny', data=data)"
   ]
  },
  {
   "cell_type": "code",
   "execution_count": null,
   "metadata": {},
   "outputs": [],
   "source": [
    "# 对比\n",
    "fig = plt.figure(figsize=(10,4))\n",
    "sns.lineplot(x='year', y='dlny', data=data)\n",
    "sns.lineplot(x='year', y='dy', data=data)"
   ]
  },
  {
   "cell_type": "code",
   "execution_count": null,
   "metadata": {},
   "outputs": [],
   "source": [
    "from cq import acfgram\n",
    "data = data.dropna()\n",
    "\n",
    "ac = acfgram(data['dlny'],lags=15)\n",
    "ac"
   ]
  },
  {
   "cell_type": "markdown",
   "metadata": {},
   "source": [
    "## 13.2 一阶自回归\n",
    "\n",
    "用过去值来预测当前值，一阶自回归（AR(1)）\n",
    "$$y_t = \\beta_0+\\beta_1 y_{t-1}+\\epsilon_t \\qquad (t=2,\\cdots,n) \\tag{13.6}$$\n",
    "- 扰动项 $\\epsilon_t$ 为白噪声\n",
    "- 扰动项 $\\epsilon_t$ 无自相关，意味着任意不同期的扰动项协方差为0，是球形扰动项\n",
    "- OLS估计是一致的，但损失第一个数据\n",
    "- 可使用MLE，但需加速扰动项服从正态分布"
   ]
  },
  {
   "cell_type": "code",
   "execution_count": null,
   "metadata": {},
   "outputs": [],
   "source": [
    "# 使用OLS回归\n",
    "data2012 = data[data.index<2013].dropna()\n",
    "mod_ols = sm.OLS(endog=data2012['dlny'], \n",
    "             exog=sm.add_constant(data2012['dlny'].shift(1)),\n",
    "             missing='drop') # 缺失值直接drop\n",
    "res_ols = mod_ols.fit(cov_type='HC1', use_t=True)\n",
    "print(res_ols.summary())"
   ]
  },
  {
   "cell_type": "code",
   "execution_count": null,
   "metadata": {},
   "outputs": [],
   "source": [
    "# 使用MLE\n",
    "from statsmodels.tsa.ar_model import AutoReg\n",
    "mod_mle = AutoReg(data2012['dlny'], lags=1)\n",
    "res_mle = mod_mle.fit(cov_type='HC1',use_t=True)\n",
    "print(res_mle.summary())"
   ]
  },
  {
   "cell_type": "code",
   "execution_count": null,
   "metadata": {},
   "outputs": [],
   "source": [
    "from math import exp\n",
    "# 预测值\n",
    "a = res_ols.predict([1,data.loc[2013,'dlny']])\n",
    "# OLS模型回归后的预测：\n",
    "## - 参数是对应的 const + 其他自变量的值\n",
    "b = res_mle.predict(len(data['lny']),len(data['lny']))\n",
    "# AutoReg模型回归后的预测：\n",
    "## - 参数是start, end\n",
    "\n",
    "resid = exp(a + data.loc[2012,'lny']) - data.loc[2013,'y']\n",
    "resid"
   ]
  },
  {
   "cell_type": "markdown",
   "metadata": {},
   "source": [
    "## 13.3 高阶自回归\n",
    "\n",
    "高阶自回归（AR(p)）:\n",
    "$$y_t = \\beta_0+\\beta_1 y_{t-1}+\\cdots+\\beta_p y_{t-p}+\\epsilon_t  \\tag{13.6}$$\n",
    "但通常我们并不知道p是多少，需要估计出p是多少。有三个方法：\n",
    "1. 由大到小的序贯t规则：\n",
    "\t- 设一个最大滞后值，看最大滞后期的系数是否显著，不显著就往小了进行估计，直至显著。\n",
    "2. 使用信息准则：\n",
    "\t- 使AIC和BIC最小的p，AIC在大样本中会高估，取两者滞后阶数的大者\n",
    "3. 检验模型残差的自相关性(Q检验)，如存在，继续扩大。"
   ]
  },
  {
   "cell_type": "code",
   "execution_count": null,
   "metadata": {},
   "outputs": [],
   "source": [
    "from cq import estimate_p\n",
    "\n",
    "data = data[data.index< 2013]\n",
    "df = estimate_p(data, 'dlny', 6)\n",
    "df"
   ]
  },
  {
   "cell_type": "code",
   "execution_count": null,
   "metadata": {},
   "outputs": [],
   "source": [
    "from statsmodels.tsa.ar_model import ar_select_order\n",
    "\n",
    "mod = ar_select_order(data['dlny'], maxlag=6\n",
    "                      ,ic='bic',glob=True)\n",
    "print(mod.ar_lags)"
   ]
  },
  {
   "cell_type": "markdown",
   "metadata": {},
   "source": [
    "## 13.4 自回归分布滞后模型\n",
    "\n",
    "### autoregressive distributed lag model\n",
    "\n",
    "在自回归模型中，引入其他解释变量，$ARDL(p,q)$\n",
    "$$y_t = \\beta_0 +\\beta_1 y_{t-1}+\\cdots+\\beta_p y_{t-p}+\\gamma_1 x_{t-1}+\\cdots+\\gamma_q x_{t-q}+\\epsilon_t \\tag{13.11}$$\n",
    "- p为y的滞后阶数\n",
    "- q为x的滞后阶数\n",
    "- 还可引入更多的解释变量，如z的r阶滞后\n",
    "\n",
    "对于（p,q）的选择，可使用：\n",
    "- 信息准则\n",
    "- 序贯检验\n",
    "\n",
    "### 长期效应 or 长期乘数\n",
    "- 因y和x均为平稳序列，各滞后期序列的均值均为 $y^*$ 和 $x^*$。对（13.11）两边同时求期望，整理后可得：\n",
    "- $$\\frac{dy^*}{dx^*}=\\frac{\\gamma_1+\\cdots+\\gamma_q}{1-\\beta_1-\\cdots-\\beta_p}$$\n"
   ]
  },
  {
   "cell_type": "code",
   "execution_count": null,
   "metadata": {},
   "outputs": [],
   "source": [
    "from statsmodels.tsa.ardl.model import ARDL\n",
    "\n",
    "data_ = pd.read_stata('../2_Data/Data-2e/border.dta')\n",
    "endog = data_['border']\n",
    "\n",
    "exog = data_[['drought','diff','age','rival','wall','unified']]\n",
    "exog_lags = {\n",
    "             'drought':[1],\n",
    "             'diff':0,\n",
    "             'age':0,\n",
    "             'rival':0,\n",
    "             'wall':0,\n",
    "             'unified':0\n",
    "             }\n",
    "mod_ardl = ARDL(endog,2, exog, exog_lags)\n",
    "res_ardl = mod_ardl.fit()\n",
    "print(res_ardl.summary())"
   ]
  },
  {
   "cell_type": "code",
   "execution_count": null,
   "metadata": {},
   "outputs": [],
   "source": [
    "# drought的长期乘数\n",
    "res_ardl.params\n",
    "lrm_drought  = res_ardl.params['drought.L1']/(1-res_ardl.params['border.L1']-res_ardl.params['border.L2'])\n",
    "lrm_drought "
   ]
  },
  {
   "cell_type": "markdown",
   "metadata": {},
   "source": [
    "## 13.5 误差修正模型"
   ]
  },
  {
   "cell_type": "markdown",
   "metadata": {},
   "source": [
    "## 13.6 移动平均与ARMA模型"
   ]
  },
  {
   "cell_type": "markdown",
   "metadata": {},
   "source": [
    "## 13.7 脉冲响应函数"
   ]
  },
  {
   "cell_type": "code",
   "execution_count": null,
   "metadata": {},
   "outputs": [],
   "source": [
    "from statsmodels.tsa.api import VAR\n",
    "\n",
    "\n",
    "data = pd.read_stata('../2_Data/Data-2e/gdp_china.dta')\n",
    "data['year'] = pd.to_datetime(data['year'], format='%Y',exact=True)\n",
    "data.set_index('year',inplace=True)\n",
    "data['dlny'] = np.log(data['y']) - np.log(data['y']).shift(1)\n",
    "\n",
    "model = VAR(data,missing='drop')\n",
    "results = model.fit(1)\n",
    "irf = results.irf(10)\n",
    "irf.plot(impulse='dlny',orth=False)"
   ]
  },
  {
   "cell_type": "markdown",
   "metadata": {},
   "source": [
    "## 13.8 向量自回归过程"
   ]
  },
  {
   "cell_type": "markdown",
   "metadata": {},
   "source": [
    "## 13.9 VAR的脉冲响应函数"
   ]
  },
  {
   "cell_type": "markdown",
   "metadata": {},
   "source": [
    "## 13.10 格兰杰因果检验"
   ]
  },
  {
   "cell_type": "markdown",
   "metadata": {},
   "source": [
    "## 13.11 VAR的Python命令及实例\n",
    "\n",
    "![alt text](../pic/VAR流程.svg)\n",
    "\n",
    "> 在开始建立模型之前，都要先观察数据的时间趋势"
   ]
  },
  {
   "cell_type": "code",
   "execution_count": null,
   "metadata": {},
   "outputs": [],
   "source": [
    "from matplotlib.font_manager import FontProperties\n",
    "from statsmodels.tsa.base.datetools import dates_from_str\n",
    "# 指定字体\n",
    "font_path = r'E:\\fontsss\\FONT\\msfont\\simhei.ttf'  # 根据你的操作系统，指定中文字体的路径\n",
    "font_prop = FontProperties(fname=font_path, size=12)\n",
    "\n",
    "macro_swatson = pd.read_stata('../2_Data/Data-2e/macro_swatson.dta')\n",
    "macro_swatson.set_index('quarter', inplace=True)\n",
    "\n",
    "sns.set_theme(style='darkgrid')\n",
    "macro_swatson[['unem','dinf']].plot(figsize=(10,5))\n",
    "plt.title('就业与通胀', fontproperties=font_prop)\n",
    "\n",
    "macro_swatson"
   ]
  },
  {
   "cell_type": "markdown",
   "metadata": {},
   "source": [
    "#### 1. 估计滞后阶数"
   ]
  },
  {
   "cell_type": "code",
   "execution_count": null,
   "metadata": {},
   "outputs": [],
   "source": [
    "from cq import estimate_p\n",
    "estimate_p(macro_swatson, 'dinf', lags=3)"
   ]
  },
  {
   "cell_type": "markdown",
   "metadata": {},
   "source": [
    "\n",
    "|index\t|nobs\t|p-value\t|AIC\t  |          BIC|\n",
    "|---|---|---|---|---|\n",
    "|dinf_l1|\t165.0|\t0.017331|\t-882.627391|\t    -876.4155|\n",
    "|dinf_l2|\t164.0|\t0.000094|\t-895.9549[min]|\t-886.6553[min]|\n",
    "|dinf_l3|\t163.0|\t0.016910|\t-893.845943\t   | -881.470942|\n"
   ]
  },
  {
   "cell_type": "code",
   "execution_count": null,
   "metadata": {},
   "outputs": [],
   "source": [
    "estimate_p(macro_swatson, 'unem', lags=3)"
   ]
  },
  {
   "cell_type": "markdown",
   "metadata": {},
   "source": [
    "|index\t|nobs\t|p-value\t|AIC\t|BIC|\n",
    "|---|---|---|---|---|\n",
    "|unem_l1|\t167.0|\t0.0|\t-1430.602618|\t-1424.366631|\n",
    "|unem_l2|\t166.0|\t0.0|\t-1503.2040[min]|\t-1493.8680[min]|\n",
    "|unem_l3|\t165.0|\t0.53874[>0.05]|\t-1497.092376|\t-1484.668594|"
   ]
  },
  {
   "cell_type": "code",
   "execution_count": null,
   "metadata": {},
   "outputs": [],
   "source": [
    "from statsmodels.tsa.ar_model import ar_select_order\n",
    "\n",
    "mod = ar_select_order(macro_swatson['dinf'], maxlag=5\n",
    "                      ,ic='bic',missing='drop')\n",
    "mod_ = ar_select_order(macro_swatson['unem'], maxlag=5\n",
    "                      ,ic='bic',missing='drop')\n",
    "print(mod.ar_lags, mod_.ar_lags)"
   ]
  },
  {
   "cell_type": "markdown",
   "metadata": {},
   "source": [
    "#### 2. 建模VAR(2)"
   ]
  },
  {
   "cell_type": "code",
   "execution_count": null,
   "metadata": {},
   "outputs": [],
   "source": [
    "from statsmodels.tsa.api import VAR\n",
    "data = macro_swatson[['unem','dinf']].dropna()\n",
    " \n",
    "model = VAR(data)\n",
    "res_var = model.fit(2 ,method='ols',verbose=True)\n",
    "res_var.plot_acorr()\n",
    "b = res_var.plot_forecast(10)\n",
    "res_var.hypo_test('ljungbox',lags=10)"
   ]
  },
  {
   "cell_type": "markdown",
   "metadata": {},
   "source": [
    "VARMAX 与 VAR 模型\n",
    "两种模型类所使用的回归方法不一样,得出的结果可能细微的差别，但在显著性检验方面能得到一致的结果。\n",
    "相比而言：\n",
    "- VARMAX模型更通用，只需在参数order设置时进行设定，即可设定为VAR、VMA模型\n",
    "    - VAR模型：order=(p, 0)\n",
    "    - VMA模型：order=(0, q)\n",
    "    - VARMA模型：order=(p, q)\n",
    "- VAR模型的解释性更强，可以直观的看出模型的各项影响因素，适合用于解释因果关系。"
   ]
  },
  {
   "cell_type": "code",
   "execution_count": null,
   "metadata": {},
   "outputs": [],
   "source": [
    "from statsmodels.tsa.api import VARMAX\n",
    "\n",
    "mod_varmax = VARMAX(data, order=(2, 0), trend='c')\n",
    "res_varmax = mod_varmax.fit(maxiter=1000, disp=False)\n",
    "print(res_varmax.summary())"
   ]
  },
  {
   "cell_type": "markdown",
   "metadata": {},
   "source": [
    "#### 3.各种检验\n",
    "\n",
    "`statsmodels.tsa.vector_ar`库中的`VAR`模型有一个核心的基本假定：\n",
    "\n",
    "- 该 VAR 类假定传递的时间序列是平稳的。非平稳数据或趋势数据通常可以通过先差分或其他方法转换为平稳数据。对于非平稳时间序列的直接分析，标准稳定的VAR（p）模型是不合适的。\n",
    "\n",
    "因此，在VAR模型中所提供的检测方法中，不涉及平稳性检验。\n",
    "\n",
    "- 3.1 联合显著性的wald检验\n",
    "  - `statsmodels`库中对`VARResults`没有提供`wald_test`、`f_test`、`t_test`的api接口\n",
    "- 3.2 平稳性检验\n",
    "  - 通过特征值进行平稳性检验。    \n",
    "- 3.3 格兰杰因果检验\n",
    "  - 参数：\n",
    "    - caused = 格兰杰 果\n",
    "    - causing = 格兰杰 因"
   ]
  },
  {
   "cell_type": "code",
   "execution_count": null,
   "metadata": {},
   "outputs": [],
   "source": [
    "white_test = res_var.test_whiteness()\n",
    "norml_test = res_var.test_normality()\n",
    "causl_test_u_d = res_var.test_causality(caused='unem',causing='dinf')\n",
    "causl_test_d_u = res_var.test_causality(caused='dinf',causing='unem')\n",
    "\n",
    "white_test.summary()"
   ]
  },
  {
   "cell_type": "code",
   "execution_count": null,
   "metadata": {},
   "outputs": [],
   "source": [
    "norml_test.summary()"
   ]
  },
  {
   "cell_type": "code",
   "execution_count": null,
   "metadata": {},
   "outputs": [],
   "source": [
    "causl_test_u_d.summary()"
   ]
  },
  {
   "cell_type": "code",
   "execution_count": null,
   "metadata": {},
   "outputs": [],
   "source": [
    "causl_test_d_u.summary()"
   ]
  },
  {
   "cell_type": "markdown",
   "metadata": {},
   "source": [
    "### 4. 脉冲响应函数 \n",
    "\n",
    "res_var.irf()"
   ]
  },
  {
   "cell_type": "code",
   "execution_count": null,
   "metadata": {},
   "outputs": [],
   "source": [
    "irf = res_var.irf()\n",
    "a = irf.plot()"
   ]
  },
  {
   "cell_type": "markdown",
   "metadata": {},
   "source": [
    "## 13.13 季节调整"
   ]
  },
  {
   "cell_type": "code",
   "execution_count": null,
   "metadata": {},
   "outputs": [],
   "source": []
  },
  {
   "cell_type": "markdown",
   "metadata": {},
   "source": [
    "## 13.14 日期数据的导入"
   ]
  }
 ],
 "metadata": {
  "kernelspec": {
   "display_name": ".venv",
   "language": "python",
   "name": "python3"
  },
  "language_info": {
   "codemirror_mode": {
    "name": "ipython",
    "version": 3
   },
   "file_extension": ".py",
   "mimetype": "text/x-python",
   "name": "python",
   "nbconvert_exporter": "python",
   "pygments_lexer": "ipython3",
   "version": "3.10.8"
  }
 },
 "nbformat": 4,
 "nbformat_minor": 2
}
