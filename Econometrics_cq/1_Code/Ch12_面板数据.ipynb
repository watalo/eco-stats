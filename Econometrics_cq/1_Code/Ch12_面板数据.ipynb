{
 "cells": [
  {
   "cell_type": "markdown",
   "metadata": {},
   "source": [
    "## 12.13 面板模型的python命令及实例\n",
    "\n",
    "### 1.面板数据的设定"
   ]
  },
  {
   "cell_type": "code",
   "execution_count": 3,
   "metadata": {},
   "outputs": [],
   "source": [
    "import pandas as pd\n",
    "import statsmodels.api as sm\n",
    "from linearmodels.panel import PanelOLS, PooledOLS, RandomEffects, FirstDifferenceOLS,BetweenOLS"
   ]
  },
  {
   "cell_type": "markdown",
   "metadata": {},
   "source": [
    "设置以下数据，避免后续使用时代码结构太混乱"
   ]
  },
  {
   "cell_type": "code",
   "execution_count": 5,
   "metadata": {},
   "outputs": [],
   "source": [
    "class Dataset:\n",
    "    \n",
    "    def __init__(self, data):\n",
    "        self.data_original = data\n",
    "        self.data = self._int_data()\n",
    "        self.exog = self._init_exog(lm=False)\n",
    "        self.endog = self.data['ltvfo']\n",
    "        self.data_lm = self.data.set_index(['prov', 'year'])\n",
    "        self.exog_lm = self._init_exog(lm=True)\n",
    "        self.dept_lm = self.data_lm[['ltvfo']]\n",
    "        self.exog_lm_dv_n = self._init_exog(lm=True, dv='entity')\n",
    "        self.exog_lm_dv_t = self._init_exog(lm=True, dv='time')\n",
    "        \n",
    "    def _int_data(self):\n",
    "        \n",
    "        self.data_original['year_d'] = self.data_original['year'].astype(str)\n",
    "        self.data_original['prov_d'] = self.data_original['prov'].astype(str)\n",
    "        data = self.data_original.dropna()\n",
    "        return data\n",
    "    \n",
    "    def _init_exog(self,lm=True, dv = None):\n",
    "        if lm:\n",
    "            exog =  self.data_lm[['ltlan', 'ltwlab', 'ltpow', 'ltfer','hrs','mipric1', 'giprice','mci','ngca']]\n",
    "            if dv == 'entity':\n",
    "                exog =  self.data_lm[['ltlan', 'ltwlab', 'ltpow', 'ltfer','hrs','mipric1', 'giprice','mci','ngca','prov_d']]\n",
    "            if dv == 'time':\n",
    "                exog =  self.data_lm[['ltlan', 'ltwlab', 'ltpow', 'ltfer','hrs','mipric1', 'giprice','mci','ngca','year_d']]\n",
    "        else:\n",
    "            exog = self.data[['ltlan', 'ltwlab', 'ltpow', 'ltfer','hrs','mipric1', 'giprice','mci','ngca']]\n",
    "            \n",
    "        exog = sm.add_constant(exog)\n",
    "        return exog\n",
    "    \n",
    "\n",
    "data = pd.read_stata('../2_Data/Data-2e/lin_1992.dta')\n",
    "lin = Dataset(data)"
   ]
  },
  {
   "cell_type": "markdown",
   "metadata": {},
   "source": [
    "`statsmodels`和`linearmodels`的数据类型不一样\n",
    "- `linearmodels`需要设置多重索引形成真正意义上的面板数据\n",
    "- `statsmodels`是按照截面数据的形式指定个体和时间的字段即可"
   ]
  },
  {
   "cell_type": "markdown",
   "metadata": {},
   "source": [
    "原始数据是以截面数据形式展现的面板数据。\n",
    "- `province` 是面板变量（个体变量）= `prov`\n",
    "- `t` 是时间变量（时间序列） = `year`\n",
    "\n",
    "### 2.混合回归"
   ]
  },
  {
   "cell_type": "markdown",
   "metadata": {},
   "source": [
    "#### （1）以`'province'`作为聚类变量的聚类稳健的标准误\n",
    "\n",
    "##### a. 使用`linearmodels.panel.PooledOLS()`\n",
    "\n",
    "在`fit()`中设置`cov_type='Clustered'`\n",
    "- `cluster_entity` - Boolean flag indicating to use entity clusters\n",
    "-  `cluster_time` - Boolean indicating to use time clusters"
   ]
  },
  {
   "cell_type": "code",
   "execution_count": 3,
   "metadata": {},
   "outputs": [
    {
     "name": "stdout",
     "output_type": "stream",
     "text": [
      "                          PooledOLS Estimation Summary                          \n",
      "================================================================================\n",
      "Dep. Variable:                  ltvfo   R-squared:                        0.8685\n",
      "Estimator:                  PooledOLS   R-squared (Between):              0.8901\n",
      "No. Observations:                 476   R-squared (Within):               0.8146\n",
      "Date:                Fri, May 03 2024   R-squared (Overall):              0.8685\n",
      "Time:                        19:14:33   Log-likelihood                    103.19\n",
      "Cov. Estimator:             Clustered                                           \n",
      "                                        F-statistic:                      342.09\n",
      "Entities:                          28   P-value                           0.0000\n",
      "Avg Obs:                       17.000   Distribution:                   F(9,466)\n",
      "Min Obs:                       17.000                                           \n",
      "Max Obs:                       17.000   F-statistic (robust):             81.390\n",
      "                                        P-value                           0.0000\n",
      "Time periods:                      17   Distribution:                   F(9,466)\n",
      "Avg Obs:                       28.000                                           \n",
      "Min Obs:                       28.000                                           \n",
      "Max Obs:                       28.000                                           \n",
      "                                                                                \n",
      "                             Parameter Estimates                              \n",
      "==============================================================================\n",
      "            Parameter  Std. Err.     T-stat    P-value    Lower CI    Upper CI\n",
      "------------------------------------------------------------------------------\n",
      "const          1.0806     0.8270     1.3067     0.1920     -0.5445      2.7057\n",
      "ltlan          0.6938     0.1150     6.0317     0.0000      0.4678      0.9198\n",
      "ltwlab         0.2650     0.0566     4.6799     0.0000      0.1537      0.3763\n",
      "ltpow         -0.0292     0.0670    -0.4354     0.6635     -0.1609      0.1025\n",
      "ltfer          0.3111     0.0531     5.8545     0.0000      0.2067      0.4155\n",
      "hrs            0.2287     0.0489     4.6724     0.0000      0.1325      0.3249\n",
      "mipric1        0.0122     0.0548     0.2228     0.8238     -0.0954      0.1199\n",
      "giprice       -0.0539     0.0274    -1.9634     0.0502     -0.1078   4.564e-05\n",
      "mci            0.6949     0.1690     4.1127     0.0000      0.3629      1.0270\n",
      "ngca           0.3053     0.5223     0.5846     0.5591     -0.7210      1.3316\n",
      "==============================================================================\n"
     ]
    }
   ],
   "source": [
    "\n",
    "model = PooledOLS(dependent=lin.dept_lm, exog=lin.exog_lm)\n",
    "result = model.fit(cov_type='clustered', # 采用聚类标准误\n",
    "                   cluster_entity=True, # 按个体进行聚类\n",
    "                   group_debias=True)  # 是否按照个体数n进行聚类\n",
    "print(result.summary)"
   ]
  },
  {
   "cell_type": "markdown",
   "metadata": {},
   "source": [
    "##### b. 使用`sm.OLS()`估计\n",
    "\n",
    "在`.fit()`函数中：\n",
    "- `cov_type='cluster'`：使用聚类标准误\n",
    "- `cov_kwds={'groups':lin['province]}`：指定按个体变量进行聚类"
   ]
  },
  {
   "cell_type": "code",
   "execution_count": 4,
   "metadata": {},
   "outputs": [
    {
     "name": "stdout",
     "output_type": "stream",
     "text": [
      "                            OLS Regression Results                            \n",
      "==============================================================================\n",
      "Dep. Variable:                  ltvfo   R-squared:                       0.869\n",
      "Model:                            OLS   Adj. R-squared:                  0.866\n",
      "Method:                 Least Squares   F-statistic:                     81.39\n",
      "Date:                Fri, 03 May 2024   Prob (F-statistic):           3.21e-17\n",
      "Time:                        19:14:33   Log-Likelihood:                 103.19\n",
      "No. Observations:                 476   AIC:                            -186.4\n",
      "Df Residuals:                     466   BIC:                            -144.7\n",
      "Df Model:                           9                                         \n",
      "Covariance Type:              cluster                                         \n",
      "==============================================================================\n",
      "                 coef    std err          z      P>|z|      [0.025      0.975]\n",
      "------------------------------------------------------------------------------\n",
      "const          1.0806      0.827      1.307      0.191      -0.540       2.701\n",
      "ltlan          0.6938      0.115      6.032      0.000       0.468       0.919\n",
      "ltwlab         0.2650      0.057      4.680      0.000       0.154       0.376\n",
      "ltpow         -0.0292      0.067     -0.435      0.663      -0.161       0.102\n",
      "ltfer          0.3111      0.053      5.855      0.000       0.207       0.415\n",
      "hrs            0.2287      0.049      4.672      0.000       0.133       0.325\n",
      "mipric1        0.0122      0.055      0.223      0.824      -0.095       0.120\n",
      "giprice       -0.0539      0.027     -1.963      0.050      -0.108   -9.44e-05\n",
      "mci            0.6949      0.169      4.113      0.000       0.364       1.026\n",
      "ngca           0.3053      0.522      0.585      0.559      -0.718       1.329\n",
      "==============================================================================\n",
      "Omnibus:                       14.820   Durbin-Watson:                   0.475\n",
      "Prob(Omnibus):                  0.001   Jarque-Bera (JB):               16.597\n",
      "Skew:                          -0.359   Prob(JB):                     0.000249\n",
      "Kurtosis:                       3.567   Cond. No.                         278.\n",
      "==============================================================================\n",
      "\n",
      "Notes:\n",
      "[1] Standard Errors are robust to cluster correlation (cluster)\n"
     ]
    }
   ],
   "source": [
    "model = sm.OLS(endog=lin.endog, exog=lin.exog)\n",
    "results = model.fit(cov_type='cluster', \n",
    "                    cov_kwds={'groups': lin.data['province']})\n",
    "print(results.summary())"
   ]
  },
  {
   "cell_type": "markdown",
   "metadata": {},
   "source": [
    "#### （2）使用普通标准误进行对比"
   ]
  },
  {
   "cell_type": "markdown",
   "metadata": {},
   "source": [
    "##### a. 使用`linearmodels.panel.PooledOLS`"
   ]
  },
  {
   "cell_type": "code",
   "execution_count": 5,
   "metadata": {},
   "outputs": [
    {
     "name": "stdout",
     "output_type": "stream",
     "text": [
      "                          PooledOLS Estimation Summary                          \n",
      "================================================================================\n",
      "Dep. Variable:                  ltvfo   R-squared:                        0.8685\n",
      "Estimator:                  PooledOLS   R-squared (Between):              0.8901\n",
      "No. Observations:                 476   R-squared (Within):               0.8146\n",
      "Date:                Fri, May 03 2024   R-squared (Overall):              0.8685\n",
      "Time:                        19:14:34   Log-likelihood                    103.19\n",
      "Cov. Estimator:            Unadjusted                                           \n",
      "                                        F-statistic:                      342.09\n",
      "Entities:                          28   P-value                           0.0000\n",
      "Avg Obs:                       17.000   Distribution:                   F(9,466)\n",
      "Min Obs:                       17.000                                           \n",
      "Max Obs:                       17.000   F-statistic (robust):             342.09\n",
      "                                        P-value                           0.0000\n",
      "Time periods:                      17   Distribution:                   F(9,466)\n",
      "Avg Obs:                       28.000                                           \n",
      "Min Obs:                       28.000                                           \n",
      "Max Obs:                       28.000                                           \n",
      "                                                                                \n",
      "                             Parameter Estimates                              \n",
      "==============================================================================\n",
      "            Parameter  Std. Err.     T-stat    P-value    Lower CI    Upper CI\n",
      "------------------------------------------------------------------------------\n",
      "const          1.0806     0.2833     3.8149     0.0002      0.5240      1.6372\n",
      "ltlan          0.6938     0.0369     18.806     0.0000      0.6213      0.7663\n",
      "ltwlab         0.2650     0.0238     11.116     0.0000      0.2182      0.3119\n",
      "ltpow         -0.0292     0.0332    -0.8795     0.3796     -0.0944      0.0360\n",
      "ltfer          0.3111     0.0206     15.067     0.0000      0.2705      0.3516\n",
      "hrs            0.2287     0.0307     7.4463     0.0000      0.1683      0.2890\n",
      "mipric1        0.0122     0.0534     0.2286     0.8193     -0.0927      0.1171\n",
      "giprice       -0.0539     0.0272    -1.9812     0.0482     -0.1073     -0.0004\n",
      "mci            0.6949     0.0522     13.302     0.0000      0.5923      0.7976\n",
      "ngca           0.3053     0.1953     1.5635     0.1186     -0.0784      0.6890\n",
      "==============================================================================\n"
     ]
    }
   ],
   "source": [
    "model = PooledOLS(dependent=lin.dept_lm, exog=lin.exog_lm)\n",
    "result = model.fit()\n",
    "print(result.summary)"
   ]
  },
  {
   "cell_type": "markdown",
   "metadata": {},
   "source": [
    "##### b. 使用`sm.OLS()`"
   ]
  },
  {
   "cell_type": "code",
   "execution_count": 6,
   "metadata": {},
   "outputs": [
    {
     "name": "stdout",
     "output_type": "stream",
     "text": [
      "                            OLS Regression Results                            \n",
      "==============================================================================\n",
      "Dep. Variable:                  ltvfo   R-squared:                       0.869\n",
      "Model:                            OLS   Adj. R-squared:                  0.866\n",
      "Method:                 Least Squares   F-statistic:                     342.1\n",
      "Date:                Fri, 03 May 2024   Prob (F-statistic):          5.01e-199\n",
      "Time:                        19:14:34   Log-Likelihood:                 103.19\n",
      "No. Observations:                 476   AIC:                            -186.4\n",
      "Df Residuals:                     466   BIC:                            -144.7\n",
      "Df Model:                           9                                         \n",
      "Covariance Type:            nonrobust                                         \n",
      "==============================================================================\n",
      "                 coef    std err          t      P>|t|      [0.025      0.975]\n",
      "------------------------------------------------------------------------------\n",
      "const          1.0806      0.283      3.815      0.000       0.524       1.637\n",
      "ltlan          0.6938      0.037     18.806      0.000       0.621       0.766\n",
      "ltwlab         0.2650      0.024     11.116      0.000       0.218       0.312\n",
      "ltpow         -0.0292      0.033     -0.879      0.380      -0.094       0.036\n",
      "ltfer          0.3111      0.021     15.067      0.000       0.270       0.352\n",
      "hrs            0.2287      0.031      7.446      0.000       0.168       0.289\n",
      "mipric1        0.0122      0.053      0.229      0.819      -0.093       0.117\n",
      "giprice       -0.0539      0.027     -1.981      0.048      -0.107      -0.000\n",
      "mci            0.6949      0.052     13.302      0.000       0.592       0.798\n",
      "ngca           0.3053      0.195      1.563      0.119      -0.078       0.689\n",
      "==============================================================================\n",
      "Omnibus:                       14.820   Durbin-Watson:                   0.475\n",
      "Prob(Omnibus):                  0.001   Jarque-Bera (JB):               16.597\n",
      "Skew:                          -0.359   Prob(JB):                     0.000249\n",
      "Kurtosis:                       3.567   Cond. No.                         278.\n",
      "==============================================================================\n",
      "\n",
      "Notes:\n",
      "[1] Standard Errors assume that the covariance matrix of the errors is correctly specified.\n"
     ]
    }
   ],
   "source": [
    "model = sm.OLS(endog=lin.endog, exog=lin.exog)\n",
    "results = model.fit()\n",
    "print(results.summary())"
   ]
  },
  {
   "cell_type": "markdown",
   "metadata": {},
   "source": [
    "### 3.固定效应\n",
    "\n",
    "#### （1）使用组内估计量"
   ]
  },
  {
   "cell_type": "code",
   "execution_count": 7,
   "metadata": {},
   "outputs": [
    {
     "name": "stdout",
     "output_type": "stream",
     "text": [
      "                          PanelOLS Estimation Summary                           \n",
      "================================================================================\n",
      "Dep. Variable:                  ltvfo   R-squared:                        0.8746\n",
      "Estimator:                   PanelOLS   R-squared (Between):              0.5636\n",
      "No. Observations:                 476   R-squared (Within):               0.8746\n",
      "Date:                Fri, May 03 2024   R-squared (Overall):              0.6525\n",
      "Time:                        19:14:34   Log-likelihood                    412.62\n",
      "Cov. Estimator:             Clustered                                           \n",
      "                                        F-statistic:                      340.20\n",
      "Entities:                          28   P-value                           0.0000\n",
      "Avg Obs:                       17.000   Distribution:                   F(9,439)\n",
      "Min Obs:                       17.000                                           \n",
      "Max Obs:                       17.000   F-statistic (robust):             274.25\n",
      "                                        P-value                           0.0000\n",
      "Time periods:                      17   Distribution:                   F(9,439)\n",
      "Avg Obs:                       28.000                                           \n",
      "Min Obs:                       28.000                                           \n",
      "Max Obs:                       28.000                                           \n",
      "                                                                                \n",
      "                             Parameter Estimates                              \n",
      "==============================================================================\n",
      "            Parameter  Std. Err.     T-stat    P-value    Lower CI    Upper CI\n",
      "------------------------------------------------------------------------------\n",
      "const          2.3379     0.8552     2.7337     0.0065      0.6571      4.0187\n",
      "ltlan          0.6370     0.1681     3.7888     0.0002      0.3066      0.9675\n",
      "ltwlab         0.1388     0.0625     2.2219     0.0268      0.0160      0.2615\n",
      "ltpow          0.0577     0.0756     0.7639     0.4454     -0.0908      0.2062\n",
      "ltfer          0.1826     0.0436     4.1895     0.0000      0.0970      0.2683\n",
      "hrs            0.2134     0.0391     5.4564     0.0000      0.1365      0.2903\n",
      "mipric1        0.0544     0.0590     0.9208     0.3577     -0.0617      0.1704\n",
      "giprice       -0.0151     0.0246    -0.6157     0.5384     -0.0635      0.0332\n",
      "mci            0.1944     0.0771     2.5226     0.0120      0.0429      0.3458\n",
      "ngca           0.7562     0.3821     1.9789     0.0484      0.0052      1.5072\n",
      "==============================================================================\n",
      "\n",
      "F-test for Poolability: 43.410\n",
      "P-value: 0.0000\n",
      "Distribution: F(27,439)\n",
      "\n",
      "Included effects: Entity\n"
     ]
    }
   ],
   "source": [
    "mod = PanelOLS(dependent=lin.dept_lm, exog=lin.exog_lm, entity_effects=True)\n",
    "fe_res = mod.fit(use_lsdv=False,\n",
    "                 cov_type='clustered', \n",
    "                 cluster_entity=True,\n",
    "                 group_debias=True)\n",
    "print(fe_res)"
   ]
  },
  {
   "cell_type": "markdown",
   "metadata": {},
   "source": [
    "#### （2）LSDV法\n",
    "\n",
    "##### a. 使用`linearmodels.panel.PanelOLS`进行LSDV法"
   ]
  },
  {
   "cell_type": "code",
   "execution_count": 8,
   "metadata": {},
   "outputs": [
    {
     "name": "stdout",
     "output_type": "stream",
     "text": [
      "                          PanelOLS Estimation Summary                           \n",
      "================================================================================\n",
      "Dep. Variable:                  ltvfo   R-squared:                        0.9642\n",
      "Estimator:                   PanelOLS   R-squared (Between):              1.0000\n",
      "No. Observations:                 476   R-squared (Within):               0.8746\n",
      "Date:                Fri, May 03 2024   R-squared (Overall):              0.9642\n",
      "Time:                        19:14:34   Log-likelihood                    412.62\n",
      "Cov. Estimator:             Clustered                                           \n",
      "                                        F-statistic:                      328.23\n",
      "Entities:                          28   P-value                           0.0000\n",
      "Avg Obs:                       17.000   Distribution:                  F(36,439)\n",
      "Min Obs:                       17.000                                           \n",
      "Max Obs:                       17.000   F-statistic (robust):         -9.952e+15\n",
      "                                        P-value                           1.0000\n",
      "Time periods:                      17   Distribution:                  F(36,439)\n",
      "Avg Obs:                       28.000                                           \n",
      "Min Obs:                       28.000                                           \n",
      "Max Obs:                       28.000                                           \n",
      "                                                                                \n",
      "                                  Parameter Estimates                                  \n",
      "=======================================================================================\n",
      "                     Parameter  Std. Err.     T-stat    P-value    Lower CI    Upper CI\n",
      "---------------------------------------------------------------------------------------\n",
      "const                   2.5682     0.8280     3.1018     0.0020      0.9409      4.1954\n",
      "ltlan                   0.6370     0.1732     3.6774     0.0003      0.2966      0.9775\n",
      "ltwlab                  0.1388     0.0644     2.1566     0.0316      0.0123      0.2653\n",
      "ltpow                   0.0577     0.0778     0.7414     0.4588     -0.0953      0.2107\n",
      "ltfer                   0.1826     0.0449     4.0663     0.0001      0.0944      0.2709\n",
      "hrs                     0.2134     0.0403     5.2960     0.0000      0.1342      0.2926\n",
      "mipric1                 0.0544     0.0608     0.8937     0.3720     -0.0652      0.1739\n",
      "giprice                -0.0151     0.0253    -0.5976     0.5504     -0.0650      0.0347\n",
      "mci                     0.1944     0.0794     2.4484     0.0147      0.0383      0.3504\n",
      "ngca                    0.7562     0.3937     1.9208     0.0554     -0.0176      1.5300\n",
      "prov_d.beijing         -0.1816     0.1248    -1.4557     0.1462     -0.4269      0.0636\n",
      "prov_d.fujian           0.0517     0.0502     1.0292     0.3040     -0.0470      0.1503\n",
      "prov_d.gansu           -0.8166     0.1381    -5.9137     0.0000     -1.0879     -0.5452\n",
      "prov_d.guangdong       -0.0105     0.0558    -0.1879     0.8510     -0.1202      0.0992\n",
      "prov_d.guangxi         -0.2305     0.0571    -4.0372     0.0001     -0.3427     -0.1183\n",
      "prov_d.guizhou         -0.2351     0.0615    -3.8202     0.0002     -0.3560     -0.1141\n",
      "prov_d.hebei           -0.2924     0.0997    -2.9320     0.0035     -0.4884     -0.0964\n",
      "prov_d.heilongjiang    -0.1410     0.2892    -0.4876     0.6261     -0.7095      0.4274\n",
      "prov_d.henan           -0.0905     0.0436    -2.0761     0.0385     -0.1761     -0.0048\n",
      "prov_d.hubei            0.1119     0.0341     3.2853     0.0011      0.0450      0.1788\n",
      "prov_d.hunan           -0.0374     0.0608    -0.6151     0.5388     -0.1568      0.0820\n",
      "prov_d.jiangsu          0.1151     0.0342     3.3648     0.0008      0.0479      0.1823\n",
      "prov_d.jiangxi         -0.1353     0.0580    -2.3329     0.0201     -0.2492     -0.0213\n",
      "prov_d.jilin           -0.2220     0.2254    -0.9852     0.3251     -0.6649      0.2209\n",
      "prov_d.liaoning        -0.2790     0.1727    -1.6158     0.1069     -0.6183      0.0604\n",
      "prov_d.neimong         -0.9288     0.2561    -3.6263     0.0003     -1.4322     -0.4254\n",
      "prov_d.ningxia         -0.8814     0.1976    -4.4611     0.0000     -1.2697     -0.4931\n",
      "prov_d.qinghai         -0.7062     0.1522    -4.6411     0.0000     -1.0053     -0.4072\n",
      "prov_d.shaanxi         -0.3342     0.0926    -3.6092     0.0003     -0.5162     -0.1522\n",
      "prov_d.shangdong       -0.0049     0.0582    -0.0846     0.9326     -0.1192      0.1094\n",
      "prov_d.shanghai         0.1139     0.0649     1.7560     0.0798     -0.0136      0.2414\n",
      "prov_d.shanxi          -0.5312     0.1515    -3.5068     0.0005     -0.8290     -0.2335\n",
      "prov_d.sichuan          0.0252     0.0321     0.7845     0.4332     -0.0379      0.0882\n",
      "prov_d.tianjin         -0.3048     0.1190    -2.5609     0.0108     -0.5386     -0.0709\n",
      "prov_d.xinjiang        -0.4007     0.2398    -1.6712     0.0954     -0.8720      0.0706\n",
      "prov_d.yunnan          -0.2775     0.0633    -4.3851     0.0000     -0.4018     -0.1531\n",
      "prov_d.zhejiang         0.1764     0.0822     2.1460     0.0324      0.0149      0.3380\n",
      "=======================================================================================\n",
      "\n",
      "\n"
     ]
    }
   ],
   "source": [
    "mod = PanelOLS(dependent=lin.dept_lm, exog= lin.exog_lm_dv_n)\n",
    "fe_res = mod.fit(use_lsdv=True,\n",
    "                 cov_type='clustered', \n",
    "                 cluster_entity=True,\n",
    "                 group_debias=True\n",
    "                 )\n",
    "print(fe_res)"
   ]
  },
  {
   "cell_type": "markdown",
   "metadata": {},
   "source": [
    "- 计算出来的结果与组内估计量一模一样\n",
    "\n",
    "##### b. 使用statamodels回归，需手动增加虚拟变量\n",
    "\n",
    "两种方式，但效果一样\n",
    "- 直接手动增加个体特征的虚拟变量\n",
    "- 用`pd.get_dummies()`\n"
   ]
  },
  {
   "cell_type": "code",
   "execution_count": 16,
   "metadata": {},
   "outputs": [
    {
     "name": "stdout",
     "output_type": "stream",
     "text": [
      "                            OLS Regression Results                            \n",
      "==============================================================================\n",
      "Dep. Variable:                  ltvfo   R-squared:                       0.964\n",
      "Model:                            OLS   Adj. R-squared:                  0.961\n",
      "Method:                 Least Squares   F-statistic:                     30.55\n",
      "Date:                Fri, 03 May 2024   Prob (F-statistic):           6.83e-12\n",
      "Time:                        19:16:14   Log-Likelihood:                 412.62\n",
      "No. Observations:                 476   AIC:                            -751.2\n",
      "Df Residuals:                     439   BIC:                            -597.1\n",
      "Df Model:                          36                                         \n",
      "Covariance Type:              cluster                                         \n",
      "=======================================================================================\n",
      "                          coef    std err          z      P>|z|      [0.025      0.975]\n",
      "---------------------------------------------------------------------------------------\n",
      "const                   2.5682      0.828      3.102      0.002       0.945       4.191\n",
      "ltlan                   0.6370      0.173      3.677      0.000       0.298       0.977\n",
      "ltwlab                  0.1388      0.064      2.157      0.031       0.013       0.265\n",
      "ltpow                   0.0577      0.078      0.741      0.458      -0.095       0.210\n",
      "ltfer                   0.1826      0.045      4.066      0.000       0.095       0.271\n",
      "hrs                     0.2134      0.040      5.296      0.000       0.134       0.292\n",
      "mipric1                 0.0544      0.061      0.894      0.371      -0.065       0.174\n",
      "giprice                -0.0151      0.025     -0.598      0.550      -0.065       0.035\n",
      "mci                     0.1944      0.079      2.448      0.014       0.039       0.350\n",
      "ngca                    0.7562      0.394      1.921      0.055      -0.015       1.528\n",
      "entity_beijing         -0.1816      0.125     -1.456      0.145      -0.426       0.063\n",
      "entity_fujian           0.0517      0.050      1.029      0.303      -0.047       0.150\n",
      "entity_gansu           -0.8166      0.138     -5.914      0.000      -1.087      -0.546\n",
      "entity_guangdong       -0.0105      0.056     -0.188      0.851      -0.120       0.099\n",
      "entity_guangxi         -0.2305      0.057     -4.037      0.000      -0.342      -0.119\n",
      "entity_guizhou         -0.2351      0.062     -3.820      0.000      -0.356      -0.114\n",
      "entity_hebei           -0.2924      0.100     -2.932      0.003      -0.488      -0.097\n",
      "entity_heilongjiang    -0.1410      0.289     -0.488      0.626      -0.708       0.426\n",
      "entity_henan           -0.0905      0.044     -2.076      0.038      -0.176      -0.005\n",
      "entity_hubei            0.1119      0.034      3.285      0.001       0.045       0.179\n",
      "entity_hunan           -0.0374      0.061     -0.615      0.538      -0.156       0.082\n",
      "entity_jiangsu          0.1151      0.034      3.365      0.001       0.048       0.182\n",
      "entity_jiangxi         -0.1353      0.058     -2.333      0.020      -0.249      -0.022\n",
      "entity_jilin           -0.2220      0.225     -0.985      0.325      -0.664       0.220\n",
      "entity_liaoning        -0.2790      0.173     -1.616      0.106      -0.617       0.059\n",
      "entity_neimong         -0.9288      0.256     -3.626      0.000      -1.431      -0.427\n",
      "entity_ningxia         -0.8814      0.198     -4.461      0.000      -1.269      -0.494\n",
      "entity_qinghai         -0.7062      0.152     -4.641      0.000      -1.005      -0.408\n",
      "entity_shaanxi         -0.3342      0.093     -3.609      0.000      -0.516      -0.153\n",
      "entity_shangdong       -0.0049      0.058     -0.085      0.933      -0.119       0.109\n",
      "entity_shanghai         0.1139      0.065      1.756      0.079      -0.013       0.241\n",
      "entity_shanxi          -0.5312      0.151     -3.507      0.000      -0.828      -0.234\n",
      "entity_sichuan          0.0252      0.032      0.785      0.433      -0.038       0.088\n",
      "entity_tianjin         -0.3048      0.119     -2.561      0.010      -0.538      -0.072\n",
      "entity_xinjiang        -0.4007      0.240     -1.671      0.095      -0.871       0.069\n",
      "entity_yunnan          -0.2775      0.063     -4.385      0.000      -0.401      -0.153\n",
      "entity_zhejiang         0.1764      0.082      2.146      0.032       0.015       0.338\n",
      "==============================================================================\n",
      "Omnibus:                      116.230   Durbin-Watson:                   1.496\n",
      "Prob(Omnibus):                  0.000   Jarque-Bera (JB):              782.911\n",
      "Skew:                          -0.868   Prob(JB):                    9.84e-171\n",
      "Kurtosis:                       9.038   Cond. No.                         763.\n",
      "==============================================================================\n",
      "\n",
      "Notes:\n",
      "[1] Standard Errors are robust to cluster correlation (cluster)\n"
     ]
    },
    {
     "name": "stderr",
     "output_type": "stream",
     "text": [
      "C:\\Users\\NINGMEI\\AppData\\Local\\Temp\\ipykernel_3276\\1426077065.py:7: SettingWithCopyWarning: \n",
      "A value is trying to be set on a copy of a slice from a DataFrame.\n",
      "Try using .loc[row_indexer,col_indexer] = value instead\n",
      "\n",
      "See the caveats in the documentation: https://pandas.pydata.org/pandas-docs/stable/user_guide/indexing.html#returning-a-view-versus-a-copy\n",
      "  l.loc[:,var] = ( l['prov']== var[7:] ).astype(int)\n",
      "e:\\Eco-stats\\eco-stats\\.venv\\lib\\site-packages\\statsmodels\\base\\model.py:1894: ValueWarning: covariance of constraints does not have full rank. The number of constraints is 36, but rank is 9\n",
      "  warnings.warn('covariance of constraints does not have full '\n"
     ]
    }
   ],
   "source": [
    "l = lin.data\n",
    "entity_ids = l['prov'].unique()\n",
    "entity_vars = [f'entity_{entity_id}' for entity_id in entity_ids]\n",
    "\n",
    "### -----------------------------------------------------------\n",
    "for var in entity_vars:\n",
    "    l.loc[:,var] = ( l['prov']== var[7:] ).astype(int)\n",
    "\n",
    "l.pop(item=entity_vars[0])\n",
    "entity_vars.pop(0)\n",
    "####----------------------------------------------------------                                                                       \n",
    "\n",
    "# 使用get_dummies函数 效果一样\n",
    "# li = pd.get_dummies(l, columns=['province'],drop_first=True, \n",
    "#     prefix='entity', dtype=int,) \n",
    "\n",
    "exog_vars = ['ltlan', 'ltwlab', 'ltpow', \n",
    "                  'ltfer','hrs','mipric1',\n",
    "                  'giprice','mci','ngca']+entity_vars\n",
    "\n",
    "l = l.dropna()\n",
    "exog = l[exog_vars]\n",
    "dep = l['ltvfo']\n",
    "exog = sm.add_constant(exog)\n",
    "mod = sm.OLS(dep, exog)\n",
    "res = mod.fit(cov_type='cluster', \n",
    "              cov_kwds={'groups': l['prov']})\n",
    "print(res.summary())"
   ]
  },
  {
   "cell_type": "markdown",
   "metadata": {},
   "source": [
    "#### （3）一阶差分法\n",
    "\n",
    "不常用的方法\n",
    "- 在教材中使用的xtserial命令损失了56个样本，2个时间周期的变量\n",
    "- 而在python命令下，仅损失了1个时间周期的变量，效果应该更好。"
   ]
  },
  {
   "cell_type": "code",
   "execution_count": 10,
   "metadata": {},
   "outputs": [
    {
     "name": "stdout",
     "output_type": "stream",
     "text": [
      "                     FirstDifferenceOLS Estimation Summary                      \n",
      "================================================================================\n",
      "Dep. Variable:                  ltvfo   R-squared:                        0.5692\n",
      "Estimator:         FirstDifferenceOLS   R-squared (Between):              0.9955\n",
      "No. Observations:                 448   R-squared (Within):               0.7931\n",
      "Date:                Fri, May 03 2024   R-squared (Overall):              0.9952\n",
      "Time:                        19:14:34   Log-likelihood                    350.78\n",
      "Cov. Estimator:                Robust                                           \n",
      "                                        F-statistic:                      64.438\n",
      "Entities:                          28   P-value                           0.0000\n",
      "Avg Obs:                       17.000   Distribution:                   F(9,439)\n",
      "Min Obs:                       17.000                                           \n",
      "Max Obs:                       17.000   F-statistic (robust):             191.12\n",
      "                                        P-value                           0.0000\n",
      "Time periods:                      17   Distribution:                   F(9,439)\n",
      "Avg Obs:                       28.000                                           \n",
      "Min Obs:                       28.000                                           \n",
      "Max Obs:                       28.000                                           \n",
      "                                                                                \n",
      "                             Parameter Estimates                              \n",
      "==============================================================================\n",
      "            Parameter  Std. Err.     T-stat    P-value    Lower CI    Upper CI\n",
      "------------------------------------------------------------------------------\n",
      "ltlan          1.0556     0.1007     10.486     0.0000      0.8577      1.2534\n",
      "ltwlab         0.1923     0.0733     2.6239     0.0090      0.0483      0.3364\n",
      "ltpow         -0.0715     0.0552    -1.2959     0.1957     -0.1800      0.0370\n",
      "ltfer          0.2904     0.0537     5.4114     0.0000      0.1849      0.3958\n",
      "hrs            0.1770     0.0341     5.1946     0.0000      0.1101      0.2440\n",
      "mipric1        0.0553     0.0496     1.1142     0.2658     -0.0423      0.1529\n",
      "giprice       -0.0117     0.0218    -0.5353     0.5927     -0.0545      0.0312\n",
      "mci            0.2338     0.1226     1.9072     0.0571     -0.0071      0.4747\n",
      "ngca          -0.1321     0.3720    -0.3551     0.7227     -0.8631      0.5989\n",
      "==============================================================================\n"
     ]
    }
   ],
   "source": [
    "mod = FirstDifferenceOLS(dependent=lin.dept_lm, exog=lin.exog_lm.drop(columns=['const']))\n",
    "fe_res = mod.fit(cov_type='robust', \n",
    "                 )\n",
    "print(fe_res)"
   ]
  },
  {
   "cell_type": "markdown",
   "metadata": {},
   "source": [
    "#### （4）双向固定效应\n",
    "\n",
    "##### a. 加入时间趋势项\n",
    "\n",
    "`'t'`为时间趋势项"
   ]
  },
  {
   "cell_type": "code",
   "execution_count": 11,
   "metadata": {},
   "outputs": [
    {
     "name": "stdout",
     "output_type": "stream",
     "text": [
      "                          PanelOLS Estimation Summary                           \n",
      "================================================================================\n",
      "Dep. Variable:                  ltvfo   R-squared:                        0.8749\n",
      "Estimator:                   PanelOLS   R-squared (Between):              0.5699\n",
      "No. Observations:                 476   R-squared (Within):               0.8749\n",
      "Date:                Fri, May 03 2024   R-squared (Overall):              0.6570\n",
      "Time:                        19:14:34   Log-likelihood                    413.14\n",
      "Cov. Estimator:             Clustered                                           \n",
      "                                        F-statistic:                      306.24\n",
      "Entities:                          28   P-value                           0.0000\n",
      "Avg Obs:                       17.000   Distribution:                  F(10,438)\n",
      "Min Obs:                       17.000                                           \n",
      "Max Obs:                       17.000   F-statistic (robust):             247.93\n",
      "                                        P-value                           0.0000\n",
      "Time periods:                      17   Distribution:                  F(10,438)\n",
      "Avg Obs:                       28.000                                           \n",
      "Min Obs:                       28.000                                           \n",
      "Max Obs:                       28.000                                           \n",
      "                                                                                \n",
      "                             Parameter Estimates                              \n",
      "==============================================================================\n",
      "            Parameter  Std. Err.     T-stat    P-value    Lower CI    Upper CI\n",
      "------------------------------------------------------------------------------\n",
      "const          2.3617     0.8263     2.8583     0.0045      0.7378      3.9857\n",
      "ltlan          0.6517     0.1844     3.5345     0.0005      0.2893      1.0141\n",
      "ltwlab         0.1432     0.0589     2.4298     0.0155      0.0274      0.2590\n",
      "ltpow          0.0366     0.0991     0.3696     0.7119     -0.1582      0.2314\n",
      "ltfer          0.1804     0.0429     4.2042     0.0000      0.0960      0.2647\n",
      "hrs            0.1916     0.0296     6.4828     0.0000      0.1335      0.2497\n",
      "mipric1        0.0199     0.0515     0.3859     0.6998     -0.0814      0.1211\n",
      "giprice       -0.0263     0.0227    -1.1578     0.2476     -0.0709      0.0183\n",
      "mci            0.2015     0.0788     2.5569     0.0109      0.0466      0.3563\n",
      "ngca           0.6761     0.4217     1.6032     0.1096     -0.1528      1.5050\n",
      "t              0.0063     0.0106     0.5922     0.5540     -0.0146      0.0272\n",
      "==============================================================================\n",
      "\n",
      "F-test for Poolability: 42.333\n",
      "P-value: 0.0000\n",
      "Distribution: F(27,438)\n",
      "\n",
      "Included effects: Entity\n"
     ]
    }
   ],
   "source": [
    "panel_lin = lin.data_lm\n",
    "\n",
    "exog = panel_lin[[\n",
    "    'ltlan', 'ltwlab', 'ltpow','ltfer','hrs','mipric1','giprice','mci','ngca','t' \n",
    "    ]] # 增加了时间趋势变量't'\n",
    "exog = sm.add_constant(exog)\n",
    "\n",
    "mod = PanelOLS(dependent=lin.dept_lm, exog=exog, entity_effects=True)\n",
    "fe_res = mod.fit(cov_type='clustered', \n",
    "                 cluster_entity=True,  \n",
    "                 group_debias=True\n",
    "                 )\n",
    "print(fe_res)"
   ]
  },
  {
   "cell_type": "markdown",
   "metadata": {},
   "source": [
    "##### b. 加入时间虚拟变量"
   ]
  },
  {
   "cell_type": "code",
   "execution_count": 6,
   "metadata": {},
   "outputs": [
    {
     "name": "stdout",
     "output_type": "stream",
     "text": [
      "                          PanelOLS Estimation Summary                           \n",
      "================================================================================\n",
      "Dep. Variable:                  ltvfo   R-squared:                        0.8932\n",
      "Estimator:                   PanelOLS   R-squared (Between):              0.5974\n",
      "No. Observations:                 476   R-squared (Within):               0.8932\n",
      "Date:                Fri, May 03 2024   R-squared (Overall):              0.6819\n",
      "Time:                        21:18:15   Log-likelihood                    450.91\n",
      "Cov. Estimator:             Clustered                                           \n",
      "                                        F-statistic:                      154.59\n",
      "Entities:                          28   P-value                           0.0000\n",
      "Avg Obs:                       17.000   Distribution:                  F(23,425)\n",
      "Min Obs:                       17.000                                           \n",
      "Max Obs:                       17.000   F-statistic (robust):             949.82\n",
      "                                        P-value                           0.0000\n",
      "Time periods:                      17   Distribution:                  F(23,425)\n",
      "Avg Obs:                       28.000                                           \n",
      "Min Obs:                       28.000                                           \n",
      "Max Obs:                       28.000                                           \n",
      "                                                                                \n",
      "                             Parameter Estimates                              \n",
      "==============================================================================\n",
      "            Parameter  Std. Err.     T-stat    P-value    Lower CI    Upper CI\n",
      "------------------------------------------------------------------------------\n",
      "const          2.6513     0.7739     3.4259     0.0007      1.1301      4.1724\n",
      "ltlan          0.5834     0.1746     3.3414     0.0009      0.2402      0.9265\n",
      "ltwlab         0.1515     0.0585     2.5891     0.0100      0.0365      0.2665\n",
      "ltpow          0.0971     0.0909     1.0682     0.2860     -0.0816      0.2758\n",
      "ltfer          0.1693     0.0438     3.8652     0.0001      0.0832      0.2554\n",
      "hrs            0.1504     0.0588     2.5592     0.0108      0.0349      0.2659\n",
      "mci            0.1978     0.0811     2.4407     0.0151      0.0385      0.3572\n",
      "ngca           0.7784     0.4016     1.9381     0.0533     -0.0110      1.5678\n",
      "year_d.71     -0.0240     0.0234    -1.0289     0.3041     -0.0700      0.0219\n",
      "year_d.72     -0.1324     0.0405    -3.2696     0.0012     -0.2119     -0.0528\n",
      "year_d.73     -0.0377     0.0358    -1.0544     0.2923     -0.1081      0.0326\n",
      "year_d.74      0.0059     0.0501     0.1169     0.9070     -0.0926      0.1043\n",
      "year_d.75      0.0097     0.0567     0.1706     0.8646     -0.1018      0.1211\n",
      "year_d.76     -0.0476     0.0614    -0.7757     0.4384     -0.1684      0.0731\n",
      "year_d.77     -0.0869     0.0681    -1.2773     0.2022     -0.2207      0.0468\n",
      "year_d.78     -0.0325     0.0766    -0.4243     0.6716     -0.1832      0.1181\n",
      "year_d.79     -0.0076     0.0833    -0.0916     0.9271     -0.1715      0.1562\n",
      "year_d.81     -0.0935     0.1094    -0.8548     0.3932     -0.3084      0.1215\n",
      "year_d.82     -0.0448     0.1207    -0.3709     0.7109     -0.2821      0.1925\n",
      "year_d.83     -0.0309     0.1377    -0.2247     0.8223     -0.3016      0.2398\n",
      "year_d.84      0.0443     0.1429     0.3097     0.7569     -0.2366      0.3251\n",
      "year_d.85     -0.0033     0.1561    -0.0214     0.9830     -0.3102      0.3035\n",
      "year_d.86      0.0048     0.1580     0.0306     0.9756     -0.3057      0.3154\n",
      "year_d.87      0.0386     0.1640     0.2357     0.8138     -0.2836      0.3609\n",
      "==============================================================================\n",
      "\n",
      "F-test for Poolability: 46.557\n",
      "P-value: 0.0000\n",
      "Distribution: F(27,425)\n",
      "\n",
      "Included effects: Entity\n"
     ]
    }
   ],
   "source": [
    "mod = PanelOLS(\n",
    "    dependent=lin.dept_lm, \n",
    "    exog= lin.exog_lm_dv_t.drop(['mipric1','giprice'], axis=1), \n",
    "    entity_effects=True\n",
    "    )\n",
    "res= mod.fit(\n",
    "    cov_type='clustered', \n",
    "    cluster_entity=True,\n",
    "    group_debias=True\n",
    "    )\n",
    "print(res)"
   ]
  },
  {
   "cell_type": "code",
   "execution_count": 13,
   "metadata": {},
   "outputs": [
    {
     "name": "stdout",
     "output_type": "stream",
     "text": [
      "                          PanelOLS Estimation Summary                           \n",
      "================================================================================\n",
      "Dep. Variable:                  ltvfo   R-squared:                        0.6751\n",
      "Estimator:                   PanelOLS   R-squared (Between):              0.5974\n",
      "No. Observations:                 476   R-squared (Within):               0.8686\n",
      "Date:                Fri, May 03 2024   R-squared (Overall):              0.6749\n",
      "Time:                        19:14:34   Log-likelihood                    450.91\n",
      "Cov. Estimator:             Clustered                                           \n",
      "                                        F-statistic:                      126.18\n",
      "Entities:                          28   P-value                           0.0000\n",
      "Avg Obs:                       17.000   Distribution:                   F(7,425)\n",
      "Min Obs:                       17.000                                           \n",
      "Max Obs:                       17.000   F-statistic (robust):             215.85\n",
      "                                        P-value                           0.0000\n",
      "Time periods:                      17   Distribution:                   F(7,425)\n",
      "Avg Obs:                       28.000                                           \n",
      "Min Obs:                       28.000                                           \n",
      "Max Obs:                       28.000                                           \n",
      "                                                                                \n",
      "                             Parameter Estimates                              \n",
      "==============================================================================\n",
      "            Parameter  Std. Err.     T-stat    P-value    Lower CI    Upper CI\n",
      "------------------------------------------------------------------------------\n",
      "const          2.6255     0.7536     3.4841     0.0005      1.1443      4.1067\n",
      "ltlan          0.5834     0.1800     3.2401     0.0013      0.2295      0.9372\n",
      "ltwlab         0.1515     0.0603     2.5106     0.0124      0.0329      0.2701\n",
      "ltpow          0.0971     0.0938     1.0358     0.3009     -0.0872      0.2814\n",
      "ltfer          0.1693     0.0452     3.7480     0.0002      0.0805      0.2581\n",
      "hrs            0.1504     0.0606     2.4816     0.0135      0.0313      0.2695\n",
      "mci            0.1978     0.0836     2.3666     0.0184      0.0335      0.3621\n",
      "ngca           0.7784     0.4142     1.8793     0.0609     -0.0357      1.5925\n",
      "==============================================================================\n",
      "\n",
      "F-test for Poolability: 33.150\n",
      "P-value: 0.0000\n",
      "Distribution: F(43,425)\n",
      "\n",
      "Included effects: Entity, Time\n"
     ]
    },
    {
     "name": "stderr",
     "output_type": "stream",
     "text": [
      "C:\\Users\\NINGMEI\\AppData\\Local\\Temp\\ipykernel_3276\\4206496709.py:2: AbsorbingEffectWarning: \n",
      "Variables have been fully absorbed and have removed from the regression:\n",
      "\n",
      "mipric1, giprice\n",
      "\n",
      "  fe_res = mod.fit(use_lsdv=True,\n"
     ]
    }
   ],
   "source": [
    "mod = PanelOLS(dependent=lin.dept_lm, exog= lin.exog_lm, entity_effects=True, time_effects=True, drop_absorbed=True)\n",
    "fe_res = mod.fit(use_lsdv=True,\n",
    "                 cov_type='clustered', \n",
    "                 cluster_entity=True,\n",
    "                 group_debias=True\n",
    "                 )\n",
    "print(fe_res)"
   ]
  },
  {
   "cell_type": "markdown",
   "metadata": {},
   "source": [
    "### 4.随机效应"
   ]
  },
  {
   "cell_type": "code",
   "execution_count": 51,
   "metadata": {},
   "outputs": [
    {
     "name": "stdout",
     "output_type": "stream",
     "text": [
      "                        RandomEffects Estimation Summary                        \n",
      "================================================================================\n",
      "Dep. Variable:                  ltvfo   R-squared:                        0.8643\n",
      "Estimator:              RandomEffects   R-squared (Between):              0.8021\n",
      "No. Observations:                 476   R-squared (Within):               0.8700\n",
      "Date:                Fri, May 03 2024   R-squared (Overall):              0.8215\n",
      "Time:                        20:33:49   Log-likelihood                    373.36\n",
      "Cov. Estimator:            Unadjusted                                           \n",
      "                                        F-statistic:                      425.96\n",
      "Entities:                          28   P-value                           0.0000\n",
      "Avg Obs:                       17.000   Distribution:                   F(7,468)\n",
      "Min Obs:                       17.000                                           \n",
      "Max Obs:                       17.000   F-statistic (robust):             425.96\n",
      "                                        P-value                           0.0000\n",
      "Time periods:                      17   Distribution:                   F(7,468)\n",
      "Avg Obs:                       28.000                                           \n",
      "Min Obs:                       28.000                                           \n",
      "Max Obs:                       28.000                                           \n",
      "                                                                                \n",
      "                             Parameter Estimates                              \n",
      "==============================================================================\n",
      "            Parameter  Std. Err.     T-stat    P-value    Lower CI    Upper CI\n",
      "------------------------------------------------------------------------------\n",
      "const          2.3879     0.2895     8.2475     0.0000      1.8189      2.9568\n",
      "ltlan          0.5656     0.0478     11.827     0.0000      0.4716      0.6596\n",
      "ltwlab         0.1442     0.0233     6.1776     0.0000      0.0983      0.1900\n",
      "ltpow          0.0605     0.0253     2.3912     0.0172      0.0108      0.1102\n",
      "ltfer          0.1883     0.0208     9.0370     0.0000      0.1473      0.2292\n",
      "hrs            0.2186     0.0217     10.077     0.0000      0.1760      0.2612\n",
      "mci            0.4702     0.0647     7.2701     0.0000      0.3431      0.5973\n",
      "ngca           0.6745     0.2122     3.1793     0.0016      0.2576      1.0914\n",
      "==============================================================================\n"
     ]
    }
   ],
   "source": [
    "mod = RandomEffects(dependent=lin.dept_lm, exog= lin.exog_lm.drop(['mipric1','giprice'], axis=1))\n",
    "re_res = mod.fit(\n",
    "          #   cov_type='clustered', \n",
    "          #   cluster_entity=True,\n",
    "          #   group_debias=True\n",
    "                 )\n",
    "print(re_res)"
   ]
  },
  {
   "cell_type": "markdown",
   "metadata": {},
   "source": [
    "### 5.豪斯曼检验"
   ]
  },
  {
   "cell_type": "code",
   "execution_count": 56,
   "metadata": {},
   "outputs": [
    {
     "name": "stdout",
     "output_type": "stream",
     "text": [
      "              FE        RE      dif.  SE(dif.)\n",
      "const   2.310114  2.387878 -0.077764  0.178212\n",
      "ltlan   0.639966  0.565591  0.074374  0.043153\n",
      "ltwlab  0.123993  0.144184 -0.020192  0.009747\n",
      "ltpow   0.077160  0.060477  0.016683  0.001574\n",
      "ltfer   0.176277  0.188274 -0.011997  0.004112\n",
      "hrs     0.207582  0.218610 -0.011028       NaN\n",
      "mci     0.258036  0.470237 -0.212201  0.052192\n",
      "ngca    0.772279  0.674517  0.097762  0.046883\n",
      "=================================================\n",
      "Chi-squared: 48.67790870308027\n",
      "degrees of freedom: 8\n",
      "p-value:0.0000\n",
      "=================================================\n"
     ]
    },
    {
     "name": "stderr",
     "output_type": "stream",
     "text": [
      "C:\\Users\\NINGMEI\\AppData\\Local\\Temp\\ipykernel_3276\\4236954821.py:15: RuntimeWarning: invalid value encountered in sqrt\n",
      "  'SE(dif.)':np.sqrt(np.diag(v_diff))\n"
     ]
    }
   ],
   "source": [
    "import numpy as np\n",
    "import scipy.stats as stats\n",
    "\n",
    "mod = PanelOLS(dependent=lin.dept_lm, exog=lin.exog_lm.drop(['mipric1','giprice'], axis=1), entity_effects=True)\n",
    "fe_res = mod.fit()\n",
    "\n",
    "b_diff = fe_res.params - re_res.params\n",
    "v_diff = fe_res.cov - re_res.cov\n",
    "\n",
    "df = len(fe_res.params)\n",
    "\n",
    "table = pd.DataFrame({'FE': fe_res.params, \n",
    "                      'RE':re_res.params,\n",
    "                      'dif.':b_diff, \n",
    "                      'SE(dif.)':np.sqrt(np.diag(v_diff))\n",
    "                      }, index=fe_res.params.index)\n",
    "chi2 =  np.dot(b_diff.T,np.linalg.inv(v_diff).dot(b_diff))\n",
    "p = 1- stats.chi2.cdf(chi2, df)\n",
    "\n",
    "print(table)\n",
    "print('=================================================')\n",
    "print('Chi-squared:', chi2)\n",
    "print('degrees of freedom:', df)\n",
    "print(f'p-value:{p:.4f}') \n",
    "print('=================================================')\n"
   ]
  },
  {
   "cell_type": "markdown",
   "metadata": {},
   "source": [
    "### 6.组间统计量"
   ]
  },
  {
   "cell_type": "code",
   "execution_count": 34,
   "metadata": {},
   "outputs": [
    {
     "name": "stdout",
     "output_type": "stream",
     "text": [
      "                         BetweenOLS Estimation Summary                          \n",
      "================================================================================\n",
      "Dep. Variable:                  ltvfo   R-squared:                        0.9362\n",
      "Estimator:                 BetweenOLS   R-squared (Between):              0.9362\n",
      "No. Observations:                  28   R-squared (Within):              -44.291\n",
      "Date:                Fri, May 03 2024   R-squared (Overall):             -11.983\n",
      "Time:                        19:38:27   Log-likelihood                    20.901\n",
      "Cov. Estimator:            Unadjusted                                           \n",
      "                                        F-statistic:                      41.929\n",
      "Entities:                          28   P-value                           0.0000\n",
      "Avg Obs:                       17.000   Distribution:                    F(7,20)\n",
      "Min Obs:                       17.000                                           \n",
      "Max Obs:                       17.000   F-statistic (robust):             41.929\n",
      "                                        P-value                           0.0000\n",
      "Time periods:                      17   Distribution:                    F(7,20)\n",
      "Avg Obs:                       28.000                                           \n",
      "Min Obs:                       28.000                                           \n",
      "Max Obs:                       28.000                                           \n",
      "                                                                                \n",
      "                             Parameter Estimates                              \n",
      "==============================================================================\n",
      "            Parameter  Std. Err.     T-stat    P-value    Lower CI    Upper CI\n",
      "------------------------------------------------------------------------------\n",
      "const          2.4328     1.0060     2.4184     0.0253      0.3344      4.5313\n",
      "ltlan          0.7022     0.1177     5.9646     0.0000      0.4566      0.9477\n",
      "ltwlab         0.5021     0.0940     5.3411     0.0000      0.3060      0.6982\n",
      "ltpow         -0.1512     0.1189    -1.2714     0.2182     -0.3991      0.0968\n",
      "ltfer          0.1132     0.0977     1.1592     0.2600     -0.0905      0.3170\n",
      "hrs           -3.7574     1.2430    -3.0230     0.0067     -6.3502     -1.1646\n",
      "mci            0.5860     0.1839     3.1873     0.0046      0.2025      0.9696\n",
      "ngca           0.4444     0.6566     0.6768     0.5063     -0.9252      1.8140\n",
      "==============================================================================\n"
     ]
    }
   ],
   "source": [
    "mod = BetweenOLS(dependent=lin.dept_lm, exog= lin.exog_lm.drop(['mipric1','giprice'], axis=1))\n",
    "bt_res = mod.fit()\n",
    "print(bt_res)"
   ]
  },
  {
   "cell_type": "code",
   "execution_count": null,
   "metadata": {},
   "outputs": [],
   "source": []
  }
 ],
 "metadata": {
  "kernelspec": {
   "display_name": ".venv",
   "language": "python",
   "name": "python3"
  },
  "language_info": {
   "codemirror_mode": {
    "name": "ipython",
    "version": 3
   },
   "file_extension": ".py",
   "mimetype": "text/x-python",
   "name": "python",
   "nbconvert_exporter": "python",
   "pygments_lexer": "ipython3",
   "version": "3.10.8"
  }
 },
 "nbformat": 4,
 "nbformat_minor": 2
}
