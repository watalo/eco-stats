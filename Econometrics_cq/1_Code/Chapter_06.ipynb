{
 "cells": [
  {
   "cell_type": "markdown",
   "metadata": {},
   "source": [
    "# 第6章 大样本OLS\n",
    "\n",
    "## 6.4 蒙特卡洛模拟中心极限定理"
   ]
  },
  {
   "cell_type": "code",
   "execution_count": null,
   "metadata": {},
   "outputs": [],
   "source": [
    "import seaborn as sns\n",
    "import numpy as np\n",
    "import matplotlib.pyplot as plt\n",
    "from scipy.stats import norm\n",
    "from cmath import sqrt\n",
    "\n",
    "np.random.seed(0)\n",
    "\n",
    "# 生成10000个从均匀分布中抽样30次的样本均值\n",
    "x_mean = np.array([])\n",
    "\n",
    "def generate_x_i(obs):\n",
    "    x_i = np.random.uniform(0, 1, obs)\n",
    "    return x_i.mean()\n",
    "\n",
    "for i in range(10000):\n",
    "    x_mean = np.append(x_mean,generate_x_i(30))\n",
    "\n",
    "# 生成正态分布N(0.5，sqrt(1/360))的样本\n",
    "samples = norm.rvs(loc=0.5, scale=sqrt(1/360), size=10000)\n",
    "# 计算样本的均值和标准差\n",
    "sample_mean = np.mean(samples)\n",
    "sample_std = np.std(samples)\n",
    "x = np.linspace(0.3, 0.7, 1000)\n",
    "y = norm.pdf(x, sample_mean, sample_std)\n",
    "\n",
    "# 绘制概率密度函数\n",
    "sns.set_theme(color_codes=True)\n",
    "sns.histplot(x_mean,kde=False,stat='density',alpha=0.5)\n",
    "plt.xlim(0.3,0.7)\n",
    "plt.plot(x, y)\n",
    "plt.show()"
   ]
  },
  {
   "cell_type": "markdown",
   "metadata": {},
   "source": [
    "## 6.10 大样本OLS和python命令及实例"
   ]
  },
  {
   "cell_type": "code",
   "execution_count": null,
   "metadata": {},
   "outputs": [],
   "source": [
    "\n",
    "import pandas as pd\n",
    "import statsmodels.api as sm\n",
    "import seaborn as sns\n",
    "import numpy as np\n",
    "\n",
    "nerlove = pd.read_stata('../2_Data/Data-2e/nerlove.dta')\n",
    "nerlove.head(), nerlove.describe()"
   ]
  },
  {
   "cell_type": "code",
   "execution_count": null,
   "metadata": {},
   "outputs": [],
   "source": [
    "# 先使用普通标准误差计算回归方程\n",
    "\n",
    "X = nerlove[['lnq','lnpl','lnpk','lnpf']]\n",
    "y = nerlove['lntc']\n",
    "X = sm.add_constant(X)\n",
    "model = sm.OLS(y,X)\n",
    "results = model.fit()\n",
    "print(results.summary())"
   ]
  },
  {
   "cell_type": "code",
   "execution_count": null,
   "metadata": {},
   "outputs": [],
   "source": [
    "# 对规模报酬递增进行F检验\n",
    "# import numpy as np\n",
    "\n",
    "R = np.zeros_like(results.params)\n",
    "R[1] = 1\n",
    "q = 1\n",
    "r_matrix = (R, q)\n",
    "\n",
    "F_test = results.f_test(r_matrix)\n",
    "print(F_test)\n"
   ]
  },
  {
   "cell_type": "code",
   "execution_count": null,
   "metadata": {},
   "outputs": [],
   "source": [
    "# 然后使用HC1方法计算回归方程的标准误差。\n",
    "# 使用get_robustcov_results方法计算稳健标准误\n",
    "robust_results0 = results.get_robustcov_results(cov_type='HC0')\n",
    "robust_results1 = results.get_robustcov_results(cov_type='HC1')\n",
    "robust_results2 = results.get_robustcov_results(cov_type='HC2')\n",
    "robust_results3 = results.get_robustcov_results(cov_type='HC3')\n",
    "\n",
    "# HC0使用的是white(1980)的方法\n",
    "# 经过将这4种不同计算方法的对比，显然HC1方法与教材中的数据一致，因此也可以推测出state中的稳健选项是HC1。\n",
    "\n",
    "print(robust_results0.summary())"
   ]
  },
  {
   "cell_type": "code",
   "execution_count": null,
   "metadata": {},
   "outputs": [],
   "source": [
    "print(robust_results1.summary())"
   ]
  },
  {
   "cell_type": "code",
   "execution_count": null,
   "metadata": {},
   "outputs": [],
   "source": [
    "print(robust_results2.summary())"
   ]
  },
  {
   "cell_type": "code",
   "execution_count": null,
   "metadata": {},
   "outputs": [],
   "source": [
    "print(robust_results3.summary())"
   ]
  },
  {
   "cell_type": "code",
   "execution_count": null,
   "metadata": {},
   "outputs": [],
   "source": [
    "# 构建原假设\n",
    "R = np.zeros_like(results.params)\n",
    "R[1] = 1\n",
    "q = 1\n",
    "r_matrix = (R, q)\n",
    "\n",
    "F_test = robust_results1.f_test(r_matrix)\n",
    "print(F_test)"
   ]
  },
  {
   "cell_type": "markdown",
   "metadata": {},
   "source": [
    "## 6.11 大样本理论的蒙特卡罗模拟\n",
    "\n",
    "DGP：\n",
    "\n",
    "$y = \\alpha + \\beta x + \\epsilon$\n",
    "\n",
    "$x \\sim \\chi^2(1)$\n",
    "\n",
    "$\\epsilon \\sim \\chi^2(10)-10$"
   ]
  },
  {
   "cell_type": "code",
   "execution_count": null,
   "metadata": {},
   "outputs": [],
   "source": [
    "from scipy.stats import chi2\n",
    "import pandas as pd\n",
    "import seaborn as sns\n",
    "\n",
    "# 模拟x序列的数\n",
    "def chi2_generator(df, size, c):\n",
    "    x = np.array([])\n",
    "    x = chi2.rvs(df=df, size=size)\n",
    "    x = x + c\n",
    "    return x\n",
    "\n",
    "def monte_carlo_test(size,times):\n",
    "    res=[]\n",
    "    for i in range(times):\n",
    "        x  = chi2_generator(df=1, size=size, c=0)\n",
    "        epsilon = chi2_generator(df=10, size=size, c=-10)\n",
    "        y = 1 + 2*x + epsilon\n",
    "        X = x\n",
    "        X = sm.add_constant(X)\n",
    "        model = sm.OLS(y,X)\n",
    "        results = model.fit()\n",
    "        res.append(results.params[1])\n",
    "    beta = pd.Series(res)    \n",
    "    return beta"
   ]
  },
  {
   "cell_type": "code",
   "execution_count": null,
   "metadata": {},
   "outputs": [],
   "source": [
    "# 样本容量为20时，模拟10000次，计算beta值\n",
    "beta1 = monte_carlo_test(20, 10000)\n",
    "print(beta1.describe())\n",
    "sns.histplot(beta1, bins=50, kde=True)"
   ]
  },
  {
   "cell_type": "code",
   "execution_count": null,
   "metadata": {},
   "outputs": [],
   "source": [
    "# 样本容量为100，重复试验10000次\n",
    "beta2 = monte_carlo_test(100, 10000)\n",
    "print(beta2.describe())\n",
    "sns.histplot(beta2, bins=50, kde=True)"
   ]
  },
  {
   "cell_type": "code",
   "execution_count": null,
   "metadata": {},
   "outputs": [],
   "source": [
    "# 样本容量为1000，模拟10000次\n",
    "beta3 = monte_carlo_test(1000, 10000)\n",
    "print(beta3.describe())\n",
    "sns.histplot(beta3, bins=50, kde=True)"
   ]
  },
  {
   "cell_type": "markdown",
   "metadata": {},
   "source": [
    "## 习题 6.5"
   ]
  },
  {
   "cell_type": "code",
   "execution_count": 8,
   "metadata": {},
   "outputs": [],
   "source": [
    "import pandas as pd\n",
    "import numpy as np\n",
    "import statsmodels.api as sm\n",
    "\n",
    "# 读取数据\n",
    "grilic = pd.read_stata('../2_Data/Data-2e/grilic.dta')\n",
    "grilic_south = grilic[grilic['rns']==1]\n",
    "grilic_north = grilic[grilic['rns']==0]\n",
    "\n",
    "\n",
    "def grilic_OLS(data_set, robust = False):\n",
    "    X = data_set[['s','expr','tenure','smsa']]\n",
    "    y = data_set['lnw']\n",
    "    X = sm.add_constant(X)\n",
    "    model = sm.OLS(y, X)\n",
    "    results = model.fit()\n",
    "    if robust:\n",
    "        robust_results = results.get_robustcov_results(cov_type='HC1')\n",
    "        return robust_results\n",
    "    else:\n",
    "        return results  "
   ]
  },
  {
   "cell_type": "code",
   "execution_count": 10,
   "metadata": {},
   "outputs": [
    {
     "name": "stdout",
     "output_type": "stream",
     "text": [
      "                            OLS Regression Results                            \n",
      "==============================================================================\n",
      "Dep. Variable:                    lnw   R-squared:                       0.345\n",
      "Model:                            OLS   Adj. R-squared:                  0.341\n",
      "Method:                 Least Squares   F-statistic:                     98.36\n",
      "Date:                Mon, 15 Apr 2024   Prob (F-statistic):           2.42e-67\n",
      "Time:                        19:56:10   Log-Likelihood:                -273.23\n",
      "No. Observations:                 758   AIC:                             556.5\n",
      "Df Residuals:                     753   BIC:                             579.6\n",
      "Df Model:                           4                                         \n",
      "Covariance Type:                  HC1                                         \n",
      "==============================================================================\n",
      "                 coef    std err          t      P>|t|      [0.025      0.975]\n",
      "------------------------------------------------------------------------------\n",
      "const          4.0591      0.086     47.142      0.000       3.890       4.228\n",
      "s              0.1035      0.006     16.632      0.000       0.091       0.116\n",
      "expr           0.0382      0.007      5.755      0.000       0.025       0.051\n",
      "tenure         0.0364      0.008      4.487      0.000       0.020       0.052\n",
      "smsa           0.1523      0.028      5.508      0.000       0.098       0.207\n",
      "==============================================================================\n",
      "Omnibus:                        4.083   Durbin-Watson:                   1.735\n",
      "Prob(Omnibus):                  0.130   Jarque-Bera (JB):                4.890\n",
      "Skew:                           0.002   Prob(JB):                       0.0867\n",
      "Kurtosis:                       3.393   Cond. No.                         92.6\n",
      "==============================================================================\n",
      "\n",
      "Notes:\n",
      "[1] Standard Errors are heteroscedasticity robust (HC1)\n"
     ]
    }
   ],
   "source": [
    "res_all = grilic_OLS(grilic,robust=True)\n",
    "print(res_all.summary())"
   ]
  },
  {
   "cell_type": "code",
   "execution_count": 11,
   "metadata": {},
   "outputs": [
    {
     "name": "stdout",
     "output_type": "stream",
     "text": [
      "                            OLS Regression Results                            \n",
      "==============================================================================\n",
      "Dep. Variable:                    lnw   R-squared:                       0.420\n",
      "Model:                            OLS   Adj. R-squared:                  0.409\n",
      "Method:                 Least Squares   F-statistic:                     36.04\n",
      "Date:                Mon, 15 Apr 2024   Prob (F-statistic):           1.21e-22\n",
      "Time:                        19:56:47   Log-Likelihood:                -72.353\n",
      "No. Observations:                 204   AIC:                             154.7\n",
      "Df Residuals:                     199   BIC:                             171.3\n",
      "Df Model:                           4                                         \n",
      "Covariance Type:                  HC1                                         \n",
      "==============================================================================\n",
      "                 coef    std err          t      P>|t|      [0.025      0.975]\n",
      "------------------------------------------------------------------------------\n",
      "const          3.8061      0.158     24.046      0.000       3.494       4.118\n",
      "s              0.1198      0.012      9.919      0.000       0.096       0.144\n",
      "expr           0.0452      0.014      3.159      0.002       0.017       0.073\n",
      "tenure         0.0093      0.018      0.521      0.603      -0.026       0.044\n",
      "smsa           0.1747      0.050      3.514      0.001       0.077       0.273\n",
      "==============================================================================\n",
      "Omnibus:                        5.039   Durbin-Watson:                   2.114\n",
      "Prob(Omnibus):                  0.080   Jarque-Bera (JB):                6.579\n",
      "Skew:                           0.115   Prob(JB):                       0.0373\n",
      "Kurtosis:                       3.849   Cond. No.                         88.6\n",
      "==============================================================================\n",
      "\n",
      "Notes:\n",
      "[1] Standard Errors are heteroscedasticity robust (HC1)\n"
     ]
    }
   ],
   "source": [
    "res_south = grilic_OLS(grilic_south,True)\n",
    "print(res_south.summary())"
   ]
  },
  {
   "cell_type": "code",
   "execution_count": 12,
   "metadata": {},
   "outputs": [
    {
     "name": "stdout",
     "output_type": "stream",
     "text": [
      "                            OLS Regression Results                            \n",
      "==============================================================================\n",
      "Dep. Variable:                    lnw   R-squared:                       0.313\n",
      "Model:                            OLS   Adj. R-squared:                  0.308\n",
      "Method:                 Least Squares   F-statistic:                     59.45\n",
      "Date:                Mon, 15 Apr 2024   Prob (F-statistic):           1.05e-41\n",
      "Time:                        19:57:11   Log-Likelihood:                -191.70\n",
      "No. Observations:                 554   AIC:                             393.4\n",
      "Df Residuals:                     549   BIC:                             415.0\n",
      "Df Model:                           4                                         \n",
      "Covariance Type:                  HC1                                         \n",
      "==============================================================================\n",
      "                 coef    std err          t      P>|t|      [0.025      0.975]\n",
      "------------------------------------------------------------------------------\n",
      "const          4.2140      0.103     40.736      0.000       4.011       4.417\n",
      "s              0.0945      0.007     12.976      0.000       0.080       0.109\n",
      "expr           0.0359      0.007      4.879      0.000       0.021       0.050\n",
      "tenure         0.0455      0.009      5.147      0.000       0.028       0.063\n",
      "smsa           0.1199      0.034      3.525      0.000       0.053       0.187\n",
      "==============================================================================\n",
      "Omnibus:                        3.080   Durbin-Watson:                   1.623\n",
      "Prob(Omnibus):                  0.214   Jarque-Bera (JB):                3.342\n",
      "Skew:                          -0.053   Prob(JB):                        0.188\n",
      "Kurtosis:                       3.366   Cond. No.                         95.7\n",
      "==============================================================================\n",
      "\n",
      "Notes:\n",
      "[1] Standard Errors are heteroscedasticity robust (HC1)\n"
     ]
    }
   ],
   "source": [
    "res_north = grilic_OLS(grilic_north,True)\n",
    "print(res_north.summary())"
   ]
  },
  {
   "cell_type": "markdown",
   "metadata": {},
   "source": [
    "## 习题 6.6"
   ]
  },
  {
   "cell_type": "code",
   "execution_count": 17,
   "metadata": {},
   "outputs": [],
   "source": [
    "hedonic = pd.read_stata('../2_Data/Data-2e/hprice2a.dta')\n",
    "hedonic.head()\n",
    "\n",
    "def hedonic_OLS(data_set, robust = False):\n",
    "    X = data_set[['lnox','ldist','rooms','stratio']]\n",
    "    y = data_set['lprice']\n",
    "    X = sm.add_constant(X)\n",
    "    model = sm.OLS(y, X)\n",
    "    results = model.fit()\n",
    "    if robust:\n",
    "        robust_results = results.get_robustcov_results(cov_type='HC1')\n",
    "        return robust_results\n",
    "    else:\n",
    "        return results  \n",
    "# hedonic.describe()\n"
   ]
  },
  {
   "cell_type": "code",
   "execution_count": 18,
   "metadata": {},
   "outputs": [
    {
     "name": "stdout",
     "output_type": "stream",
     "text": [
      "                            OLS Regression Results                            \n",
      "==============================================================================\n",
      "Dep. Variable:                 lprice   R-squared:                       0.584\n",
      "Model:                            OLS   Adj. R-squared:                  0.581\n",
      "Method:                 Least Squares   F-statistic:                     175.9\n",
      "Date:                Mon, 15 Apr 2024   Prob (F-statistic):           5.53e-94\n",
      "Time:                        20:08:07   Log-Likelihood:                -43.495\n",
      "No. Observations:                 506   AIC:                             96.99\n",
      "Df Residuals:                     501   BIC:                             118.1\n",
      "Df Model:                           4                                         \n",
      "Covariance Type:            nonrobust                                         \n",
      "==============================================================================\n",
      "                 coef    std err          t      P>|t|      [0.025      0.975]\n",
      "------------------------------------------------------------------------------\n",
      "const         11.0839      0.318     34.843      0.000      10.459      11.709\n",
      "lnox          -0.9535      0.117     -8.168      0.000      -1.183      -0.724\n",
      "ldist         -0.1343      0.043     -3.117      0.002      -0.219      -0.050\n",
      "rooms          0.2545      0.019     13.736      0.000       0.218       0.291\n",
      "stratio       -0.0525      0.006     -8.894      0.000      -0.064      -0.041\n",
      "==============================================================================\n",
      "Omnibus:                       61.317   Durbin-Watson:                   0.682\n",
      "Prob(Omnibus):                  0.000   Jarque-Bera (JB):              480.141\n",
      "Skew:                           0.051   Prob(JB):                    5.48e-105\n",
      "Kurtosis:                       7.771   Cond. No.                         560.\n",
      "==============================================================================\n",
      "\n",
      "Notes:\n",
      "[1] Standard Errors assume that the covariance matrix of the errors is correctly specified.\n"
     ]
    }
   ],
   "source": [
    "res_all = hedonic_OLS(hedonic)\n",
    "print(res_all.summary())"
   ]
  },
  {
   "cell_type": "code",
   "execution_count": 19,
   "metadata": {},
   "outputs": [
    {
     "name": "stdout",
     "output_type": "stream",
     "text": [
      "                            OLS Regression Results                            \n",
      "==============================================================================\n",
      "Dep. Variable:                 lprice   R-squared:                       0.584\n",
      "Model:                            OLS   Adj. R-squared:                  0.581\n",
      "Method:                 Least Squares   F-statistic:                     146.3\n",
      "Date:                Mon, 15 Apr 2024   Prob (F-statistic):           9.09e-83\n",
      "Time:                        20:10:25   Log-Likelihood:                -43.495\n",
      "No. Observations:                 506   AIC:                             96.99\n",
      "Df Residuals:                     501   BIC:                             118.1\n",
      "Df Model:                           4                                         \n",
      "Covariance Type:                  HC1                                         \n",
      "==============================================================================\n",
      "                 coef    std err          t      P>|t|      [0.025      0.975]\n",
      "------------------------------------------------------------------------------\n",
      "const         11.0839      0.377     29.377      0.000      10.343      11.825\n",
      "lnox          -0.9535      0.127     -7.520      0.000      -1.203      -0.704\n",
      "ldist         -0.1343      0.054     -2.510      0.012      -0.240      -0.029\n",
      "rooms          0.2545      0.025     10.296      0.000       0.206       0.303\n",
      "stratio       -0.0525      0.005    -11.382      0.000      -0.062      -0.043\n",
      "==============================================================================\n",
      "Omnibus:                       61.317   Durbin-Watson:                   0.682\n",
      "Prob(Omnibus):                  0.000   Jarque-Bera (JB):              480.141\n",
      "Skew:                           0.051   Prob(JB):                    5.48e-105\n",
      "Kurtosis:                       7.771   Cond. No.                         560.\n",
      "==============================================================================\n",
      "\n",
      "Notes:\n",
      "[1] Standard Errors are heteroscedasticity robust (HC1)\n"
     ]
    }
   ],
   "source": [
    "res_robust = hedonic_OLS(hedonic, robust=True)\n",
    "print(res_robust.summary())"
   ]
  },
  {
   "cell_type": "code",
   "execution_count": 21,
   "metadata": {},
   "outputs": [
    {
     "name": "stdout",
     "output_type": "stream",
     "text": [
      "                             Test for Constraints                             \n",
      "==============================================================================\n",
      "                 coef    std err          t      P>|t|      [0.025      0.975]\n",
      "------------------------------------------------------------------------------\n",
      "c0            -0.0819      0.054     -1.508      0.132      -0.189       0.025\n",
      "==============================================================================\n"
     ]
    }
   ],
   "source": [
    "# t-检验 b3 = b5\n",
    "R = np.zeros_like(res_robust.params)\n",
    "R[2]= 1\n",
    "R[4]= -1\n",
    "q = 0\n",
    "r_matrix = (R,q)\n",
    "res_robust_t = res_robust.t_test(r_matrix)\n",
    "print(res_robust_t)\n",
    "\n",
    "# 拒绝原假设"
   ]
  },
  {
   "cell_type": "code",
   "execution_count": 22,
   "metadata": {},
   "outputs": [
    {
     "name": "stdout",
     "output_type": "stream",
     "text": [
      "                             Test for Constraints                             \n",
      "==============================================================================\n",
      "                 coef    std err          t      P>|t|      [0.025      0.975]\n",
      "------------------------------------------------------------------------------\n",
      "c0             0.2545      0.025     -2.244      0.025       0.206       0.303\n",
      "==============================================================================\n"
     ]
    }
   ],
   "source": [
    "# t-检验 b4=0.31 \n",
    "R = np.zeros_like(res_robust.params)\n",
    "R[3] = 1\n",
    "q = 0.31\n",
    "r_matrix = (R,q)\n",
    "res_robust_t = res_robust.t_test(r_matrix)\n",
    "print(res_robust_t)\n"
   ]
  },
  {
   "cell_type": "code",
   "execution_count": 23,
   "metadata": {},
   "outputs": [
    {
     "name": "stdout",
     "output_type": "stream",
     "text": [
      "                             Test for Constraints                             \n",
      "==============================================================================\n",
      "                 coef    std err          t      P>|t|      [0.025      0.975]\n",
      "------------------------------------------------------------------------------\n",
      "c0             0.2545      0.025     -1.839      0.066       0.206       0.303\n",
      "==============================================================================\n"
     ]
    }
   ],
   "source": [
    "# t-检验  b4=0.3\n",
    "R = np.zeros_like(res_robust.params)\n",
    "R[3] = 1\n",
    "q = 0.3\n",
    "r_matrix = (R,q)\n",
    "res_robust_t = res_robust.t_test(r_matrix)\n",
    "print(res_robust_t)"
   ]
  }
 ],
 "metadata": {
  "kernelspec": {
   "display_name": ".venv",
   "language": "python",
   "name": "python3"
  },
  "language_info": {
   "codemirror_mode": {
    "name": "ipython",
    "version": 3
   },
   "file_extension": ".py",
   "mimetype": "text/x-python",
   "name": "python",
   "nbconvert_exporter": "python",
   "pygments_lexer": "ipython3",
   "version": "3.10.8"
  }
 },
 "nbformat": 4,
 "nbformat_minor": 2
}
