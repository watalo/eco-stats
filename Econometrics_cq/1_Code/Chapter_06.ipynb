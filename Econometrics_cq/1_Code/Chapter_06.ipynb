{
 "cells": [
  {
   "cell_type": "markdown",
   "metadata": {},
   "source": [
    "# 第6章 大样本OLS\n",
    "\n",
    "## 6.4 蒙特卡洛模拟中心极限定理"
   ]
  },
  {
   "cell_type": "code",
   "execution_count": 5,
   "metadata": {},
   "outputs": [
    {
     "data": {
      "image/png": "[encoded data removed]",
      "text/plain": [
       "<Figure size 640x480 with 1 Axes>"
      ]
     },
     "metadata": {},
     "output_type": "display_data"
    }
   ],
   "source": [
    "import seaborn as sns\n",
    "import numpy as np\n",
    "import matplotlib.pyplot as plt\n",
    "from scipy.stats import norm\n",
    "from cmath import sqrt\n",
    "\n",
    "np.random.seed(0)\n",
    "\n",
    "# 生成10000个从均匀分布中抽样30次的样本均值\n",
    "x_mean = np.array([])\n",
    "\n",
    "def generate_x_i(obs):\n",
    "    x_i = np.random.uniform(0, 1, obs)\n",
    "    return x_i.mean()\n",
    "\n",
    "for i in range(10000):\n",
    "    x_mean = np.append(x_mean,generate_x_i(30))\n",
    "\n",
    "# 生成正态分布N(0.5，sqrt(1/360))的样本\n",
    "samples = norm.rvs(loc=0.5, scale=sqrt(1/360), size=10000)\n",
    "# 计算样本的均值和标准差\n",
    "sample_mean = np.mean(samples)\n",
    "sample_std = np.std(samples)\n",
    "x = np.linspace(0.3, 0.7, 1000)\n",
    "y = norm.pdf(x, sample_mean, sample_std)\n",
    "\n",
    "# 绘制概率密度函数\n",
    "sns.set_theme(color_codes=True)\n",
    "sns.histplot(x_mean,kde=False,stat='density',alpha=0.5)\n",
    "plt.xlim(0.3,0.7)\n",
    "plt.plot(x, y)\n",
    "plt.show()"
   ]
  },
  {
   "cell_type": "markdown",
   "metadata": {},
   "source": [
    "## 6.10 大样本OLS和python命令及实例"
   ]
  },
  {
   "cell_type": "code",
   "execution_count": 2,
   "metadata": {},
   "outputs": [
    {
     "data": {
      "text/plain": [
       "(      tc  q   pl         pf   pk      lntc       lnq      lnpf      lnpk  \\\n",
       " 0  0.082  2  2.1  17.900000  183 -2.501036  0.693147  2.884801  5.209486   \n",
       " 1  0.661  3  2.1  35.099998  174 -0.414001  1.098612  3.558201  5.159055   \n",
       " 2  0.990  4  2.1  35.099998  171 -0.010050  1.386294  3.558201  5.141664   \n",
       " 3  0.315  4  1.8  32.200001  166 -1.155183  1.386294  3.471967  5.111988   \n",
       " 4  0.197  5  2.1  28.600000  233 -1.624552  1.609438  3.353407  5.451038   \n",
       " \n",
       "        lnpl  \n",
       " 0  0.741937  \n",
       " 1  0.741937  \n",
       " 2  0.741937  \n",
       " 3  0.587787  \n",
       " 4  0.741937  ,\n",
       "                tc             q          pl          pf          pk  \\\n",
       " count  145.000000    145.000000  145.000000  145.000000  145.000000   \n",
       " mean    12.976095   2133.082759    1.976552   26.176552  174.496552   \n",
       " std     19.794577   2931.942131    0.230040    7.876071   18.209477   \n",
       " min      0.082000      2.000000    1.500000   10.300000  138.000000   \n",
       " 25%      2.382000    279.000000    1.800000   21.299999  162.000000   \n",
       " 50%      6.754000   1109.000000    2.000000   26.900000  170.000000   \n",
       " 75%     14.132000   2507.000000    2.200000   32.200001  183.000000   \n",
       " max    139.421997  16719.000000    2.300000   42.799999  233.000000   \n",
       " \n",
       "              lntc         lnq        lnpf        lnpk        lnpl  \n",
       " count  145.000000  145.000000  145.000000  145.000000  145.000000  \n",
       " mean     1.724663    6.556652    3.208858    5.156777    0.674373  \n",
       " std      1.421723    1.912792    0.358900    0.100390    0.119752  \n",
       " min     -2.501036    0.693147    2.332144    4.927254    0.405465  \n",
       " 25%      0.867940    5.631212    3.058707    5.087596    0.587787  \n",
       " 50%      1.910135    7.011214    3.292126    5.135798    0.693147  \n",
       " 75%      2.648442    7.826842    3.471967    5.209486    0.788457  \n",
       " max      4.937505    9.724301    3.756538    5.451038    0.832909  )"
      ]
     },
     "execution_count": 2,
     "metadata": {},
     "output_type": "execute_result"
    }
   ],
   "source": [
    "\n",
    "import pandas as pd\n",
    "import statsmodels.api as sm\n",
    "import seaborn as sns\n",
    "\n",
    "nerlove = pd.read_stata('../2_Data/Data-2e/nerlove.dta')\n",
    "nerlove.head(), nerlove.describe()"
   ]
  },
  {
   "cell_type": "code",
   "execution_count": 13,
   "metadata": {},
   "outputs": [
    {
     "name": "stdout",
     "output_type": "stream",
     "text": [
      "                            OLS Regression Results                            \n",
      "==============================================================================\n",
      "Dep. Variable:                   lntc   R-squared:                       0.926\n",
      "Model:                            OLS   Adj. R-squared:                  0.924\n",
      "Method:                 Least Squares   F-statistic:                     437.9\n",
      "Date:                Sun, 14 Apr 2024   Prob (F-statistic):           4.67e-78\n",
      "Time:                        18:17:06   Log-Likelihood:                -67.509\n",
      "No. Observations:                 145   AIC:                             145.0\n",
      "Df Residuals:                     140   BIC:                             159.9\n",
      "Df Model:                           4                                         \n",
      "Covariance Type:            nonrobust                                         \n",
      "==============================================================================\n",
      "                 coef    std err          t      P>|t|      [0.025      0.975]\n",
      "------------------------------------------------------------------------------\n",
      "const         -3.5665      1.779     -2.004      0.047      -7.084      -0.049\n",
      "lnq            0.7209      0.017     41.352      0.000       0.686       0.755\n",
      "lnpl           0.4560      0.300      1.521      0.131      -0.137       1.049\n",
      "lnpk          -0.2151      0.340     -0.633      0.528      -0.887       0.457\n",
      "lnpf           0.4258      0.100      4.244      0.000       0.227       0.624\n",
      "==============================================================================\n",
      "Omnibus:                       50.626   Durbin-Watson:                   1.008\n",
      "Prob(Omnibus):                  0.000   Jarque-Bera (JB):              169.550\n",
      "Skew:                           1.290   Prob(JB):                     1.52e-37\n",
      "Kurtosis:                       7.627   Cond. No.                         508.\n",
      "==============================================================================\n",
      "\n",
      "Notes:\n",
      "[1] Standard Errors assume that the covariance matrix of the errors is correctly specified.\n"
     ]
    }
   ],
   "source": [
    "# 先使用普通标准误差计算回归方程\n",
    "\n",
    "X = nerlove[['lnq','lnpl','lnpk','lnpf']]\n",
    "y = nerlove['lntc']\n",
    "X = sm.add_constant(X)\n",
    "model = sm.OLS(y,X)\n",
    "results = model.fit()\n",
    "print(results.summary())"
   ]
  },
  {
   "cell_type": "code",
   "execution_count": 17,
   "metadata": {},
   "outputs": [
    {
     "name": "stdout",
     "output_type": "stream",
     "text": [
      "                            OLS Regression Results                            \n",
      "==============================================================================\n",
      "Dep. Variable:                   lntc   R-squared:                       0.926\n",
      "Model:                            OLS   Adj. R-squared:                  0.924\n",
      "Method:                 Least Squares   F-statistic:                     177.2\n",
      "Date:                Sun, 14 Apr 2024   Prob (F-statistic):           9.75e-54\n",
      "Time:                        18:29:42   Log-Likelihood:                -67.509\n",
      "No. Observations:                 145   AIC:                             145.0\n",
      "Df Residuals:                     140   BIC:                             159.9\n",
      "Df Model:                           4                                         \n",
      "Covariance Type:                  HC1                                         \n",
      "==============================================================================\n",
      "                 coef    std err          t      P>|t|      [0.025      0.975]\n",
      "------------------------------------------------------------------------------\n",
      "const         -3.5665      1.718     -2.076      0.040      -6.964      -0.169\n",
      "lnq            0.7209      0.033     22.156      0.000       0.657       0.785\n",
      "lnpl           0.4560      0.260      1.752      0.082      -0.059       0.971\n",
      "lnpk          -0.2151      0.323     -0.665      0.507      -0.854       0.424\n",
      "lnpf           0.4258      0.074      5.748      0.000       0.279       0.572\n",
      "==============================================================================\n",
      "Omnibus:                       50.626   Durbin-Watson:                   1.008\n",
      "Prob(Omnibus):                  0.000   Jarque-Bera (JB):              169.550\n",
      "Skew:                           1.290   Prob(JB):                     1.52e-37\n",
      "Kurtosis:                       7.627   Cond. No.                         508.\n",
      "==============================================================================\n",
      "\n",
      "Notes:\n",
      "[1] Standard Errors are heteroscedasticity robust (HC1)\n"
     ]
    }
   ],
   "source": [
    "# 然后使用HC0方法计算回归方程的标准误差。\n",
    "# 使用get_robustcov_results方法计算稳健标准误\n",
    "robust_results = results.get_robustcov_results(cov_type='HC0')\n",
    "\n",
    "# HC0使用的是white(1980)的方法，与教材中使用的稳健标准误计算公式一致。\n",
    "print(robust_results.summary())"
   ]
  },
  {
   "cell_type": "code",
   "execution_count": null,
   "metadata": {},
   "outputs": [],
   "source": []
  }
 ],
 "metadata": {
  "kernelspec": {
   "display_name": ".venv",
   "language": "python",
   "name": "python3"
  },
  "language_info": {
   "codemirror_mode": {
    "name": "ipython",
    "version": 3
   },
   "file_extension": ".py",
   "mimetype": "text/x-python",
   "name": "python",
   "nbconvert_exporter": "python",
   "pygments_lexer": "ipython3",
   "version": "3.10.8"
  }
 },
 "nbformat": 4,
 "nbformat_minor": 2
}
