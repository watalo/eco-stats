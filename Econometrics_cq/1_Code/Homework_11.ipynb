{
 "cells": [
  {
   "cell_type": "markdown",
   "metadata": {},
   "source": [
    "## 第11章 二值选择模型\n",
    "\n",
    "### 11.1 \n",
    "#### （1） p、q的似然函数\n",
    "\n",
    "设样本$Y \\equiv \\{ y_1,\\cdots,y_n \\}$,其中$y_i=1$的样本个数为a，$y_i=2$的样本个数为b，则似然函数为：$$L(p,q,Y) = \\prod_{i=1}^n f(i,Y)=p^a q^b (1-p-q)^{n-a-b}$$\n",
    "\n",
    "#### （2） 极大似然估计量\n",
    "取对数收求偏导，令偏导为0，得联立方程：\n",
    "$$\\left \\{ \\begin{array}{l} \n",
    "\\frac{a}{p}-\\frac{n-a-b}{1-p-q}=0 \\\\\n",
    "\\frac{b}{q}-\\frac{n-a-b}{1-p-q}=0 \n",
    "\\end{array} \\right.$$\n",
    "解得：\n",
    "$$p=\\frac{a}{n},q=\\frac{b}{n}$$\n",
    "\n"
   ]
  },
  {
   "cell_type": "markdown",
   "metadata": {},
   "source": []
  },
  {
   "cell_type": "code",
   "execution_count": 1,
   "metadata": {},
   "outputs": [
    {
     "name": "stdout",
     "output_type": "stream",
     "text": [
      "{p: a/n, q: b/n}\n"
     ]
    }
   ],
   "source": [
    "import sympy as sp\n",
    "\n",
    "# 定义变量\n",
    "p, q, a, b, n = sp.symbols('p q a b n')\n",
    "\n",
    "# 定义方程组\n",
    "eq1 = sp.Eq(a/p - (n-a-b)/(1-p-q), 0)\n",
    "eq2 = sp.Eq(b/q - (n-a-b)/(1-p-q), 0)\n",
    "\n",
    "# 求解方程组\n",
    "solution = sp.solve((eq1, eq2), (p, q))\n",
    "\n",
    "# 打印解\n",
    "print(solution)\n"
   ]
  },
  {
   "cell_type": "markdown",
   "metadata": {},
   "source": [
    "### 11.2\n",
    "\n",
    "#### (1)\n",
    "$\\epsilon$服从logistic分布 证明y服从Logit模型。\n",
    "证：\n",
    "$$\\begin{equation}\\begin{split}\n",
    "P(y=1|x)&=P(y^*>0|x)\\\\  \n",
    "&=P(x'\\beta+\\epsilon>0)\\\\ \n",
    "&=1-P(\\epsilon \\le-x'\\beta)\\\\\n",
    "&=1-\\Lambda(-x'\\beta)\\\\\n",
    "&=\\Lambda(x'\\beta) \n",
    "\\end{split}\\end{equation}$$\n",
    "\n",
    "#### (2) \n",
    "$\\epsilon$服从标准正态分布，$y$服从Probit模型。\n",
    "证：\n",
    "$$\\begin{equation}\\begin{split}\n",
    "P(y=1|x)&=P(y^*>0|x)\\\\  \n",
    "&=P(x'\\beta+\\epsilon>0)\\\\ \n",
    "&=1-P(\\epsilon \\le-x'\\beta)\\\\\n",
    "&=1-\\Phi(-x'\\beta)\\\\\n",
    "&=\\Phi(x'\\beta) \n",
    "\\end{split}\\end{equation}$$\n",
    "\n",
    "#### (3) \n",
    "$\\epsilon$服从正态分布,$\\sigma \\ne 0$，$y$服从Probit模型。\n",
    "$$\\begin{equation}\\begin{split}\n",
    "P(y=1|x)&=P(y^*>0|x)\\\\  \n",
    "&=P(x'\\beta+\\epsilon>0)\\\\ \n",
    "&=1-P(\\frac{\\epsilon}{\\sigma} \\le \\frac{-x'\\beta}{\\sigma})\\\\\n",
    "&=1-\\Phi(\\frac{-x'\\beta}{\\sigma})\\\\\n",
    "&=\\Phi(\\frac{x'\\beta}{\\sigma}) \n",
    "\\end{split}\\end{equation}$$\n",
    "\n",
    "### 11.3 验证是否奉行“妇女儿童优先政策”？\n",
    "- 关键是三等舱的妇女儿童存货率高于一等舱男子。"
   ]
  },
  {
   "cell_type": "code",
   "execution_count": 2,
   "metadata": {},
   "outputs": [
    {
     "name": "stdout",
     "output_type": "stream",
     "text": [
      "          count      mean       std  min  25%  50%  75%  max\n",
      "class1   2201.0  0.147660  0.354843  0.0  0.0  0.0  0.0  1.0\n",
      "class2   2201.0  0.129487  0.335814  0.0  0.0  0.0  0.0  1.0\n",
      "class3   2201.0  0.320763  0.466876  0.0  0.0  0.0  1.0  1.0\n",
      "class4   2201.0  0.402090  0.490431  0.0  0.0  0.0  1.0  1.0\n",
      "child    2201.0  0.049523  0.217006  0.0  0.0  0.0  0.0  1.0\n",
      "female   2201.0  0.213539  0.409898  0.0  0.0  0.0  0.0  1.0\n",
      "survive  2201.0  0.323035  0.467742  0.0  0.0  0.0  1.0  1.0\n"
     ]
    }
   ],
   "source": [
    "import pandas as pd\n",
    "from cq import describe_bcmodel\n",
    "import statsmodels.api as sm\n",
    "\n",
    "# 数据及数据还原\n",
    "ttnc = pd.read_stata('../2_Data/Data-2e/titanic.dta')\n",
    "des = describe_bcmodel(ttnc, frequency='freq')\n",
    "\n",
    "# Logit model回归\n",
    "X = des[['class1','class2','class3','child','female']]\n",
    "y = des['survive']\n",
    "X = sm.add_constant(X)\n",
    "model_logit = sm.Logit(y, X)\n",
    "result_logit = model_logit.fit(disp=0)"
   ]
  },
  {
   "cell_type": "code",
   "execution_count": 3,
   "metadata": {},
   "outputs": [
    {
     "name": "stderr",
     "output_type": "stream",
     "text": [
      "C:\\Users\\NINGMEI\\AppData\\Local\\Temp\\ipykernel_19288\\434274862.py:49: FutureWarning: The behavior of DataFrame concatenation with empty or all-NA entries is deprecated. In a future version, this will no longer exclude empty or all-NA columns when determining the result dtypes. To retain the old behavior, exclude the relevant entries before the concat operation.\n",
      "  df = pd.concat([df,\n"
     ]
    },
    {
     "data": {
      "text/html": [
       "<div>\n",
       "<style scoped>\n",
       "    .dataframe tbody tr th:only-of-type {\n",
       "        vertical-align: middle;\n",
       "    }\n",
       "\n",
       "    .dataframe tbody tr th {\n",
       "        vertical-align: top;\n",
       "    }\n",
       "\n",
       "    .dataframe thead th {\n",
       "        text-align: right;\n",
       "    }\n",
       "</style>\n",
       "<table border=\"1\" class=\"dataframe\">\n",
       "  <thead>\n",
       "    <tr style=\"text-align: right;\">\n",
       "      <th></th>\n",
       "      <th>类别</th>\n",
       "      <th>存活率</th>\n",
       "    </tr>\n",
       "  </thead>\n",
       "  <tbody>\n",
       "    <tr>\n",
       "      <th>0</th>\n",
       "      <td>一等舱儿童女性</td>\n",
       "      <td>0.957114</td>\n",
       "    </tr>\n",
       "    <tr>\n",
       "      <th>0</th>\n",
       "      <td>二等舱儿童女性</td>\n",
       "      <td>0.889661</td>\n",
       "    </tr>\n",
       "    <tr>\n",
       "      <th>0</th>\n",
       "      <td>一等舱成人女性</td>\n",
       "      <td>0.885323</td>\n",
       "    </tr>\n",
       "    <tr>\n",
       "      <th>0</th>\n",
       "      <td>三等舱儿童女性</td>\n",
       "      <td>0.790446</td>\n",
       "    </tr>\n",
       "    <tr>\n",
       "      <th>0</th>\n",
       "      <td>二等舱成人女性</td>\n",
       "      <td>0.736090</td>\n",
       "    </tr>\n",
       "    <tr>\n",
       "      <th>0</th>\n",
       "      <td>一等舱儿童男性</td>\n",
       "      <td>0.664925</td>\n",
       "    </tr>\n",
       "    <tr>\n",
       "      <th>0</th>\n",
       "      <td>三等舱成人女性</td>\n",
       "      <td>0.566129</td>\n",
       "    </tr>\n",
       "    <tr>\n",
       "      <th>0</th>\n",
       "      <td>二等舱儿童男性</td>\n",
       "      <td>0.417565</td>\n",
       "    </tr>\n",
       "    <tr>\n",
       "      <th>0</th>\n",
       "      <td>一等舱成人男性</td>\n",
       "      <td>0.407038</td>\n",
       "    </tr>\n",
       "    <tr>\n",
       "      <th>0</th>\n",
       "      <td>三等舱儿童男性</td>\n",
       "      <td>0.251159</td>\n",
       "    </tr>\n",
       "    <tr>\n",
       "      <th>0</th>\n",
       "      <td>二等舱成人男性</td>\n",
       "      <td>0.198719</td>\n",
       "    </tr>\n",
       "    <tr>\n",
       "      <th>0</th>\n",
       "      <td>三等舱成人男性</td>\n",
       "      <td>0.103959</td>\n",
       "    </tr>\n",
       "  </tbody>\n",
       "</table>\n",
       "</div>"
      ],
      "text/plain": [
       "        类别       存活率\n",
       "0  一等舱儿童女性  0.957114\n",
       "0  二等舱儿童女性  0.889661\n",
       "0  一等舱成人女性  0.885323\n",
       "0  三等舱儿童女性  0.790446\n",
       "0  二等舱成人女性  0.736090\n",
       "0  一等舱儿童男性  0.664925\n",
       "0  三等舱成人女性  0.566129\n",
       "0  二等舱儿童男性  0.417565\n",
       "0  一等舱成人男性  0.407038\n",
       "0  三等舱儿童男性  0.251159\n",
       "0  二等舱成人男性  0.198719\n",
       "0  三等舱成人男性  0.103959"
      ]
     },
     "execution_count": 3,
     "metadata": {},
     "output_type": "execute_result"
    }
   ],
   "source": [
    "import pandas as pd\n",
    "import numpy as np\n",
    "\n",
    "# 假设 result_logit 是已经定义好的逻辑回归模型\n",
    "\n",
    "def predict_survive(cls, child, female):\n",
    "    class_dict = {'const':1,\n",
    "                  'class1': 0, \n",
    "                  'class2': 0, \n",
    "                  'class3': 0,\n",
    "                  'child': child, \n",
    "                  'female': female}\n",
    "    # 舱位特征\n",
    "    classify = ''\n",
    "    if cls == 1:\n",
    "        class_dict['class1'] = 1\n",
    "        classify = '一等舱'\n",
    "    elif cls == 2:\n",
    "        class_dict['class2'] = 1\n",
    "        classify = '二等舱'\n",
    "    elif cls == 3:\n",
    "        class_dict['class3'] = 1\n",
    "        classify = '三等舱'\n",
    "    # 成人特征\n",
    "    if child == 1:\n",
    "        classify += '儿童'\n",
    "    else:\n",
    "        classify += '成人'\n",
    "    # 性别特征  \n",
    "    if female == 1:\n",
    "        classify += '女性'\n",
    "    else:\n",
    "        classify += '男性'\n",
    "\n",
    "    X_new = pd.DataFrame(class_dict, index=[classify],\n",
    "                        columns=result_logit.params.index.T)\n",
    "    return result_logit.predict(X_new)\n",
    "\n",
    "# 定义所有可能的组合\n",
    "class_list = [1,2,3]\n",
    "child_list = [0, 1]\n",
    "female_list = [0, 1]\n",
    "df = pd.DataFrame(columns=['类别', '存活率'])\n",
    "# 遍历所有组合并计算结果并打印\n",
    "for classify in class_list:\n",
    "    for child in child_list:\n",
    "        for female in female_list:\n",
    "            result = predict_survive(classify, child, female)\n",
    "            df = pd.concat([df, \n",
    "                            pd.DataFrame({'类别':result.index[0],\n",
    "                                          '存活率': result.values[0]}, \n",
    "                                         index=[0])])\n",
    "df.sort_values(by='存活率', inplace=True, ascending=False)\n",
    "df"
   ]
  },
  {
   "cell_type": "markdown",
   "metadata": {},
   "source": [
    "### 11.4 \n",
    "\n",
    "#### （1）OLS回归参照系"
   ]
  },
  {
   "cell_type": "code",
   "execution_count": 4,
   "metadata": {},
   "outputs": [
    {
     "name": "stdout",
     "output_type": "stream",
     "text": [
      "occ\n",
      "loanamt\n",
      "action\n",
      "msa\n",
      "suffolk\n",
      "appinc\n",
      "typur\n",
      "unit\n",
      "married\n",
      "dep\n",
      "emp\n",
      "yjob\n",
      "self\n",
      "atotinc\n",
      "cototinc\n",
      "hexp\n",
      "price\n",
      "other\n",
      "liq\n",
      "rep\n",
      "gdlin\n",
      "lines\n",
      "mortg\n",
      "cons\n",
      "pubrec\n",
      "hrat\n",
      "obrat\n",
      "fixadj\n",
      "term\n",
      "apr\n",
      "prop\n",
      "inss\n",
      "inson\n",
      "gift\n",
      "cosign\n",
      "unver\n",
      "review\n",
      "netw\n",
      "unem\n",
      "min30\n",
      "bd\n",
      "mi\n",
      "old\n",
      "vr\n",
      "sch\n",
      "black\n",
      "hispan\n",
      "male\n",
      "reject\n",
      "approve\n",
      "mortno\n",
      "mortperf\n",
      "mortlat1\n",
      "mortlat2\n",
      "chist\n",
      "multi\n",
      "loanprc\n",
      "thick\n",
      "white\n"
     ]
    }
   ],
   "source": [
    "loan = pd.read_stata('../2_Data/Data-2e/loanapp.dta')\n",
    "for i in loan.columns:\n",
    "    print(i)"
   ]
  },
  {
   "cell_type": "code",
   "execution_count": 5,
   "metadata": {},
   "outputs": [
    {
     "name": "stdout",
     "output_type": "stream",
     "text": [
      "                            OLS Regression Results                            \n",
      "==============================================================================\n",
      "Dep. Variable:                approve   R-squared:                       0.049\n",
      "Model:                            OLS   Adj. R-squared:                  0.048\n",
      "Method:                 Least Squares   F-statistic:                     102.2\n",
      "Date:                Mon, 29 Apr 2024   Prob (F-statistic):           1.81e-23\n",
      "Time:                        15:59:15   Log-Likelihood:                -555.54\n",
      "No. Observations:                1989   AIC:                             1115.\n",
      "Df Residuals:                    1987   BIC:                             1126.\n",
      "Df Model:                           1                                         \n",
      "Covariance Type:            nonrobust                                         \n",
      "==============================================================================\n",
      "                 coef    std err          t      P>|t|      [0.025      0.975]\n",
      "------------------------------------------------------------------------------\n",
      "const          0.7078      0.018     38.806      0.000       0.672       0.744\n",
      "white          0.2006      0.020     10.111      0.000       0.162       0.240\n",
      "==============================================================================\n",
      "Omnibus:                      801.085   Durbin-Watson:                   2.002\n",
      "Prob(Omnibus):                  0.000   Jarque-Bera (JB):             2394.523\n",
      "Skew:                          -2.161   Prob(JB):                         0.00\n",
      "Kurtosis:                       6.197   Cond. No.                         4.90\n",
      "==============================================================================\n",
      "\n",
      "Notes:\n",
      "[1] Standard Errors assume that the covariance matrix of the errors is correctly specified.\n"
     ]
    }
   ],
   "source": [
    "X = loan[['white']]\n",
    "y = loan['approve']\n",
    "X = sm.add_constant(X)\n",
    "model_ols = sm.OLS(y, X)\n",
    "results = model_ols.fit()\n",
    "print(results.summary())"
   ]
  },
  {
   "cell_type": "markdown",
   "metadata": {},
   "source": [
    "#### （2）使用probit回归进行对比"
   ]
  },
  {
   "cell_type": "code",
   "execution_count": 6,
   "metadata": {},
   "outputs": [
    {
     "name": "stdout",
     "output_type": "stream",
     "text": [
      "                          Probit Regression Results                           \n",
      "==============================================================================\n",
      "Dep. Variable:                approve   No. Observations:                 1989\n",
      "Model:                         Probit   Df Residuals:                     1987\n",
      "Method:                           MLE   Df Model:                            1\n",
      "Date:                Mon, 29 Apr 2024   Pseudo R-squ.:                 0.05331\n",
      "Time:                        15:59:15   Log-Likelihood:                -700.88\n",
      "converged:                       True   LL-Null:                       -740.35\n",
      "Covariance Type:            nonrobust   LLR p-value:                 6.408e-19\n",
      "==============================================================================\n",
      "                 coef    std err          z      P>|z|      [0.025      0.975]\n",
      "------------------------------------------------------------------------------\n",
      "const          0.5469      0.075      7.251      0.000       0.399       0.695\n",
      "white          0.7839      0.087      9.041      0.000       0.614       0.954\n",
      "==============================================================================\n"
     ]
    }
   ],
   "source": [
    "model_pbt = sm.Probit(y, X)\n",
    "results = model_pbt.fit(disp=0)\n",
    "print(results.summary())"
   ]
  },
  {
   "cell_type": "markdown",
   "metadata": {},
   "source": [
    "#### （3）是否存在歧视\n",
    "回归系数的意义，几率比，边际效应-->dydx"
   ]
  },
  {
   "cell_type": "code",
   "execution_count": 7,
   "metadata": {},
   "outputs": [
    {
     "name": "stdout",
     "output_type": "stream",
     "text": [
      "       Probit Marginal Effects       \n",
      "=====================================\n",
      "Dep. Variable:                approve\n",
      "Method:                          dydx\n",
      "At:                              mean\n",
      "==============================================================================\n",
      "                dy/dx    std err          z      P>|z|      [0.025      0.975]\n",
      "------------------------------------------------------------------------------\n",
      "white          0.1505      0.017      9.018      0.000       0.118       0.183\n",
      "==============================================================================\n"
     ]
    }
   ],
   "source": [
    "mfx = results.get_margeff(at='mean')\n",
    "print(mfx.summary())"
   ]
  },
  {
   "cell_type": "markdown",
   "metadata": {},
   "source": [
    "#### （4）加入其他控制变量"
   ]
  },
  {
   "cell_type": "code",
   "execution_count": 8,
   "metadata": {},
   "outputs": [
    {
     "name": "stdout",
     "output_type": "stream",
     "text": [
      "unit\n",
      "married\n",
      "dep\n",
      "rep\n",
      "min30\n",
      "male\n",
      "multi\n",
      "thick\n"
     ]
    }
   ],
   "source": [
    "loan = pd.read_stata('../2_Data/Data-2e/loanapp.dta')\n",
    "# 检查每列是否有缺失值\n",
    "cols_with_na = loan.isna().any()\n",
    "for i in cols_with_na.index:\n",
    "    if cols_with_na[i]:\n",
    "        print(i)\n",
    "# # 检查每行是否有缺失值\n",
    "# rows_with_na = loan.isna().any(axis=1)\n",
    "\n",
    "loan.dropna(inplace=True)\n"
   ]
  },
  {
   "cell_type": "code",
   "execution_count": 9,
   "metadata": {},
   "outputs": [
    {
     "name": "stdout",
     "output_type": "stream",
     "text": [
      "Optimization terminated successfully.\n",
      "         Current function value: 0.307841\n",
      "         Iterations 6\n",
      "const       2.015334\n",
      "white       0.577262\n",
      "hrat        0.004999\n",
      "obrat      -0.026475\n",
      "loanprc    -0.961855\n",
      "unem       -0.043071\n",
      "male       -0.004762\n",
      "married     0.292534\n",
      "dep        -0.031718\n",
      "sch        -0.016663\n",
      "cosign      0.117877\n",
      "chist       0.569915\n",
      "pubrec     -0.759131\n",
      "mortlat1   -0.191429\n",
      "mortlat2   -0.224636\n",
      "vr         -0.198915\n",
      "dtype: float64\n"
     ]
    },
    {
     "ename": "AttributeError",
     "evalue": "'DiscreteMargins' object has no attribute 'params'",
     "output_type": "error",
     "traceback": [
      "\u001b[1;31m---------------------------------------------------------------------------\u001b[0m",
      "\u001b[1;31mAttributeError\u001b[0m                            Traceback (most recent call last)",
      "Cell \u001b[1;32mIn[9], line 11\u001b[0m\n\u001b[0;32m      9\u001b[0m mfx \u001b[38;5;241m=\u001b[39m result_prbt\u001b[38;5;241m.\u001b[39mget_margeff()\n\u001b[0;32m     10\u001b[0m \u001b[38;5;28mprint\u001b[39m(result_prbt\u001b[38;5;241m.\u001b[39mparams)\n\u001b[1;32m---> 11\u001b[0m \u001b[38;5;28mprint\u001b[39m(\u001b[43mmfx\u001b[49m\u001b[38;5;241;43m.\u001b[39;49m\u001b[43mparams\u001b[49m)\n",
      "\u001b[1;31mAttributeError\u001b[0m: 'DiscreteMargins' object has no attribute 'params'"
     ]
    }
   ],
   "source": [
    "X = loan[['white','hrat','obrat','loanprc',\n",
    "          'unem','male','married','dep',\n",
    "          'sch','cosign','chist','pubrec',\n",
    "          'mortlat1','mortlat2','vr']]\n",
    "y = loan['approve']\n",
    "X = sm.add_constant(X)\n",
    "model_prbt = sm.Probit(y,X)\n",
    "result_prbt = model_prbt.fit()\n",
    "mfx = result_prbt.get_margeff()\n",
    "print(result_prbt.params)\n",
    "print(mfx.params)"
   ]
  },
  {
   "cell_type": "markdown",
   "metadata": {},
   "source": [
    "#### （5）使用logit模型回归\n",
    "\n",
    "参数显著性一致"
   ]
  },
  {
   "cell_type": "code",
   "execution_count": null,
   "metadata": {},
   "outputs": [
    {
     "name": "stdout",
     "output_type": "stream",
     "text": [
      "Optimization terminated successfully.\n",
      "         Current function value: 0.307763\n",
      "         Iterations 7\n",
      "                           Logit Regression Results                           \n",
      "==============================================================================\n",
      "Dep. Variable:                approve   No. Observations:                 1778\n",
      "Model:                          Logit   Df Residuals:                     1762\n",
      "Method:                           MLE   Df Model:                           15\n",
      "Date:                Mon, 29 Apr 2024   Pseudo R-squ.:                  0.1896\n",
      "Time:                        15:10:33   Log-Likelihood:                -547.20\n",
      "converged:                       True   LL-Null:                       -675.23\n",
      "Covariance Type:            nonrobust   LLR p-value:                 7.024e-46\n",
      "==============================================================================\n",
      "                 coef    std err          z      P>|z|      [0.025      0.975]\n",
      "------------------------------------------------------------------------------\n",
      "const          3.7243      0.607      6.134      0.000       2.534       4.914\n",
      "white          1.0400      0.177      5.861      0.000       0.692       1.388\n",
      "hrat           0.0085      0.013      0.636      0.525      -0.018       0.035\n",
      "obrat         -0.0510      0.012     -4.342      0.000      -0.074      -0.028\n",
      "loanprc       -1.8194      0.471     -3.863      0.000      -2.743      -0.896\n",
      "unem          -0.0782      0.034     -2.302      0.021      -0.145      -0.012\n",
      "male          -0.0105      0.211     -0.050      0.960      -0.424       0.404\n",
      "married        0.5521      0.184      2.993      0.003       0.191       0.914\n",
      "dep           -0.0579      0.078     -0.745      0.456      -0.210       0.095\n",
      "sch           -0.0194      0.188     -0.103      0.918      -0.388       0.349\n",
      "cosign         0.1879      0.480      0.391      0.696      -0.753       1.129\n",
      "chist          1.0400      0.180      5.772      0.000       0.687       1.393\n",
      "pubrec        -1.3139      0.225     -5.833      0.000      -1.755      -0.872\n",
      "mortlat1      -0.3027      0.492     -0.615      0.538      -1.267       0.661\n",
      "mortlat2      -0.4516      0.655     -0.690      0.490      -1.734       0.831\n",
      "vr            -0.3457      0.160     -2.155      0.031      -0.660      -0.031\n",
      "==============================================================================\n",
      "        Logit Marginal Effects       \n",
      "=====================================\n",
      "Dep. Variable:                approve\n",
      "Method:                          dydx\n",
      "At:                           overall\n",
      "==============================================================================\n",
      "                dy/dx    std err          z      P>|z|      [0.025      0.975]\n",
      "------------------------------------------------------------------------------\n",
      "white          0.0932      0.016      5.958      0.000       0.063       0.124\n",
      "hrat           0.0008      0.001      0.636      0.525      -0.002       0.003\n",
      "obrat         -0.0046      0.001     -4.379      0.000      -0.007      -0.003\n",
      "loanprc       -0.1631      0.042     -3.875      0.000      -0.246      -0.081\n",
      "unem          -0.0070      0.003     -2.306      0.021      -0.013      -0.001\n",
      "male          -0.0009      0.019     -0.050      0.960      -0.038       0.036\n",
      "married        0.0495      0.017      2.998      0.003       0.017       0.082\n",
      "dep           -0.0052      0.007     -0.745      0.456      -0.019       0.008\n",
      "sch           -0.0017      0.017     -0.103      0.918      -0.035       0.031\n",
      "cosign         0.0168      0.043      0.391      0.695      -0.068       0.101\n",
      "chist          0.0932      0.016      5.855      0.000       0.062       0.124\n",
      "pubrec        -0.1178      0.020     -6.007      0.000      -0.156      -0.079\n",
      "mortlat1      -0.0271      0.044     -0.616      0.538      -0.114       0.059\n",
      "mortlat2      -0.0405      0.059     -0.690      0.490      -0.155       0.074\n",
      "vr            -0.0310      0.014     -2.156      0.031      -0.059      -0.003\n",
      "==============================================================================\n"
     ]
    }
   ],
   "source": [
    "model_lgt = sm.Logit(y,X)\n",
    "result_lgt = model_lgt.fit()\n",
    "mfx = result_lgt.get_margeff()\n",
    "print(result_lgt.summary())\n",
    "print(mfx.summary())"
   ]
  },
  {
   "cell_type": "code",
   "execution_count": null,
   "metadata": {},
   "outputs": [
    {
     "data": {
      "text/html": [
       "<div>\n",
       "<style scoped>\n",
       "    .dataframe tbody tr th:only-of-type {\n",
       "        vertical-align: middle;\n",
       "    }\n",
       "\n",
       "    .dataframe tbody tr th {\n",
       "        vertical-align: top;\n",
       "    }\n",
       "\n",
       "    .dataframe thead th {\n",
       "        text-align: right;\n",
       "    }\n",
       "</style>\n",
       "<table border=\"1\" class=\"dataframe\">\n",
       "  <thead>\n",
       "    <tr style=\"text-align: right;\">\n",
       "      <th></th>\n",
       "      <th>logit_coef</th>\n",
       "      <th>logit_p</th>\n",
       "      <th>logit_sign</th>\n",
       "      <th>probit_coef</th>\n",
       "      <th>probit_p</th>\n",
       "      <th>probit_sign</th>\n",
       "    </tr>\n",
       "  </thead>\n",
       "  <tbody>\n",
       "    <tr>\n",
       "      <th>const</th>\n",
       "      <td>3.7243</td>\n",
       "      <td>0.0000</td>\n",
       "      <td>*</td>\n",
       "      <td>2.0153</td>\n",
       "      <td>0.0000</td>\n",
       "      <td>*</td>\n",
       "    </tr>\n",
       "    <tr>\n",
       "      <th>white</th>\n",
       "      <td>1.0400</td>\n",
       "      <td>0.0000</td>\n",
       "      <td>*</td>\n",
       "      <td>0.5773</td>\n",
       "      <td>0.0000</td>\n",
       "      <td>*</td>\n",
       "    </tr>\n",
       "    <tr>\n",
       "      <th>hrat</th>\n",
       "      <td>0.0085</td>\n",
       "      <td>0.5247</td>\n",
       "      <td></td>\n",
       "      <td>0.0050</td>\n",
       "      <td>0.4860</td>\n",
       "      <td></td>\n",
       "    </tr>\n",
       "    <tr>\n",
       "      <th>obrat</th>\n",
       "      <td>-0.0510</td>\n",
       "      <td>0.0000</td>\n",
       "      <td>*</td>\n",
       "      <td>-0.0265</td>\n",
       "      <td>0.0000</td>\n",
       "      <td>*</td>\n",
       "    </tr>\n",
       "    <tr>\n",
       "      <th>loanprc</th>\n",
       "      <td>-1.8194</td>\n",
       "      <td>0.0001</td>\n",
       "      <td>*</td>\n",
       "      <td>-0.9619</td>\n",
       "      <td>0.0001</td>\n",
       "      <td>*</td>\n",
       "    </tr>\n",
       "    <tr>\n",
       "      <th>unem</th>\n",
       "      <td>-0.0782</td>\n",
       "      <td>0.0213</td>\n",
       "      <td>*</td>\n",
       "      <td>-0.0431</td>\n",
       "      <td>0.0180</td>\n",
       "      <td>*</td>\n",
       "    </tr>\n",
       "    <tr>\n",
       "      <th>male</th>\n",
       "      <td>-0.0105</td>\n",
       "      <td>0.9605</td>\n",
       "      <td></td>\n",
       "      <td>-0.0048</td>\n",
       "      <td>0.9664</td>\n",
       "      <td></td>\n",
       "    </tr>\n",
       "    <tr>\n",
       "      <th>married</th>\n",
       "      <td>0.5521</td>\n",
       "      <td>0.0028</td>\n",
       "      <td>*</td>\n",
       "      <td>0.2925</td>\n",
       "      <td>0.0028</td>\n",
       "      <td>*</td>\n",
       "    </tr>\n",
       "    <tr>\n",
       "      <th>dep</th>\n",
       "      <td>-0.0579</td>\n",
       "      <td>0.4563</td>\n",
       "      <td></td>\n",
       "      <td>-0.0317</td>\n",
       "      <td>0.4402</td>\n",
       "      <td></td>\n",
       "    </tr>\n",
       "    <tr>\n",
       "      <th>sch</th>\n",
       "      <td>-0.0194</td>\n",
       "      <td>0.9179</td>\n",
       "      <td></td>\n",
       "      <td>-0.0167</td>\n",
       "      <td>0.8689</td>\n",
       "      <td></td>\n",
       "    </tr>\n",
       "    <tr>\n",
       "      <th>cosign</th>\n",
       "      <td>0.1879</td>\n",
       "      <td>0.6955</td>\n",
       "      <td></td>\n",
       "      <td>0.1179</td>\n",
       "      <td>0.6575</td>\n",
       "      <td></td>\n",
       "    </tr>\n",
       "    <tr>\n",
       "      <th>chist</th>\n",
       "      <td>1.0400</td>\n",
       "      <td>0.0000</td>\n",
       "      <td>*</td>\n",
       "      <td>0.5699</td>\n",
       "      <td>0.0000</td>\n",
       "      <td>*</td>\n",
       "    </tr>\n",
       "    <tr>\n",
       "      <th>pubrec</th>\n",
       "      <td>-1.3139</td>\n",
       "      <td>0.0000</td>\n",
       "      <td>*</td>\n",
       "      <td>-0.7591</td>\n",
       "      <td>0.0000</td>\n",
       "      <td>*</td>\n",
       "    </tr>\n",
       "    <tr>\n",
       "      <th>mortlat1</th>\n",
       "      <td>-0.3027</td>\n",
       "      <td>0.5382</td>\n",
       "      <td></td>\n",
       "      <td>-0.1914</td>\n",
       "      <td>0.4687</td>\n",
       "      <td></td>\n",
       "    </tr>\n",
       "    <tr>\n",
       "      <th>mortlat2</th>\n",
       "      <td>-0.4516</td>\n",
       "      <td>0.4902</td>\n",
       "      <td></td>\n",
       "      <td>-0.2246</td>\n",
       "      <td>0.5507</td>\n",
       "      <td></td>\n",
       "    </tr>\n",
       "    <tr>\n",
       "      <th>vr</th>\n",
       "      <td>-0.3457</td>\n",
       "      <td>0.0312</td>\n",
       "      <td>*</td>\n",
       "      <td>-0.1989</td>\n",
       "      <td>0.0195</td>\n",
       "      <td>*</td>\n",
       "    </tr>\n",
       "  </tbody>\n",
       "</table>\n",
       "</div>"
      ],
      "text/plain": [
       "          logit_coef  logit_p logit_sign  probit_coef  probit_p probit_sign\n",
       "const         3.7243   0.0000          *       2.0153    0.0000           *\n",
       "white         1.0400   0.0000          *       0.5773    0.0000           *\n",
       "hrat          0.0085   0.5247                  0.0050    0.4860            \n",
       "obrat        -0.0510   0.0000          *      -0.0265    0.0000           *\n",
       "loanprc      -1.8194   0.0001          *      -0.9619    0.0001           *\n",
       "unem         -0.0782   0.0213          *      -0.0431    0.0180           *\n",
       "male         -0.0105   0.9605                 -0.0048    0.9664            \n",
       "married       0.5521   0.0028          *       0.2925    0.0028           *\n",
       "dep          -0.0579   0.4563                 -0.0317    0.4402            \n",
       "sch          -0.0194   0.9179                 -0.0167    0.8689            \n",
       "cosign        0.1879   0.6955                  0.1179    0.6575            \n",
       "chist         1.0400   0.0000          *       0.5699    0.0000           *\n",
       "pubrec       -1.3139   0.0000          *      -0.7591    0.0000           *\n",
       "mortlat1     -0.3027   0.5382                 -0.1914    0.4687            \n",
       "mortlat2     -0.4516   0.4902                 -0.2246    0.5507            \n",
       "vr           -0.3457   0.0312          *      -0.1989    0.0195           *"
      ]
     },
     "execution_count": 84,
     "metadata": {},
     "output_type": "execute_result"
    }
   ],
   "source": [
    "# 对比logit回归和probit回归的显著性\n",
    "df = pd.DataFrame(result_lgt.params,columns=['logit_coef'])\n",
    "df['logit_p'] = result_lgt.pvalues\n",
    "df['logit_sign'] = ['*' if p < 0.05 else '' for p in result_lgt.pvalues]\n",
    "df['probit_coef'] = result_prbt.params\n",
    "df['probit_p'] = result_prbt.pvalues\n",
    "df['probit_sign'] = ['*' if p < 0.05 else '' for p in result_lgt.pvalues]\n",
    "df"
   ]
  },
  {
   "cell_type": "markdown",
   "metadata": {},
   "source": [
    "#### （6）汇报几率比，比较白人与非白人的成功概率\n",
    "\n",
    "white的几率比2.82，白人成功获得贷款的几率更高。"
   ]
  },
  {
   "cell_type": "code",
   "execution_count": null,
   "metadata": {},
   "outputs": [
    {
     "data": {
      "text/html": [
       "<div>\n",
       "<style scoped>\n",
       "    .dataframe tbody tr th:only-of-type {\n",
       "        vertical-align: middle;\n",
       "    }\n",
       "\n",
       "    .dataframe tbody tr th {\n",
       "        vertical-align: top;\n",
       "    }\n",
       "\n",
       "    .dataframe thead th {\n",
       "        text-align: right;\n",
       "    }\n",
       "</style>\n",
       "<table border=\"1\" class=\"dataframe\">\n",
       "  <thead>\n",
       "    <tr style=\"text-align: right;\">\n",
       "      <th></th>\n",
       "      <th>odds ratio</th>\n",
       "      <th>std err</th>\n",
       "      <th>z</th>\n",
       "      <th>p&gt;|z|</th>\n",
       "    </tr>\n",
       "  </thead>\n",
       "  <tbody>\n",
       "    <tr>\n",
       "      <th>const</th>\n",
       "      <td>41.4421</td>\n",
       "      <td>0.6071</td>\n",
       "      <td>6.1341</td>\n",
       "      <td>0.0000</td>\n",
       "    </tr>\n",
       "    <tr>\n",
       "      <th>white</th>\n",
       "      <td>2.8293</td>\n",
       "      <td>0.1775</td>\n",
       "      <td>5.8607</td>\n",
       "      <td>0.0000</td>\n",
       "    </tr>\n",
       "    <tr>\n",
       "      <th>hrat</th>\n",
       "      <td>1.0085</td>\n",
       "      <td>0.0133</td>\n",
       "      <td>0.6362</td>\n",
       "      <td>0.5247</td>\n",
       "    </tr>\n",
       "    <tr>\n",
       "      <th>obrat</th>\n",
       "      <td>0.9503</td>\n",
       "      <td>0.0117</td>\n",
       "      <td>-4.3423</td>\n",
       "      <td>0.0000</td>\n",
       "    </tr>\n",
       "    <tr>\n",
       "      <th>loanprc</th>\n",
       "      <td>0.1621</td>\n",
       "      <td>0.4710</td>\n",
       "      <td>-3.8627</td>\n",
       "      <td>0.0001</td>\n",
       "    </tr>\n",
       "    <tr>\n",
       "      <th>unem</th>\n",
       "      <td>0.9248</td>\n",
       "      <td>0.0340</td>\n",
       "      <td>-2.3020</td>\n",
       "      <td>0.0213</td>\n",
       "    </tr>\n",
       "    <tr>\n",
       "      <th>male</th>\n",
       "      <td>0.9896</td>\n",
       "      <td>0.2112</td>\n",
       "      <td>-0.0495</td>\n",
       "      <td>0.9605</td>\n",
       "    </tr>\n",
       "    <tr>\n",
       "      <th>married</th>\n",
       "      <td>1.7370</td>\n",
       "      <td>0.1845</td>\n",
       "      <td>2.9931</td>\n",
       "      <td>0.0028</td>\n",
       "    </tr>\n",
       "    <tr>\n",
       "      <th>dep</th>\n",
       "      <td>0.9437</td>\n",
       "      <td>0.0778</td>\n",
       "      <td>-0.7449</td>\n",
       "      <td>0.4563</td>\n",
       "    </tr>\n",
       "    <tr>\n",
       "      <th>sch</th>\n",
       "      <td>0.9808</td>\n",
       "      <td>0.1880</td>\n",
       "      <td>-0.1030</td>\n",
       "      <td>0.9179</td>\n",
       "    </tr>\n",
       "    <tr>\n",
       "      <th>cosign</th>\n",
       "      <td>1.2067</td>\n",
       "      <td>0.4802</td>\n",
       "      <td>0.3914</td>\n",
       "      <td>0.6955</td>\n",
       "    </tr>\n",
       "    <tr>\n",
       "      <th>chist</th>\n",
       "      <td>2.8291</td>\n",
       "      <td>0.1802</td>\n",
       "      <td>5.7721</td>\n",
       "      <td>0.0000</td>\n",
       "    </tr>\n",
       "    <tr>\n",
       "      <th>pubrec</th>\n",
       "      <td>0.2688</td>\n",
       "      <td>0.2252</td>\n",
       "      <td>-5.8334</td>\n",
       "      <td>0.0000</td>\n",
       "    </tr>\n",
       "    <tr>\n",
       "      <th>mortlat1</th>\n",
       "      <td>0.7388</td>\n",
       "      <td>0.4919</td>\n",
       "      <td>-0.6155</td>\n",
       "      <td>0.5382</td>\n",
       "    </tr>\n",
       "    <tr>\n",
       "      <th>mortlat2</th>\n",
       "      <td>0.6366</td>\n",
       "      <td>0.6545</td>\n",
       "      <td>-0.6900</td>\n",
       "      <td>0.4902</td>\n",
       "    </tr>\n",
       "    <tr>\n",
       "      <th>vr</th>\n",
       "      <td>0.7077</td>\n",
       "      <td>0.1604</td>\n",
       "      <td>-2.1548</td>\n",
       "      <td>0.0312</td>\n",
       "    </tr>\n",
       "  </tbody>\n",
       "</table>\n",
       "</div>"
      ],
      "text/plain": [
       "          odds ratio  std err       z  p>|z|\n",
       "const        41.4421   0.6071  6.1341 0.0000\n",
       "white         2.8293   0.1775  5.8607 0.0000\n",
       "hrat          1.0085   0.0133  0.6362 0.5247\n",
       "obrat         0.9503   0.0117 -4.3423 0.0000\n",
       "loanprc       0.1621   0.4710 -3.8627 0.0001\n",
       "unem          0.9248   0.0340 -2.3020 0.0213\n",
       "male          0.9896   0.2112 -0.0495 0.9605\n",
       "married       1.7370   0.1845  2.9931 0.0028\n",
       "dep           0.9437   0.0778 -0.7449 0.4563\n",
       "sch           0.9808   0.1880 -0.1030 0.9179\n",
       "cosign        1.2067   0.4802  0.3914 0.6955\n",
       "chist         2.8291   0.1802  5.7721 0.0000\n",
       "pubrec        0.2688   0.2252 -5.8334 0.0000\n",
       "mortlat1      0.7388   0.4919 -0.6155 0.5382\n",
       "mortlat2      0.6366   0.6545 -0.6900 0.4902\n",
       "vr            0.7077   0.1604 -2.1548 0.0312"
      ]
     },
     "execution_count": 61,
     "metadata": {},
     "output_type": "execute_result"
    }
   ],
   "source": [
    "import numpy as np\n",
    "\n",
    "odds_ratios = np.exp(result_lgt.params)\n",
    "result_lgt_or = pd.DataFrame({'odds ratio': odds_ratios, \n",
    "                                'std err': result_lgt.bse,\n",
    "                                'z':result_lgt.tvalues,\n",
    "                                'p>|z|':result_lgt.pvalues,\n",
    "                                }, \n",
    "                               index=result_lgt.params.index)\n",
    "pd.set_option('display.float_format', '{:.4f}'.format)\n",
    "result_lgt_or"
   ]
  },
  {
   "cell_type": "markdown",
   "metadata": {},
   "source": [
    "### 11.5\n",
    "\n",
    "#### （1）OLS参照系\n",
    "\n",
    "conquered 对 diff age wall drought1 + 稳健标准误"
   ]
  },
  {
   "cell_type": "code",
   "execution_count": 14,
   "metadata": {},
   "outputs": [],
   "source": [
    "conqu = pd.read_stata('../2_Data/Data-2e/nomadic_conquest.dta')\n",
    "# conqu = describe_bcmodel(conqu, frequency='decade')\n",
    "conqu.dropna(inplace=True)"
   ]
  },
  {
   "cell_type": "code",
   "execution_count": 15,
   "metadata": {},
   "outputs": [
    {
     "name": "stdout",
     "output_type": "stream",
     "text": [
      "                            OLS Regression Results                            \n",
      "==============================================================================\n",
      "Dep. Variable:              conquered   R-squared:                       0.087\n",
      "Model:                            OLS   Adj. R-squared:                  0.070\n",
      "Method:                 Least Squares   F-statistic:                     2.001\n",
      "Date:                Mon, 29 Apr 2024   Prob (F-statistic):             0.0956\n",
      "Time:                        16:00:19   Log-Likelihood:                 73.978\n",
      "No. Observations:                 212   AIC:                            -138.0\n",
      "Df Residuals:                     207   BIC:                            -121.2\n",
      "Df Model:                           4                                         \n",
      "Covariance Type:                  HC0                                         \n",
      "==============================================================================\n",
      "                 coef    std err          z      P>|z|      [0.025      0.975]\n",
      "------------------------------------------------------------------------------\n",
      "const          0.0401      0.026      1.561      0.119      -0.010       0.091\n",
      "diff           0.0009      0.000      2.161      0.031    8.55e-05       0.002\n",
      "age           -0.0016      0.002     -0.904      0.366      -0.005       0.002\n",
      "wall          -0.0741      0.043     -1.731      0.083      -0.158       0.010\n",
      "drought1       0.0968      0.051      1.913      0.056      -0.002       0.196\n",
      "==============================================================================\n",
      "Omnibus:                      229.080   Durbin-Watson:                   1.727\n",
      "Prob(Omnibus):                  0.000   Jarque-Bera (JB):             4851.150\n",
      "Skew:                           4.590   Prob(JB):                         0.00\n",
      "Kurtosis:                      24.562   Cond. No.                         217.\n",
      "==============================================================================\n",
      "\n",
      "Notes:\n",
      "[1] Standard Errors are heteroscedasticity robust (HC0)\n"
     ]
    }
   ],
   "source": [
    "X = conqu[['diff', 'age', 'wall', 'drought1']]\n",
    "y = conqu['conquered']\n",
    "X = sm.add_constant(X)\n",
    "model = sm.OLS(y, X)\n",
    "results = model.fit(cov_type='HC0')\n",
    "print(results.summary())"
   ]
  },
  {
   "cell_type": "markdown",
   "metadata": {},
   "source": [
    "#### （2）Logit模型"
   ]
  },
  {
   "cell_type": "code",
   "execution_count": 16,
   "metadata": {},
   "outputs": [
    {
     "name": "stdout",
     "output_type": "stream",
     "text": [
      "Optimization terminated successfully.\n",
      "         Current function value: 0.101121\n",
      "         Iterations 10\n",
      "                           Logit Regression Results                           \n",
      "==============================================================================\n",
      "Dep. Variable:              conquered   No. Observations:                  212\n",
      "Model:                          Logit   Df Residuals:                      207\n",
      "Method:                           MLE   Df Model:                            4\n",
      "Date:                Mon, 29 Apr 2024   Pseudo R-squ.:                  0.3030\n",
      "Time:                        16:00:22   Log-Likelihood:                -21.438\n",
      "converged:                       True   LL-Null:                       -30.758\n",
      "Covariance Type:                  HC3   LLR p-value:                 0.0009246\n",
      "==============================================================================\n",
      "                 coef    std err          z      P>|z|      [0.025      0.975]\n",
      "------------------------------------------------------------------------------\n",
      "const         -3.3617      1.036     -3.244      0.001      -5.393      -1.331\n",
      "diff           0.0386      0.009      4.229      0.000       0.021       0.057\n",
      "age           -0.2634      0.096     -2.743      0.006      -0.452      -0.075\n",
      "wall          -2.4866      1.279     -1.945      0.052      -4.993       0.019\n",
      "drought1       3.9155      1.372      2.854      0.004       1.227       6.604\n",
      "==============================================================================\n"
     ]
    }
   ],
   "source": [
    "model = sm.Logit(y, X)\n",
    "results = model.fit(cov_type='HC3')\n",
    "print(results.summary())"
   ]
  },
  {
   "cell_type": "markdown",
   "metadata": {},
   "source": [
    "#### （3）计算所有变量的边际效应"
   ]
  },
  {
   "cell_type": "code",
   "execution_count": 17,
   "metadata": {},
   "outputs": [
    {
     "name": "stdout",
     "output_type": "stream",
     "text": [
      "        Logit Marginal Effects       \n",
      "=====================================\n",
      "Dep. Variable:              conquered\n",
      "Method:                          dydx\n",
      "At:                              mean\n",
      "==============================================================================\n",
      "                dy/dx    std err          z      P>|z|      [0.025      0.975]\n",
      "------------------------------------------------------------------------------\n",
      "diff           0.0002      0.000      1.721      0.085   -2.73e-05       0.000\n",
      "age           -0.0013      0.001     -1.364      0.173      -0.003       0.001\n",
      "wall          -0.0126      0.005     -2.322      0.020      -0.023      -0.002\n",
      "drought1       0.0199      0.013      1.478      0.139      -0.006       0.046\n",
      "==============================================================================\n"
     ]
    }
   ],
   "source": [
    "mfx = results.get_margeff(at='mean')\n",
    "print(mfx.summary())"
   ]
  },
  {
   "cell_type": "markdown",
   "metadata": {},
   "source": [
    "#### （4）计算几率比"
   ]
  },
  {
   "cell_type": "code",
   "execution_count": 18,
   "metadata": {},
   "outputs": [
    {
     "data": {
      "text/html": [
       "<div>\n",
       "<style scoped>\n",
       "    .dataframe tbody tr th:only-of-type {\n",
       "        vertical-align: middle;\n",
       "    }\n",
       "\n",
       "    .dataframe tbody tr th {\n",
       "        vertical-align: top;\n",
       "    }\n",
       "\n",
       "    .dataframe thead th {\n",
       "        text-align: right;\n",
       "    }\n",
       "</style>\n",
       "<table border=\"1\" class=\"dataframe\">\n",
       "  <thead>\n",
       "    <tr style=\"text-align: right;\">\n",
       "      <th></th>\n",
       "      <th>odds ratio</th>\n",
       "      <th>std err</th>\n",
       "      <th>z</th>\n",
       "      <th>p&gt;|z|</th>\n",
       "    </tr>\n",
       "  </thead>\n",
       "  <tbody>\n",
       "    <tr>\n",
       "      <th>const</th>\n",
       "      <td>0.0347</td>\n",
       "      <td>1.0363</td>\n",
       "      <td>-3.2438</td>\n",
       "      <td>0.0012</td>\n",
       "    </tr>\n",
       "    <tr>\n",
       "      <th>diff</th>\n",
       "      <td>1.0394</td>\n",
       "      <td>0.0091</td>\n",
       "      <td>4.2295</td>\n",
       "      <td>0.0000</td>\n",
       "    </tr>\n",
       "    <tr>\n",
       "      <th>age</th>\n",
       "      <td>0.7684</td>\n",
       "      <td>0.0960</td>\n",
       "      <td>-2.7431</td>\n",
       "      <td>0.0061</td>\n",
       "    </tr>\n",
       "    <tr>\n",
       "      <th>wall</th>\n",
       "      <td>0.0832</td>\n",
       "      <td>1.2786</td>\n",
       "      <td>-1.9448</td>\n",
       "      <td>0.0518</td>\n",
       "    </tr>\n",
       "    <tr>\n",
       "      <th>drought1</th>\n",
       "      <td>50.1744</td>\n",
       "      <td>1.3719</td>\n",
       "      <td>2.8540</td>\n",
       "      <td>0.0043</td>\n",
       "    </tr>\n",
       "  </tbody>\n",
       "</table>\n",
       "</div>"
      ],
      "text/plain": [
       "          odds ratio  std err       z  p>|z|\n",
       "const         0.0347   1.0363 -3.2438 0.0012\n",
       "diff          1.0394   0.0091  4.2295 0.0000\n",
       "age           0.7684   0.0960 -2.7431 0.0061\n",
       "wall          0.0832   1.2786 -1.9448 0.0518\n",
       "drought1     50.1744   1.3719  2.8540 0.0043"
      ]
     },
     "execution_count": 18,
     "metadata": {},
     "output_type": "execute_result"
    }
   ],
   "source": [
    "from cq import odds_ratio\n",
    "\n",
    "odds_ratio(results=results)"
   ]
  },
  {
   "cell_type": "markdown",
   "metadata": {},
   "source": [
    "#### （5）模型正确预测的百分比"
   ]
  },
  {
   "cell_type": "code",
   "execution_count": 19,
   "metadata": {},
   "outputs": [
    {
     "name": "stdout",
     "output_type": "stream",
     "text": [
      "Accuracy of the model: 96.23%\n"
     ]
    }
   ],
   "source": [
    "predicted_classes = results.predict(X) > 0.5\n",
    "\n",
    "# 计算准确率\n",
    "accuracy = (predicted_classes == y).mean()\n",
    "\n",
    "print(f\"Accuracy of the model: {accuracy*100:.2f}%\")"
   ]
  },
  {
   "cell_type": "markdown",
   "metadata": {},
   "source": [
    "#### （6）预测中原王朝被征服的概率，并画图"
   ]
  },
  {
   "cell_type": "code",
   "execution_count": 41,
   "metadata": {},
   "outputs": [
    {
     "name": "stderr",
     "output_type": "stream",
     "text": [
      "C:\\Users\\NINGMEI\\AppData\\Local\\Temp\\ipykernel_19288\\598766992.py:5: SettingWithCopyWarning: \n",
      "A value is trying to be set on a copy of a slice from a DataFrame.\n",
      "Try using .loc[row_indexer,col_indexer] = value instead\n",
      "\n",
      "See the caveats in the documentation: https://pandas.pydata.org/pandas-docs/stable/user_guide/indexing.html#returning-a-view-versus-a-copy\n",
      "  df.loc[:, 'prediction'] = results.predict()\n"
     ]
    },
    {
     "data": {
      "image/png": "[encoded data removed]",
      "text/plain": [
       "<Figure size 640x480 with 1 Axes>"
      ]
     },
     "metadata": {},
     "output_type": "display_data"
    }
   ],
   "source": [
    "import seaborn as sns\n",
    "import matplotlib.pyplot as plt\n",
    "\n",
    "df = conqu[['decade','conquered']]\n",
    "df.loc[:, 'prediction'] = results.predict()\n",
    "\n",
    "sns.set_theme(style='darkgrid')\n",
    "sns.lineplot(x='decade', y='conquered', data=df,)\n",
    "plt.plot(df['decade'], df['prediction'], color='red')\n",
    "plt.show()"
   ]
  },
  {
   "cell_type": "markdown",
   "metadata": {},
   "source": [
    "#### （7）-（9）\n"
   ]
  },
  {
   "cell_type": "code",
   "execution_count": 42,
   "metadata": {},
   "outputs": [
    {
     "name": "stdout",
     "output_type": "stream",
     "text": [
      "Optimization terminated successfully.\n",
      "         Current function value: 0.100350\n",
      "         Iterations 10\n",
      "                          Probit Regression Results                           \n",
      "==============================================================================\n",
      "Dep. Variable:              conquered   No. Observations:                  212\n",
      "Model:                         Probit   Df Residuals:                      207\n",
      "Method:                           MLE   Df Model:                            4\n",
      "Date:                Mon, 29 Apr 2024   Pseudo R-squ.:                  0.3083\n",
      "Time:                        16:13:59   Log-Likelihood:                -21.274\n",
      "converged:                       True   LL-Null:                       -30.758\n",
      "Covariance Type:            nonrobust   LLR p-value:                 0.0007977\n",
      "==============================================================================\n",
      "                 coef    std err          z      P>|z|      [0.025      0.975]\n",
      "------------------------------------------------------------------------------\n",
      "const         -1.8120      0.504     -3.593      0.000      -2.800      -0.824\n",
      "diff           0.0201      0.008      2.404      0.016       0.004       0.036\n",
      "age           -0.1450      0.083     -1.747      0.081      -0.308       0.018\n",
      "wall          -1.1277      0.496     -2.275      0.023      -2.099      -0.156\n",
      "drought1       2.0163      0.802      2.514      0.012       0.444       3.588\n",
      "==============================================================================\n",
      "\n",
      "Possibly complete quasi-separation: A fraction 0.21 of observations can be\n",
      "perfectly predicted. This might indicate that there is complete\n",
      "quasi-separation. In this case some parameters will not be identified.\n"
     ]
    }
   ],
   "source": [
    "model_probit = sm.Probit(y,X)\n",
    "results_probit = model_probit.fit()\n",
    "print(results_probit.summary())"
   ]
  },
  {
   "cell_type": "code",
   "execution_count": 43,
   "metadata": {},
   "outputs": [
    {
     "name": "stdout",
     "output_type": "stream",
     "text": [
      "       Probit Marginal Effects       \n",
      "=====================================\n",
      "Dep. Variable:              conquered\n",
      "Method:                          dydx\n",
      "At:                           overall\n",
      "==============================================================================\n",
      "                dy/dx    std err          z      P>|z|      [0.025      0.975]\n",
      "------------------------------------------------------------------------------\n",
      "diff           0.0011      0.000      2.260      0.024       0.000       0.002\n",
      "age           -0.0077      0.005     -1.695      0.090      -0.017       0.001\n",
      "wall          -0.0598      0.028     -2.104      0.035      -0.115      -0.004\n",
      "drought1       0.1069      0.045      2.350      0.019       0.018       0.196\n",
      "==============================================================================\n"
     ]
    }
   ],
   "source": [
    "mfx_probit = results_probit.get_margeff()\n",
    "print(mfx_probit.summary())"
   ]
  },
  {
   "cell_type": "code",
   "execution_count": 44,
   "metadata": {},
   "outputs": [
    {
     "name": "stdout",
     "output_type": "stream",
     "text": [
      "Accuracy of the model: 96.70%\n"
     ]
    }
   ],
   "source": [
    "predicted_classes_probit = results_probit.predict(X) > 0.5\n",
    "# 计算准确率\n",
    "accuracy = (predicted_classes_probit == y).mean()\n",
    "\n",
    "print(f\"Accuracy of the model: {accuracy*100:.2f}%\")"
   ]
  }
 ],
 "metadata": {
  "kernelspec": {
   "display_name": ".venv",
   "language": "python",
   "name": "python3"
  },
  "language_info": {
   "codemirror_mode": {
    "name": "ipython",
    "version": 3
   },
   "file_extension": ".py",
   "mimetype": "text/x-python",
   "name": "python",
   "nbconvert_exporter": "python",
   "pygments_lexer": "ipython3",
   "version": "3.10.8"
  }
 },
 "nbformat": 4,
 "nbformat_minor": 2
}
