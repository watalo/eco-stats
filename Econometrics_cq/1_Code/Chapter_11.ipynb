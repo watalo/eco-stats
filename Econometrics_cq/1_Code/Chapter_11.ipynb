{
 "cells": [
  {
   "cell_type": "markdown",
   "metadata": {},
   "source": [
    "## 11.9 二值选择模型的python实现"
   ]
  },
  {
   "cell_type": "code",
   "execution_count": 92,
   "metadata": {},
   "outputs": [
    {
     "name": "stdout",
     "output_type": "stream",
     "text": [
      "          count      mean       std  min  25%  50%  75%  max\n",
      "class1   2201.0  0.147660  0.354843  0.0  0.0  0.0  0.0  1.0\n",
      "class2   2201.0  0.129487  0.335814  0.0  0.0  0.0  0.0  1.0\n",
      "class3   2201.0  0.320763  0.466876  0.0  0.0  0.0  1.0  1.0\n",
      "class4   2201.0  0.402090  0.490431  0.0  0.0  0.0  1.0  1.0\n",
      "child    2201.0  0.049523  0.217006  0.0  0.0  0.0  0.0  1.0\n",
      "female   2201.0  0.213539  0.409898  0.0  0.0  0.0  0.0  1.0\n",
      "survive  2201.0  0.323035  0.467742  0.0  0.0  0.0  1.0  1.0\n"
     ]
    }
   ],
   "source": [
    "import pandas as pd\n",
    "import numpy as np\n",
    "\n",
    "# 读取数据\n",
    "df = pd.read_stata('../2_Data/Data-2e/titanic.dta')\n",
    "\n",
    "def describe_bcmodel(df, frequency, target=None, condition_col=None, condition=None):\n",
    "    '''describe_bcmodel 二值模型的描述性统计，返回原始数据\n",
    "    Arguments:\n",
    "        df:dataframe -- 含有频次的数据集\n",
    "        frequency:str --  频次的字段名\n",
    "\n",
    "    Keyword Arguments:\n",
    "        target:str -- 观测对象的字段名 (default: {None})\n",
    "        condition_col:str -- 条件变量的字段名 (default: {None})\n",
    "        condition:any -- 条件值 (default: {None})\n",
    "\n",
    "    Returns:\n",
    "         -- 按频次还原后的数据集\n",
    "    '''\n",
    "    result = df.loc[np.repeat(df.index.values, df[frequency])].drop(frequency, axis=1).reset_index(drop=True)\n",
    "    if (target is None) and (condition_col is None): \n",
    "        print(result.describe().T) \n",
    "    else:\n",
    "        result = result[[target, condition_col]][result[condition_col] == condition].drop(condition_col, axis=1).reset_index(drop=True)\n",
    "        print(f'when {condition_col} is {condition}:')\n",
    "        print(result.describe().T)\n",
    "        return result\n",
    "    return result\n",
    "    \n",
    "des = describe_bcmodel(df, frequency='freq')"
   ]
  },
  {
   "cell_type": "markdown",
   "metadata": {},
   "source": [
    "解释一下每个函数的作用：\n",
    "\n",
    "`np.repeat(df.index.values, df['freq'])`：\n",
    "- `df.index.values` 返回数据框的索引值，这是一个代表行号的数组。\n",
    "- `df['freq']` 返回'freq'列的值，这是一个代表信息重复次数的数组。\n",
    "- `np.repeat`函数将行索引根据'freq'列的值进行重复，以便在最终结果中重复出现对应次数。\n",
    "\n",
    "`df.loc[]`：\n",
    "- `df.loc` 是用于按标签选择行和列的方法。在这里，它使用重复后的索引来选择数据框中的行。\n",
    "\n",
    "`.drop('freq', axis=1)`：\n",
    "- drop 方法用于删除数据框中的列。在这里，它删除了名为'freq'的列。参数axis=1表示删除列。\n",
    "\n",
    "`.reset_index(drop=True)`：\n",
    "- `reset_index` 方法用于重置索引。参数`drop=True`表示删除原始索引，使新索引从零开始。这样可以确保最终结果的索引是连续的整数序列。\n",
    "\n",
    "综合起来，这行代码的作用是将数据框中的行根据'freq'列的值重复多次，然后丢弃'freq'列，并重置索引，以得到非'freq'列的信息按照出现次数重复的结果。"
   ]
  },
  {
   "cell_type": "code",
   "execution_count": 93,
   "metadata": {},
   "outputs": [
    {
     "name": "stdout",
     "output_type": "stream",
     "text": [
      "when class1 is 1:\n",
      "         count      mean       std  min  25%  50%  75%  max\n",
      "survive  325.0  0.624615  0.484969  0.0  0.0  1.0  1.0  1.0\n",
      "\n",
      "\n",
      "when class2 is 1:\n",
      "         count      mean       std  min  25%  50%  75%  max\n",
      "survive  285.0  0.414035  0.493421  0.0  0.0  0.0  1.0  1.0\n",
      "\n",
      "\n",
      "when class3 is 1:\n",
      "         count      mean      std  min  25%  50%  75%  max\n",
      "survive  706.0  0.252125  0.43454  0.0  0.0  0.0  1.0  1.0\n",
      "\n",
      "\n",
      "when class4 is 1:\n",
      "         count      mean       std  min  25%  50%  75%  max\n",
      "survive  885.0  0.239548  0.427049  0.0  0.0  0.0  0.0  1.0\n",
      "\n",
      "\n",
      "when child is 1:\n",
      "         count      mean       std  min  25%  50%  75%  max\n",
      "survive  109.0  0.522936  0.501781  0.0  0.0  1.0  1.0  1.0\n",
      "\n",
      "\n",
      "when female is 1:\n",
      "         count      mean       std  min  25%  50%  75%  max\n",
      "survive  470.0  0.731915  0.443434  0.0  0.0  1.0  1.0  1.0\n",
      "\n",
      "\n"
     ]
    }
   ],
   "source": [
    "# 分别计算小孩、女士、各等舱的乘客存货率\n",
    "for col in des.drop('survive', axis=1).columns:\n",
    "    describe_bcmodel(df, 'freq', target='survive', condition_col=col, condition=1)\n",
    "    print('\\n')"
   ]
  },
  {
   "cell_type": "code",
   "execution_count": 95,
   "metadata": {},
   "outputs": [
    {
     "name": "stdout",
     "output_type": "stream",
     "text": [
      "                            OLS Regression Results                            \n",
      "==============================================================================\n",
      "Dep. Variable:                survive   R-squared:                       0.253\n",
      "Model:                            OLS   Adj. R-squared:                  0.251\n",
      "Method:                 Least Squares   F-statistic:                     148.6\n",
      "Date:                Sun, 28 Apr 2024   Prob (F-statistic):          3.55e-136\n",
      "Time:                        05:39:22   Log-Likelihood:                -1129.3\n",
      "No. Observations:                2201   AIC:                             2271.\n",
      "Df Residuals:                    2195   BIC:                             2305.\n",
      "Df Model:                           5                                         \n",
      "Covariance Type:            nonrobust                                         \n",
      "==============================================================================\n",
      "                 coef    std err          t      P>|t|      [0.025      0.975]\n",
      "------------------------------------------------------------------------------\n",
      "const          0.2268      0.014     16.654      0.000       0.200       0.254\n",
      "class1         0.1756      0.028      6.277      0.000       0.121       0.230\n",
      "class2        -0.0105      0.029     -0.365      0.715      -0.067       0.046\n",
      "class3        -0.1312      0.022     -6.063      0.000      -0.174      -0.089\n",
      "child          0.1813      0.041      4.425      0.000       0.101       0.262\n",
      "female         0.4907      0.023     21.329      0.000       0.446       0.536\n",
      "==============================================================================\n",
      "Omnibus:                      214.640   Durbin-Watson:                   0.010\n",
      "Prob(Omnibus):                  0.000   Jarque-Bera (JB):              280.669\n",
      "Skew:                           0.872   Prob(JB):                     1.13e-61\n",
      "Kurtosis:                       2.859   Cond. No.                         5.36\n",
      "==============================================================================\n",
      "\n",
      "Notes:\n",
      "[1] Standard Errors assume that the covariance matrix of the errors is correctly specified.\n"
     ]
    }
   ],
   "source": [
    "import statsmodels.api as sm\n",
    "\n",
    "X = des[['class1','class2','class3','child','female']]\n",
    "y = des['survive']\n",
    "X = sm.add_constant(X)\n",
    "model_ols = sm.OLS(y,X)\n",
    "results_ols = model_ols.fit()\n",
    "print(results_ols.summary())"
   ]
  },
  {
   "cell_type": "code",
   "execution_count": 97,
   "metadata": {},
   "outputs": [
    {
     "name": "stdout",
     "output_type": "stream",
     "text": [
      "Optimization terminated successfully.\n",
      "         Current function value: 0.502058\n",
      "         Iterations 6\n",
      "                           Logit Regression Results                           \n",
      "==============================================================================\n",
      "Dep. Variable:                survive   No. Observations:                 2201\n",
      "Model:                          Logit   Df Residuals:                     2195\n",
      "Method:                           MLE   Df Model:                            5\n",
      "Date:                Sun, 28 Apr 2024   Pseudo R-squ.:                  0.2020\n",
      "Time:                        05:41:53   Log-Likelihood:                -1105.0\n",
      "converged:                       True   LL-Null:                       -1384.7\n",
      "Covariance Type:            nonrobust   LLR p-value:                1.195e-118\n",
      "==============================================================================\n",
      "                 coef    std err          z      P>|z|      [0.025      0.975]\n",
      "------------------------------------------------------------------------------\n",
      "const         -1.2339      0.080    -15.329      0.000      -1.392      -1.076\n",
      "class1         0.8577      0.157      5.451      0.000       0.549       1.166\n",
      "class2        -0.1604      0.174     -0.923      0.356      -0.501       0.180\n",
      "class3        -0.9201      0.149     -6.192      0.000      -1.211      -0.629\n",
      "child          1.0615      0.244      4.350      0.000       0.583       1.540\n",
      "female         2.4201      0.140     17.236      0.000       2.145       2.695\n",
      "==============================================================================\n"
     ]
    }
   ],
   "source": [
    "model_logit = sm.Logit(y, X)\n",
    "result_logit = model_logit.fit()\n",
    "print(result_logit.summary())"
   ]
  },
  {
   "cell_type": "code",
   "execution_count": 101,
   "metadata": {},
   "outputs": [
    {
     "name": "stdout",
     "output_type": "stream",
     "text": [
      "Optimization terminated successfully.\n",
      "         Current function value: 0.502058\n",
      "         Iterations 6\n",
      "                           Logit Regression Results                           \n",
      "==============================================================================\n",
      "Dep. Variable:                survive   No. Observations:                 2201\n",
      "Model:                          Logit   Df Residuals:                     2195\n",
      "Method:                           MLE   Df Model:                            5\n",
      "Date:                Sun, 28 Apr 2024   Pseudo R-squ.:                  0.2020\n",
      "Time:                        05:42:50   Log-Likelihood:                -1105.0\n",
      "converged:                       True   LL-Null:                       -1384.7\n",
      "Covariance Type:                  HC0   LLR p-value:                1.195e-118\n",
      "==============================================================================\n",
      "                 coef    std err          z      P>|z|      [0.025      0.975]\n",
      "------------------------------------------------------------------------------\n",
      "const         -1.2339      0.080    -15.449      0.000      -1.390      -1.077\n",
      "class1         0.8577      0.147      5.815      0.000       0.569       1.147\n",
      "class2        -0.1604      0.150     -1.068      0.285      -0.455       0.134\n",
      "class3        -0.9201      0.162     -5.677      0.000      -1.238      -0.602\n",
      "child          1.0615      0.277      3.837      0.000       0.519       1.604\n",
      "female         2.4201      0.136     17.758      0.000       2.153       2.687\n",
      "==============================================================================\n",
      "Optimization terminated successfully.\n",
      "         Current function value: 0.502058\n",
      "         Iterations 6\n",
      "                           Logit Regression Results                           \n",
      "==============================================================================\n",
      "Dep. Variable:                survive   No. Observations:                 2201\n",
      "Model:                          Logit   Df Residuals:                     2195\n",
      "Method:                           MLE   Df Model:                            5\n",
      "Date:                Sun, 28 Apr 2024   Pseudo R-squ.:                  0.2020\n",
      "Time:                        05:42:50   Log-Likelihood:                -1105.0\n",
      "converged:                       True   LL-Null:                       -1384.7\n",
      "Covariance Type:                  HC1   LLR p-value:                1.195e-118\n",
      "==============================================================================\n",
      "                 coef    std err          z      P>|z|      [0.025      0.975]\n",
      "------------------------------------------------------------------------------\n",
      "const         -1.2339      0.080    -15.449      0.000      -1.390      -1.077\n",
      "class1         0.8577      0.147      5.815      0.000       0.569       1.147\n",
      "class2        -0.1604      0.150     -1.068      0.285      -0.455       0.134\n",
      "class3        -0.9201      0.162     -5.677      0.000      -1.238      -0.602\n",
      "child          1.0615      0.277      3.837      0.000       0.519       1.604\n",
      "female         2.4201      0.136     17.758      0.000       2.153       2.687\n",
      "==============================================================================\n",
      "Optimization terminated successfully.\n",
      "         Current function value: 0.502058\n",
      "         Iterations 6\n",
      "                           Logit Regression Results                           \n",
      "==============================================================================\n",
      "Dep. Variable:                survive   No. Observations:                 2201\n",
      "Model:                          Logit   Df Residuals:                     2195\n",
      "Method:                           MLE   Df Model:                            5\n",
      "Date:                Sun, 28 Apr 2024   Pseudo R-squ.:                  0.2020\n",
      "Time:                        05:42:50   Log-Likelihood:                -1105.0\n",
      "converged:                       True   LL-Null:                       -1384.7\n",
      "Covariance Type:                  HC2   LLR p-value:                1.195e-118\n",
      "==============================================================================\n",
      "                 coef    std err          z      P>|z|      [0.025      0.975]\n",
      "------------------------------------------------------------------------------\n",
      "const         -1.2339      0.080    -15.449      0.000      -1.390      -1.077\n",
      "class1         0.8577      0.147      5.815      0.000       0.569       1.147\n",
      "class2        -0.1604      0.150     -1.068      0.285      -0.455       0.134\n",
      "class3        -0.9201      0.162     -5.677      0.000      -1.238      -0.602\n",
      "child          1.0615      0.277      3.837      0.000       0.519       1.604\n",
      "female         2.4201      0.136     17.758      0.000       2.153       2.687\n",
      "==============================================================================\n",
      "Optimization terminated successfully.\n",
      "         Current function value: 0.502058\n",
      "         Iterations 6\n",
      "                           Logit Regression Results                           \n",
      "==============================================================================\n",
      "Dep. Variable:                survive   No. Observations:                 2201\n",
      "Model:                          Logit   Df Residuals:                     2195\n",
      "Method:                           MLE   Df Model:                            5\n",
      "Date:                Sun, 28 Apr 2024   Pseudo R-squ.:                  0.2020\n",
      "Time:                        05:42:50   Log-Likelihood:                -1105.0\n",
      "converged:                       True   LL-Null:                       -1384.7\n",
      "Covariance Type:                  HC3   LLR p-value:                1.195e-118\n",
      "==============================================================================\n",
      "                 coef    std err          z      P>|z|      [0.025      0.975]\n",
      "------------------------------------------------------------------------------\n",
      "const         -1.2339      0.080    -15.449      0.000      -1.390      -1.077\n",
      "class1         0.8577      0.147      5.815      0.000       0.569       1.147\n",
      "class2        -0.1604      0.150     -1.068      0.285      -0.455       0.134\n",
      "class3        -0.9201      0.162     -5.677      0.000      -1.238      -0.602\n",
      "child          1.0615      0.277      3.837      0.000       0.519       1.604\n",
      "female         2.4201      0.136     17.758      0.000       2.153       2.687\n",
      "==============================================================================\n"
     ]
    }
   ],
   "source": [
    "print(model_logit.fit(cov_type='HC0').summary())\n",
    "print(model_logit.fit(cov_type='HC1').summary())\n",
    "print(model_logit.fit(cov_type='HC2').summary())\n",
    "print(model_logit.fit(cov_type='HC3').summary())"
   ]
  },
  {
   "cell_type": "code",
   "execution_count": 108,
   "metadata": {},
   "outputs": [
    {
     "name": "stdout",
     "output_type": "stream",
     "text": [
      "Optimization terminated successfully.\n",
      "         Current function value: 0.502058\n",
      "         Iterations 6\n"
     ]
    },
    {
     "data": {
      "text/plain": [
       "const    -1.233899\n",
       "class1    0.857676\n",
       "class2   -0.160419\n",
       "class3   -0.920086\n",
       "child     1.061542\n",
       "female    2.420060\n",
       "dtype: float64"
      ]
     },
     "execution_count": 108,
     "metadata": {},
     "output_type": "execute_result"
    }
   ],
   "source": [
    "\n",
    "#\n",
    "res.params\n"
   ]
  },
  {
   "cell_type": "code",
   "execution_count": null,
   "metadata": {},
   "outputs": [],
   "source": []
  }
 ],
 "metadata": {
  "kernelspec": {
   "display_name": ".venv",
   "language": "python",
   "name": "python3"
  },
  "language_info": {
   "codemirror_mode": {
    "name": "ipython",
    "version": 3
   },
   "file_extension": ".py",
   "mimetype": "text/x-python",
   "name": "python",
   "nbconvert_exporter": "python",
   "pygments_lexer": "ipython3",
   "version": "3.10.8"
  }
 },
 "nbformat": 4,
 "nbformat_minor": 2
}
