{
 "cells": [
  {
   "cell_type": "markdown",
   "metadata": {},
   "source": [
    "# 第7章 异方差\n",
    "\n",
    "1.画残差图\n",
    "\n",
    "2.BP检验\n",
    "\n",
    "3.white检验\n",
    "\n",
    "4.WLS\n",
    "\n",
    "案例：\n",
    "回归函数：$$lntc = \\beta_0 + \\beta_1 lnq + \\beta_2 lnpl + \\beta_3 lnpk + \\beta_4 lnpf + \\epsilon$$"
   ]
  },
  {
   "cell_type": "code",
   "execution_count": null,
   "metadata": {},
   "outputs": [],
   "source": [
    "# 包+数据\n",
    "\n",
    "import pandas as pd\n",
    "import numpy as np\n",
    "import statsmodels.api as sm\n",
    "import seaborn as sns\n",
    "\n",
    "data = pd.read_stata('../2_Data/Data-2e/nerlove.dta')\n",
    "data.head()"
   ]
  },
  {
   "cell_type": "code",
   "execution_count": null,
   "metadata": {},
   "outputs": [],
   "source": [
    "# 锁定数据\n",
    "nerlove = data\n",
    "\n",
    "# OLS\n",
    "X = nerlove[['lnq','lnpl','lnpk','lnpf']]\n",
    "y = nerlove['lntc']\n",
    "X = sm.add_constant(X)\n",
    "model = sm.OLS(y,X)\n",
    "results = model.fit()\n",
    "print(results.summary())\n",
    "\n",
    "# 形成拟合值和残差的散点图？\n",
    "# Y轴是残差，x轴是拟合值\n",
    "nerlove['resid'] = results.resid\n",
    "nerlove['fitted'] = results.fittedvalues\n",
    "nerlove.head()\n",
    "sns.set_theme(style='darkgrid')\n",
    "sns.scatterplot(x='fitted',y='resid',data=nerlove)"
   ]
  },
  {
   "cell_type": "markdown",
   "metadata": {},
   "source": [
    "当拟合值越小时，残差的波动较大，而随着拟合值增加，方差越来越小。"
   ]
  },
  {
   "cell_type": "code",
   "execution_count": null,
   "metadata": {},
   "outputs": [],
   "source": [
    "# 残差与解释变量lnq之间的比较\n",
    "sns.scatterplot(x='lnq',y='resid',data=nerlove)"
   ]
  },
  {
   "cell_type": "code",
   "execution_count": null,
   "metadata": {},
   "outputs": [],
   "source": [
    "# BP检验\n",
    "from statsmodels.stats.diagnostic import het_breuschpagan\n",
    "\n",
    "# 与解释变量进行BP检验\n",
    "result_bptest = het_breuschpagan(resid=results.resid,exog_het=X)\n",
    "print('LM:{}'.format(result_bptest[0]))\n",
    "print('LM_pvalue:{}'.format(result_bptest[1]))\n",
    "print('F:{}'.format(result_bptest[2]))\n",
    "print('F_pvalue:{}'.format(result_bptest[3]))"
   ]
  },
  {
   "cell_type": "markdown",
   "metadata": {},
   "source": [
    "对所有解释变量进行BP检验的结果是拒绝原假设，那么就是存在异方差的。\n",
    "\n",
    "与拟合值进行BP检验，对某个变量进行BP检验，这么操作的意义何在？\n"
   ]
  },
  {
   "cell_type": "code",
   "execution_count": null,
   "metadata": {},
   "outputs": [],
   "source": [
    "# white检验\n",
    "from statsmodels.stats.diagnostic import het_white\n",
    "\n",
    "result_white = het_white(resid=results.resid,exog=X)\n",
    "result_white"
   ]
  },
  {
   "cell_type": "markdown",
   "metadata": {},
   "source": [
    "## FWLS的计算\n",
    "### 估计$\\sigma_i^2$\n",
    "1. 先对辅助回归进行拟合，假设lne2是lnq的线性函数 <-- 这个很重要\n",
    "- X $lnq$\n",
    "- y :$ln(e^2)$\n",
    "2. 得到y的预测值，用预测值算权重 $1/\\hat\\sigma_i^2$"
   ]
  },
  {
   "cell_type": "code",
   "execution_count": null,
   "metadata": {},
   "outputs": [],
   "source": [
    "# WLS\n",
    "## 第一步：计算异方差因子\n",
    "from math import log, exp\n",
    "\n",
    "## 这里的核心问题是如何设置条件方差函数\n",
    "X = nerlove[['lnq']]\n",
    "y_lne2 = results.resid.apply(lambda x: log(float(x)**2))\n",
    "# X = sm.add_constant(X) # 无常数项，拟合优度更高\n",
    "model_lne2 = sm.OLS(y_lne2,X)\n",
    "results_lne2 = model_lne2.fit()\n",
    "print(results_lne2.summary())\n",
    "aw = results_lne2.fittedvalues.apply(lambda x: exp(x))"
   ]
  },
  {
   "cell_type": "code",
   "execution_count": null,
   "metadata": {},
   "outputs": [],
   "source": [
    "## 第二步：代入模型，WLS进行回归\n",
    "X = nerlove[['lnq','lnpl','lnpk','lnpf']]\n",
    "y = y = nerlove['lntc']\n",
    "X = sm.add_constant(X)\n",
    "model_fwls = sm.WLS(y,X,weights=1/aw)\n",
    "results_fwls = model_fwls.fit()\n",
    "print(results_fwls.summary())"
   ]
  },
  {
   "cell_type": "markdown",
   "metadata": {},
   "source": [
    "上面的过程相对复杂，直接进行封装方便后续调用\n",
    "\n",
    "使用 `from chapter_07 import Wls` 调用本章所需用的函数"
   ]
  },
  {
   "cell_type": "code",
   "execution_count": 5,
   "metadata": {},
   "outputs": [
    {
     "name": "stdout",
     "output_type": "stream",
     "text": [
      "                            OLS Regression Results                            \n",
      "==============================================================================\n",
      "Dep. Variable:                   lntc   R-squared:                       0.926\n",
      "Model:                            OLS   Adj. R-squared:                  0.924\n",
      "Method:                 Least Squares   F-statistic:                     437.9\n",
      "Date:                Tue, 16 Apr 2024   Prob (F-statistic):           4.67e-78\n",
      "Time:                        22:21:20   Log-Likelihood:                -67.509\n",
      "No. Observations:                 145   AIC:                             145.0\n",
      "Df Residuals:                     140   BIC:                             159.9\n",
      "Df Model:                           4                                         \n",
      "Covariance Type:            nonrobust                                         \n",
      "==============================================================================\n",
      "                 coef    std err          t      P>|t|      [0.025      0.975]\n",
      "------------------------------------------------------------------------------\n",
      "const         -3.5665      1.779     -2.004      0.047      -7.084      -0.049\n",
      "lnq            0.7209      0.017     41.352      0.000       0.686       0.755\n",
      "lnpl           0.4560      0.300      1.521      0.131      -0.137       1.049\n",
      "lnpk          -0.2151      0.340     -0.633      0.528      -0.887       0.457\n",
      "lnpf           0.4258      0.100      4.244      0.000       0.227       0.624\n",
      "==============================================================================\n",
      "Omnibus:                       50.626   Durbin-Watson:                   1.008\n",
      "Prob(Omnibus):                  0.000   Jarque-Bera (JB):              169.550\n",
      "Skew:                           1.290   Prob(JB):                     1.52e-37\n",
      "Kurtosis:                       7.627   Cond. No.                         508.\n",
      "==============================================================================\n",
      "\n",
      "Notes:\n",
      "[1] Standard Errors assume that the covariance matrix of the errors is correctly specified.\n",
      "                            WLS Regression Results                            \n",
      "==============================================================================\n",
      "Dep. Variable:                   lntc   R-squared:                       0.962\n",
      "Model:                            WLS   Adj. R-squared:                  0.961\n",
      "Method:                 Least Squares   F-statistic:                     895.0\n",
      "Date:                Tue, 16 Apr 2024   Prob (F-statistic):           1.33e-98\n",
      "Time:                        22:21:20   Log-Likelihood:                -13.193\n",
      "No. Observations:                 145   AIC:                             36.39\n",
      "Df Residuals:                     140   BIC:                             51.27\n",
      "Df Model:                           4                                         \n",
      "Covariance Type:            nonrobust                                         \n",
      "==============================================================================\n",
      "                 coef    std err          t      P>|t|      [0.025      0.975]\n",
      "------------------------------------------------------------------------------\n",
      "const         -5.5221      0.993     -5.562      0.000      -7.485      -3.559\n",
      "lnq            0.8759      0.015     56.936      0.000       0.845       0.906\n",
      "lnpl           0.5604      0.173      3.232      0.002       0.218       0.903\n",
      "lnpk          -0.0930      0.196     -0.474      0.636      -0.481       0.295\n",
      "lnpf           0.4672      0.062      7.579      0.000       0.345       0.589\n",
      "==============================================================================\n",
      "Omnibus:                       20.127   Durbin-Watson:                   1.271\n",
      "Prob(Omnibus):                  0.000   Jarque-Bera (JB):               26.477\n",
      "Skew:                           0.800   Prob(JB):                     1.78e-06\n",
      "Kurtosis:                       4.351   Cond. No.                         556.\n",
      "==============================================================================\n",
      "\n",
      "Notes:\n",
      "[1] Standard Errors assume that the covariance matrix of the errors is correctly specified.\n"
     ]
    }
   ],
   "source": [
    "from chapter_07 import Wls\n",
    "import pandas as pd\n",
    "\n",
    "nerlove = pd.read_stata('../2_Data/Data-2e/nerlove.dta')\n",
    "\n",
    "nerlove_wls = Wls(data=nerlove,\n",
    "          X_ls=['lnq','lnpl','lnpk','lnpf'], \n",
    "          y='lntc',\n",
    "          X_aux=['lnq'])\n",
    "\n",
    "print(nerlove_wls.results_ols.summary())\n",
    "print(nerlove_wls.results_fwls.summary())"
   ]
  },
  {
   "cell_type": "markdown",
   "metadata": {},
   "source": [
    "## 习题\n",
    "\n",
    "### 7.2"
   ]
  },
  {
   "cell_type": "code",
   "execution_count": 3,
   "metadata": {},
   "outputs": [
    {
     "name": "stdout",
     "output_type": "stream",
     "text": [
      "(69.87097915783426, 2.4167583027052618e-14, 20.065943152830997, 2.4276216203999457e-15)\n",
      "(143.97523776926755, 1.1471094032343541e-23, 13.947712406095363, 3.741482710757688e-28)\n"
     ]
    }
   ],
   "source": [
    "from chapter_07 import Wls\n",
    "import pandas as pd\n",
    "\n",
    "hprice = pd.read_stata('../2_Data/Data-2e/hprice2a.dta')\n",
    "\n",
    "hprice_wls = Wls(data=hprice,\n",
    "                 X_ls=['lnox','ldist','rooms','stratio'],\n",
    "                 y = 'lprice',\n",
    "                 X_aux='lnox')\n",
    "\n",
    "print(hprice_wls.bp_test('ols'))\n",
    "## 拒绝原假设，存在异方差\n",
    "print(hprice_wls.white_test('ols'))\n",
    "## 拒绝原假设，存在异方差"
   ]
  },
  {
   "cell_type": "markdown",
   "metadata": {},
   "source": [
    "### 7.3\n",
    "\n",
    "（1）观察food_exp和income的关系，绘制散点图。"
   ]
  },
  {
   "cell_type": "code",
   "execution_count": 18,
   "metadata": {},
   "outputs": [
    {
     "data": {
      "text/plain": [
       "<Axes: xlabel='income', ylabel='food_exp'>"
      ]
     },
     "execution_count": 18,
     "metadata": {},
     "output_type": "execute_result"
    },
    {
     "data": {
      "image/png": "[encoded data removed]",
      "text/plain": [
       "<Figure size 640x480 with 1 Axes>"
      ]
     },
     "metadata": {},
     "output_type": "display_data"
    }
   ],
   "source": [
    "from chapter_07 import Wls\n",
    "import seaborn as sns\n",
    "\n",
    "food = pd.read_stata('../2_Data/Data-2e/food.dta')\n",
    "food.head(),food.describe()\n",
    "\n",
    "Food_ols = Wls(data=food,\n",
    "           X_ls=['income'],\n",
    "           y='food_exp',\n",
    "           X_aux=['income'])\n",
    "\n",
    "sns.regplot(x='income', y='food_exp', data=food)\n",
    "# 有异方差，随收入增加不断扩大"
   ]
  },
  {
   "cell_type": "markdown",
   "metadata": {},
   "source": [
    "（2） 将food_exp和income进行回归"
   ]
  },
  {
   "cell_type": "code",
   "execution_count": 19,
   "metadata": {},
   "outputs": [
    {
     "data": {
      "text/html": [
       "<table class=\"simpletable\">\n",
       "<caption>OLS Regression Results</caption>\n",
       "<tr>\n",
       "  <th>Dep. Variable:</th>        <td>food_exp</td>     <th>  R-squared:         </th> <td>   0.385</td>\n",
       "</tr>\n",
       "<tr>\n",
       "  <th>Model:</th>                   <td>OLS</td>       <th>  Adj. R-squared:    </th> <td>   0.369</td>\n",
       "</tr>\n",
       "<tr>\n",
       "  <th>Method:</th>             <td>Least Squares</td>  <th>  F-statistic:       </th> <td>   23.79</td>\n",
       "</tr>\n",
       "<tr>\n",
       "  <th>Date:</th>             <td>Tue, 16 Apr 2024</td> <th>  Prob (F-statistic):</th> <td>1.95e-05</td>\n",
       "</tr>\n",
       "<tr>\n",
       "  <th>Time:</th>                 <td>23:22:11</td>     <th>  Log-Likelihood:    </th> <td> -235.51</td>\n",
       "</tr>\n",
       "<tr>\n",
       "  <th>No. Observations:</th>      <td>    40</td>      <th>  AIC:               </th> <td>   475.0</td>\n",
       "</tr>\n",
       "<tr>\n",
       "  <th>Df Residuals:</th>          <td>    38</td>      <th>  BIC:               </th> <td>   478.4</td>\n",
       "</tr>\n",
       "<tr>\n",
       "  <th>Df Model:</th>              <td>     1</td>      <th>                     </th>     <td> </td>   \n",
       "</tr>\n",
       "<tr>\n",
       "  <th>Covariance Type:</th>      <td>nonrobust</td>    <th>                     </th>     <td> </td>   \n",
       "</tr>\n",
       "</table>\n",
       "<table class=\"simpletable\">\n",
       "<tr>\n",
       "     <td></td>       <th>coef</th>     <th>std err</th>      <th>t</th>      <th>P>|t|</th>  <th>[0.025</th>    <th>0.975]</th>  \n",
       "</tr>\n",
       "<tr>\n",
       "  <th>const</th>  <td>   83.4160</td> <td>   43.410</td> <td>    1.922</td> <td> 0.062</td> <td>   -4.463</td> <td>  171.295</td>\n",
       "</tr>\n",
       "<tr>\n",
       "  <th>income</th> <td>    0.1021</td> <td>    0.021</td> <td>    4.877</td> <td> 0.000</td> <td>    0.060</td> <td>    0.144</td>\n",
       "</tr>\n",
       "</table>\n",
       "<table class=\"simpletable\">\n",
       "<tr>\n",
       "  <th>Omnibus:</th>       <td> 0.277</td> <th>  Durbin-Watson:     </th> <td>   1.894</td>\n",
       "</tr>\n",
       "<tr>\n",
       "  <th>Prob(Omnibus):</th> <td> 0.870</td> <th>  Jarque-Bera (JB):  </th> <td>   0.063</td>\n",
       "</tr>\n",
       "<tr>\n",
       "  <th>Skew:</th>          <td>-0.097</td> <th>  Prob(JB):          </th> <td>   0.969</td>\n",
       "</tr>\n",
       "<tr>\n",
       "  <th>Kurtosis:</th>      <td> 2.989</td> <th>  Cond. No.          </th> <td>6.36e+03</td>\n",
       "</tr>\n",
       "</table><br/><br/>Notes:<br/>[1] Standard Errors assume that the covariance matrix of the errors is correctly specified.<br/>[2] The condition number is large, 6.36e+03. This might indicate that there are<br/>strong multicollinearity or other numerical problems."
      ],
      "text/latex": [
       "\\begin{center}\n",
       "\\begin{tabular}{lclc}\n",
       "\\toprule\n",
       "\\textbf{Dep. Variable:}    &    food\\_exp     & \\textbf{  R-squared:         } &     0.385   \\\\\n",
       "\\textbf{Model:}            &       OLS        & \\textbf{  Adj. R-squared:    } &     0.369   \\\\\n",
       "\\textbf{Method:}           &  Least Squares   & \\textbf{  F-statistic:       } &     23.79   \\\\\n",
       "\\textbf{Date:}             & Tue, 16 Apr 2024 & \\textbf{  Prob (F-statistic):} &  1.95e-05   \\\\\n",
       "\\textbf{Time:}             &     23:22:11     & \\textbf{  Log-Likelihood:    } &   -235.51   \\\\\n",
       "\\textbf{No. Observations:} &          40      & \\textbf{  AIC:               } &     475.0   \\\\\n",
       "\\textbf{Df Residuals:}     &          38      & \\textbf{  BIC:               } &     478.4   \\\\\n",
       "\\textbf{Df Model:}         &           1      & \\textbf{                     } &             \\\\\n",
       "\\textbf{Covariance Type:}  &    nonrobust     & \\textbf{                     } &             \\\\\n",
       "\\bottomrule\n",
       "\\end{tabular}\n",
       "\\begin{tabular}{lcccccc}\n",
       "                & \\textbf{coef} & \\textbf{std err} & \\textbf{t} & \\textbf{P$> |$t$|$} & \\textbf{[0.025} & \\textbf{0.975]}  \\\\\n",
       "\\midrule\n",
       "\\textbf{const}  &      83.4160  &       43.410     &     1.922  &         0.062        &       -4.463    &      171.295     \\\\\n",
       "\\textbf{income} &       0.1021  &        0.021     &     4.877  &         0.000        &        0.060    &        0.144     \\\\\n",
       "\\bottomrule\n",
       "\\end{tabular}\n",
       "\\begin{tabular}{lclc}\n",
       "\\textbf{Omnibus:}       &  0.277 & \\textbf{  Durbin-Watson:     } &    1.894  \\\\\n",
       "\\textbf{Prob(Omnibus):} &  0.870 & \\textbf{  Jarque-Bera (JB):  } &    0.063  \\\\\n",
       "\\textbf{Skew:}          & -0.097 & \\textbf{  Prob(JB):          } &    0.969  \\\\\n",
       "\\textbf{Kurtosis:}      &  2.989 & \\textbf{  Cond. No.          } & 6.36e+03  \\\\\n",
       "\\bottomrule\n",
       "\\end{tabular}\n",
       "%\\caption{OLS Regression Results}\n",
       "\\end{center}\n",
       "\n",
       "Notes: \\newline\n",
       " [1] Standard Errors assume that the covariance matrix of the errors is correctly specified. \\newline\n",
       " [2] The condition number is large, 6.36e+03. This might indicate that there are \\newline\n",
       " strong multicollinearity or other numerical problems."
      ],
      "text/plain": [
       "<class 'statsmodels.iolib.summary.Summary'>\n",
       "\"\"\"\n",
       "                            OLS Regression Results                            \n",
       "==============================================================================\n",
       "Dep. Variable:               food_exp   R-squared:                       0.385\n",
       "Model:                            OLS   Adj. R-squared:                  0.369\n",
       "Method:                 Least Squares   F-statistic:                     23.79\n",
       "Date:                Tue, 16 Apr 2024   Prob (F-statistic):           1.95e-05\n",
       "Time:                        23:22:11   Log-Likelihood:                -235.51\n",
       "No. Observations:                  40   AIC:                             475.0\n",
       "Df Residuals:                      38   BIC:                             478.4\n",
       "Df Model:                           1                                         \n",
       "Covariance Type:            nonrobust                                         \n",
       "==============================================================================\n",
       "                 coef    std err          t      P>|t|      [0.025      0.975]\n",
       "------------------------------------------------------------------------------\n",
       "const         83.4160     43.410      1.922      0.062      -4.463     171.295\n",
       "income         0.1021      0.021      4.877      0.000       0.060       0.144\n",
       "==============================================================================\n",
       "Omnibus:                        0.277   Durbin-Watson:                   1.894\n",
       "Prob(Omnibus):                  0.870   Jarque-Bera (JB):                0.063\n",
       "Skew:                          -0.097   Prob(JB):                        0.969\n",
       "Kurtosis:                       2.989   Cond. No.                     6.36e+03\n",
       "==============================================================================\n",
       "\n",
       "Notes:\n",
       "[1] Standard Errors assume that the covariance matrix of the errors is correctly specified.\n",
       "[2] The condition number is large, 6.36e+03. This might indicate that there are\n",
       "strong multicollinearity or other numerical problems.\n",
       "\"\"\""
      ]
     },
     "execution_count": 19,
     "metadata": {},
     "output_type": "execute_result"
    }
   ],
   "source": [
    "Food_ols.results_ols.summary()"
   ]
  },
  {
   "cell_type": "markdown",
   "metadata": {},
   "source": [
    "（3） BP 检验\n",
    "LM-pvalue  0.0065 F-pvalue  0.0056  都小于0.05 拒绝原假设，存在异方差\n",
    "\n",
    "（4）white 检验\n",
    "LM-pvalue  0.0228 F-pvalue  0.0208  都小于0.05 拒绝原假设，存在异方差"
   ]
  },
  {
   "cell_type": "code",
   "execution_count": 21,
   "metadata": {},
   "outputs": [
    {
     "name": "stdout",
     "output_type": "stream",
     "text": [
      "(7.3844240587505094, 0.006579113446024876, 8.603500203031192, 0.005659104079711393)\n",
      "(7.55507758692048, 0.022878931963884342, 4.307883174400312, 0.020801988382372363)\n"
     ]
    }
   ],
   "source": [
    "print(Food_ols.bp_test('ols'))\n",
    "\n",
    "print(Food_ols.white_test('ols'))"
   ]
  },
  {
   "cell_type": "markdown",
   "metadata": {},
   "source": [
    "（5）定义食物开支比例 food_share = food_exp / income\n",
    "上面的过程再来一遍（6）（7）（8）"
   ]
  },
  {
   "cell_type": "code",
   "execution_count": 22,
   "metadata": {},
   "outputs": [
    {
     "data": {
      "text/html": [
       "<div>\n",
       "<style scoped>\n",
       "    .dataframe tbody tr th:only-of-type {\n",
       "        vertical-align: middle;\n",
       "    }\n",
       "\n",
       "    .dataframe tbody tr th {\n",
       "        vertical-align: top;\n",
       "    }\n",
       "\n",
       "    .dataframe thead th {\n",
       "        text-align: right;\n",
       "    }\n",
       "</style>\n",
       "<table border=\"1\" class=\"dataframe\">\n",
       "  <thead>\n",
       "    <tr style=\"text-align: right;\">\n",
       "      <th></th>\n",
       "      <th>food_exp</th>\n",
       "      <th>income</th>\n",
       "      <th>food_share</th>\n",
       "    </tr>\n",
       "  </thead>\n",
       "  <tbody>\n",
       "    <tr>\n",
       "      <th>0</th>\n",
       "      <td>115.220001</td>\n",
       "      <td>369.0</td>\n",
       "      <td>0.312249</td>\n",
       "    </tr>\n",
       "    <tr>\n",
       "      <th>1</th>\n",
       "      <td>135.979996</td>\n",
       "      <td>439.0</td>\n",
       "      <td>0.309749</td>\n",
       "    </tr>\n",
       "    <tr>\n",
       "      <th>2</th>\n",
       "      <td>119.339996</td>\n",
       "      <td>475.0</td>\n",
       "      <td>0.251242</td>\n",
       "    </tr>\n",
       "    <tr>\n",
       "      <th>3</th>\n",
       "      <td>114.959999</td>\n",
       "      <td>603.0</td>\n",
       "      <td>0.190647</td>\n",
       "    </tr>\n",
       "    <tr>\n",
       "      <th>4</th>\n",
       "      <td>187.050003</td>\n",
       "      <td>1247.0</td>\n",
       "      <td>0.150000</td>\n",
       "    </tr>\n",
       "  </tbody>\n",
       "</table>\n",
       "</div>"
      ],
      "text/plain": [
       "     food_exp  income  food_share\n",
       "0  115.220001   369.0    0.312249\n",
       "1  135.979996   439.0    0.309749\n",
       "2  119.339996   475.0    0.251242\n",
       "3  114.959999   603.0    0.190647\n",
       "4  187.050003  1247.0    0.150000"
      ]
     },
     "execution_count": 22,
     "metadata": {},
     "output_type": "execute_result"
    }
   ],
   "source": [
    "food_share = food.copy()\n",
    "food_share['food_share'] = food_share['food_exp']/food_share['income']\n",
    "food_share.head()"
   ]
  },
  {
   "cell_type": "code",
   "execution_count": 24,
   "metadata": {},
   "outputs": [
    {
     "data": {
      "text/plain": [
       "<Axes: xlabel='income', ylabel='food_share'>"
      ]
     },
     "execution_count": 24,
     "metadata": {},
     "output_type": "execute_result"
    },
    {
     "data": {
      "image/png": "[encoded data removed]",
      "text/plain": [
       "<Figure size 640x480 with 1 Axes>"
      ]
     },
     "metadata": {},
     "output_type": "display_data"
    }
   ],
   "source": [
    "sns.regplot(x='income', y='food_share', data=food_share)\n",
    "# 好像也有异方差，不敢确定"
   ]
  },
  {
   "cell_type": "code",
   "execution_count": 25,
   "metadata": {},
   "outputs": [
    {
     "data": {
      "text/html": [
       "<table class=\"simpletable\">\n",
       "<caption>OLS Regression Results</caption>\n",
       "<tr>\n",
       "  <th>Dep. Variable:</th>       <td>food_share</td>    <th>  R-squared:         </th> <td>   0.391</td>\n",
       "</tr>\n",
       "<tr>\n",
       "  <th>Model:</th>                   <td>OLS</td>       <th>  Adj. R-squared:    </th> <td>   0.375</td>\n",
       "</tr>\n",
       "<tr>\n",
       "  <th>Method:</th>             <td>Least Squares</td>  <th>  F-statistic:       </th> <td>   24.39</td>\n",
       "</tr>\n",
       "<tr>\n",
       "  <th>Date:</th>             <td>Tue, 16 Apr 2024</td> <th>  Prob (F-statistic):</th> <td>1.61e-05</td>\n",
       "</tr>\n",
       "<tr>\n",
       "  <th>Time:</th>                 <td>23:31:39</td>     <th>  Log-Likelihood:    </th> <td>  67.984</td>\n",
       "</tr>\n",
       "<tr>\n",
       "  <th>No. Observations:</th>      <td>    40</td>      <th>  AIC:               </th> <td>  -132.0</td>\n",
       "</tr>\n",
       "<tr>\n",
       "  <th>Df Residuals:</th>          <td>    38</td>      <th>  BIC:               </th> <td>  -128.6</td>\n",
       "</tr>\n",
       "<tr>\n",
       "  <th>Df Model:</th>              <td>     1</td>      <th>                     </th>     <td> </td>   \n",
       "</tr>\n",
       "<tr>\n",
       "  <th>Covariance Type:</th>      <td>nonrobust</td>    <th>                     </th>     <td> </td>   \n",
       "</tr>\n",
       "</table>\n",
       "<table class=\"simpletable\">\n",
       "<tr>\n",
       "     <td></td>       <th>coef</th>     <th>std err</th>      <th>t</th>      <th>P>|t|</th>  <th>[0.025</th>    <th>0.975]</th>  \n",
       "</tr>\n",
       "<tr>\n",
       "  <th>const</th>  <td>    0.2596</td> <td>    0.022</td> <td>   11.799</td> <td> 0.000</td> <td>    0.215</td> <td>    0.304</td>\n",
       "</tr>\n",
       "<tr>\n",
       "  <th>income</th> <td> -5.24e-05</td> <td> 1.06e-05</td> <td>   -4.939</td> <td> 0.000</td> <td>-7.39e-05</td> <td>-3.09e-05</td>\n",
       "</tr>\n",
       "</table>\n",
       "<table class=\"simpletable\">\n",
       "<tr>\n",
       "  <th>Omnibus:</th>       <td> 1.692</td> <th>  Durbin-Watson:     </th> <td>   1.569</td>\n",
       "</tr>\n",
       "<tr>\n",
       "  <th>Prob(Omnibus):</th> <td> 0.429</td> <th>  Jarque-Bera (JB):  </th> <td>   1.148</td>\n",
       "</tr>\n",
       "<tr>\n",
       "  <th>Skew:</th>          <td> 0.101</td> <th>  Prob(JB):          </th> <td>   0.563</td>\n",
       "</tr>\n",
       "<tr>\n",
       "  <th>Kurtosis:</th>      <td> 2.195</td> <th>  Cond. No.          </th> <td>6.36e+03</td>\n",
       "</tr>\n",
       "</table><br/><br/>Notes:<br/>[1] Standard Errors assume that the covariance matrix of the errors is correctly specified.<br/>[2] The condition number is large, 6.36e+03. This might indicate that there are<br/>strong multicollinearity or other numerical problems."
      ],
      "text/latex": [
       "\\begin{center}\n",
       "\\begin{tabular}{lclc}\n",
       "\\toprule\n",
       "\\textbf{Dep. Variable:}    &   food\\_share    & \\textbf{  R-squared:         } &     0.391   \\\\\n",
       "\\textbf{Model:}            &       OLS        & \\textbf{  Adj. R-squared:    } &     0.375   \\\\\n",
       "\\textbf{Method:}           &  Least Squares   & \\textbf{  F-statistic:       } &     24.39   \\\\\n",
       "\\textbf{Date:}             & Tue, 16 Apr 2024 & \\textbf{  Prob (F-statistic):} &  1.61e-05   \\\\\n",
       "\\textbf{Time:}             &     23:31:39     & \\textbf{  Log-Likelihood:    } &    67.984   \\\\\n",
       "\\textbf{No. Observations:} &          40      & \\textbf{  AIC:               } &    -132.0   \\\\\n",
       "\\textbf{Df Residuals:}     &          38      & \\textbf{  BIC:               } &    -128.6   \\\\\n",
       "\\textbf{Df Model:}         &           1      & \\textbf{                     } &             \\\\\n",
       "\\textbf{Covariance Type:}  &    nonrobust     & \\textbf{                     } &             \\\\\n",
       "\\bottomrule\n",
       "\\end{tabular}\n",
       "\\begin{tabular}{lcccccc}\n",
       "                & \\textbf{coef} & \\textbf{std err} & \\textbf{t} & \\textbf{P$> |$t$|$} & \\textbf{[0.025} & \\textbf{0.975]}  \\\\\n",
       "\\midrule\n",
       "\\textbf{const}  &       0.2596  &        0.022     &    11.799  &         0.000        &        0.215    &        0.304     \\\\\n",
       "\\textbf{income} &    -5.24e-05  &     1.06e-05     &    -4.939  &         0.000        &    -7.39e-05    &    -3.09e-05     \\\\\n",
       "\\bottomrule\n",
       "\\end{tabular}\n",
       "\\begin{tabular}{lclc}\n",
       "\\textbf{Omnibus:}       &  1.692 & \\textbf{  Durbin-Watson:     } &    1.569  \\\\\n",
       "\\textbf{Prob(Omnibus):} &  0.429 & \\textbf{  Jarque-Bera (JB):  } &    1.148  \\\\\n",
       "\\textbf{Skew:}          &  0.101 & \\textbf{  Prob(JB):          } &    0.563  \\\\\n",
       "\\textbf{Kurtosis:}      &  2.195 & \\textbf{  Cond. No.          } & 6.36e+03  \\\\\n",
       "\\bottomrule\n",
       "\\end{tabular}\n",
       "%\\caption{OLS Regression Results}\n",
       "\\end{center}\n",
       "\n",
       "Notes: \\newline\n",
       " [1] Standard Errors assume that the covariance matrix of the errors is correctly specified. \\newline\n",
       " [2] The condition number is large, 6.36e+03. This might indicate that there are \\newline\n",
       " strong multicollinearity or other numerical problems."
      ],
      "text/plain": [
       "<class 'statsmodels.iolib.summary.Summary'>\n",
       "\"\"\"\n",
       "                            OLS Regression Results                            \n",
       "==============================================================================\n",
       "Dep. Variable:             food_share   R-squared:                       0.391\n",
       "Model:                            OLS   Adj. R-squared:                  0.375\n",
       "Method:                 Least Squares   F-statistic:                     24.39\n",
       "Date:                Tue, 16 Apr 2024   Prob (F-statistic):           1.61e-05\n",
       "Time:                        23:31:39   Log-Likelihood:                 67.984\n",
       "No. Observations:                  40   AIC:                            -132.0\n",
       "Df Residuals:                      38   BIC:                            -128.6\n",
       "Df Model:                           1                                         \n",
       "Covariance Type:            nonrobust                                         \n",
       "==============================================================================\n",
       "                 coef    std err          t      P>|t|      [0.025      0.975]\n",
       "------------------------------------------------------------------------------\n",
       "const          0.2596      0.022     11.799      0.000       0.215       0.304\n",
       "income      -5.24e-05   1.06e-05     -4.939      0.000   -7.39e-05   -3.09e-05\n",
       "==============================================================================\n",
       "Omnibus:                        1.692   Durbin-Watson:                   1.569\n",
       "Prob(Omnibus):                  0.429   Jarque-Bera (JB):                1.148\n",
       "Skew:                           0.101   Prob(JB):                        0.563\n",
       "Kurtosis:                       2.195   Cond. No.                     6.36e+03\n",
       "==============================================================================\n",
       "\n",
       "Notes:\n",
       "[1] Standard Errors assume that the covariance matrix of the errors is correctly specified.\n",
       "[2] The condition number is large, 6.36e+03. This might indicate that there are\n",
       "strong multicollinearity or other numerical problems.\n",
       "\"\"\""
      ]
     },
     "execution_count": 25,
     "metadata": {},
     "output_type": "execute_result"
    }
   ],
   "source": [
    "Food_share_ols = Wls(data=food_share,\n",
    "           X_ls=['income'],\n",
    "           y='food_share',\n",
    "           X_aux=['income'])\n",
    "\n",
    "Food_share_ols.results_ols.summary()"
   ]
  },
  {
   "cell_type": "code",
   "execution_count": 26,
   "metadata": {},
   "outputs": [
    {
     "name": "stdout",
     "output_type": "stream",
     "text": [
      "(0.08183804684301244, 0.7748218284388266, 0.07790553542229078, 0.781669587073842)\n",
      "(2.6025904990189908, 0.2721790248734759, 1.2874668292355458, 0.2880436320112215)\n"
     ]
    }
   ],
   "source": [
    "print(Food_share_ols.bp_test('ols'))\n",
    "print(Food_share_ols.white_test('ols'))\n",
    "\n",
    "# 5%的显著性水平下，可以接受原假设，不存在异方差。"
   ]
  },
  {
   "cell_type": "code",
   "execution_count": null,
   "metadata": {},
   "outputs": [],
   "source": []
  }
 ],
 "metadata": {
  "kernelspec": {
   "display_name": ".venv",
   "language": "python",
   "name": "python3"
  },
  "language_info": {
   "codemirror_mode": {
    "name": "ipython",
    "version": 3
   },
   "file_extension": ".py",
   "mimetype": "text/x-python",
   "name": "python",
   "nbconvert_exporter": "python",
   "pygments_lexer": "ipython3",
   "version": "3.10.8"
  }
 },
 "nbformat": 4,
 "nbformat_minor": 2
}
