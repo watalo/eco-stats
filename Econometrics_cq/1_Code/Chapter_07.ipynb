{
 "cells": [
  {
   "cell_type": "markdown",
   "metadata": {},
   "source": [
    "# 第7章 异方差\n",
    "\n",
    "1.画残差图\n",
    "\n",
    "2.BP检验\n",
    "\n",
    "3.white检验\n",
    "\n",
    "4.WLS\n",
    "\n",
    "案例：\n",
    "回归函数：$$lntc = \\beta_0 + \\beta_1 lnq + \\beta_2 lnpl + \\beta_3 lnpk + \\beta_4 lnpf + \\epsilon$$"
   ]
  },
  {
   "cell_type": "code",
   "execution_count": 1,
   "metadata": {},
   "outputs": [
    {
     "data": {
      "text/html": [
       "<div>\n",
       "<style scoped>\n",
       "    .dataframe tbody tr th:only-of-type {\n",
       "        vertical-align: middle;\n",
       "    }\n",
       "\n",
       "    .dataframe tbody tr th {\n",
       "        vertical-align: top;\n",
       "    }\n",
       "\n",
       "    .dataframe thead th {\n",
       "        text-align: right;\n",
       "    }\n",
       "</style>\n",
       "<table border=\"1\" class=\"dataframe\">\n",
       "  <thead>\n",
       "    <tr style=\"text-align: right;\">\n",
       "      <th></th>\n",
       "      <th>tc</th>\n",
       "      <th>q</th>\n",
       "      <th>pl</th>\n",
       "      <th>pf</th>\n",
       "      <th>pk</th>\n",
       "      <th>lntc</th>\n",
       "      <th>lnq</th>\n",
       "      <th>lnpf</th>\n",
       "      <th>lnpk</th>\n",
       "      <th>lnpl</th>\n",
       "    </tr>\n",
       "  </thead>\n",
       "  <tbody>\n",
       "    <tr>\n",
       "      <th>0</th>\n",
       "      <td>0.082</td>\n",
       "      <td>2</td>\n",
       "      <td>2.1</td>\n",
       "      <td>17.900000</td>\n",
       "      <td>183</td>\n",
       "      <td>-2.501036</td>\n",
       "      <td>0.693147</td>\n",
       "      <td>2.884801</td>\n",
       "      <td>5.209486</td>\n",
       "      <td>0.741937</td>\n",
       "    </tr>\n",
       "    <tr>\n",
       "      <th>1</th>\n",
       "      <td>0.661</td>\n",
       "      <td>3</td>\n",
       "      <td>2.1</td>\n",
       "      <td>35.099998</td>\n",
       "      <td>174</td>\n",
       "      <td>-0.414001</td>\n",
       "      <td>1.098612</td>\n",
       "      <td>3.558201</td>\n",
       "      <td>5.159055</td>\n",
       "      <td>0.741937</td>\n",
       "    </tr>\n",
       "    <tr>\n",
       "      <th>2</th>\n",
       "      <td>0.990</td>\n",
       "      <td>4</td>\n",
       "      <td>2.1</td>\n",
       "      <td>35.099998</td>\n",
       "      <td>171</td>\n",
       "      <td>-0.010050</td>\n",
       "      <td>1.386294</td>\n",
       "      <td>3.558201</td>\n",
       "      <td>5.141664</td>\n",
       "      <td>0.741937</td>\n",
       "    </tr>\n",
       "    <tr>\n",
       "      <th>3</th>\n",
       "      <td>0.315</td>\n",
       "      <td>4</td>\n",
       "      <td>1.8</td>\n",
       "      <td>32.200001</td>\n",
       "      <td>166</td>\n",
       "      <td>-1.155183</td>\n",
       "      <td>1.386294</td>\n",
       "      <td>3.471967</td>\n",
       "      <td>5.111988</td>\n",
       "      <td>0.587787</td>\n",
       "    </tr>\n",
       "    <tr>\n",
       "      <th>4</th>\n",
       "      <td>0.197</td>\n",
       "      <td>5</td>\n",
       "      <td>2.1</td>\n",
       "      <td>28.600000</td>\n",
       "      <td>233</td>\n",
       "      <td>-1.624552</td>\n",
       "      <td>1.609438</td>\n",
       "      <td>3.353407</td>\n",
       "      <td>5.451038</td>\n",
       "      <td>0.741937</td>\n",
       "    </tr>\n",
       "  </tbody>\n",
       "</table>\n",
       "</div>"
      ],
      "text/plain": [
       "      tc  q   pl         pf   pk      lntc       lnq      lnpf      lnpk  \\\n",
       "0  0.082  2  2.1  17.900000  183 -2.501036  0.693147  2.884801  5.209486   \n",
       "1  0.661  3  2.1  35.099998  174 -0.414001  1.098612  3.558201  5.159055   \n",
       "2  0.990  4  2.1  35.099998  171 -0.010050  1.386294  3.558201  5.141664   \n",
       "3  0.315  4  1.8  32.200001  166 -1.155183  1.386294  3.471967  5.111988   \n",
       "4  0.197  5  2.1  28.600000  233 -1.624552  1.609438  3.353407  5.451038   \n",
       "\n",
       "       lnpl  \n",
       "0  0.741937  \n",
       "1  0.741937  \n",
       "2  0.741937  \n",
       "3  0.587787  \n",
       "4  0.741937  "
      ]
     },
     "execution_count": 1,
     "metadata": {},
     "output_type": "execute_result"
    }
   ],
   "source": [
    "# 包+数据\n",
    "\n",
    "import pandas as pd\n",
    "import numpy as np\n",
    "import statsmodels.api as sm\n",
    "import seaborn as sns\n",
    "\n",
    "data = pd.read_stata('../2_Data/Data-2e/nerlove.dta')\n",
    "data.head()"
   ]
  },
  {
   "cell_type": "code",
   "execution_count": 19,
   "metadata": {},
   "outputs": [
    {
     "name": "stdout",
     "output_type": "stream",
     "text": [
      "                            OLS Regression Results                            \n",
      "==============================================================================\n",
      "Dep. Variable:                   lntc   R-squared:                       0.926\n",
      "Model:                            OLS   Adj. R-squared:                  0.924\n",
      "Method:                 Least Squares   F-statistic:                     437.9\n",
      "Date:                Tue, 16 Apr 2024   Prob (F-statistic):           4.67e-78\n",
      "Time:                        11:37:37   Log-Likelihood:                -67.509\n",
      "No. Observations:                 145   AIC:                             145.0\n",
      "Df Residuals:                     140   BIC:                             159.9\n",
      "Df Model:                           4                                         \n",
      "Covariance Type:            nonrobust                                         \n",
      "==============================================================================\n",
      "                 coef    std err          t      P>|t|      [0.025      0.975]\n",
      "------------------------------------------------------------------------------\n",
      "const         -3.5665      1.779     -2.004      0.047      -7.084      -0.049\n",
      "lnq            0.7209      0.017     41.352      0.000       0.686       0.755\n",
      "lnpl           0.4560      0.300      1.521      0.131      -0.137       1.049\n",
      "lnpk          -0.2151      0.340     -0.633      0.528      -0.887       0.457\n",
      "lnpf           0.4258      0.100      4.244      0.000       0.227       0.624\n",
      "==============================================================================\n",
      "Omnibus:                       50.626   Durbin-Watson:                   1.008\n",
      "Prob(Omnibus):                  0.000   Jarque-Bera (JB):              169.550\n",
      "Skew:                           1.290   Prob(JB):                     1.52e-37\n",
      "Kurtosis:                       7.627   Cond. No.                         508.\n",
      "==============================================================================\n",
      "\n",
      "Notes:\n",
      "[1] Standard Errors assume that the covariance matrix of the errors is correctly specified.\n"
     ]
    },
    {
     "data": {
      "text/plain": [
       "<Axes: xlabel='fitted', ylabel='resid'>"
      ]
     },
     "execution_count": 19,
     "metadata": {},
     "output_type": "execute_result"
    },
    {
     "data": {
      "image/png": "[encoded data removed]",
      "text/plain": [
       "<Figure size 640x480 with 1 Axes>"
      ]
     },
     "metadata": {},
     "output_type": "display_data"
    }
   ],
   "source": [
    "# 锁定数据\n",
    "nerlove = data\n",
    "\n",
    "# OLS\n",
    "X = nerlove[['lnq','lnpl','lnpk','lnpf']]\n",
    "y = nerlove['lntc']\n",
    "X = sm.add_constant(X)\n",
    "model = sm.OLS(y,X)\n",
    "results = model.fit()\n",
    "print(results.summary())\n",
    "\n",
    "# 形成拟合值和残差的散点图？\n",
    "# Y轴是残差，x轴是拟合值\n",
    "nerlove['resid'] = results.resid\n",
    "nerlove['fitted'] = results.fittedvalues\n",
    "nerlove.head()\n",
    "sns.set_theme(style='darkgrid')\n",
    "sns.scatterplot(x='fitted',y='resid',data=nerlove)"
   ]
  },
  {
   "cell_type": "markdown",
   "metadata": {},
   "source": [
    "当拟合值越小时，残差的波动较大，而随着拟合值增加，方差越来越小。"
   ]
  },
  {
   "cell_type": "code",
   "execution_count": 12,
   "metadata": {},
   "outputs": [
    {
     "data": {
      "text/plain": [
       "<Axes: xlabel='lnq', ylabel='resid'>"
      ]
     },
     "execution_count": 12,
     "metadata": {},
     "output_type": "execute_result"
    },
    {
     "data": {
      "image/png": "[encoded data removed]",
      "text/plain": [
       "<Figure size 640x480 with 1 Axes>"
      ]
     },
     "metadata": {},
     "output_type": "display_data"
    }
   ],
   "source": [
    "# 残差与解释变量lnq之间的比较\n",
    "sns.scatterplot(x='lnq',y='resid',data=nerlove)"
   ]
  },
  {
   "cell_type": "code",
   "execution_count": 39,
   "metadata": {},
   "outputs": [
    {
     "name": "stdout",
     "output_type": "stream",
     "text": [
      "LM:36.16346038427023\n",
      "LM_pvalue:2.678071113607596e-07\n",
      "F:11.62956042077736\n",
      "F_pvalue:3.5047777290566926e-08\n"
     ]
    }
   ],
   "source": [
    "# BP检验\n",
    "from statsmodels.stats.diagnostic import het_breuschpagan\n",
    "\n",
    "# 与解释变量进行BP检验\n",
    "result_bptest = het_breuschpagan(resid=results.resid,exog_het=X)\n",
    "print('LM:{}'.format(result_bptest[0]))\n",
    "print('LM_pvalue:{}'.format(result_bptest[1]))\n",
    "print('F:{}'.format(result_bptest[2]))\n",
    "print('F_pvalue:{}'.format(result_bptest[3]))"
   ]
  },
  {
   "cell_type": "markdown",
   "metadata": {},
   "source": [
    "对所有解释变量进行BP检验的结果是拒绝原假设，那么就是存在异方差的。\n",
    "\n",
    "与拟合值进行BP检验，对某个变量进行BP检验，这么操作的意义何在？\n"
   ]
  },
  {
   "cell_type": "code",
   "execution_count": 40,
   "metadata": {},
   "outputs": [
    {
     "data": {
      "text/plain": [
       "(73.8770971532988,\n",
       " 3.8000624583372287e-10,\n",
       " 9.645298335222645,\n",
       " 2.136169236136455e-14)"
      ]
     },
     "execution_count": 40,
     "metadata": {},
     "output_type": "execute_result"
    }
   ],
   "source": [
    "# white检验\n",
    "from statsmodels.stats.diagnostic import het_white\n",
    "\n",
    "result_white = het_white(resid=results.resid,exog=X)\n",
    "result_white"
   ]
  },
  {
   "cell_type": "markdown",
   "metadata": {},
   "source": [
    "## FWLS的计算\n",
    "### 估计$\\sigma_i^2$\n",
    "1. 先对辅助回归进行拟合，假设lne2是lnq的线性函数 <-- 这个很重要\n",
    "- X $lnq$\n",
    "- y :$ln(e^2)$\n",
    "2. 得到y的预测值，用预测值算权重 $1/\\hat\\sigma_i^2$"
   ]
  },
  {
   "cell_type": "code",
   "execution_count": 55,
   "metadata": {},
   "outputs": [
    {
     "name": "stdout",
     "output_type": "stream",
     "text": [
      "                                 OLS Regression Results                                \n",
      "=======================================================================================\n",
      "Dep. Variable:                      y   R-squared (uncentered):                   0.745\n",
      "Model:                            OLS   Adj. R-squared (uncentered):              0.743\n",
      "Method:                 Least Squares   F-statistic:                              419.9\n",
      "Date:                Tue, 16 Apr 2024   Prob (F-statistic):                    1.58e-44\n",
      "Time:                        14:50:19   Log-Likelihood:                         -320.74\n",
      "No. Observations:                 145   AIC:                                      643.5\n",
      "Df Residuals:                     144   BIC:                                      646.5\n",
      "Df Model:                           1                                                  \n",
      "Covariance Type:            nonrobust                                                  \n",
      "==============================================================================\n",
      "                 coef    std err          t      P>|t|      [0.025      0.975]\n",
      "------------------------------------------------------------------------------\n",
      "lnq           -0.5528      0.027    -20.493      0.000      -0.606      -0.499\n",
      "==============================================================================\n",
      "Omnibus:                       28.638   Durbin-Watson:                   1.510\n",
      "Prob(Omnibus):                  0.000   Jarque-Bera (JB):               44.901\n",
      "Skew:                          -0.991   Prob(JB):                     1.78e-10\n",
      "Kurtosis:                       4.872   Cond. No.                         1.00\n",
      "==============================================================================\n",
      "\n",
      "Notes:\n",
      "[1] R² is computed without centering (uncentered) since the model does not contain a constant.\n",
      "[2] Standard Errors assume that the covariance matrix of the errors is correctly specified.\n"
     ]
    }
   ],
   "source": [
    "# WLS\n",
    "## 第一步：计算异方差因子\n",
    "from math import log, exp\n",
    "\n",
    "## 这里的核心问题是如何设置条件方差函数\n",
    "X = nerlove[['lnq']]\n",
    "y_lne2 = results.resid.apply(lambda x: log(float(x)**2))\n",
    "# X = sm.add_constant(X) # 无常数项，拟合优度更高\n",
    "model_lne2 = sm.OLS(y_lne2,X)\n",
    "results_lne2 = model_lne2.fit()\n",
    "print(results_lne2.summary())\n",
    "aw = results_lne2.fittedvalues.apply(lambda x: exp(x))"
   ]
  },
  {
   "cell_type": "code",
   "execution_count": 56,
   "metadata": {},
   "outputs": [
    {
     "name": "stdout",
     "output_type": "stream",
     "text": [
      "                            WLS Regression Results                            \n",
      "==============================================================================\n",
      "Dep. Variable:                   lntc   R-squared:                       0.962\n",
      "Model:                            WLS   Adj. R-squared:                  0.961\n",
      "Method:                 Least Squares   F-statistic:                     895.0\n",
      "Date:                Tue, 16 Apr 2024   Prob (F-statistic):           1.33e-98\n",
      "Time:                        14:51:40   Log-Likelihood:                -13.193\n",
      "No. Observations:                 145   AIC:                             36.39\n",
      "Df Residuals:                     140   BIC:                             51.27\n",
      "Df Model:                           4                                         \n",
      "Covariance Type:            nonrobust                                         \n",
      "==============================================================================\n",
      "                 coef    std err          t      P>|t|      [0.025      0.975]\n",
      "------------------------------------------------------------------------------\n",
      "const         -5.5221      0.993     -5.562      0.000      -7.485      -3.559\n",
      "lnq            0.8759      0.015     56.936      0.000       0.845       0.906\n",
      "lnpl           0.5604      0.173      3.232      0.002       0.218       0.903\n",
      "lnpk          -0.0930      0.196     -0.474      0.636      -0.481       0.295\n",
      "lnpf           0.4672      0.062      7.579      0.000       0.345       0.589\n",
      "==============================================================================\n",
      "Omnibus:                       20.127   Durbin-Watson:                   1.271\n",
      "Prob(Omnibus):                  0.000   Jarque-Bera (JB):               26.477\n",
      "Skew:                           0.800   Prob(JB):                     1.78e-06\n",
      "Kurtosis:                       4.351   Cond. No.                         556.\n",
      "==============================================================================\n",
      "\n",
      "Notes:\n",
      "[1] Standard Errors assume that the covariance matrix of the errors is correctly specified.\n"
     ]
    }
   ],
   "source": [
    "## 第二步：代入模型，WLS进行回归\n",
    "X = nerlove[['lnq','lnpl','lnpk','lnpf']]\n",
    "y = y = nerlove['lntc']\n",
    "X = sm.add_constant(X)\n",
    "model_fwls = sm.WLS(y,X,weights=1/aw)\n",
    "results_fwls = model_fwls.fit()\n",
    "print(results_fwls.summary())"
   ]
  },
  {
   "cell_type": "code",
   "execution_count": null,
   "metadata": {},
   "outputs": [],
   "source": []
  }
 ],
 "metadata": {
  "kernelspec": {
   "display_name": ".venv",
   "language": "python",
   "name": "python3"
  },
  "language_info": {
   "codemirror_mode": {
    "name": "ipython",
    "version": 3
   },
   "file_extension": ".py",
   "mimetype": "text/x-python",
   "name": "python",
   "nbconvert_exporter": "python",
   "pygments_lexer": "ipython3",
   "version": "3.10.8"
  }
 },
 "nbformat": 4,
 "nbformat_minor": 2
}
