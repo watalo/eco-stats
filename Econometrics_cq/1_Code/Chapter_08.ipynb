{
 "cells": [
  {
   "cell_type": "markdown",
   "metadata": {},
   "source": [
    "# 第8章 自相关\n",
    "\n",
    "1. 时间序列的处理\n",
    "2. 残差图\n",
    "3. BG检验\n",
    "4. Q检验\n",
    "5. DW检验\n",
    "6. HAC检验\n",
    "7. 处理一阶自相关的FGLS\n"
   ]
  },
  {
   "cell_type": "markdown",
   "metadata": {},
   "source": []
  }
 ],
 "metadata": {
  "language_info": {
   "name": "python"
  }
 },
 "nbformat": 4,
 "nbformat_minor": 2
}
