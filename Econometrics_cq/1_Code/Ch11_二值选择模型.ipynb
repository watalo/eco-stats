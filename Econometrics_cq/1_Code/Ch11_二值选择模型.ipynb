{
 "cells": [
  {
   "cell_type": "markdown",
   "metadata": {},
   "source": [
    "## 11.9 二值选择模型的python实现\n",
    "\n",
    "### 1. 导入数据，查看各变量的统计特征\n",
    "- 'freq'字段表示，数据出现的频次"
   ]
  },
  {
   "cell_type": "code",
   "execution_count": 2,
   "metadata": {},
   "outputs": [
    {
     "name": "stdout",
     "output_type": "stream",
     "text": [
      "          count      mean       std  min  25%  50%  75%  max\n",
      "class1   2201.0  0.147660  0.354843  0.0  0.0  0.0  0.0  1.0\n",
      "class2   2201.0  0.129487  0.335814  0.0  0.0  0.0  0.0  1.0\n",
      "class3   2201.0  0.320763  0.466876  0.0  0.0  0.0  1.0  1.0\n",
      "class4   2201.0  0.402090  0.490431  0.0  0.0  0.0  1.0  1.0\n",
      "child    2201.0  0.049523  0.217006  0.0  0.0  0.0  0.0  1.0\n",
      "female   2201.0  0.213539  0.409898  0.0  0.0  0.0  0.0  1.0\n",
      "survive  2201.0  0.323035  0.467742  0.0  0.0  0.0  1.0  1.0\n"
     ]
    }
   ],
   "source": [
    "import pandas as pd\n",
    "import numpy as np\n",
    "from cq import describe_bcmodel\n",
    "# 读取数据\n",
    "df = pd.read_stata('../2_Data/Data-2e/titanic.dta')\n",
    " \n",
    "des = describe_bcmodel(df, frequency='freq')"
   ]
  },
  {
   "cell_type": "markdown",
   "metadata": {},
   "source": [
    "> `np.repeat(df.index.values, df['freq'])`：\n",
    "> - `df.index.values` 返回数据框的索引值，这是一个代表行号的数组。\n",
    "> - `df['freq']` 返回'freq'列的值，这是一个代表信息重复次数的数组。\n",
    "> - `np.repeat`函数将行索引根据'freq'列的值进行重复，以便在最终结果中重复出现对应次数。\n",
    "> \n",
    "> `df.loc[]`：\n",
    "> - `df.loc` 是用于按标签选择行和列的方法。在这里，它使用重复后的索引来选择数据框中的行。\n",
    ">\n",
    "> `.drop('freq', axis=1)`：\n",
    "> - drop 方法用于删除数据框中的列。在这里，它删除了名为'freq'的列。参数axis=1表示删除列。\n",
    ">\n",
    "> `.reset_index(drop=True)`：\n",
    "> - `reset_index` 方法用于重置索引。参数`drop=True`表示删除原始索引，使新索引从零开始。这样可以确保最终结果的索引是连续的整数序列。\n",
    ">\n",
    "> 综合起来，这行代码的作用是将数据框中的行根据'freq'列的值重复多次，然后丢弃'freq'列，并重置索引，以得到非'freq'列的信息按照出现次数重复的结果。\n",
    "\n",
    "### 2.观察不同特征下的存活率"
   ]
  },
  {
   "cell_type": "code",
   "execution_count": 3,
   "metadata": {},
   "outputs": [
    {
     "name": "stdout",
     "output_type": "stream",
     "text": [
      "when class1 is 1:\n",
      "         count      mean       std  min  25%  50%  75%  max\n",
      "survive  325.0  0.624615  0.484969  0.0  0.0  1.0  1.0  1.0\n",
      "------------------------------------------------------------------\n",
      "when class2 is 1:\n",
      "         count      mean       std  min  25%  50%  75%  max\n",
      "survive  285.0  0.414035  0.493421  0.0  0.0  0.0  1.0  1.0\n",
      "------------------------------------------------------------------\n",
      "when class3 is 1:\n",
      "         count      mean      std  min  25%  50%  75%  max\n",
      "survive  706.0  0.252125  0.43454  0.0  0.0  0.0  1.0  1.0\n",
      "------------------------------------------------------------------\n",
      "when class4 is 1:\n",
      "         count      mean       std  min  25%  50%  75%  max\n",
      "survive  885.0  0.239548  0.427049  0.0  0.0  0.0  0.0  1.0\n",
      "------------------------------------------------------------------\n",
      "when child is 1:\n",
      "         count      mean       std  min  25%  50%  75%  max\n",
      "survive  109.0  0.522936  0.501781  0.0  0.0  1.0  1.0  1.0\n",
      "------------------------------------------------------------------\n",
      "when female is 1:\n",
      "         count      mean       std  min  25%  50%  75%  max\n",
      "survive  470.0  0.731915  0.443434  0.0  0.0  1.0  1.0  1.0\n",
      "------------------------------------------------------------------\n"
     ]
    }
   ],
   "source": [
    "# 分别计算小孩、女士、各等舱的乘客存活率\n",
    "for col in des.drop('survive', axis=1).columns:\n",
    "    describe_bcmodel(df, \n",
    "                     'freq', \n",
    "                     target='survive', \n",
    "                     condition_col=col, \n",
    "                     condition=1)\n",
    "    print('------------------------------------------------------------------')"
   ]
  },
  {
   "cell_type": "markdown",
   "metadata": {},
   "source": [
    "### 3.构建OLS参照系"
   ]
  },
  {
   "cell_type": "code",
   "execution_count": 4,
   "metadata": {},
   "outputs": [
    {
     "name": "stdout",
     "output_type": "stream",
     "text": [
      "                            OLS Regression Results                            \n",
      "==============================================================================\n",
      "Dep. Variable:                survive   R-squared:                       0.253\n",
      "Model:                            OLS   Adj. R-squared:                  0.251\n",
      "Method:                 Least Squares   F-statistic:                     148.6\n",
      "Date:                Mon, 29 Apr 2024   Prob (F-statistic):          3.55e-136\n",
      "Time:                        22:55:24   Log-Likelihood:                -1129.3\n",
      "No. Observations:                2201   AIC:                             2271.\n",
      "Df Residuals:                    2195   BIC:                             2305.\n",
      "Df Model:                           5                                         \n",
      "Covariance Type:            nonrobust                                         \n",
      "==============================================================================\n",
      "                 coef    std err          t      P>|t|      [0.025      0.975]\n",
      "------------------------------------------------------------------------------\n",
      "const          0.2268      0.014     16.654      0.000       0.200       0.254\n",
      "class1         0.1756      0.028      6.277      0.000       0.121       0.230\n",
      "class2        -0.0105      0.029     -0.365      0.715      -0.067       0.046\n",
      "class3        -0.1312      0.022     -6.063      0.000      -0.174      -0.089\n",
      "child          0.1813      0.041      4.425      0.000       0.101       0.262\n",
      "female         0.4907      0.023     21.329      0.000       0.446       0.536\n",
      "==============================================================================\n",
      "Omnibus:                      214.640   Durbin-Watson:                   0.010\n",
      "Prob(Omnibus):                  0.000   Jarque-Bera (JB):              280.669\n",
      "Skew:                           0.872   Prob(JB):                     1.13e-61\n",
      "Kurtosis:                       2.859   Cond. No.                         5.36\n",
      "==============================================================================\n",
      "\n",
      "Notes:\n",
      "[1] Standard Errors assume that the covariance matrix of the errors is correctly specified.\n"
     ]
    }
   ],
   "source": [
    "import statsmodels.api as sm\n",
    "\n",
    "X = des[['class1','class2','class3','child','female']]\n",
    "y = des['survive']\n",
    "X = sm.add_constant(X)\n",
    "model_ols = sm.OLS(y,X)\n",
    "results_ols = model_ols.fit()\n",
    "print(results_ols.summary())"
   ]
  },
  {
   "cell_type": "markdown",
   "metadata": {},
   "source": [
    "### 4.使用Logit模型进行估计\n",
    "`sm.logit(endog, exog).fit(disp=0)`\n",
    "-  `disp = 0` 不现实迭代过程，只显示结果\n",
    "-  `disp = 1` 显示迭代过程"
   ]
  },
  {
   "cell_type": "code",
   "execution_count": 5,
   "metadata": {},
   "outputs": [
    {
     "name": "stdout",
     "output_type": "stream",
     "text": [
      "Optimization terminated successfully.\n",
      "         Current function value: 0.502058\n",
      "         Iterations 6\n",
      "                           Logit Regression Results                           \n",
      "==============================================================================\n",
      "Dep. Variable:                survive   No. Observations:                 2201\n",
      "Model:                          Logit   Df Residuals:                     2195\n",
      "Method:                           MLE   Df Model:                            5\n",
      "Date:                Mon, 29 Apr 2024   Pseudo R-squ.:                  0.2020\n",
      "Time:                        22:55:24   Log-Likelihood:                -1105.0\n",
      "converged:                       True   LL-Null:                       -1384.7\n",
      "Covariance Type:            nonrobust   LLR p-value:                1.195e-118\n",
      "==============================================================================\n",
      "                 coef    std err          z      P>|z|      [0.025      0.975]\n",
      "------------------------------------------------------------------------------\n",
      "const         -1.2339      0.080    -15.329      0.000      -1.392      -1.076\n",
      "class1         0.8577      0.157      5.451      0.000       0.549       1.166\n",
      "class2        -0.1604      0.174     -0.923      0.356      -0.501       0.180\n",
      "class3        -0.9201      0.149     -6.192      0.000      -1.211      -0.629\n",
      "child          1.0615      0.244      4.350      0.000       0.583       1.540\n",
      "female         2.4201      0.140     17.236      0.000       2.145       2.695\n",
      "==============================================================================\n"
     ]
    }
   ],
   "source": [
    "model_logit = sm.Logit(y, X)\n",
    "result_logit = model_logit.fit(disp=1)\n",
    "print(result_logit.summary())"
   ]
  },
  {
   "cell_type": "markdown",
   "metadata": {},
   "source": [
    "### 5.使用稳健标准误进行Logit估计"
   ]
  },
  {
   "cell_type": "code",
   "execution_count": 6,
   "metadata": {},
   "outputs": [
    {
     "name": "stdout",
     "output_type": "stream",
     "text": [
      "Optimization terminated successfully.\n",
      "         Current function value: 0.502058\n",
      "         Iterations 6\n",
      "                           Logit Regression Results                           \n",
      "==============================================================================\n",
      "Dep. Variable:                survive   No. Observations:                 2201\n",
      "Model:                          Logit   Df Residuals:                     2195\n",
      "Method:                           MLE   Df Model:                            5\n",
      "Date:                Mon, 29 Apr 2024   Pseudo R-squ.:                  0.2020\n",
      "Time:                        22:55:24   Log-Likelihood:                -1105.0\n",
      "converged:                       True   LL-Null:                       -1384.7\n",
      "Covariance Type:                  HC3   LLR p-value:                1.195e-118\n",
      "==============================================================================\n",
      "                 coef    std err          z      P>|z|      [0.025      0.975]\n",
      "------------------------------------------------------------------------------\n",
      "const         -1.2339      0.080    -15.449      0.000      -1.390      -1.077\n",
      "class1         0.8577      0.147      5.815      0.000       0.569       1.147\n",
      "class2        -0.1604      0.150     -1.068      0.285      -0.455       0.134\n",
      "class3        -0.9201      0.162     -5.677      0.000      -1.238      -0.602\n",
      "child          1.0615      0.277      3.837      0.000       0.519       1.604\n",
      "female         2.4201      0.136     17.758      0.000       2.153       2.687\n",
      "==============================================================================\n"
     ]
    }
   ],
   "source": [
    "# print(model_logit.fit(cov_type='HC0').summary())\n",
    "# print(model_logit.fit(cov_type='HC1').summary())\n",
    "# print(model_logit.fit(cov_type='HC2').summary())\n",
    "print(model_logit.fit(cov_type='HC3').summary())"
   ]
  },
  {
   "cell_type": "markdown",
   "metadata": {},
   "source": [
    "### 6.显示Logit回归的几率比"
   ]
  },
  {
   "cell_type": "code",
   "execution_count": 7,
   "metadata": {},
   "outputs": [
    {
     "data": {
      "text/html": [
       "<div>\n",
       "<style scoped>\n",
       "    .dataframe tbody tr th:only-of-type {\n",
       "        vertical-align: middle;\n",
       "    }\n",
       "\n",
       "    .dataframe tbody tr th {\n",
       "        vertical-align: top;\n",
       "    }\n",
       "\n",
       "    .dataframe thead th {\n",
       "        text-align: right;\n",
       "    }\n",
       "</style>\n",
       "<table border=\"1\" class=\"dataframe\">\n",
       "  <thead>\n",
       "    <tr style=\"text-align: right;\">\n",
       "      <th></th>\n",
       "      <th>odds ratio</th>\n",
       "      <th>std err</th>\n",
       "      <th>z</th>\n",
       "      <th>p&gt;|z|</th>\n",
       "    </tr>\n",
       "  </thead>\n",
       "  <tbody>\n",
       "    <tr>\n",
       "      <th>const</th>\n",
       "      <td>0.2912</td>\n",
       "      <td>0.0805</td>\n",
       "      <td>-15.3290</td>\n",
       "      <td>0.0000</td>\n",
       "    </tr>\n",
       "    <tr>\n",
       "      <th>class1</th>\n",
       "      <td>2.3577</td>\n",
       "      <td>0.1573</td>\n",
       "      <td>5.4511</td>\n",
       "      <td>0.0000</td>\n",
       "    </tr>\n",
       "    <tr>\n",
       "      <th>class2</th>\n",
       "      <td>0.8518</td>\n",
       "      <td>0.1738</td>\n",
       "      <td>-0.9231</td>\n",
       "      <td>0.3560</td>\n",
       "    </tr>\n",
       "    <tr>\n",
       "      <th>class3</th>\n",
       "      <td>0.3985</td>\n",
       "      <td>0.1486</td>\n",
       "      <td>-6.1923</td>\n",
       "      <td>0.0000</td>\n",
       "    </tr>\n",
       "    <tr>\n",
       "      <th>child</th>\n",
       "      <td>2.8908</td>\n",
       "      <td>0.2440</td>\n",
       "      <td>4.3501</td>\n",
       "      <td>0.0000</td>\n",
       "    </tr>\n",
       "    <tr>\n",
       "      <th>female</th>\n",
       "      <td>11.2465</td>\n",
       "      <td>0.1404</td>\n",
       "      <td>17.2357</td>\n",
       "      <td>0.0000</td>\n",
       "    </tr>\n",
       "  </tbody>\n",
       "</table>\n",
       "</div>"
      ],
      "text/plain": [
       "        odds ratio  std err        z  p>|z|\n",
       "const       0.2912   0.0805 -15.3290 0.0000\n",
       "class1      2.3577   0.1573   5.4511 0.0000\n",
       "class2      0.8518   0.1738  -0.9231 0.3560\n",
       "class3      0.3985   0.1486  -6.1923 0.0000\n",
       "child       2.8908   0.2440   4.3501 0.0000\n",
       "female     11.2465   0.1404  17.2357 0.0000"
      ]
     },
     "execution_count": 7,
     "metadata": {},
     "output_type": "execute_result"
    }
   ],
   "source": [
    "import numpy as np\n",
    "\n",
    "odds_ratios = np.exp(result_logit.params)\n",
    "result_logit_or = pd.DataFrame({'odds ratio': odds_ratios, \n",
    "                                'std err': result_logit.bse,\n",
    "                                'z':result_logit.tvalues,\n",
    "                                'p>|z|':result_logit.pvalues,\n",
    "                                }, \n",
    "                               index=result_logit.params.index)\n",
    "pd.set_option('display.float_format', '{:.4f}'.format)\n",
    "result_logit_or"
   ]
  },
  {
   "cell_type": "markdown",
   "metadata": {},
   "source": [
    "### 7.计算Logit模型的平均边际效应"
   ]
  },
  {
   "cell_type": "code",
   "execution_count": 8,
   "metadata": {},
   "outputs": [
    {
     "name": "stdout",
     "output_type": "stream",
     "text": [
      "        Logit Marginal Effects       \n",
      "=====================================\n",
      "Dep. Variable:                survive\n",
      "Method:                          dydx\n",
      "At:                           overall\n",
      "==============================================================================\n",
      "                dy/dx    std err          z      P>|z|      [0.025      0.975]\n",
      "------------------------------------------------------------------------------\n",
      "class1         0.1400      0.025      5.578      0.000       0.091       0.189\n",
      "class2        -0.0262      0.028     -0.923      0.356      -0.082       0.029\n",
      "class3        -0.1501      0.024     -6.300      0.000      -0.197      -0.103\n",
      "child          0.1732      0.039      4.399      0.000       0.096       0.250\n",
      "female         0.3949      0.017     22.965      0.000       0.361       0.429\n",
      "==============================================================================\n"
     ]
    }
   ],
   "source": [
    "mfx = result_logit.get_margeff()\n",
    "print(mfx.summary())"
   ]
  },
  {
   "cell_type": "markdown",
   "metadata": {},
   "source": [
    "### 8.计算均值处的平均边际效应"
   ]
  },
  {
   "cell_type": "code",
   "execution_count": 9,
   "metadata": {},
   "outputs": [
    {
     "name": "stdout",
     "output_type": "stream",
     "text": [
      "        Logit Marginal Effects       \n",
      "=====================================\n",
      "Dep. Variable:                survive\n",
      "Method:                          dydx\n",
      "At:                              mean\n",
      "==============================================================================\n",
      "                dy/dx    std err          z      P>|z|      [0.025      0.975]\n",
      "------------------------------------------------------------------------------\n",
      "class1         0.1796      0.033      5.405      0.000       0.114       0.245\n",
      "class2        -0.0336      0.036     -0.924      0.356      -0.105       0.038\n",
      "class3        -0.1927      0.031     -6.253      0.000      -0.253      -0.132\n",
      "child          0.2223      0.051      4.353      0.000       0.122       0.322\n",
      "female         0.5069      0.030     16.699      0.000       0.447       0.566\n",
      "==============================================================================\n"
     ]
    }
   ],
   "source": [
    "mfx = result_logit.get_margeff(at='mean')\n",
    "print(mfx.summary())"
   ]
  },
  {
   "cell_type": "markdown",
   "metadata": {},
   "source": [
    "### 9.准确度测量\n",
    "\n",
    "用模型预测值与实际值进行比较，计算预测值与实际值相符的比例"
   ]
  },
  {
   "cell_type": "code",
   "execution_count": 10,
   "metadata": {},
   "outputs": [
    {
     "name": "stdout",
     "output_type": "stream",
     "text": [
      "Accuracy of the model: 77.83%\n"
     ]
    }
   ],
   "source": [
    "predicted_classes = result_logit.predict(X) > 0.5\n",
    "\n",
    "# 计算准确率\n",
    "accuracy = (predicted_classes == y).mean()\n",
    "\n",
    "print(f\"Accuracy of the model: {accuracy*100:.2f}%\")"
   ]
  },
  {
   "cell_type": "markdown",
   "metadata": {},
   "source": [
    "### 10.数据预测"
   ]
  },
  {
   "cell_type": "code",
   "execution_count": 12,
   "metadata": {},
   "outputs": [
    {
     "name": "stdout",
     "output_type": "stream",
     "text": [
      "MS-ROSE   0.8853\n",
      "dtype: float64\n",
      "MR-Jack   0.1040\n",
      "dtype: float64\n"
     ]
    }
   ],
   "source": [
    "msrose = pd.DataFrame([1,1,0,0,0,1],\n",
    "                      index=result_logit.params.index,columns=['MS-ROSE'])\n",
    "# 两种不同的赋值方式\n",
    "mrjack = pd.DataFrame({'const':1,\n",
    "                       'class1':0,\n",
    "                       'class2':0,\n",
    "                       'class3':1,\n",
    "                       'child':0,\n",
    "                       'female':0},\n",
    "                      index=['MR-Jack'],columns=result_logit.params.index.T)\n",
    "\n",
    "print(result_logit.predict(msrose.T))\n",
    "print(result_logit.predict(mrjack))"
   ]
  },
  {
   "cell_type": "markdown",
   "metadata": {},
   "source": [
    "### 11.使用Probit模型进行回归"
   ]
  },
  {
   "cell_type": "code",
   "execution_count": null,
   "metadata": {},
   "outputs": [
    {
     "name": "stdout",
     "output_type": "stream",
     "text": [
      "Optimization terminated successfully.\n",
      "         Current function value: 0.502642\n",
      "         Iterations 5\n",
      "                          Probit Regression Results                           \n",
      "==============================================================================\n",
      "Dep. Variable:                survive   No. Observations:                 2201\n",
      "Model:                         Probit   Df Residuals:                     2195\n",
      "Method:                           MLE   Df Model:                            5\n",
      "Date:                Mon, 29 Apr 2024   Pseudo R-squ.:                  0.2011\n",
      "Time:                        11:15:44   Log-Likelihood:                -1106.3\n",
      "converged:                       True   LL-Null:                       -1384.7\n",
      "Covariance Type:            nonrobust   LLR p-value:                4.286e-118\n",
      "==============================================================================\n",
      "                 coef    std err          z      P>|z|      [0.025      0.975]\n",
      "------------------------------------------------------------------------------\n",
      "const         -0.7530      0.047    -16.063      0.000      -0.845      -0.661\n",
      "class1         0.5399      0.095      5.674      0.000       0.353       0.726\n",
      "class2        -0.0898      0.103     -0.873      0.383      -0.291       0.112\n",
      "class3        -0.4875      0.080     -6.091      0.000      -0.644      -0.331\n",
      "child          0.5803      0.138      4.213      0.000       0.310       0.850\n",
      "female         1.4497      0.081     17.928      0.000       1.291       1.608\n",
      "==============================================================================\n"
     ]
    }
   ],
   "source": [
    "model_probit = sm.Probit(y,X)\n",
    "results_probit = model_probit.fit()\n",
    "print(results_probit.summary())"
   ]
  },
  {
   "cell_type": "code",
   "execution_count": null,
   "metadata": {},
   "outputs": [
    {
     "name": "stdout",
     "output_type": "stream",
     "text": [
      "       Probit Marginal Effects       \n",
      "=====================================\n",
      "Dep. Variable:                survive\n",
      "Method:                          dydx\n",
      "At:                           overall\n",
      "==============================================================================\n",
      "                dy/dx    std err          z      P>|z|      [0.025      0.975]\n",
      "------------------------------------------------------------------------------\n",
      "class1         0.1526      0.026      5.802      0.000       0.101       0.204\n",
      "class2        -0.0254      0.029     -0.873      0.383      -0.082       0.032\n",
      "class3        -0.1378      0.022     -6.175      0.000      -0.182      -0.094\n",
      "child          0.1640      0.039      4.246      0.000       0.088       0.240\n",
      "female         0.4097      0.018     23.050      0.000       0.375       0.445\n",
      "==============================================================================\n"
     ]
    }
   ],
   "source": [
    "mfx_probit = results_probit.get_margeff()\n",
    "print(mfx_probit.summary())"
   ]
  },
  {
   "cell_type": "code",
   "execution_count": null,
   "metadata": {},
   "outputs": [
    {
     "name": "stdout",
     "output_type": "stream",
     "text": [
      "Accuracy of the model: 77.83%\n"
     ]
    }
   ],
   "source": [
    "predicted_classes_probit = results_probit.predict(X) > 0.5\n",
    "# 计算准确率\n",
    "accuracy = (predicted_classes_probit == y).mean()\n",
    "\n",
    "print(f\"Accuracy of the model: {accuracy*100:.2f}%\")"
   ]
  },
  {
   "cell_type": "code",
   "execution_count": null,
   "metadata": {},
   "outputs": [
    {
     "data": {
      "text/html": [
       "<div>\n",
       "<style scoped>\n",
       "    .dataframe tbody tr th:only-of-type {\n",
       "        vertical-align: middle;\n",
       "    }\n",
       "\n",
       "    .dataframe tbody tr th {\n",
       "        vertical-align: top;\n",
       "    }\n",
       "\n",
       "    .dataframe thead th {\n",
       "        text-align: right;\n",
       "    }\n",
       "</style>\n",
       "<table border=\"1\" class=\"dataframe\">\n",
       "  <thead>\n",
       "    <tr style=\"text-align: right;\">\n",
       "      <th></th>\n",
       "      <th>logit</th>\n",
       "      <th>probit</th>\n",
       "    </tr>\n",
       "  </thead>\n",
       "  <tbody>\n",
       "    <tr>\n",
       "      <th>logit</th>\n",
       "      <td>1.0000</td>\n",
       "      <td>1.0000</td>\n",
       "    </tr>\n",
       "    <tr>\n",
       "      <th>probit</th>\n",
       "      <td>1.0000</td>\n",
       "      <td>1.0000</td>\n",
       "    </tr>\n",
       "  </tbody>\n",
       "</table>\n",
       "</div>"
      ],
      "text/plain": [
       "        logit  probit\n",
       "logit  1.0000  1.0000\n",
       "probit 1.0000  1.0000"
      ]
     },
     "execution_count": 159,
     "metadata": {},
     "output_type": "execute_result"
    }
   ],
   "source": [
    "df = pd.DataFrame(np.corrcoef(predicted_classes,predicted_classes_probit),index=['logit','probit'],columns=['logit','probit'])\n",
    "df"
   ]
  }
 ],
 "metadata": {
  "kernelspec": {
   "display_name": ".venv",
   "language": "python",
   "name": "python3"
  },
  "language_info": {
   "codemirror_mode": {
    "name": "ipython",
    "version": 3
   },
   "file_extension": ".py",
   "mimetype": "text/x-python",
   "name": "python",
   "nbconvert_exporter": "python",
   "pygments_lexer": "ipython3",
   "version": "3.10.8"
  }
 },
 "nbformat": 4,
 "nbformat_minor": 2
}
