{
 "cells": [
  {
   "cell_type": "markdown",
   "metadata": {},
   "source": [
    "## 第9章 模型设定与数据问题\n",
    "\n",
    "### 9.4 解释变量个数的选择"
   ]
  },
  {
   "cell_type": "code",
   "execution_count": 127,
   "metadata": {},
   "outputs": [],
   "source": [
    "import pandas as pd\n",
    "import statsmodels.api as sm\n",
    "\n",
    "icecream = pd.read_stata('../2_Data/Data-2e/icecream.dta')\n",
    "icecream['temp_l1'] = icecream['temp'].shift(1)# 引入temp滞后1期\n",
    "icecream['temp_l2'] = icecream['temp'].shift(2)# 引入temp滞后2期\n",
    "\n",
    "def Ols_icecream(data, X_cols:list, y_col:str,lags=0):\n",
    "    X =  icecream[X_cols]\n",
    "    y =  icecream[y_col]\n",
    "    Model = sm.OLS(y[lags:], X[lags:])\n",
    "    Results = Model.fit()\n",
    "    return Results"
   ]
  },
  {
   "cell_type": "markdown",
   "metadata": {},
   "source": [
    "#### 1.IC方法\n",
    "\n",
    "回归后使用信息准则AIC和BIC，观察AIC和BIC的变化，取最小值对应的模型。\n",
    "\n",
    "结果：\n",
    "- 引入滞后1期时，IC最小，因此，解释变量中应引入滞后1期。"
   ]
  },
  {
   "cell_type": "code",
   "execution_count": 128,
   "metadata": {},
   "outputs": [
    {
     "name": "stdout",
     "output_type": "stream",
     "text": [
      "【不引入temp滞后项】AIC:-110.6299  BIC:-106.4263\n",
      "【引入temp滞后1期】AIC:-118.0386  BIC:-112.5694\n",
      "【引入temp滞后2期】AIC:-111.4727  BIC:-104.8117\n"
     ]
    }
   ],
   "source": [
    "Results = Ols_icecream(icecream,\n",
    "                       ['temp', 'price', 'income'], \n",
    "                       'consumption')\n",
    "Results1 = Ols_icecream(icecream,\n",
    "                        ['temp', 'temp_l1', 'price', 'income'], \n",
    "                        'consumption',\n",
    "                        1)\n",
    "Results2 = Ols_icecream(icecream,\n",
    "                        ['temp', 'temp_l1', 'temp_l2', 'price', 'income'], \n",
    "                        'consumption',\n",
    "                        2)\n",
    "\n",
    "# 直接调用OLSResults的属性\n",
    "print(f'【不引入temp滞后项】AIC:{Results.aic:.4f}  BIC:{Results.bic:.4f}') \n",
    "print(f'【引入temp滞后1期】AIC:{Results1.aic:.4f}  BIC:{Results1.bic:.4f}') \n",
    "print(f'【引入temp滞后2期】AIC:{Results2.aic:.4f}  BIC:{Results2.bic:.4f}') "
   ]
  },
  {
   "cell_type": "markdown",
   "metadata": {},
   "source": [
    "#### 2. 序贯t规则\n",
    "\n",
    "步骤：\n",
    "- 设置一个最大滞后期，引入所有滞后期进行回归\n",
    "- 对最大滞后期进行t检验，如不显著就向前推\n",
    "- 直到找到现在的滞后期为止\n",
    "\n",
    "结果：\n",
    "1. temp_l2的p值为0.5374,不显著,不接受此最大滞后项,继续检验p-1期。\n",
    "2. temp_l1的p值为0.0071,显著,接此最大滞后项。\n"
   ]
  },
  {
   "cell_type": "code",
   "execution_count": 129,
   "metadata": {},
   "outputs": [
    {
     "name": "stdout",
     "output_type": "stream",
     "text": [
      "temp_l2的p值为0.5374,不显著,不接受此最大滞后项,继续检验p-1期。\n"
     ]
    }
   ],
   "source": [
    "Results2 = Ols_icecream(icecream,\n",
    "                        ['temp', 'temp_l1', 'temp_l2', 'price', 'income'], \n",
    "                        'consumption',\n",
    "                        2)\n",
    "\n",
    "if Results2.pvalues['temp_l2']>0.05:\n",
    "    print(f\"temp_l2的p值为{Results2.pvalues['temp_l2']:.4f},不显著,不接受此最大滞后项,继续检验p-1期。\")\n",
    "else:\n",
    "    print(f\"temp_l2的p值为{Results2.pvalues['temp_l2']:.4f},显著,接此最大滞后项。\")"
   ]
  },
  {
   "cell_type": "code",
   "execution_count": 130,
   "metadata": {},
   "outputs": [
    {
     "name": "stdout",
     "output_type": "stream",
     "text": [
      "temp_l1的p值为0.0071,显著,接此最大滞后项。\n"
     ]
    }
   ],
   "source": [
    "Results1 = Ols_icecream(icecream,\n",
    "                        ['temp', 'temp_l1', 'price', 'income'], \n",
    "                        'consumption',\n",
    "                        1)\n",
    "\n",
    "if Results1.pvalues['temp_l1']>0.05:\n",
    "    print(f\"temp_l1的p值为{Results1.pvalues['temp_l1']:.4f},不显著,不接受此最大滞后项,继续检验p-1期。\")\n",
    "else:\n",
    "    print(f\"temp_l1的p值为{Results1.pvalues['temp_l1']:.4f},显著,接此最大滞后项。\")"
   ]
  },
  {
   "cell_type": "markdown",
   "metadata": {},
   "source": [
    "### 9.5 对函数形式的检验"
   ]
  },
  {
   "cell_type": "code",
   "execution_count": 131,
   "metadata": {},
   "outputs": [],
   "source": [
    "import pandas as pd\n",
    "import statsmodels.api as sm\n",
    "\n",
    "grilic = pd.read_stata('../2_Data/Data-2e/grilic.dta')"
   ]
  },
  {
   "cell_type": "code",
   "execution_count": 132,
   "metadata": {},
   "outputs": [
    {
     "name": "stdout",
     "output_type": "stream",
     "text": [
      "const     4.103675\n",
      "s         0.102643\n",
      "expr      0.038119\n",
      "tenure    0.035615\n",
      "smsa      0.139667\n",
      "rns      -0.084080\n",
      "dtype: float64\n"
     ]
    }
   ],
   "source": [
    "X = grilic[['s','expr','tenure','smsa','rns']]\n",
    "y = grilic['lnw']\n",
    "model = sm.OLS(y,sm.add_constant(X))\n",
    "Results = model.fit()\n",
    "print(Results.params)"
   ]
  },
  {
   "cell_type": "markdown",
   "metadata": {},
   "source": [
    "使用拟合值的高次项进行RESET检验，linear_reset()的参数中，test_type参数设置为：\n",
    "- fitted 拟合值,默认值\n",
    "- exog  所有解释变量\n",
    "- princomp 解释变量中的第一个主成分\n",
    "\n",
    "1.先检测是否遗漏拟合值的高次遗漏项"
   ]
  },
  {
   "cell_type": "code",
   "execution_count": 133,
   "metadata": {},
   "outputs": [
    {
     "data": {
      "text/plain": [
       "'<F test: F=1.5068418352326869, p=0.21140502019856158, df_denom=749, df_num=3>'"
      ]
     },
     "execution_count": 133,
     "metadata": {},
     "output_type": "execute_result"
    }
   ],
   "source": [
    "reset_res = sm.stats.diagnostic.linear_reset(Results,\n",
    "                                             power=[2,3,4], # 测试2, 3, 4次项加入解释变量 \n",
    "                                             use_f=True # 使用F统计量\n",
    "                                             )\n",
    "reset_res.summary()"
   ]
  },
  {
   "cell_type": "markdown",
   "metadata": {},
   "source": [
    "接受原假设，即高次项系数为0，就是没有遗漏高次项。\n",
    "\n",
    "2.再检测是否有解释变量的高次遗漏项"
   ]
  },
  {
   "cell_type": "code",
   "execution_count": 134,
   "metadata": {},
   "outputs": [
    {
     "data": {
      "text/plain": [
       "'<F test: F=2.03045143326775, p=0.03360894633210033, df_denom=743, df_num=9>'"
      ]
     },
     "execution_count": 134,
     "metadata": {},
     "output_type": "execute_result"
    }
   ],
   "source": [
    "reset_res = sm.stats.diagnostic.linear_reset(Results,\n",
    "                                             test_type='exog',\n",
    "                                             power=[2,3,4], # 测试2, 3, 4次项加入解释变量 \n",
    "                                             use_f=True # 使用F统计量\n",
    "                                             )\n",
    "reset_res.summary()"
   ]
  },
  {
   "cell_type": "markdown",
   "metadata": {},
   "source": [
    "拒绝了原假设, 说明有遗漏高次项情况，但是并不知道是哪个解释变量导致了这一结果。继续对解释变量的首要影响因素进行检测。\n",
    "\n",
    "不知道哪个是主要成分，如何识别？\n",
    "- 对所有解释变量都进行循环检验\n",
    "  - 如果高次项系数显著（t检验p值 < 0.05）\n",
    "  - 所有解释变量的RESET检验结果不显著(p值 > 0.05)\n",
    "\n",
    "则可认为应该加入这个解释变量的高次项。\n",
    "\n",
    "测试的结果是，这个思路不行。。。"
   ]
  },
  {
   "cell_type": "code",
   "execution_count": 135,
   "metadata": {},
   "outputs": [
    {
     "data": {
      "text/plain": [
       "'<F test: F=4.4748085700701195, p=0.004003746624692338, df_denom=749, df_num=3>'"
      ]
     },
     "execution_count": 135,
     "metadata": {},
     "output_type": "execute_result"
    }
   ],
   "source": [
    "reset_res = sm.stats.diagnostic.linear_reset(Results,\n",
    "                                             test_type='princomp',\n",
    "                                             power=[2,3,4], # 测试2, 3, 4次项加入解释变量 \n",
    "                                             use_f=True # 使用F统计量\n",
    "                                             )\n",
    "reset_res.summary()"
   ]
  },
  {
   "cell_type": "markdown",
   "metadata": {},
   "source": [
    "#### RESET检验"
   ]
  },
  {
   "cell_type": "code",
   "execution_count": 136,
   "metadata": {},
   "outputs": [
    {
     "name": "stdout",
     "output_type": "stream",
     "text": [
      "被解释变量的RESET检测结果: <F test: F=1.5068418352326869, p=0.21140502019856158, df_denom=749, df_num=3>\n",
      "全体解释变量的RESET检测结果: <F test: F=2.03045143326775, p=0.03360894633210033, df_denom=743, df_num=9>\n",
      "解释变量主成分的RESET检测结果: <F test: F=4.4748085700701195, p=0.004003746624692338, df_denom=749, df_num=3>\n",
      "0.00033273358687158224\n",
      "加入s的2次项的RESET检测结果: 0.03038086400306814\n",
      "0.0051818814916269615\n",
      "加入expr的2次项的RESET检测结果: 0.004037117770440055\n",
      "0.007679465049032812\n",
      "加入tenure的2次项的RESET检测结果: 0.04327193516213031\n",
      "0.06983331759564565\n",
      "加入smsa的2次项的RESET检测结果: 0.2823485794581052\n",
      "-0.04203987029284524\n",
      "加入rns的2次项的RESET检测结果: 0.04747189915845505\n",
      "加入2次项后,可考虑引入[]:\n"
     ]
    }
   ],
   "source": [
    "\n",
    "icecream = pd.read_stata('../2_Data/Data-2e/grilic.dta')\n",
    "\n",
    "def reset(dataset, X_cols, y_col):\n",
    "    \"\"\"\n",
    "    对拟合值、全体解释变量、不同的解释变量进行RESET检测.\n",
    "    并显示可识别检测对象的判断结果\n",
    "    \"\"\"\n",
    "    X = dataset[X_cols]\n",
    "    y = dataset[y_col]\n",
    "    X = sm.add_constant(X)\n",
    "    Results_y = sm.OLS(y, X).fit()\n",
    "    reset_y = sm.stats.diagnostic.linear_reset(Results,\n",
    "                                                 power=[2,3,4],use_f=True)\n",
    "    reset_X = sm.stats.diagnostic.linear_reset(Results, test_type='exog',\n",
    "                                                 power=[2,3,4],use_f=True)\n",
    "    reset_prin = sm.stats.diagnostic.linear_reset(Results,\n",
    "                                                         test_type='princomp',\n",
    "                                                         power=[2,3,4],use_f=True)\n",
    "    print(\"被解释变量的RESET检测结果:\",reset_y)\n",
    "    print(\"全体解释变量的RESET检测结果:\",reset_X)\n",
    "    print('解释变量主成分的RESET检测结果:',reset_prin)\n",
    "    x2_list = []\n",
    "    \n",
    "    for i in X_cols:\n",
    "        i2 = i+'2'\n",
    "        dataset[i2] = dataset[i]**2\n",
    "        X = dataset[X_cols+[i2]]\n",
    "        # print(X_cols+[i2])\n",
    "        Results_new = sm.OLS(y, sm.add_constant(X)).fit()\n",
    "        print(Results_new.params[i2])\n",
    "        reset_new = sm.stats.diagnostic.linear_reset(Results_new,\n",
    "                                                         test_type='princomp',\n",
    "                                                         power=[2,3,4],use_f=True)\n",
    "        print(f'加入{i}的2次项的RESET检测结果:',reset_new.pvalue)\n",
    "        if reset_new.pvalue < 0.05 and Results_new.params[i2] > 0.05:\n",
    "            x2_list.append(i2)\n",
    "    \n",
    "    print(f'加入2次项后,可考虑引入{x2_list}:')    \n",
    "        \n",
    "reset(dataset=grilic, X_cols=['s','expr','tenure','smsa','rns'], y_col='lnw')    "
   ]
  },
  {
   "cell_type": "markdown",
   "metadata": {},
   "source": [
    "### 9.6 多重共线性\n",
    "\n",
    "可能涉及到Stata与Python内部的计算机制不一样，同样的数据计算的结果不一样，但是不影响判断。\n",
    "在后面的计算中，pd.read_stata()函数读取Stata文件时，会出现值较小的数据使用int8类型的情况，这样会造成在计算过程中数据不足的情况，这样会导致计算结果出现大幅偏差的情况。\n",
    "\n",
    "解决方法：\n",
    "- 读取数据后直接全部提成64位浮点数，或者使用pandas的astype()函数转换数据类型。\n",
    "\n",
    "#### VIF方差膨胀因子"
   ]
  },
  {
   "cell_type": "code",
   "execution_count": 137,
   "metadata": {},
   "outputs": [
    {
     "data": {
      "text/html": [
       "<div>\n",
       "<style scoped>\n",
       "    .dataframe tbody tr th:only-of-type {\n",
       "        vertical-align: middle;\n",
       "    }\n",
       "\n",
       "    .dataframe tbody tr th {\n",
       "        vertical-align: top;\n",
       "    }\n",
       "\n",
       "    .dataframe thead th {\n",
       "        text-align: right;\n",
       "    }\n",
       "</style>\n",
       "<table border=\"1\" class=\"dataframe\">\n",
       "  <thead>\n",
       "    <tr style=\"text-align: right;\">\n",
       "      <th></th>\n",
       "      <th>变量</th>\n",
       "      <th>方差膨胀因子</th>\n",
       "      <th>容忍度</th>\n",
       "      <th>是否多重共线</th>\n",
       "    </tr>\n",
       "  </thead>\n",
       "  <tbody>\n",
       "    <tr>\n",
       "      <th>0</th>\n",
       "      <td>s</td>\n",
       "      <td>4.973077</td>\n",
       "      <td>0.201083</td>\n",
       "      <td>否</td>\n",
       "    </tr>\n",
       "    <tr>\n",
       "      <th>1</th>\n",
       "      <td>expr</td>\n",
       "      <td>1.698322</td>\n",
       "      <td>0.588816</td>\n",
       "      <td>否</td>\n",
       "    </tr>\n",
       "    <tr>\n",
       "      <th>2</th>\n",
       "      <td>tenure</td>\n",
       "      <td>2.288772</td>\n",
       "      <td>0.436916</td>\n",
       "      <td>否</td>\n",
       "    </tr>\n",
       "    <tr>\n",
       "      <th>3</th>\n",
       "      <td>smsa</td>\n",
       "      <td>3.417113</td>\n",
       "      <td>0.292645</td>\n",
       "      <td>否</td>\n",
       "    </tr>\n",
       "    <tr>\n",
       "      <th>4</th>\n",
       "      <td>rns</td>\n",
       "      <td>1.364364</td>\n",
       "      <td>0.732942</td>\n",
       "      <td>否</td>\n",
       "    </tr>\n",
       "  </tbody>\n",
       "</table>\n",
       "</div>"
      ],
      "text/plain": [
       "       变量    方差膨胀因子       容忍度 是否多重共线\n",
       "0       s  4.973077  0.201083      否\n",
       "1    expr  1.698322  0.588816      否\n",
       "2  tenure  2.288772  0.436916      否\n",
       "3    smsa  3.417113  0.292645      否\n",
       "4     rns  1.364364  0.732942      否"
      ]
     },
     "execution_count": 137,
     "metadata": {},
     "output_type": "execute_result"
    }
   ],
   "source": [
    "import pandas as pd\n",
    "import statsmodels.api as sm\n",
    "from statsmodels.stats.outliers_influence import variance_inflation_factor\n",
    "\n",
    "def vif(exog, criterion=5):\n",
    "    '''vif df格式输出\n",
    "    计算解释变量的方差膨胀因子和容忍度,其中解释变量不含有常数项\n",
    "    返回：\n",
    "        解释变量vif值、容忍度的dataframe \n",
    "    Arguments:\n",
    "        exog -- 解释变量:dataframe\n",
    "        criterion -- 方差膨胀因子阈值,默认5\n",
    "    '''\n",
    "    multicol = pd.DataFrame()\n",
    "    multicol['变量'] = exog.columns\n",
    "    multicol['方差膨胀因子'] = [variance_inflation_factor(exog.values, i) for i in range(exog.shape[1])]\n",
    "    multicol['容忍度'] = 1/multicol['方差膨胀因子']\n",
    "    _ = []\n",
    "    for i in multicol['方差膨胀因子']:\n",
    "        if i > criterion:\n",
    "            _.append('**是**')\n",
    "        else:\n",
    "            _.append('否')    \n",
    "    multicol['是否多重共线'] = _\n",
    "    return multicol\n",
    "\n",
    "grilic = pd.read_stata('../2_Data/Data-2e/grilic.dta')\n",
    "X = grilic[['s','expr','tenure','smsa','rns']]\n",
    "vif_1 = vif(X)\n",
    "# for i in vif:\n",
    "#     print(vif[i].dtype)\n",
    "vif_1"
   ]
  },
  {
   "cell_type": "markdown",
   "metadata": {},
   "source": [
    "引入平方项，易引起多重共线。\n",
    "\n",
    "注意：这里出现了一个数据类型转换的问题\n",
    "\n",
    "例如："
   ]
  },
  {
   "cell_type": "code",
   "execution_count": 138,
   "metadata": {},
   "outputs": [
    {
     "name": "stderr",
     "output_type": "stream",
     "text": [
      "C:\\Users\\NINGMEI\\AppData\\Local\\Temp\\ipykernel_21428\\1584946888.py:4: SettingWithCopyWarning: \n",
      "A value is trying to be set on a copy of a slice from a DataFrame.\n",
      "Try using .loc[row_indexer,col_indexer] = value instead\n",
      "\n",
      "See the caveats in the documentation: https://pandas.pydata.org/pandas-docs/stable/user_guide/indexing.html#returning-a-view-versus-a-copy\n",
      "  X[col] = X[col].astype('float32')\n",
      "C:\\Users\\NINGMEI\\AppData\\Local\\Temp\\ipykernel_21428\\1584946888.py:4: SettingWithCopyWarning: \n",
      "A value is trying to be set on a copy of a slice from a DataFrame.\n",
      "Try using .loc[row_indexer,col_indexer] = value instead\n",
      "\n",
      "See the caveats in the documentation: https://pandas.pydata.org/pandas-docs/stable/user_guide/indexing.html#returning-a-view-versus-a-copy\n",
      "  X[col] = X[col].astype('float32')\n",
      "C:\\Users\\NINGMEI\\AppData\\Local\\Temp\\ipykernel_21428\\1584946888.py:4: SettingWithCopyWarning: \n",
      "A value is trying to be set on a copy of a slice from a DataFrame.\n",
      "Try using .loc[row_indexer,col_indexer] = value instead\n",
      "\n",
      "See the caveats in the documentation: https://pandas.pydata.org/pandas-docs/stable/user_guide/indexing.html#returning-a-view-versus-a-copy\n",
      "  X[col] = X[col].astype('float32')\n",
      "C:\\Users\\NINGMEI\\AppData\\Local\\Temp\\ipykernel_21428\\1584946888.py:4: SettingWithCopyWarning: \n",
      "A value is trying to be set on a copy of a slice from a DataFrame.\n",
      "Try using .loc[row_indexer,col_indexer] = value instead\n",
      "\n",
      "See the caveats in the documentation: https://pandas.pydata.org/pandas-docs/stable/user_guide/indexing.html#returning-a-view-versus-a-copy\n",
      "  X[col] = X[col].astype('float32')\n",
      "C:\\Users\\NINGMEI\\AppData\\Local\\Temp\\ipykernel_21428\\1584946888.py:7: SettingWithCopyWarning: \n",
      "A value is trying to be set on a copy of a slice from a DataFrame.\n",
      "Try using .loc[row_indexer,col_indexer] = value instead\n",
      "\n",
      "See the caveats in the documentation: https://pandas.pydata.org/pandas-docs/stable/user_guide/indexing.html#returning-a-view-versus-a-copy\n",
      "  X['s2'] = X['s'] ** 2\n"
     ]
    },
    {
     "data": {
      "text/html": [
       "<div>\n",
       "<style scoped>\n",
       "    .dataframe tbody tr th:only-of-type {\n",
       "        vertical-align: middle;\n",
       "    }\n",
       "\n",
       "    .dataframe tbody tr th {\n",
       "        vertical-align: top;\n",
       "    }\n",
       "\n",
       "    .dataframe thead th {\n",
       "        text-align: right;\n",
       "    }\n",
       "</style>\n",
       "<table border=\"1\" class=\"dataframe\">\n",
       "  <thead>\n",
       "    <tr style=\"text-align: right;\">\n",
       "      <th></th>\n",
       "      <th>s</th>\n",
       "      <th>expr</th>\n",
       "      <th>tenure</th>\n",
       "      <th>smsa</th>\n",
       "      <th>rns</th>\n",
       "      <th>s2</th>\n",
       "    </tr>\n",
       "  </thead>\n",
       "  <tbody>\n",
       "    <tr>\n",
       "      <th>0</th>\n",
       "      <td>12.0</td>\n",
       "      <td>0.462</td>\n",
       "      <td>0.0</td>\n",
       "      <td>1.0</td>\n",
       "      <td>0.0</td>\n",
       "      <td>144.0</td>\n",
       "    </tr>\n",
       "    <tr>\n",
       "      <th>1</th>\n",
       "      <td>16.0</td>\n",
       "      <td>0.000</td>\n",
       "      <td>2.0</td>\n",
       "      <td>1.0</td>\n",
       "      <td>0.0</td>\n",
       "      <td>256.0</td>\n",
       "    </tr>\n",
       "    <tr>\n",
       "      <th>2</th>\n",
       "      <td>14.0</td>\n",
       "      <td>0.423</td>\n",
       "      <td>1.0</td>\n",
       "      <td>1.0</td>\n",
       "      <td>0.0</td>\n",
       "      <td>196.0</td>\n",
       "    </tr>\n",
       "    <tr>\n",
       "      <th>3</th>\n",
       "      <td>12.0</td>\n",
       "      <td>0.333</td>\n",
       "      <td>1.0</td>\n",
       "      <td>1.0</td>\n",
       "      <td>0.0</td>\n",
       "      <td>144.0</td>\n",
       "    </tr>\n",
       "    <tr>\n",
       "      <th>4</th>\n",
       "      <td>9.0</td>\n",
       "      <td>9.013</td>\n",
       "      <td>3.0</td>\n",
       "      <td>1.0</td>\n",
       "      <td>0.0</td>\n",
       "      <td>81.0</td>\n",
       "    </tr>\n",
       "    <tr>\n",
       "      <th>...</th>\n",
       "      <td>...</td>\n",
       "      <td>...</td>\n",
       "      <td>...</td>\n",
       "      <td>...</td>\n",
       "      <td>...</td>\n",
       "      <td>...</td>\n",
       "    </tr>\n",
       "    <tr>\n",
       "      <th>753</th>\n",
       "      <td>16.0</td>\n",
       "      <td>0.000</td>\n",
       "      <td>1.0</td>\n",
       "      <td>1.0</td>\n",
       "      <td>1.0</td>\n",
       "      <td>256.0</td>\n",
       "    </tr>\n",
       "    <tr>\n",
       "      <th>754</th>\n",
       "      <td>12.0</td>\n",
       "      <td>0.692</td>\n",
       "      <td>1.0</td>\n",
       "      <td>0.0</td>\n",
       "      <td>1.0</td>\n",
       "      <td>144.0</td>\n",
       "    </tr>\n",
       "    <tr>\n",
       "      <th>755</th>\n",
       "      <td>12.0</td>\n",
       "      <td>4.828</td>\n",
       "      <td>0.0</td>\n",
       "      <td>0.0</td>\n",
       "      <td>1.0</td>\n",
       "      <td>144.0</td>\n",
       "    </tr>\n",
       "    <tr>\n",
       "      <th>756</th>\n",
       "      <td>12.0</td>\n",
       "      <td>2.489</td>\n",
       "      <td>2.0</td>\n",
       "      <td>0.0</td>\n",
       "      <td>1.0</td>\n",
       "      <td>144.0</td>\n",
       "    </tr>\n",
       "    <tr>\n",
       "      <th>757</th>\n",
       "      <td>12.0</td>\n",
       "      <td>0.277</td>\n",
       "      <td>1.0</td>\n",
       "      <td>1.0</td>\n",
       "      <td>1.0</td>\n",
       "      <td>144.0</td>\n",
       "    </tr>\n",
       "  </tbody>\n",
       "</table>\n",
       "<p>758 rows × 6 columns</p>\n",
       "</div>"
      ],
      "text/plain": [
       "        s   expr  tenure  smsa  rns     s2\n",
       "0    12.0  0.462     0.0   1.0  0.0  144.0\n",
       "1    16.0  0.000     2.0   1.0  0.0  256.0\n",
       "2    14.0  0.423     1.0   1.0  0.0  196.0\n",
       "3    12.0  0.333     1.0   1.0  0.0  144.0\n",
       "4     9.0  9.013     3.0   1.0  0.0   81.0\n",
       "..    ...    ...     ...   ...  ...    ...\n",
       "753  16.0  0.000     1.0   1.0  1.0  256.0\n",
       "754  12.0  0.692     1.0   0.0  1.0  144.0\n",
       "755  12.0  4.828     0.0   0.0  1.0  144.0\n",
       "756  12.0  2.489     2.0   0.0  1.0  144.0\n",
       "757  12.0  0.277     1.0   1.0  1.0  144.0\n",
       "\n",
       "[758 rows x 6 columns]"
      ]
     },
     "execution_count": 138,
     "metadata": {},
     "output_type": "execute_result"
    }
   ],
   "source": [
    "# 转换数据类型\n",
    "cols_to_convert = X.select_dtypes(include=['int8'])\n",
    "for col in cols_to_convert:\n",
    "    X[col] = X[col].astype('float32')\n",
    "\n",
    "# 生成s的平方项\n",
    "X['s2'] = X['s'] ** 2\n",
    "X"
   ]
  },
  {
   "cell_type": "code",
   "execution_count": 139,
   "metadata": {},
   "outputs": [
    {
     "data": {
      "text/html": [
       "<div>\n",
       "<style scoped>\n",
       "    .dataframe tbody tr th:only-of-type {\n",
       "        vertical-align: middle;\n",
       "    }\n",
       "\n",
       "    .dataframe tbody tr th {\n",
       "        vertical-align: top;\n",
       "    }\n",
       "\n",
       "    .dataframe thead th {\n",
       "        text-align: right;\n",
       "    }\n",
       "</style>\n",
       "<table border=\"1\" class=\"dataframe\">\n",
       "  <thead>\n",
       "    <tr style=\"text-align: right;\">\n",
       "      <th></th>\n",
       "      <th>变量</th>\n",
       "      <th>方差膨胀因子</th>\n",
       "      <th>容忍度</th>\n",
       "      <th>是否多重共线</th>\n",
       "    </tr>\n",
       "  </thead>\n",
       "  <tbody>\n",
       "    <tr>\n",
       "      <th>0</th>\n",
       "      <td>s</td>\n",
       "      <td>60.913912</td>\n",
       "      <td>0.016417</td>\n",
       "      <td>**是**</td>\n",
       "    </tr>\n",
       "    <tr>\n",
       "      <th>1</th>\n",
       "      <td>expr</td>\n",
       "      <td>1.857611</td>\n",
       "      <td>0.538326</td>\n",
       "      <td>否</td>\n",
       "    </tr>\n",
       "    <tr>\n",
       "      <th>2</th>\n",
       "      <td>tenure</td>\n",
       "      <td>2.328171</td>\n",
       "      <td>0.429522</td>\n",
       "      <td>否</td>\n",
       "    </tr>\n",
       "    <tr>\n",
       "      <th>3</th>\n",
       "      <td>smsa</td>\n",
       "      <td>3.502414</td>\n",
       "      <td>0.285517</td>\n",
       "      <td>否</td>\n",
       "    </tr>\n",
       "    <tr>\n",
       "      <th>4</th>\n",
       "      <td>rns</td>\n",
       "      <td>1.401529</td>\n",
       "      <td>0.713506</td>\n",
       "      <td>否</td>\n",
       "    </tr>\n",
       "    <tr>\n",
       "      <th>5</th>\n",
       "      <td>s2</td>\n",
       "      <td>46.852452</td>\n",
       "      <td>0.021344</td>\n",
       "      <td>**是**</td>\n",
       "    </tr>\n",
       "  </tbody>\n",
       "</table>\n",
       "</div>"
      ],
      "text/plain": [
       "       变量     方差膨胀因子       容忍度 是否多重共线\n",
       "0       s  60.913912  0.016417  **是**\n",
       "1    expr   1.857611  0.538326      否\n",
       "2  tenure   2.328171  0.429522      否\n",
       "3    smsa   3.502414  0.285517      否\n",
       "4     rns   1.401529  0.713506      否\n",
       "5      s2  46.852452  0.021344  **是**"
      ]
     },
     "execution_count": 139,
     "metadata": {},
     "output_type": "execute_result"
    }
   ],
   "source": [
    "vif_2 = vif(X)\n",
    "vif_2"
   ]
  },
  {
   "cell_type": "markdown",
   "metadata": {},
   "source": [
    "结果显示s和s2都有多重共线性"
   ]
  },
  {
   "cell_type": "code",
   "execution_count": 140,
   "metadata": {},
   "outputs": [
    {
     "name": "stderr",
     "output_type": "stream",
     "text": [
      "C:\\Users\\NINGMEI\\AppData\\Local\\Temp\\ipykernel_21428\\3802650683.py:1: SettingWithCopyWarning: \n",
      "A value is trying to be set on a copy of a slice from a DataFrame.\n",
      "Try using .loc[row_indexer,col_indexer] = value instead\n",
      "\n",
      "See the caveats in the documentation: https://pandas.pydata.org/pandas-docs/stable/user_guide/indexing.html#returning-a-view-versus-a-copy\n",
      "  X['sd'] = (X['s']-X['s'].mean())/X['s'].std()\n",
      "C:\\Users\\NINGMEI\\AppData\\Local\\Temp\\ipykernel_21428\\3802650683.py:2: SettingWithCopyWarning: \n",
      "A value is trying to be set on a copy of a slice from a DataFrame.\n",
      "Try using .loc[row_indexer,col_indexer] = value instead\n",
      "\n",
      "See the caveats in the documentation: https://pandas.pydata.org/pandas-docs/stable/user_guide/indexing.html#returning-a-view-versus-a-copy\n",
      "  X['sd2'] = X['sd']**2\n",
      "C:\\Users\\NINGMEI\\AppData\\Local\\Temp\\ipykernel_21428\\3802650683.py:5: SettingWithCopyWarning: \n",
      "A value is trying to be set on a copy of a slice from a DataFrame\n",
      "\n",
      "See the caveats in the documentation: https://pandas.pydata.org/pandas-docs/stable/user_guide/indexing.html#returning-a-view-versus-a-copy\n",
      "  X.drop(i, axis=1, inplace=True)\n",
      "C:\\Users\\NINGMEI\\AppData\\Local\\Temp\\ipykernel_21428\\3802650683.py:5: SettingWithCopyWarning: \n",
      "A value is trying to be set on a copy of a slice from a DataFrame\n",
      "\n",
      "See the caveats in the documentation: https://pandas.pydata.org/pandas-docs/stable/user_guide/indexing.html#returning-a-view-versus-a-copy\n",
      "  X.drop(i, axis=1, inplace=True)\n"
     ]
    },
    {
     "data": {
      "text/html": [
       "<div>\n",
       "<style scoped>\n",
       "    .dataframe tbody tr th:only-of-type {\n",
       "        vertical-align: middle;\n",
       "    }\n",
       "\n",
       "    .dataframe tbody tr th {\n",
       "        vertical-align: top;\n",
       "    }\n",
       "\n",
       "    .dataframe thead th {\n",
       "        text-align: right;\n",
       "    }\n",
       "</style>\n",
       "<table border=\"1\" class=\"dataframe\">\n",
       "  <thead>\n",
       "    <tr style=\"text-align: right;\">\n",
       "      <th></th>\n",
       "      <th>expr</th>\n",
       "      <th>tenure</th>\n",
       "      <th>smsa</th>\n",
       "      <th>rns</th>\n",
       "      <th>sd</th>\n",
       "      <th>sd2</th>\n",
       "    </tr>\n",
       "  </thead>\n",
       "  <tbody>\n",
       "    <tr>\n",
       "      <th>0</th>\n",
       "      <td>0.462</td>\n",
       "      <td>0.0</td>\n",
       "      <td>1.0</td>\n",
       "      <td>0.0</td>\n",
       "      <td>-0.629535</td>\n",
       "      <td>0.396314</td>\n",
       "    </tr>\n",
       "    <tr>\n",
       "      <th>1</th>\n",
       "      <td>0.000</td>\n",
       "      <td>2.0</td>\n",
       "      <td>1.0</td>\n",
       "      <td>0.0</td>\n",
       "      <td>1.162718</td>\n",
       "      <td>1.351913</td>\n",
       "    </tr>\n",
       "    <tr>\n",
       "      <th>2</th>\n",
       "      <td>0.423</td>\n",
       "      <td>1.0</td>\n",
       "      <td>1.0</td>\n",
       "      <td>0.0</td>\n",
       "      <td>0.266592</td>\n",
       "      <td>0.071071</td>\n",
       "    </tr>\n",
       "    <tr>\n",
       "      <th>3</th>\n",
       "      <td>0.333</td>\n",
       "      <td>1.0</td>\n",
       "      <td>1.0</td>\n",
       "      <td>0.0</td>\n",
       "      <td>-0.629535</td>\n",
       "      <td>0.396314</td>\n",
       "    </tr>\n",
       "    <tr>\n",
       "      <th>4</th>\n",
       "      <td>9.013</td>\n",
       "      <td>3.0</td>\n",
       "      <td>1.0</td>\n",
       "      <td>0.0</td>\n",
       "      <td>-1.973724</td>\n",
       "      <td>3.895586</td>\n",
       "    </tr>\n",
       "    <tr>\n",
       "      <th>...</th>\n",
       "      <td>...</td>\n",
       "      <td>...</td>\n",
       "      <td>...</td>\n",
       "      <td>...</td>\n",
       "      <td>...</td>\n",
       "      <td>...</td>\n",
       "    </tr>\n",
       "    <tr>\n",
       "      <th>753</th>\n",
       "      <td>0.000</td>\n",
       "      <td>1.0</td>\n",
       "      <td>1.0</td>\n",
       "      <td>1.0</td>\n",
       "      <td>1.162718</td>\n",
       "      <td>1.351913</td>\n",
       "    </tr>\n",
       "    <tr>\n",
       "      <th>754</th>\n",
       "      <td>0.692</td>\n",
       "      <td>1.0</td>\n",
       "      <td>0.0</td>\n",
       "      <td>1.0</td>\n",
       "      <td>-0.629535</td>\n",
       "      <td>0.396314</td>\n",
       "    </tr>\n",
       "    <tr>\n",
       "      <th>755</th>\n",
       "      <td>4.828</td>\n",
       "      <td>0.0</td>\n",
       "      <td>0.0</td>\n",
       "      <td>1.0</td>\n",
       "      <td>-0.629535</td>\n",
       "      <td>0.396314</td>\n",
       "    </tr>\n",
       "    <tr>\n",
       "      <th>756</th>\n",
       "      <td>2.489</td>\n",
       "      <td>2.0</td>\n",
       "      <td>0.0</td>\n",
       "      <td>1.0</td>\n",
       "      <td>-0.629535</td>\n",
       "      <td>0.396314</td>\n",
       "    </tr>\n",
       "    <tr>\n",
       "      <th>757</th>\n",
       "      <td>0.277</td>\n",
       "      <td>1.0</td>\n",
       "      <td>1.0</td>\n",
       "      <td>1.0</td>\n",
       "      <td>-0.629535</td>\n",
       "      <td>0.396314</td>\n",
       "    </tr>\n",
       "  </tbody>\n",
       "</table>\n",
       "<p>758 rows × 6 columns</p>\n",
       "</div>"
      ],
      "text/plain": [
       "      expr  tenure  smsa  rns        sd       sd2\n",
       "0    0.462     0.0   1.0  0.0 -0.629535  0.396314\n",
       "1    0.000     2.0   1.0  0.0  1.162718  1.351913\n",
       "2    0.423     1.0   1.0  0.0  0.266592  0.071071\n",
       "3    0.333     1.0   1.0  0.0 -0.629535  0.396314\n",
       "4    9.013     3.0   1.0  0.0 -1.973724  3.895586\n",
       "..     ...     ...   ...  ...       ...       ...\n",
       "753  0.000     1.0   1.0  1.0  1.162718  1.351913\n",
       "754  0.692     1.0   0.0  1.0 -0.629535  0.396314\n",
       "755  4.828     0.0   0.0  1.0 -0.629535  0.396314\n",
       "756  2.489     2.0   0.0  1.0 -0.629535  0.396314\n",
       "757  0.277     1.0   1.0  1.0 -0.629535  0.396314\n",
       "\n",
       "[758 rows x 6 columns]"
      ]
     },
     "execution_count": 140,
     "metadata": {},
     "output_type": "execute_result"
    }
   ],
   "source": [
    "X['sd'] = (X['s']-X['s'].mean())/X['s'].std()\n",
    "X['sd2'] = X['sd']**2\n",
    "for i in ['s','s2']:\n",
    "    if i in X:   \n",
    "        X.drop(i, axis=1, inplace=True)\n",
    "X"
   ]
  },
  {
   "cell_type": "code",
   "execution_count": 141,
   "metadata": {},
   "outputs": [
    {
     "data": {
      "text/html": [
       "<div>\n",
       "<style scoped>\n",
       "    .dataframe tbody tr th:only-of-type {\n",
       "        vertical-align: middle;\n",
       "    }\n",
       "\n",
       "    .dataframe tbody tr th {\n",
       "        vertical-align: top;\n",
       "    }\n",
       "\n",
       "    .dataframe thead th {\n",
       "        text-align: right;\n",
       "    }\n",
       "</style>\n",
       "<table border=\"1\" class=\"dataframe\">\n",
       "  <thead>\n",
       "    <tr style=\"text-align: right;\">\n",
       "      <th></th>\n",
       "      <th>变量</th>\n",
       "      <th>方差膨胀因子</th>\n",
       "      <th>容忍度</th>\n",
       "      <th>是否多重共线</th>\n",
       "    </tr>\n",
       "  </thead>\n",
       "  <tbody>\n",
       "    <tr>\n",
       "      <th>0</th>\n",
       "      <td>expr</td>\n",
       "      <td>1.804305</td>\n",
       "      <td>0.554230</td>\n",
       "      <td>否</td>\n",
       "    </tr>\n",
       "    <tr>\n",
       "      <th>1</th>\n",
       "      <td>tenure</td>\n",
       "      <td>2.038801</td>\n",
       "      <td>0.490484</td>\n",
       "      <td>否</td>\n",
       "    </tr>\n",
       "    <tr>\n",
       "      <th>2</th>\n",
       "      <td>smsa</td>\n",
       "      <td>2.079105</td>\n",
       "      <td>0.480976</td>\n",
       "      <td>否</td>\n",
       "    </tr>\n",
       "    <tr>\n",
       "      <th>3</th>\n",
       "      <td>rns</td>\n",
       "      <td>1.271753</td>\n",
       "      <td>0.786316</td>\n",
       "      <td>否</td>\n",
       "    </tr>\n",
       "    <tr>\n",
       "      <th>4</th>\n",
       "      <td>sd</td>\n",
       "      <td>1.299687</td>\n",
       "      <td>0.769416</td>\n",
       "      <td>否</td>\n",
       "    </tr>\n",
       "    <tr>\n",
       "      <th>5</th>\n",
       "      <td>sd2</td>\n",
       "      <td>2.029292</td>\n",
       "      <td>0.492783</td>\n",
       "      <td>否</td>\n",
       "    </tr>\n",
       "  </tbody>\n",
       "</table>\n",
       "</div>"
      ],
      "text/plain": [
       "       变量    方差膨胀因子       容忍度 是否多重共线\n",
       "0    expr  1.804305  0.554230      否\n",
       "1  tenure  2.038801  0.490484      否\n",
       "2    smsa  2.079105  0.480976      否\n",
       "3     rns  1.271753  0.786316      否\n",
       "4      sd  1.299687  0.769416      否\n",
       "5     sd2  2.029292  0.492783      否"
      ]
     },
     "execution_count": 141,
     "metadata": {},
     "output_type": "execute_result"
    }
   ],
   "source": [
    "vif(X)"
   ]
  },
  {
   "cell_type": "markdown",
   "metadata": {},
   "source": [
    "### 9.9 经济结构变动的检验\n",
    "\n",
    "邹检验 & 引入虚拟变量法\n",
    "\n",
    "#### 1.chow检验\n",
    "\n",
    "statsmodel包中没有专门的chow检验函数。\n",
    "\n",
    "##### （1）画图"
   ]
  },
  {
   "cell_type": "code",
   "execution_count": 142,
   "metadata": {},
   "outputs": [
    {
     "name": "stdout",
     "output_type": "stream",
     "text": [
      "0     3912484.0\n",
      "1     3916441.0\n",
      "2     3920400.0\n",
      "3     3924361.0\n",
      "4     3928324.0\n",
      "5     3932289.0\n",
      "6     3936256.0\n",
      "7     3940225.0\n",
      "8     3944196.0\n",
      "9     3948169.0\n",
      "10    3952144.0\n",
      "11    3956121.0\n",
      "12    3960100.0\n",
      "13    3964081.0\n",
      "14    3968064.0\n",
      "15    3972049.0\n",
      "16    3976036.0\n",
      "17    3980025.0\n",
      "18    3984016.0\n",
      "19    3988009.0\n",
      "20    3992004.0\n",
      "21    3996001.0\n",
      "22    4000000.0\n",
      "23    4004001.0\n",
      "24    4008004.0\n",
      "25    4012009.0\n",
      "26    4016016.0\n",
      "27    4020025.0\n",
      "28    4024036.0\n",
      "29    4028049.0\n",
      "30    4032064.0\n",
      "31    4036081.0\n",
      "32    4040100.0\n",
      "33    4044121.0\n",
      "34    4048144.0\n",
      "35    4052169.0\n",
      "Name: year, dtype: float64\n",
      "0     1.453363e+05\n",
      "1     1.757706e+05\n",
      "2     2.146006e+05\n",
      "3     2.422215e+05\n",
      "4     2.785518e+05\n",
      "5     3.395160e+05\n",
      "6     4.833031e+05\n",
      "7     7.358552e+05\n",
      "8     9.277350e+05\n",
      "9     1.237389e+06\n",
      "10    1.864618e+06\n",
      "11    2.307361e+06\n",
      "12    2.702736e+06\n",
      "13    3.582540e+06\n",
      "14    5.341137e+06\n",
      "15    8.990163e+06\n",
      "16    1.635394e+07\n",
      "17    2.545939e+07\n",
      "18    3.417443e+07\n",
      "19    4.121871e+07\n",
      "20    4.618602e+07\n",
      "21    5.124412e+07\n",
      "22    6.174314e+07\n",
      "23    7.433388e+07\n",
      "24    8.832334e+07\n",
      "25    1.111331e+08\n",
      "26    1.521665e+08\n",
      "27    2.012244e+08\n",
      "28    2.722401e+08\n",
      "29    4.068072e+08\n",
      "30    5.620556e+08\n",
      "31    6.557456e+08\n",
      "32    9.009033e+08\n",
      "33    1.238884e+09\n",
      "34    1.479131e+09\n",
      "35    1.756246e+09\n",
      "Name: y, dtype: float64\n",
      "0         33856.0\n",
      "1         43264.0\n",
      "2         56644.0\n",
      "3         69696.0\n",
      "4         82944.0\n",
      "5         99856.0\n",
      "6        130321.0\n",
      "7        198916.0\n",
      "8        247009.0\n",
      "9        319225.0\n",
      "10       509796.0\n",
      "11       620944.0\n",
      "12       693889.0\n",
      "13       868624.0\n",
      "14      1245456.0\n",
      "15      1940449.0\n",
      "16      3359889.0\n",
      "17      5546025.0\n",
      "18      7778521.0\n",
      "19      9012004.0\n",
      "20      9979281.0\n",
      "21     11195716.0\n",
      "22     13191424.0\n",
      "23     15108769.0\n",
      "24     17172736.0\n",
      "25     20025625.0\n",
      "26     25321024.0\n",
      "27     31315216.0\n",
      "28     39677401.0\n",
      "29     53436100.0\n",
      "30     71064900.0\n",
      "31     86174089.0\n",
      "32    110712484.0\n",
      "33    158004900.0\n",
      "34    199092100.0\n",
      "35    244359424.0\n",
      "Name: c, dtype: float64\n"
     ]
    },
    {
     "data": {
      "image/png": "[encoded data removed]",
      "text/plain": [
       "<Figure size 640x480 with 1 Axes>"
      ]
     },
     "metadata": {},
     "output_type": "display_data"
    }
   ],
   "source": [
    "import pandas as pd\n",
    "import statsmodels.api as sm\n",
    "import seaborn as sns\n",
    "import matplotlib.pyplot as plt\n",
    "\n",
    "# Load the data\n",
    "consump = pd.read_stata('../2_Data/Data-2e/consumption.dta')\n",
    "\n",
    "## 画图\n",
    "sns.set_theme(style=\"darkgrid\")\n",
    "sns.lineplot(x='year', y='y', data=consump,marker='^',markers=True)\n",
    "sns.lineplot(x='year', y='c', data=consump,color='r',marker='o',markers=True)\n",
    "plt.axvline(x=1992, color='g', linestyle='-')\n",
    "\n",
    "breakpoint = consump[consump['year']==1992].index[0]\n",
    "\n",
    "for i in consump.columns:\n",
    "    print(consump[i].astype('float64')**2)"
   ]
  },
  {
   "cell_type": "markdown",
   "metadata": {},
   "source": [
    "##### （2）检验\n",
    "从图形上看，确实存在结构性变化的可能。"
   ]
  },
  {
   "cell_type": "code",
   "execution_count": 143,
   "metadata": {},
   "outputs": [],
   "source": [
    "# model fit\n",
    "import pandas as pd\n",
    "import statsmodels.api as sm\n",
    "import seaborn as sns\n",
    "import scipy.stats as stats\n",
    "\n",
    "def chow_test(dataset, X_cols, y_col, breakpoint):\n",
    "    '''chow_test 对某个回归进行邹志庄检验.\n",
    "    原假设：分段与总体的回归系数一致，不存在结构变化\n",
    "    Arguments:\n",
    "        dataset -- dataframe,变量数据\n",
    "        X_cols -- list,自变量列名\n",
    "        y_col -- str,因变量列名\n",
    "        breakpoint -- float,用于指定分界点.\n",
    "    Returns:\n",
    "        F -- float,邹志庄检验的F值.\n",
    "        p_value -- float,邹志庄检验的p值.\n",
    "        result -- str,邹志庄检验的结果.\n",
    "    '''\n",
    "    dataset1 =  dataset[:breakpoint]\n",
    "    dataset2 =  dataset[breakpoint:]\n",
    "    ssr_list = []\n",
    "    model_res = []\n",
    "    for d in [dataset, dataset1, dataset2]:\n",
    "        X = d[X_cols].astype('float64')\n",
    "        y = d[y_col].astype('float64')\n",
    "        X = sm.add_constant(X)\n",
    "        model = sm.OLS(y, X)\n",
    "        results = model.fit()\n",
    "        ssr_list.append(results.ssr)\n",
    "        model_res.append(results)\n",
    "    n = dataset.shape[0]\n",
    "    k = len(X_cols) + 1 # 加入常数项的自由度\n",
    "    F = ((n-2*k)/k)*((ssr_list[0]-ssr_list[1]-ssr_list[2])/(ssr_list[1]+ssr_list[2]))\n",
    "    p_value = 1 - stats.f.cdf(F, k, n-2*k)\n",
    "    if p_value < 0.05:\n",
    "        result = '拒绝原假设，存在结构变化'\n",
    "    else:\n",
    "        result = '接受原假设，不存在结构变化'\n",
    "    return F,p_value,result"
   ]
  },
  {
   "cell_type": "code",
   "execution_count": 144,
   "metadata": {},
   "outputs": [
    {
     "data": {
      "text/plain": [
       "(15.39455829646676, 2.0713318724996377e-05, '拒绝原假设，存在结构变化')"
      ]
     },
     "execution_count": 144,
     "metadata": {},
     "output_type": "execute_result"
    }
   ],
   "source": [
    "ddd = chow_test(dataset=consump, \n",
    "          X_cols=['y'], y_col='c', \n",
    "          breakpoint=consump[consump['year']==1992].index[0])\n",
    "ddd"
   ]
  },
  {
   "cell_type": "markdown",
   "metadata": {},
   "source": [
    "#### 2.引入虚拟变量\n",
    "\n"
   ]
  },
  {
   "cell_type": "code",
   "execution_count": 152,
   "metadata": {},
   "outputs": [
    {
     "name": "stdout",
     "output_type": "stream",
     "text": [
      "                            OLS Regression Results                            \n",
      "==============================================================================\n",
      "Dep. Variable:                      c   R-squared:                       0.998\n",
      "Model:                            OLS   Adj. R-squared:                  0.997\n",
      "Method:                 Least Squares   F-statistic:                     4405.\n",
      "Date:                Thu, 25 Apr 2024   Prob (F-statistic):           6.20e-42\n",
      "Time:                        13:11:25   Log-Likelihood:                -242.55\n",
      "No. Observations:                  36   AIC:                             493.1\n",
      "Df Residuals:                      32   BIC:                             499.4\n",
      "Df Model:                           3                                         \n",
      "Covariance Type:            nonrobust                                         \n",
      "==============================================================================\n",
      "                 coef    std err          t      P>|t|      [0.025      0.975]\n",
      "------------------------------------------------------------------------------\n",
      "const         12.8912    123.918      0.104      0.918    -239.522     265.304\n",
      "y              0.4996      0.119      4.206      0.000       0.258       0.742\n",
      "d            645.2175    144.948      4.451      0.000     349.967     940.468\n",
      "yd            -0.1552      0.119     -1.306      0.201      -0.397       0.087\n",
      "==============================================================================\n",
      "Omnibus:                        1.194   Durbin-Watson:                   0.492\n",
      "Prob(Omnibus):                  0.551   Jarque-Bera (JB):                0.388\n",
      "Skew:                          -0.141   Prob(JB):                        0.824\n",
      "Kurtosis:                       3.423   Cond. No.                     1.09e+05\n",
      "==============================================================================\n",
      "\n",
      "Notes:\n",
      "[1] Standard Errors assume that the covariance matrix of the errors is correctly specified.\n",
      "[2] The condition number is large, 1.09e+05. This might indicate that there are\n",
      "strong multicollinearity or other numerical problems.\n"
     ]
    }
   ],
   "source": [
    "\n",
    "import pandas as pd\n",
    "import statsmodels.api as sm\n",
    "\n",
    "# 生成虚拟变量d，和交互项yd\n",
    "consp = pd.read_stata('../2_Data/Data-2e/consumption.dta')\n",
    "consp['d'] = [0 if year < 1992 else 1 for year in consp['year']]\n",
    "consp['yd'] = consp['y'] * consp['d']\n",
    "consp\n",
    "# 回归\n",
    "X = consp[['y', 'd', 'yd']]\n",
    "y = consp['c']\n",
    "X = sm.add_constant(X)\n",
    "model = sm.OLS(y, X)\n",
    "results = model.fit()\n",
    "print(results.summary())"
   ]
  },
  {
   "cell_type": "markdown",
   "metadata": {},
   "source": [
    "##### （1）F检验进行联合显著性检验\n",
    "\n",
    "在使用f_test()时，需要将原假设设置正确，否则自由度会出现偏差，导致计算结果出错。"
   ]
  },
  {
   "cell_type": "code",
   "execution_count": 153,
   "metadata": {},
   "outputs": [
    {
     "name": "stdout",
     "output_type": "stream",
     "text": [
      "因p值为0.0000小于显著性水平,拒绝原假设\n",
      "<F test: F=15.394558296539689, p=2.071331872427543e-05, df_denom=32, df_num=2>\n"
     ]
    }
   ],
   "source": [
    "import numpy as np\n",
    "# (4) rain 和 coast 联合显著性\n",
    "hypotheses = '(d = 0), (yd = 0)'\n",
    "f_test = results.f_test(hypotheses)\n",
    "f_test.summary()\n",
    "\n",
    "if f_test.pvalue < 0.05:\n",
    "    print(\"因p值为{:.4f}小于显著性水平,拒绝原假设\".format(f_test.pvalue))\n",
    "else:\n",
    "    print(\"因p值为{:.4f}大于显著性水平,不能拒绝原假设\".format(f_test.pvalue))\n",
    "print(f_test.summary())"
   ]
  },
  {
   "cell_type": "markdown",
   "metadata": {},
   "source": [
    "此结果需要在同方差和自相关的情况下成立，因此还要使用：\n",
    "- 异方差：White检验\n",
    "- 自相关：BG检验\n",
    "\n",
    "##### （2）异方差检验：white检验\n",
    "拒绝原假设：存在异方差"
   ]
  },
  {
   "cell_type": "code",
   "execution_count": 154,
   "metadata": {},
   "outputs": [
    {
     "data": {
      "text/plain": [
       "(18.550915603766995,\n",
       " 0.002329603474294182,\n",
       " 6.378873016777381,\n",
       " 0.00038046265933111935)"
      ]
     },
     "execution_count": 154,
     "metadata": {},
     "output_type": "execute_result"
    }
   ],
   "source": [
    "from statsmodels.stats.diagnostic import het_white\n",
    "\n",
    "result_white = het_white(resid=results.resid, exog=X)\n",
    "result_white"
   ]
  },
  {
   "cell_type": "markdown",
   "metadata": {},
   "source": [
    "##### （3）自相关检验：BG检验"
   ]
  },
  {
   "cell_type": "code",
   "execution_count": 155,
   "metadata": {},
   "outputs": [
    {
     "name": "stdout",
     "output_type": "stream",
     "text": [
      "BG检验的LM统计量:21.4828\n",
      "BG检验的LM统计量P值:0.0000\n",
      "拒绝原假设,模型存在自相关.\n"
     ]
    }
   ],
   "source": [
    "from statsmodels.stats.diagnostic import acorr_breusch_godfrey\n",
    "\n",
    "lag = 1  # 假设我们检验1阶自相关\n",
    "bg_result = acorr_breusch_godfrey(results, nlags=lag)\n",
    "print(\"BG检验的LM统计量:{:.4f}\".format(bg_result[0]))\n",
    "print(\"BG检验的LM统计量P值:{:.4f}\".format(bg_result[1]))\n",
    "if bg_result[1]<0.05:\n",
    "    print(\"拒绝原假设,模型存在自相关.\")\n",
    "else:\n",
    "    print(\"接受原假设，模型不存在自相关.\")\n"
   ]
  },
  {
   "cell_type": "markdown",
   "metadata": {},
   "source": [
    "##### （4）NW法\n",
    "\n",
    "OLS+异方差自相关稳健的标准误（HAC）\n"
   ]
  },
  {
   "cell_type": "code",
   "execution_count": 156,
   "metadata": {},
   "outputs": [
    {
     "name": "stdout",
     "output_type": "stream",
     "text": [
      "                            OLS Regression Results                            \n",
      "==============================================================================\n",
      "Dep. Variable:                      c   R-squared:                       0.998\n",
      "Model:                            OLS   Adj. R-squared:                  0.997\n",
      "Method:                 Least Squares   F-statistic:                     2455.\n",
      "Date:                Thu, 25 Apr 2024   Prob (F-statistic):           6.93e-38\n",
      "Time:                        13:12:21   Log-Likelihood:                -242.55\n",
      "No. Observations:                  36   AIC:                             493.1\n",
      "Df Residuals:                      32   BIC:                             499.4\n",
      "Df Model:                           3                                         \n",
      "Covariance Type:                  HAC                                         \n",
      "==============================================================================\n",
      "                 coef    std err          t      P>|t|      [0.025      0.975]\n",
      "------------------------------------------------------------------------------\n",
      "const         12.8912     10.166      1.268      0.214      -7.815      33.598\n",
      "y              0.4996      0.010     50.353      0.000       0.479       0.520\n",
      "d            645.2175    139.943      4.611      0.000     360.163     930.272\n",
      "yd            -0.1552      0.014    -11.267      0.000      -0.183      -0.127\n",
      "==============================================================================\n",
      "Omnibus:                        1.194   Durbin-Watson:                   0.492\n",
      "Prob(Omnibus):                  0.551   Jarque-Bera (JB):                0.388\n",
      "Skew:                          -0.141   Prob(JB):                        0.824\n",
      "Kurtosis:                       3.423   Cond. No.                     1.09e+05\n",
      "==============================================================================\n",
      "\n",
      "Notes:\n",
      "[1] Standard Errors are heteroscedasticity and autocorrelation robust (HAC) using 3 lags and with small sample correction\n",
      "[2] The condition number is large, 1.09e+05. This might indicate that there are\n",
      "strong multicollinearity or other numerical problems.\n"
     ]
    }
   ],
   "source": [
    "nw_cov_type = 'HAC'\n",
    "p = int((len(consp)** 0.25 // 1) + 1)\n",
    "nw_kwargs = {'maxlags': p,'use_correction':True}\n",
    "nw_res = results.get_robustcov_results(cov_type=nw_cov_type, use_t=True, **nw_kwargs)\n",
    "print(nw_res.summary())"
   ]
  },
  {
   "cell_type": "markdown",
   "metadata": {},
   "source": [
    "##### （5）对新回归进行联合显著性检验"
   ]
  },
  {
   "cell_type": "code",
   "execution_count": 158,
   "metadata": {},
   "outputs": [
    {
     "name": "stdout",
     "output_type": "stream",
     "text": [
      "因p值为0.0000小于显著性水平,拒绝原假设\n",
      "<F test: F=73.05469132974434, p=1.17872061607885e-12, df_denom=32, df_num=2>\n"
     ]
    }
   ],
   "source": [
    "hypotheses = '(d = 0), (yd = 0)'\n",
    "f_test = nw_res.f_test(hypotheses)\n",
    "f_test.summary()\n",
    "\n",
    "if f_test.pvalue < 0.05:\n",
    "    print(\"因p值为{:.4f}小于显著性水平,拒绝原假设\".format(f_test.pvalue))\n",
    "else:\n",
    "    print(\"因p值为{:.4f}大于显著性水平,不能拒绝原假设\".format(f_test.pvalue))\n",
    "print(f_test.summary())"
   ]
  }
 ],
 "metadata": {
  "kernelspec": {
   "display_name": ".venv",
   "language": "python",
   "name": "python3"
  },
  "language_info": {
   "codemirror_mode": {
    "name": "ipython",
    "version": 3
   },
   "file_extension": ".py",
   "mimetype": "text/x-python",
   "name": "python",
   "nbconvert_exporter": "python",
   "pygments_lexer": "ipython3",
   "version": "3.10.8"
  }
 },
 "nbformat": 4,
 "nbformat_minor": 2
}
