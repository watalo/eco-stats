{
 "cells": [
  {
   "cell_type": "markdown",
   "metadata": {},
   "source": [
    "## 第9章 模型设定与数据问题\n",
    "\n",
    "### 9.4 解释变量个数的选择"
   ]
  },
  {
   "cell_type": "code",
   "execution_count": 53,
   "metadata": {},
   "outputs": [],
   "source": [
    "import pandas as pd\n",
    "import statsmodels.api as sm\n",
    "\n",
    "icecream = pd.read_stata('../2_Data/Data-2e/icecream.dta')\n",
    "icecream['temp_l1'] = icecream['temp'].shift(1)# 引入temp滞后1期\n",
    "icecream['temp_l2'] = icecream['temp'].shift(2)# 引入temp滞后2期\n",
    "\n",
    "def Ols_icecream(data, X_cols:list, y_col:str,lags=0):\n",
    "    X =  icecream[X_cols]\n",
    "    y =  icecream[y_col]\n",
    "    Model = sm.OLS(y[lags:], X[lags:])\n",
    "    Results = Model.fit()\n",
    "    return Results"
   ]
  },
  {
   "cell_type": "markdown",
   "metadata": {},
   "source": [
    "#### 1.IC方法\n",
    "\n",
    "回归后使用信息准则AIC和BIC，观察AIC和BIC的变化，取最小值对应的模型。\n",
    "\n",
    "结果：\n",
    "- 引入滞后1期时，IC最小，因此，解释变量中应引入滞后1期。"
   ]
  },
  {
   "cell_type": "code",
   "execution_count": 54,
   "metadata": {},
   "outputs": [
    {
     "name": "stdout",
     "output_type": "stream",
     "text": [
      "【不引入temp滞后项】AIC:-110.6299  BIC:-106.4263\n",
      "【引入temp滞后1期】AIC:-118.0386  BIC:-112.5694\n",
      "【引入temp滞后2期】AIC:-111.4727  BIC:-104.8117\n"
     ]
    }
   ],
   "source": [
    "Results = Ols_icecream(icecream,\n",
    "                       ['temp', 'price', 'income'], \n",
    "                       'consumption')\n",
    "Results1 = Ols_icecream(icecream,\n",
    "                        ['temp', 'temp_l1', 'price', 'income'], \n",
    "                        'consumption',\n",
    "                        1)\n",
    "Results2 = Ols_icecream(icecream,\n",
    "                        ['temp', 'temp_l1', 'temp_l2', 'price', 'income'], \n",
    "                        'consumption',\n",
    "                        2)\n",
    "\n",
    "# 直接调用OLSResults的属性\n",
    "print(f'【不引入temp滞后项】AIC:{Results.aic:.4f}  BIC:{Results.bic:.4f}') \n",
    "print(f'【引入temp滞后1期】AIC:{Results1.aic:.4f}  BIC:{Results1.bic:.4f}') \n",
    "print(f'【引入temp滞后2期】AIC:{Results2.aic:.4f}  BIC:{Results2.bic:.4f}') "
   ]
  },
  {
   "cell_type": "markdown",
   "metadata": {},
   "source": [
    "#### 2. 序贯t规则\n",
    "\n",
    "步骤：\n",
    "- 设置一个最大滞后期，引入所有滞后期进行回归\n",
    "- 对最大滞后期进行t检验，如不显著就向前推\n",
    "- 直到找到现在的滞后期为止\n",
    "\n",
    "结果：\n",
    "1. temp_l2的p值为0.5374,不显著,不接受此最大滞后项,继续检验p-1期。\n",
    "2. temp_l1的p值为0.0071,显著,接此最大滞后项。\n"
   ]
  },
  {
   "cell_type": "code",
   "execution_count": 55,
   "metadata": {},
   "outputs": [
    {
     "name": "stdout",
     "output_type": "stream",
     "text": [
      "temp_l2的p值为0.5374,不显著,不接受此最大滞后项,继续检验p-1期。\n"
     ]
    }
   ],
   "source": [
    "Results2 = Ols_icecream(icecream,\n",
    "                        ['temp', 'temp_l1', 'temp_l2', 'price', 'income'], \n",
    "                        'consumption',\n",
    "                        2)\n",
    "\n",
    "if Results2.pvalues['temp_l2']>0.05:\n",
    "    print(f\"temp_l2的p值为{Results2.pvalues['temp_l2']:.4f},不显著,不接受此最大滞后项,继续检验p-1期。\")\n",
    "else:\n",
    "    print(f\"temp_l2的p值为{Results2.pvalues['temp_l2']:.4f},显著,接此最大滞后项。\")"
   ]
  },
  {
   "cell_type": "code",
   "execution_count": 56,
   "metadata": {},
   "outputs": [
    {
     "name": "stdout",
     "output_type": "stream",
     "text": [
      "temp_l1的p值为0.0071,显著,接此最大滞后项。\n"
     ]
    }
   ],
   "source": [
    "Results1 = Ols_icecream(icecream,\n",
    "                        ['temp', 'temp_l1', 'price', 'income'], \n",
    "                        'consumption',\n",
    "                        1)\n",
    "\n",
    "if Results1.pvalues['temp_l1']>0.05:\n",
    "    print(f\"temp_l1的p值为{Results1.pvalues['temp_l1']:.4f},不显著,不接受此最大滞后项,继续检验p-1期。\")\n",
    "else:\n",
    "    print(f\"temp_l1的p值为{Results1.pvalues['temp_l1']:.4f},显著,接此最大滞后项。\")"
   ]
  },
  {
   "cell_type": "markdown",
   "metadata": {},
   "source": [
    "### 9.5 对函数形式的检验"
   ]
  },
  {
   "cell_type": "code",
   "execution_count": null,
   "metadata": {},
   "outputs": [],
   "source": []
  }
 ],
 "metadata": {
  "kernelspec": {
   "display_name": ".venv",
   "language": "python",
   "name": "python3"
  },
  "language_info": {
   "codemirror_mode": {
    "name": "ipython",
    "version": 3
   },
   "file_extension": ".py",
   "mimetype": "text/x-python",
   "name": "python",
   "nbconvert_exporter": "python",
   "pygments_lexer": "ipython3",
   "version": "3.10.8"
  }
 },
 "nbformat": 4,
 "nbformat_minor": 2
}
