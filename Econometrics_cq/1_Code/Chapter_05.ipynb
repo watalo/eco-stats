{
 "cells": [
  {
   "cell_type": "markdown",
   "metadata": {},
   "source": [
    "# 第5章 多元线性回归\n",
    "\n",
    "## 5.1 二元线性回归\n",
    "\n",
    "模型:Cobb-Douglas生产函数\n",
    "\n",
    "$\\ln y_i=\\ln \\alpha +\\beta\\ln k_i +\\gamma \\ln l_i + \\epsilon_i$"
   ]
  },
  {
   "cell_type": "code",
   "execution_count": 60,
   "metadata": {},
   "outputs": [
    {
     "data": {
      "text/html": [
       "<div>\n",
       "<style scoped>\n",
       "    .dataframe tbody tr th:only-of-type {\n",
       "        vertical-align: middle;\n",
       "    }\n",
       "\n",
       "    .dataframe tbody tr th {\n",
       "        vertical-align: top;\n",
       "    }\n",
       "\n",
       "    .dataframe thead th {\n",
       "        text-align: right;\n",
       "    }\n",
       "</style>\n",
       "<table border=\"1\" class=\"dataframe\">\n",
       "  <thead>\n",
       "    <tr style=\"text-align: right;\">\n",
       "      <th></th>\n",
       "      <th>year</th>\n",
       "      <th>k</th>\n",
       "      <th>l</th>\n",
       "      <th>y</th>\n",
       "      <th>lnk</th>\n",
       "      <th>lnl</th>\n",
       "      <th>lny</th>\n",
       "    </tr>\n",
       "  </thead>\n",
       "  <tbody>\n",
       "    <tr>\n",
       "      <th>0</th>\n",
       "      <td>1899</td>\n",
       "      <td>100</td>\n",
       "      <td>100</td>\n",
       "      <td>100</td>\n",
       "      <td>4.605170</td>\n",
       "      <td>4.605170</td>\n",
       "      <td>4.605170</td>\n",
       "    </tr>\n",
       "    <tr>\n",
       "      <th>1</th>\n",
       "      <td>1900</td>\n",
       "      <td>107</td>\n",
       "      <td>105</td>\n",
       "      <td>101</td>\n",
       "      <td>4.672829</td>\n",
       "      <td>4.653960</td>\n",
       "      <td>4.615120</td>\n",
       "    </tr>\n",
       "    <tr>\n",
       "      <th>2</th>\n",
       "      <td>1901</td>\n",
       "      <td>114</td>\n",
       "      <td>110</td>\n",
       "      <td>112</td>\n",
       "      <td>4.736198</td>\n",
       "      <td>4.700480</td>\n",
       "      <td>4.718499</td>\n",
       "    </tr>\n",
       "    <tr>\n",
       "      <th>3</th>\n",
       "      <td>1902</td>\n",
       "      <td>122</td>\n",
       "      <td>118</td>\n",
       "      <td>122</td>\n",
       "      <td>4.804021</td>\n",
       "      <td>4.770685</td>\n",
       "      <td>4.804021</td>\n",
       "    </tr>\n",
       "    <tr>\n",
       "      <th>4</th>\n",
       "      <td>1903</td>\n",
       "      <td>131</td>\n",
       "      <td>123</td>\n",
       "      <td>124</td>\n",
       "      <td>4.875197</td>\n",
       "      <td>4.812184</td>\n",
       "      <td>4.820282</td>\n",
       "    </tr>\n",
       "  </tbody>\n",
       "</table>\n",
       "</div>"
      ],
      "text/plain": [
       "   year    k    l    y       lnk       lnl       lny\n",
       "0  1899  100  100  100  4.605170  4.605170  4.605170\n",
       "1  1900  107  105  101  4.672829  4.653960  4.615120\n",
       "2  1901  114  110  112  4.736198  4.700480  4.718499\n",
       "3  1902  122  118  122  4.804021  4.770685  4.804021\n",
       "4  1903  131  123  124  4.875197  4.812184  4.820282"
      ]
     },
     "execution_count": 60,
     "metadata": {},
     "output_type": "execute_result"
    }
   ],
   "source": [
    "import pandas as pd\n",
    "import statsmodels.api as sm\n",
    "import seaborn as sns\n",
    "\n",
    "CD = pd.read_stata('../2_Data/Data-2e/cobb_douglas.dta')\n",
    "CD.head()"
   ]
  },
  {
   "cell_type": "code",
   "execution_count": 61,
   "metadata": {},
   "outputs": [
    {
     "data": {
      "text/html": [
       "<table class=\"simpletable\">\n",
       "<caption>OLS Regression Results</caption>\n",
       "<tr>\n",
       "  <th>Dep. Variable:</th>           <td>lny</td>       <th>  R-squared:         </th> <td>   0.957</td>\n",
       "</tr>\n",
       "<tr>\n",
       "  <th>Model:</th>                   <td>OLS</td>       <th>  Adj. R-squared:    </th> <td>   0.953</td>\n",
       "</tr>\n",
       "<tr>\n",
       "  <th>Method:</th>             <td>Least Squares</td>  <th>  F-statistic:       </th> <td>   236.1</td>\n",
       "</tr>\n",
       "<tr>\n",
       "  <th>Date:</th>             <td>Wed, 10 Apr 2024</td> <th>  Prob (F-statistic):</th> <td>4.04e-15</td>\n",
       "</tr>\n",
       "<tr>\n",
       "  <th>Time:</th>                 <td>00:45:13</td>     <th>  Log-Likelihood:    </th> <td>  35.826</td>\n",
       "</tr>\n",
       "<tr>\n",
       "  <th>No. Observations:</th>      <td>    24</td>      <th>  AIC:               </th> <td>  -65.65</td>\n",
       "</tr>\n",
       "<tr>\n",
       "  <th>Df Residuals:</th>          <td>    21</td>      <th>  BIC:               </th> <td>  -62.12</td>\n",
       "</tr>\n",
       "<tr>\n",
       "  <th>Df Model:</th>              <td>     2</td>      <th>                     </th>     <td> </td>   \n",
       "</tr>\n",
       "<tr>\n",
       "  <th>Covariance Type:</th>      <td>nonrobust</td>    <th>                     </th>     <td> </td>   \n",
       "</tr>\n",
       "</table>\n",
       "<table class=\"simpletable\">\n",
       "<tr>\n",
       "    <td></td>       <th>coef</th>     <th>std err</th>      <th>t</th>      <th>P>|t|</th>  <th>[0.025</th>    <th>0.975]</th>  \n",
       "</tr>\n",
       "<tr>\n",
       "  <th>const</th> <td>   -0.1773</td> <td>    0.434</td> <td>   -0.408</td> <td> 0.687</td> <td>   -1.080</td> <td>    0.726</td>\n",
       "</tr>\n",
       "<tr>\n",
       "  <th>lnk</th>   <td>    0.2331</td> <td>    0.064</td> <td>    3.668</td> <td> 0.001</td> <td>    0.101</td> <td>    0.365</td>\n",
       "</tr>\n",
       "<tr>\n",
       "  <th>lnl</th>   <td>    0.8073</td> <td>    0.145</td> <td>    5.565</td> <td> 0.000</td> <td>    0.506</td> <td>    1.109</td>\n",
       "</tr>\n",
       "</table>\n",
       "<table class=\"simpletable\">\n",
       "<tr>\n",
       "  <th>Omnibus:</th>       <td> 2.133</td> <th>  Durbin-Watson:     </th> <td>   1.523</td>\n",
       "</tr>\n",
       "<tr>\n",
       "  <th>Prob(Omnibus):</th> <td> 0.344</td> <th>  Jarque-Bera (JB):  </th> <td>   1.361</td>\n",
       "</tr>\n",
       "<tr>\n",
       "  <th>Skew:</th>          <td> 0.583</td> <th>  Prob(JB):          </th> <td>   0.506</td>\n",
       "</tr>\n",
       "<tr>\n",
       "  <th>Kurtosis:</th>      <td> 2.992</td> <th>  Cond. No.          </th> <td>    285.</td>\n",
       "</tr>\n",
       "</table><br/><br/>Notes:<br/>[1] Standard Errors assume that the covariance matrix of the errors is correctly specified."
      ],
      "text/latex": [
       "\\begin{center}\n",
       "\\begin{tabular}{lclc}\n",
       "\\toprule\n",
       "\\textbf{Dep. Variable:}    &       lny        & \\textbf{  R-squared:         } &     0.957   \\\\\n",
       "\\textbf{Model:}            &       OLS        & \\textbf{  Adj. R-squared:    } &     0.953   \\\\\n",
       "\\textbf{Method:}           &  Least Squares   & \\textbf{  F-statistic:       } &     236.1   \\\\\n",
       "\\textbf{Date:}             & Wed, 10 Apr 2024 & \\textbf{  Prob (F-statistic):} &  4.04e-15   \\\\\n",
       "\\textbf{Time:}             &     00:45:13     & \\textbf{  Log-Likelihood:    } &    35.826   \\\\\n",
       "\\textbf{No. Observations:} &          24      & \\textbf{  AIC:               } &    -65.65   \\\\\n",
       "\\textbf{Df Residuals:}     &          21      & \\textbf{  BIC:               } &    -62.12   \\\\\n",
       "\\textbf{Df Model:}         &           2      & \\textbf{                     } &             \\\\\n",
       "\\textbf{Covariance Type:}  &    nonrobust     & \\textbf{                     } &             \\\\\n",
       "\\bottomrule\n",
       "\\end{tabular}\n",
       "\\begin{tabular}{lcccccc}\n",
       "               & \\textbf{coef} & \\textbf{std err} & \\textbf{t} & \\textbf{P$> |$t$|$} & \\textbf{[0.025} & \\textbf{0.975]}  \\\\\n",
       "\\midrule\n",
       "\\textbf{const} &      -0.1773  &        0.434     &    -0.408  &         0.687        &       -1.080    &        0.726     \\\\\n",
       "\\textbf{lnk}   &       0.2331  &        0.064     &     3.668  &         0.001        &        0.101    &        0.365     \\\\\n",
       "\\textbf{lnl}   &       0.8073  &        0.145     &     5.565  &         0.000        &        0.506    &        1.109     \\\\\n",
       "\\bottomrule\n",
       "\\end{tabular}\n",
       "\\begin{tabular}{lclc}\n",
       "\\textbf{Omnibus:}       &  2.133 & \\textbf{  Durbin-Watson:     } &    1.523  \\\\\n",
       "\\textbf{Prob(Omnibus):} &  0.344 & \\textbf{  Jarque-Bera (JB):  } &    1.361  \\\\\n",
       "\\textbf{Skew:}          &  0.583 & \\textbf{  Prob(JB):          } &    0.506  \\\\\n",
       "\\textbf{Kurtosis:}      &  2.992 & \\textbf{  Cond. No.          } &     285.  \\\\\n",
       "\\bottomrule\n",
       "\\end{tabular}\n",
       "%\\caption{OLS Regression Results}\n",
       "\\end{center}\n",
       "\n",
       "Notes: \\newline\n",
       " [1] Standard Errors assume that the covariance matrix of the errors is correctly specified."
      ],
      "text/plain": [
       "<class 'statsmodels.iolib.summary.Summary'>\n",
       "\"\"\"\n",
       "                            OLS Regression Results                            \n",
       "==============================================================================\n",
       "Dep. Variable:                    lny   R-squared:                       0.957\n",
       "Model:                            OLS   Adj. R-squared:                  0.953\n",
       "Method:                 Least Squares   F-statistic:                     236.1\n",
       "Date:                Wed, 10 Apr 2024   Prob (F-statistic):           4.04e-15\n",
       "Time:                        00:45:13   Log-Likelihood:                 35.826\n",
       "No. Observations:                  24   AIC:                            -65.65\n",
       "Df Residuals:                      21   BIC:                            -62.12\n",
       "Df Model:                           2                                         \n",
       "Covariance Type:            nonrobust                                         \n",
       "==============================================================================\n",
       "                 coef    std err          t      P>|t|      [0.025      0.975]\n",
       "------------------------------------------------------------------------------\n",
       "const         -0.1773      0.434     -0.408      0.687      -1.080       0.726\n",
       "lnk            0.2331      0.064      3.668      0.001       0.101       0.365\n",
       "lnl            0.8073      0.145      5.565      0.000       0.506       1.109\n",
       "==============================================================================\n",
       "Omnibus:                        2.133   Durbin-Watson:                   1.523\n",
       "Prob(Omnibus):                  0.344   Jarque-Bera (JB):                1.361\n",
       "Skew:                           0.583   Prob(JB):                        0.506\n",
       "Kurtosis:                       2.992   Cond. No.                         285.\n",
       "==============================================================================\n",
       "\n",
       "Notes:\n",
       "[1] Standard Errors assume that the covariance matrix of the errors is correctly specified.\n",
       "\"\"\""
      ]
     },
     "execution_count": 61,
     "metadata": {},
     "output_type": "execute_result"
    }
   ],
   "source": [
    "# 定义变量\n",
    "\n",
    "X = CD[['lnk','lnl']]\n",
    "y = CD['lny']\n",
    "X = sm.add_constant(X)\n",
    "\n",
    "# 建立回归模型\n",
    "model = sm.OLS(y,X)\n",
    "results = model.fit().summary()\n",
    "results"
   ]
  },
  {
   "cell_type": "code",
   "execution_count": 62,
   "metadata": {},
   "outputs": [],
   "source": [
    "# sm.graphics.plot_partregress(endog='lny', \n",
    "#                              exog_i='lnk',\n",
    "#                              exog_others=['lnl'],\n",
    "#                              data=CD, \n",
    "#                              obs_labels=False # 不显示样本点的标签\n",
    "#                              )"
   ]
  },
  {
   "cell_type": "markdown",
   "metadata": {},
   "source": [
    "## 5.4 OLS的几何解释"
   ]
  },
  {
   "cell_type": "code",
   "execution_count": 63,
   "metadata": {},
   "outputs": [
    {
     "data": {
      "image/png": "[encoded data removed]",
      "text/plain": [
       "<Figure size 640x480 with 1 Axes>"
      ]
     },
     "metadata": {},
     "output_type": "display_data"
    }
   ],
   "source": [
    "#借助kimi实现的代码\n",
    "\n",
    "import numpy as np\n",
    "import matplotlib.pyplot as plt\n",
    "from mpl_toolkits.mplot3d import Axes3D\n",
    "\n",
    "# 定义点a和点b的坐标\n",
    "a = np.array([0, 0, 0])\n",
    "b = np.array([3, 4, 5])\n",
    "\n",
    "# 创建3D图形和坐标轴\n",
    "fig = plt.figure()\n",
    "ax = fig.add_subplot(111, projection='3d')\n",
    "\n",
    "# 绘制直线y\n",
    "ax.plot3D([a[0], b[0]], [a[1], b[1]], [a[2], b[2]], label='y')\n",
    "\n",
    "# 计算直线在xy平面上的投影点\n",
    "# 投影点的z坐标为0\n",
    "projected_point = (b[0], b[1], 0)\n",
    "\n",
    "# 绘制投影线$\\hat y$\n",
    "ax.plot3D([a[0], projected_point[0]], [a[1], projected_point[1]], [a[2], projected_point[2]], label='\\hat y')\n",
    "\n",
    "# 计算点b到投影点的垂线e\n",
    "# 由于我们已经在xy平面上，垂线e的x和y坐标与投影点相同，z坐标与点b相同\n",
    "e_point = (projected_point[0], projected_point[1], b[2])\n",
    "\n",
    "# 绘制垂线e\n",
    "ax.plot3D([projected_point[0], e_point[0]], [projected_point[1], e_point[1]], [projected_point[2], e_point[2]], label='e_i')\n",
    "\n",
    "# 设置坐标轴标签\n",
    "ax.set_xlabel('X')\n",
    "ax.set_ylabel('Y')\n",
    "ax.set_zlabel('Z')\n",
    "\n",
    "# 显示图例\n",
    "ax.legend()\n",
    "\n",
    "# 显示图形\n",
    "plt.show()"
   ]
  },
  {
   "cell_type": "markdown",
   "metadata": {},
   "source": [
    "## 5.12 多元线性回归的python命令及实例\n",
    "\n",
    "数据：grilic.dta\n",
    "对以下方程进行多元线性回归：$$\\ln{w}=\\beta_1+\\beta_2s+\\beta_3expr+\\beta_4tenure+\\beta_5smsa+\\beta_6rns+\\epsilon$$"
   ]
  },
  {
   "cell_type": "markdown",
   "metadata": {},
   "source": [
    "### 模型回归"
   ]
  },
  {
   "cell_type": "code",
   "execution_count": 64,
   "metadata": {},
   "outputs": [
    {
     "data": {
      "text/html": [
       "<div>\n",
       "<style scoped>\n",
       "    .dataframe tbody tr th:only-of-type {\n",
       "        vertical-align: middle;\n",
       "    }\n",
       "\n",
       "    .dataframe tbody tr th {\n",
       "        vertical-align: top;\n",
       "    }\n",
       "\n",
       "    .dataframe thead th {\n",
       "        text-align: right;\n",
       "    }\n",
       "</style>\n",
       "<table border=\"1\" class=\"dataframe\">\n",
       "  <thead>\n",
       "    <tr style=\"text-align: right;\">\n",
       "      <th></th>\n",
       "      <th>rns</th>\n",
       "      <th>mrt</th>\n",
       "      <th>smsa</th>\n",
       "      <th>med</th>\n",
       "      <th>iq</th>\n",
       "      <th>kww</th>\n",
       "      <th>age</th>\n",
       "      <th>s</th>\n",
       "      <th>expr</th>\n",
       "      <th>tenure</th>\n",
       "      <th>lnw</th>\n",
       "    </tr>\n",
       "  </thead>\n",
       "  <tbody>\n",
       "    <tr>\n",
       "      <th>0</th>\n",
       "      <td>0</td>\n",
       "      <td>0</td>\n",
       "      <td>1</td>\n",
       "      <td>8</td>\n",
       "      <td>93</td>\n",
       "      <td>35</td>\n",
       "      <td>19</td>\n",
       "      <td>12</td>\n",
       "      <td>0.462</td>\n",
       "      <td>0</td>\n",
       "      <td>5.900</td>\n",
       "    </tr>\n",
       "    <tr>\n",
       "      <th>1</th>\n",
       "      <td>0</td>\n",
       "      <td>0</td>\n",
       "      <td>1</td>\n",
       "      <td>14</td>\n",
       "      <td>119</td>\n",
       "      <td>41</td>\n",
       "      <td>23</td>\n",
       "      <td>16</td>\n",
       "      <td>0.000</td>\n",
       "      <td>2</td>\n",
       "      <td>5.438</td>\n",
       "    </tr>\n",
       "    <tr>\n",
       "      <th>2</th>\n",
       "      <td>0</td>\n",
       "      <td>0</td>\n",
       "      <td>1</td>\n",
       "      <td>14</td>\n",
       "      <td>108</td>\n",
       "      <td>46</td>\n",
       "      <td>20</td>\n",
       "      <td>14</td>\n",
       "      <td>0.423</td>\n",
       "      <td>1</td>\n",
       "      <td>5.710</td>\n",
       "    </tr>\n",
       "    <tr>\n",
       "      <th>3</th>\n",
       "      <td>0</td>\n",
       "      <td>0</td>\n",
       "      <td>1</td>\n",
       "      <td>12</td>\n",
       "      <td>96</td>\n",
       "      <td>32</td>\n",
       "      <td>18</td>\n",
       "      <td>12</td>\n",
       "      <td>0.333</td>\n",
       "      <td>1</td>\n",
       "      <td>5.481</td>\n",
       "    </tr>\n",
       "    <tr>\n",
       "      <th>4</th>\n",
       "      <td>0</td>\n",
       "      <td>1</td>\n",
       "      <td>1</td>\n",
       "      <td>6</td>\n",
       "      <td>74</td>\n",
       "      <td>27</td>\n",
       "      <td>26</td>\n",
       "      <td>9</td>\n",
       "      <td>9.013</td>\n",
       "      <td>3</td>\n",
       "      <td>5.927</td>\n",
       "    </tr>\n",
       "  </tbody>\n",
       "</table>\n",
       "</div>"
      ],
      "text/plain": [
       "   rns  mrt  smsa  med   iq  kww  age   s   expr  tenure    lnw\n",
       "0    0    0     1    8   93   35   19  12  0.462       0  5.900\n",
       "1    0    0     1   14  119   41   23  16  0.000       2  5.438\n",
       "2    0    0     1   14  108   46   20  14  0.423       1  5.710\n",
       "3    0    0     1   12   96   32   18  12  0.333       1  5.481\n",
       "4    0    1     1    6   74   27   26   9  9.013       3  5.927"
      ]
     },
     "execution_count": 64,
     "metadata": {},
     "output_type": "execute_result"
    }
   ],
   "source": [
    "import pandas as pd\n",
    "import statsmodels.api as sm\n",
    "\n",
    "grilic = pd.read_stata('../2_Data/Data-2e/grilic.dta')\n",
    "grilic.head()"
   ]
  },
  {
   "cell_type": "code",
   "execution_count": 65,
   "metadata": {},
   "outputs": [
    {
     "name": "stdout",
     "output_type": "stream",
     "text": [
      "                            OLS Regression Results                            \n",
      "==============================================================================\n",
      "Dep. Variable:                    lnw   R-squared:                       0.352\n",
      "Model:                            OLS   Adj. R-squared:                  0.348\n",
      "Method:                 Least Squares   F-statistic:                     81.75\n",
      "Date:                Wed, 10 Apr 2024   Prob (F-statistic):           1.52e-68\n",
      "Time:                        00:45:14   Log-Likelihood:                -268.96\n",
      "No. Observations:                 758   AIC:                             549.9\n",
      "Df Residuals:                     752   BIC:                             577.7\n",
      "Df Model:                           5                                         \n",
      "Covariance Type:            nonrobust                                         \n",
      "==============================================================================\n",
      "                 coef    std err          t      P>|t|      [0.025      0.975]\n",
      "------------------------------------------------------------------------------\n",
      "const          4.1037      0.085     48.223      0.000       3.937       4.271\n",
      "s              0.1026      0.006     17.549      0.000       0.091       0.114\n",
      "expr           0.0381      0.006      6.025      0.000       0.026       0.051\n",
      "tenure         0.0356      0.008      4.600      0.000       0.020       0.051\n",
      "smsa           0.1397      0.028      4.974      0.000       0.085       0.195\n",
      "rns           -0.0841      0.029     -2.920      0.004      -0.141      -0.028\n",
      "==============================================================================\n",
      "Omnibus:                        5.162   Durbin-Watson:                   1.753\n",
      "Prob(Omnibus):                  0.076   Jarque-Bera (JB):                6.576\n",
      "Skew:                           0.012   Prob(JB):                       0.0373\n",
      "Kurtosis:                       3.456   Cond. No.                         94.3\n",
      "==============================================================================\n",
      "\n",
      "Notes:\n",
      "[1] Standard Errors assume that the covariance matrix of the errors is correctly specified.\n"
     ]
    }
   ],
   "source": [
    "X=grilic[['s','expr','tenure','smsa','rns']]\n",
    "y = grilic['lnw']\n",
    "X = sm.add_constant(X)\n",
    "model = sm.OLS(y,X)\n",
    "results = model.fit()\n",
    "print(results.summary())"
   ]
  },
  {
   "cell_type": "markdown",
   "metadata": {},
   "source": [
    "### 回归结果的使用\n",
    "常用的属性与方法\n",
    "\n",
    "|方法|描述|\n",
    "|----|----|\n",
    "|summary()|输出回归结果的摘要信息|\n",
    "|cov_params()|输出回归系数的协方差矩阵|\n",
    "|conf_int()|输出回归系数的置信区间| \n",
    "|f_test()|输出F检验的结果|\n",
    "|predict(x)|输出回归预测值|\n",
    "\n",
    "还有部分可直接调用的属性\n",
    "|属性|描述|\n",
    "|----|----|\n",
    "|params|回归系数|\n",
    "|bse|回归系数的标准误差|\n",
    "|tvalues|回归系数的t值|\n",
    "|pvalues|回归系数的p值|\n",
    "|fittedvalues|回归拟合值|\n",
    "|nobs|样本量|\n",
    "|ssr|残差平方和|\n",
    "|ess|解释变量的平方和|\n",
    "|rsquared|R方|\n",
    "|rsquared_adj|调整后R方|\n",
    "\n",
    "等等，参阅[官方文档-statsmodels.regression.linear_model.RegressionResults](https://www.statsmodels.org/stable/generated/statsmodels.regression.linear_model.RegressionResults.html)\n"
   ]
  },
  {
   "cell_type": "code",
   "execution_count": 66,
   "metadata": {},
   "outputs": [
    {
     "name": "stdout",
     "output_type": "stream",
     "text": [
      "           const             s          expr        tenure      smsa  \\\n",
      "const   0.007242 -4.656708e-04 -1.677820e-04 -8.646432e-05 -0.000387   \n",
      "s      -0.000466  3.420855e-05  8.660311e-06 -3.997250e-08 -0.000014   \n",
      "expr   -0.000168  8.660311e-06  4.002835e-05 -1.106982e-05  0.000003   \n",
      "tenure -0.000086 -3.997250e-08 -1.106982e-05  5.994430e-05 -0.000008   \n",
      "smsa   -0.000387 -1.440121e-05  3.260602e-06 -7.819468e-06  0.000789   \n",
      "rns    -0.000440  8.523976e-06  7.334432e-07  7.259141e-06  0.000125   \n",
      "\n",
      "                 rns  \n",
      "const  -4.399747e-04  \n",
      "s       8.523976e-06  \n",
      "expr    7.334432e-07  \n",
      "tenure  7.259141e-06  \n",
      "smsa    1.248584e-04  \n",
      "rns     8.292835e-04  \n",
      "               0         1\n",
      "const   3.936619  4.270731\n",
      "s       0.091161  0.114125\n",
      "expr    0.025699  0.050539\n",
      "tenure  0.020415  0.050814\n",
      "smsa    0.084538  0.194795\n",
      "rns    -0.140612 -0.027547\n"
     ]
    }
   ],
   "source": [
    "# 查看回归系数的协方差矩阵\\置信区间\n",
    "print(results.cov_params())\n",
    "print(results.conf_int())"
   ]
  },
  {
   "cell_type": "code",
   "execution_count": 67,
   "metadata": {},
   "outputs": [
    {
     "name": "stdout",
     "output_type": "stream",
     "text": [
      "const     2.627210e-232\n",
      "s          4.747456e-58\n",
      "expr       2.646372e-09\n",
      "tenure     4.957792e-06\n",
      "smsa       8.152446e-07\n",
      "rns        3.608279e-03\n",
      "dtype: float64\n",
      "const     48.223494\n",
      "s         17.549396\n",
      "expr       6.024993\n",
      "tenure     4.599955\n",
      "smsa       4.973503\n",
      "rns       -2.919711\n",
      "dtype: float64\n",
      "90.23826842236467\n",
      "49.04788110650652\n",
      "0      0.407331\n",
      "1     -0.518859\n",
      "2     -0.022083\n",
      "3     -0.042366\n",
      "4      0.309462\n",
      "         ...   \n",
      "753    0.185835\n",
      "754   -0.137304\n",
      "755    0.348650\n",
      "756    0.210581\n",
      "757   -0.362152\n",
      "Length: 758, dtype: float64\n"
     ]
    }
   ],
   "source": [
    "# 返回p、t值、ssr、ess、残差等\n",
    "print(results.pvalues)\n",
    "print(results.tvalues)\n",
    "print(results.ssr)\n",
    "print(results.ess)\n",
    "print(results.resid)\n"
   ]
  },
  {
   "cell_type": "code",
   "execution_count": 68,
   "metadata": {},
   "outputs": [
    {
     "name": "stdout",
     "output_type": "stream",
     "text": [
      "0      5.492669\n",
      "1      5.956859\n",
      "2      5.732083\n",
      "3      5.523366\n",
      "4      5.617538\n",
      "         ...   \n",
      "753    5.837165\n",
      "754    5.313305\n",
      "755    5.435350\n",
      "756    5.417419\n",
      "757    5.437152\n",
      "Length: 758, dtype: float64\n",
      "0      5.492669\n",
      "1      5.956859\n",
      "2      5.732083\n",
      "3      5.523366\n",
      "4      5.617538\n",
      "         ...   \n",
      "753    5.837165\n",
      "754    5.313305\n",
      "755    5.435350\n",
      "756    5.417419\n",
      "757    5.437152\n",
      "Length: 758, dtype: float64\n"
     ]
    }
   ],
   "source": [
    "# 模型预测值和预测\n",
    "print(results.fittedvalues)\n",
    "print(results.predict(X))\n",
    "\n",
    "# 上述两种方法得出的结果一致\n",
    "# 但第一种方法更加直观，更容易理解。\n",
    "# 第二种方法提供了一种更加通用的方法，可以接受新的观察值，并得到相应的预测值"
   ]
  },
  {
   "cell_type": "code",
   "execution_count": 69,
   "metadata": {},
   "outputs": [
    {
     "data": {
      "text/plain": [
       "<class 'statsmodels.stats.contrast.ContrastResults'>\n",
       "                             Test for Constraints                             \n",
       "==============================================================================\n",
       "                 coef    std err          t      P>|t|      [0.025      0.975]\n",
       "------------------------------------------------------------------------------\n",
       "c0             0.1026      0.006      0.452      0.651       0.091       0.114\n",
       "=============================================================================="
      ]
     },
     "execution_count": 69,
     "metadata": {},
     "output_type": "execute_result"
    }
   ],
   "source": [
    "# t检验\n",
    "# 对原假设H0：$\\beta_2=0.1$ ,即s的回归系数s值为0.1，进行t检验，以0.05的显著性水平进行建议\n",
    "# 字符串形式参数\n",
    "r_matrix = 's = 0.1'\n",
    "T_test = results.t_test(r_matrix)\n",
    "T_test\n"
   ]
  },
  {
   "cell_type": "code",
   "execution_count": 70,
   "metadata": {},
   "outputs": [
    {
     "data": {
      "text/plain": [
       "<class 'statsmodels.stats.contrast.ContrastResults'>\n",
       "                             Test for Constraints                             \n",
       "==============================================================================\n",
       "                 coef    std err          t      P>|t|      [0.025      0.975]\n",
       "------------------------------------------------------------------------------\n",
       "c0             0.1026      0.006      0.452      0.651       0.091       0.114\n",
       "=============================================================================="
      ]
     },
     "execution_count": 70,
     "metadata": {},
     "output_type": "execute_result"
    }
   ],
   "source": [
    "import numpy as np\n",
    "\n",
    "# 元组形式参数\n",
    "R = np.zeros_like(results.params)\n",
    "R[1] = 1 \n",
    "# R=[0, 1, 0, 0, 0, 0] -> b=[const, s, expr, tenure, smsa, rns]的回归系数\n",
    "# 这个矩阵算出来等于q\n",
    "q = 0.1\n",
    "r_matrix = (R,q)\n",
    "\n",
    "T_test = results.t_test(r_matrix)\n",
    "T_test"
   ]
  },
  {
   "cell_type": "markdown",
   "metadata": {},
   "source": [
    "### 进行无常数项的回归"
   ]
  },
  {
   "cell_type": "code",
   "execution_count": 71,
   "metadata": {},
   "outputs": [
    {
     "name": "stdout",
     "output_type": "stream",
     "text": [
      "                                 OLS Regression Results                                \n",
      "=======================================================================================\n",
      "Dep. Variable:                    lnw   R-squared (uncentered):                   0.985\n",
      "Model:                            OLS   Adj. R-squared (uncentered):              0.985\n",
      "Method:                 Least Squares   F-statistic:                              9903.\n",
      "Date:                Wed, 10 Apr 2024   Prob (F-statistic):                        0.00\n",
      "Time:                        00:45:14   Log-Likelihood:                         -803.02\n",
      "No. Observations:                 758   AIC:                                      1616.\n",
      "Df Residuals:                     753   BIC:                                      1639.\n",
      "Df Model:                           5                                                  \n",
      "Covariance Type:            nonrobust                                                  \n",
      "==============================================================================\n",
      "                 coef    std err          t      P>|t|      [0.025      0.975]\n",
      "------------------------------------------------------------------------------\n",
      "s              0.3665      0.004     87.810      0.000       0.358       0.375\n",
      "expr           0.1332      0.012     10.960      0.000       0.109       0.157\n",
      "tenure         0.0846      0.016      5.453      0.000       0.054       0.115\n",
      "smsa           0.3592      0.056      6.413      0.000       0.249       0.469\n",
      "rns            0.1652      0.057      2.885      0.004       0.053       0.278\n",
      "==============================================================================\n",
      "Omnibus:                        3.795   Durbin-Watson:                   1.765\n",
      "Prob(Omnibus):                  0.150   Jarque-Bera (JB):                3.870\n",
      "Skew:                          -0.168   Prob(JB):                        0.144\n",
      "Kurtosis:                       2.901   Cond. No.                         32.8\n",
      "==============================================================================\n",
      "\n",
      "Notes:\n",
      "[1] R² is computed without centering (uncentered) since the model does not contain a constant.\n",
      "[2] Standard Errors assume that the covariance matrix of the errors is correctly specified.\n"
     ]
    }
   ],
   "source": [
    "# 进行无常数项的回归\n",
    "X_noconst=grilic[['s','expr','tenure','smsa','rns']]\n",
    "y = grilic['lnw']\n",
    "\n",
    "model = sm.OLS(y,X_noconst)\n",
    "results = model.fit()\n",
    "print(results.summary()) #"
   ]
  },
  {
   "cell_type": "code",
   "execution_count": 72,
   "metadata": {},
   "outputs": [
    {
     "name": "stdout",
     "output_type": "stream",
     "text": [
      "                            OLS Regression Results                            \n",
      "==============================================================================\n",
      "Dep. Variable:                    lnw   R-squared:                       0.420\n",
      "Model:                            OLS   Adj. R-squared:                  0.409\n",
      "Method:                 Least Squares   F-statistic:                     36.07\n",
      "Date:                Wed, 10 Apr 2024   Prob (F-statistic):           1.17e-22\n",
      "Time:                        00:45:14   Log-Likelihood:                -72.353\n",
      "No. Observations:                 204   AIC:                             154.7\n",
      "Df Residuals:                     199   BIC:                             171.3\n",
      "Df Model:                           4                                         \n",
      "Covariance Type:            nonrobust                                         \n",
      "==============================================================================\n",
      "                 coef    std err          t      P>|t|      [0.025      0.975]\n",
      "------------------------------------------------------------------------------\n",
      "s              0.1198      0.011     10.589      0.000       0.098       0.142\n",
      "expr           0.0452      0.012      3.687      0.000       0.021       0.069\n",
      "tenure         0.0093      0.016      0.591      0.555      -0.022       0.040\n",
      "smsa           0.1747      0.051      3.447      0.001       0.075       0.275\n",
      "rns            3.8061      0.159     23.995      0.000       3.493       4.119\n",
      "==============================================================================\n",
      "Omnibus:                        5.039   Durbin-Watson:                   2.114\n",
      "Prob(Omnibus):                  0.080   Jarque-Bera (JB):                6.579\n",
      "Skew:                           0.115   Prob(JB):                       0.0373\n",
      "Kurtosis:                       3.849   Cond. No.                         88.6\n",
      "==============================================================================\n",
      "\n",
      "Notes:\n",
      "[1] Standard Errors assume that the covariance matrix of the errors is correctly specified.\n"
     ]
    }
   ],
   "source": [
    "# 只对南方居民的子样本进行回归，可使用虚拟变量rns,即：grilic['rns'] == 1\n",
    "grilic_south = grilic[grilic['rns'] == 1]\n",
    "\n",
    "X=grilic_south[['s','expr','tenure','smsa','rns']]\n",
    "y = grilic_south['lnw']\n",
    "X = sm.add_constant(X)\n",
    "model = sm.OLS(y,X)\n",
    "results = model.fit()\n",
    "print(results.summary())\n"
   ]
  },
  {
   "cell_type": "code",
   "execution_count": 73,
   "metadata": {},
   "outputs": [
    {
     "data": {
      "image/png": "[encoded data removed]",
      "text/plain": [
       "<Figure size 640x480 with 1 Axes>"
      ]
     },
     "metadata": {},
     "output_type": "display_data"
    }
   ],
   "source": [
    "# 计算被解释变量的拟合值\n",
    "df = pd.DataFrame(grilic['lnw'])\n",
    "df['lnw1']=results.predict(X)\n",
    "\n",
    "# 画两条曲线，展示拟合值与实际值的关系图\n",
    "import seaborn as sns\n",
    "sns.set_theme(style=\"darkgrid\")\n",
    "sns.lineplot(x=df.index, y='lnw', data=df, color='blue',label='Fitted')\n",
    "sns.lineplot(x=df.index, y='lnw1', data=df, color='red',label='Actual')\n",
    "sns.despine()\n",
    "\n"
   ]
  },
  {
   "cell_type": "markdown",
   "metadata": {},
   "source": [
    "### 观测值子集的回归"
   ]
  },
  {
   "cell_type": "code",
   "execution_count": 74,
   "metadata": {},
   "outputs": [
    {
     "name": "stdout",
     "output_type": "stream",
     "text": [
      "                            OLS Regression Results                            \n",
      "==============================================================================\n",
      "Dep. Variable:                    lnw   R-squared:                       0.313\n",
      "Model:                            OLS   Adj. R-squared:                  0.308\n",
      "Method:                 Least Squares   F-statistic:                     62.45\n",
      "Date:                Wed, 10 Apr 2024   Prob (F-statistic):           1.70e-43\n",
      "Time:                        00:45:14   Log-Likelihood:                -191.70\n",
      "No. Observations:                 554   AIC:                             393.4\n",
      "Df Residuals:                     549   BIC:                             415.0\n",
      "Df Model:                           4                                         \n",
      "Covariance Type:            nonrobust                                         \n",
      "==============================================================================\n",
      "                 coef    std err          t      P>|t|      [0.025      0.975]\n",
      "------------------------------------------------------------------------------\n",
      "const          4.2140      0.100     42.318      0.000       4.018       4.410\n",
      "s              0.0945      0.007     13.820      0.000       0.081       0.108\n",
      "expr           0.0359      0.007      4.876      0.000       0.021       0.050\n",
      "tenure         0.0455      0.009      5.126      0.000       0.028       0.063\n",
      "smsa           0.1199      0.034      3.554      0.000       0.054       0.186\n",
      "rns                 0          0        nan        nan           0           0\n",
      "==============================================================================\n",
      "Omnibus:                        3.080   Durbin-Watson:                   1.623\n",
      "Prob(Omnibus):                  0.214   Jarque-Bera (JB):                3.342\n",
      "Skew:                          -0.053   Prob(JB):                        0.188\n",
      "Kurtosis:                       3.366   Cond. No.                          inf\n",
      "==============================================================================\n",
      "\n",
      "Notes:\n",
      "[1] Standard Errors assume that the covariance matrix of the errors is correctly specified.\n",
      "[2] The smallest eigenvalue is      0. This might indicate that there are\n",
      "strong multicollinearity problems or that the design matrix is singular.\n"
     ]
    },
    {
     "name": "stderr",
     "output_type": "stream",
     "text": [
      "e:\\Eco-stats\\eco-stats\\.venv\\lib\\site-packages\\statsmodels\\regression\\linear_model.py:1966: RuntimeWarning: divide by zero encountered in scalar divide\n",
      "  return np.sqrt(eigvals[0]/eigvals[-1])\n"
     ]
    }
   ],
   "source": [
    "# 只对北方居民的子样本进行回归，可使用虚拟变量rns,即：grilic['rns'] == 0\n",
    "grilic_north = grilic[grilic['rns'] == 0]\n",
    "\n",
    "X=grilic_north[['s','expr','tenure','smsa','rns']]\n",
    "y = grilic_north['lnw']\n",
    "X = sm.add_constant(X)\n",
    "model = sm.OLS(y,X)\n",
    "results = model.fit()\n",
    "print(results.summary())"
   ]
  },
  {
   "cell_type": "code",
   "execution_count": 75,
   "metadata": {},
   "outputs": [
    {
     "name": "stdout",
     "output_type": "stream",
     "text": [
      "                            OLS Regression Results                            \n",
      "==============================================================================\n",
      "Dep. Variable:                    lnw   R-squared:                       0.342\n",
      "Model:                            OLS   Adj. R-squared:                  0.337\n",
      "Method:                 Least Squares   F-statistic:                     69.81\n",
      "Date:                Wed, 10 Apr 2024   Prob (F-statistic):           8.21e-59\n",
      "Time:                        00:45:14   Log-Likelihood:                -240.54\n",
      "No. Observations:                 679   AIC:                             493.1\n",
      "Df Residuals:                     673   BIC:                             520.2\n",
      "Df Model:                           5                                         \n",
      "Covariance Type:            nonrobust                                         \n",
      "==============================================================================\n",
      "                 coef    std err          t      P>|t|      [0.025      0.975]\n",
      "------------------------------------------------------------------------------\n",
      "const          4.0153      0.098     40.906      0.000       3.823       4.208\n",
      "s              0.1077      0.007     16.129      0.000       0.095       0.121\n",
      "expr           0.0345      0.007      4.840      0.000       0.020       0.048\n",
      "tenure         0.0363      0.008      4.395      0.000       0.020       0.053\n",
      "smsa           0.1583      0.030      5.308      0.000       0.100       0.217\n",
      "rns           -0.0741      0.031     -2.398      0.017      -0.135      -0.013\n",
      "==============================================================================\n",
      "Omnibus:                        7.327   Durbin-Watson:                   1.754\n",
      "Prob(Omnibus):                  0.026   Jarque-Bera (JB):               10.537\n",
      "Skew:                          -0.012   Prob(JB):                      0.00515\n",
      "Kurtosis:                       3.610   Cond. No.                         105.\n",
      "==============================================================================\n",
      "\n",
      "Notes:\n",
      "[1] Standard Errors assume that the covariance matrix of the errors is correctly specified.\n"
     ]
    }
   ],
   "source": [
    "# 只对中学以上（s>=12）的子样本进行回归，\n",
    "grilic_mds = grilic[grilic['s'] >= 12]\n",
    "\n",
    "X=grilic_mds[['s','expr','tenure','smsa','rns']]\n",
    "y = grilic_mds['lnw']\n",
    "X = sm.add_constant(X)\n",
    "model = sm.OLS(y,X)\n",
    "results = model.fit()\n",
    "print(results.summary())"
   ]
  },
  {
   "cell_type": "code",
   "execution_count": 76,
   "metadata": {},
   "outputs": [
    {
     "name": "stdout",
     "output_type": "stream",
     "text": [
      "                            OLS Regression Results                            \n",
      "==============================================================================\n",
      "Dep. Variable:                    lnw   R-squared:                       0.432\n",
      "Model:                            OLS   Adj. R-squared:                  0.419\n",
      "Method:                 Least Squares   F-statistic:                     32.17\n",
      "Date:                Wed, 10 Apr 2024   Prob (F-statistic):           6.29e-20\n",
      "Time:                        00:45:14   Log-Likelihood:                -59.681\n",
      "No. Observations:                 174   AIC:                             129.4\n",
      "Df Residuals:                     169   BIC:                             145.2\n",
      "Df Model:                           4                                         \n",
      "Covariance Type:            nonrobust                                         \n",
      "==============================================================================\n",
      "                 coef    std err          t      P>|t|      [0.025      0.975]\n",
      "------------------------------------------------------------------------------\n",
      "s              0.1269      0.013      9.626      0.000       0.101       0.153\n",
      "expr           0.0227      0.016      1.452      0.148      -0.008       0.053\n",
      "tenure         0.0147      0.018      0.807      0.421      -0.021       0.051\n",
      "smsa           0.2136      0.055      3.893      0.000       0.105       0.322\n",
      "rns            3.6990      0.187     19.742      0.000       3.329       4.069\n",
      "==============================================================================\n",
      "Omnibus:                        6.797   Durbin-Watson:                   2.168\n",
      "Prob(Omnibus):                  0.033   Jarque-Bera (JB):               11.610\n",
      "Skew:                           0.003   Prob(JB):                      0.00301\n",
      "Kurtosis:                       4.265   Cond. No.                         101.\n",
      "==============================================================================\n",
      "\n",
      "Notes:\n",
      "[1] Standard Errors assume that the covariance matrix of the errors is correctly specified.\n"
     ]
    }
   ],
   "source": [
    "# 只对中学以上（s>=12）的南方居民子样本进行回归，\n",
    "grilic_mds_south = grilic[(grilic['s'] >= 12) & (grilic['rns'] == 1)]\n",
    "# grilic_mds_south = grilic[(grilic['s'] >= 12) and (grilic['rns'] == 1)]\n",
    "\n",
    "X=grilic_mds_south[['s','expr','tenure','smsa','rns']]\n",
    "y = grilic_mds_south['lnw']\n",
    "X = sm.add_constant(X)\n",
    "model = sm.OLS(y,X)\n",
    "results = model.fit()\n",
    "print(results.summary())"
   ]
  },
  {
   "cell_type": "markdown",
   "metadata": {},
   "source": []
  },
  {
   "cell_type": "markdown",
   "metadata": {},
   "source": [
    "## 习题\n",
    "\n",
    "### 5.5\n",
    "\n",
    "(1) \n",
    "(2) 接受\n",
    "(3) 接受\n",
    "(4) 拒绝\n",
    "(5) 拒绝"
   ]
  },
  {
   "cell_type": "code",
   "execution_count": 77,
   "metadata": {},
   "outputs": [
    {
     "data": {
      "text/html": [
       "<div>\n",
       "<style scoped>\n",
       "    .dataframe tbody tr th:only-of-type {\n",
       "        vertical-align: middle;\n",
       "    }\n",
       "\n",
       "    .dataframe tbody tr th {\n",
       "        vertical-align: top;\n",
       "    }\n",
       "\n",
       "    .dataframe thead th {\n",
       "        text-align: right;\n",
       "    }\n",
       "</style>\n",
       "<table border=\"1\" class=\"dataframe\">\n",
       "  <thead>\n",
       "    <tr style=\"text-align: right;\">\n",
       "      <th></th>\n",
       "      <th>airq</th>\n",
       "      <th>vala</th>\n",
       "      <th>rain</th>\n",
       "      <th>coast</th>\n",
       "      <th>density</th>\n",
       "      <th>income</th>\n",
       "    </tr>\n",
       "  </thead>\n",
       "  <tbody>\n",
       "    <tr>\n",
       "      <th>count</th>\n",
       "      <td>30.000000</td>\n",
       "      <td>30.000000</td>\n",
       "      <td>30.000000</td>\n",
       "      <td>30.000000</td>\n",
       "      <td>30.000000</td>\n",
       "      <td>30.000000</td>\n",
       "    </tr>\n",
       "    <tr>\n",
       "      <th>mean</th>\n",
       "      <td>104.700000</td>\n",
       "      <td>4188.459473</td>\n",
       "      <td>36.077999</td>\n",
       "      <td>0.700000</td>\n",
       "      <td>1728.582642</td>\n",
       "      <td>9476.666992</td>\n",
       "    </tr>\n",
       "    <tr>\n",
       "      <th>std</th>\n",
       "      <td>28.028495</td>\n",
       "      <td>4630.193848</td>\n",
       "      <td>13.488368</td>\n",
       "      <td>0.466092</td>\n",
       "      <td>2827.785645</td>\n",
       "      <td>12499.022461</td>\n",
       "    </tr>\n",
       "    <tr>\n",
       "      <th>min</th>\n",
       "      <td>59.000000</td>\n",
       "      <td>992.900024</td>\n",
       "      <td>12.630000</td>\n",
       "      <td>0.000000</td>\n",
       "      <td>271.589996</td>\n",
       "      <td>853.000000</td>\n",
       "    </tr>\n",
       "    <tr>\n",
       "      <th>25%</th>\n",
       "      <td>81.000000</td>\n",
       "      <td>1535.775024</td>\n",
       "      <td>31.017500</td>\n",
       "      <td>0.000000</td>\n",
       "      <td>365.187508</td>\n",
       "      <td>3339.750000</td>\n",
       "    </tr>\n",
       "    <tr>\n",
       "      <th>50%</th>\n",
       "      <td>114.000000</td>\n",
       "      <td>2629.849976</td>\n",
       "      <td>36.660000</td>\n",
       "      <td>1.000000</td>\n",
       "      <td>796.164978</td>\n",
       "      <td>4858.500000</td>\n",
       "    </tr>\n",
       "    <tr>\n",
       "      <th>75%</th>\n",
       "      <td>126.250000</td>\n",
       "      <td>4141.374878</td>\n",
       "      <td>42.697500</td>\n",
       "      <td>1.000000</td>\n",
       "      <td>1635.152466</td>\n",
       "      <td>8715.000000</td>\n",
       "    </tr>\n",
       "    <tr>\n",
       "      <th>max</th>\n",
       "      <td>165.000000</td>\n",
       "      <td>19733.800781</td>\n",
       "      <td>68.129997</td>\n",
       "      <td>1.000000</td>\n",
       "      <td>12957.500000</td>\n",
       "      <td>59460.000000</td>\n",
       "    </tr>\n",
       "  </tbody>\n",
       "</table>\n",
       "</div>"
      ],
      "text/plain": [
       "             airq          vala       rain      coast       density  \\\n",
       "count   30.000000     30.000000  30.000000  30.000000     30.000000   \n",
       "mean   104.700000   4188.459473  36.077999   0.700000   1728.582642   \n",
       "std     28.028495   4630.193848  13.488368   0.466092   2827.785645   \n",
       "min     59.000000    992.900024  12.630000   0.000000    271.589996   \n",
       "25%     81.000000   1535.775024  31.017500   0.000000    365.187508   \n",
       "50%    114.000000   2629.849976  36.660000   1.000000    796.164978   \n",
       "75%    126.250000   4141.374878  42.697500   1.000000   1635.152466   \n",
       "max    165.000000  19733.800781  68.129997   1.000000  12957.500000   \n",
       "\n",
       "             income  \n",
       "count     30.000000  \n",
       "mean    9476.666992  \n",
       "std    12499.022461  \n",
       "min      853.000000  \n",
       "25%     3339.750000  \n",
       "50%     4858.500000  \n",
       "75%     8715.000000  \n",
       "max    59460.000000  "
      ]
     },
     "execution_count": 77,
     "metadata": {},
     "output_type": "execute_result"
    }
   ],
   "source": [
    "import pandas as pd\n",
    "import numpy as np\n",
    "import statsmodels.api as sm\n",
    "\n",
    "Airq = pd.read_stata('../2_Data/Data-2e/airq.dta')\n",
    "Airq.describe()"
   ]
  },
  {
   "cell_type": "code",
   "execution_count": 78,
   "metadata": {},
   "outputs": [
    {
     "name": "stdout",
     "output_type": "stream",
     "text": [
      "                            OLS Regression Results                            \n",
      "==============================================================================\n",
      "Dep. Variable:                   airq   R-squared:                       0.383\n",
      "Model:                            OLS   Adj. R-squared:                  0.254\n",
      "Method:                 Least Squares   F-statistic:                     2.979\n",
      "Date:                Wed, 10 Apr 2024   Prob (F-statistic):             0.0313\n",
      "Time:                        00:45:14   Log-Likelihood:                -134.81\n",
      "No. Observations:                  30   AIC:                             281.6\n",
      "Df Residuals:                      24   BIC:                             290.0\n",
      "Df Model:                           5                                         \n",
      "Covariance Type:            nonrobust                                         \n",
      "==============================================================================\n",
      "                 coef    std err          t      P>|t|      [0.025      0.975]\n",
      "------------------------------------------------------------------------------\n",
      "const        111.9347     15.332      7.301      0.000      80.291     143.578\n",
      "vala           0.0009      0.002      0.392      0.699      -0.004       0.006\n",
      "rain           0.2507      0.344      0.730      0.473      -0.458       0.960\n",
      "coast        -33.3983     10.458     -3.194      0.004     -54.982     -11.815\n",
      "density       -0.0011      0.002     -0.661      0.515      -0.004       0.002\n",
      "income         0.0006      0.001      0.652      0.521      -0.001       0.002\n",
      "==============================================================================\n",
      "Omnibus:                        8.775   Durbin-Watson:                   1.830\n",
      "Prob(Omnibus):                  0.012   Jarque-Bera (JB):                7.299\n",
      "Skew:                           0.952   Prob(JB):                       0.0260\n",
      "Kurtosis:                       4.488   Cond. No.                     6.03e+04\n",
      "==============================================================================\n",
      "\n",
      "Notes:\n",
      "[1] Standard Errors assume that the covariance matrix of the errors is correctly specified.\n",
      "[2] The condition number is large, 6.03e+04. This might indicate that there are\n",
      "strong multicollinearity or other numerical problems.\n"
     ]
    }
   ],
   "source": [
    "X = Airq[['vala', 'rain', 'coast', 'density', 'income']]\n",
    "y = Airq['airq']\n",
    "X = sm.add_constant(X)\n",
    "model = sm.OLS(y, X)\n",
    "results = model.fit()\n",
    "print(results.summary())"
   ]
  },
  {
   "cell_type": "code",
   "execution_count": 79,
   "metadata": {},
   "outputs": [
    {
     "name": "stdout",
     "output_type": "stream",
     "text": [
      "因0.6988508091566739大于显著性水平,不能拒绝原假设\n"
     ]
    }
   ],
   "source": [
    "# (2) 平均收入对空气质量没有影响\n",
    "R = np.zeros_like(results.params)\n",
    "R[1] = 1\n",
    "q = 0\n",
    "r_matrix = (R, q)\n",
    "T_test = results.t_test(r_matrix)\n",
    "T_test.summary()\n",
    "\n",
    "if T_test.pvalue < 0.05:\n",
    "    print(\"因{}小于显著性水平,拒绝原假设\".format(T_test.pvalue))\n",
    "else:\n",
    "    print(\"因{}大于显著性水平,不能拒绝原假设\".format(T_test.pvalue))\n",
    "# print(T_test.pvalue)"
   ]
  },
  {
   "cell_type": "code",
   "execution_count": 80,
   "metadata": {},
   "outputs": [
    {
     "name": "stdout",
     "output_type": "stream",
     "text": [
      "因0.7675458429512061大于显著性水平,不能拒绝原假设\n"
     ]
    }
   ],
   "source": [
    "# (3) density 和 income 联合显著性\n",
    "R = np.zeros_like(results.params)\n",
    "R[4:] = 1\n",
    "q = 0\n",
    "r_matrix = (R, q)\n",
    "T_test = results.t_test(r_matrix)\n",
    "T_test.summary()\n",
    "\n",
    "if T_test.pvalue < 0.05:\n",
    "    print(\"因{}小于显著性水平,拒绝原假设\".format(T_test.pvalue))\n",
    "else:\n",
    "    print(\"因{}大于显著性水平,不能拒绝原假设\".format(T_test.pvalue))\n",
    "# print(T_test.pvalue)"
   ]
  },
  {
   "cell_type": "code",
   "execution_count": 81,
   "metadata": {},
   "outputs": [
    {
     "name": "stdout",
     "output_type": "stream",
     "text": [
      "因0.003979373971148726小于显著性水平,拒绝原假设\n"
     ]
    }
   ],
   "source": [
    "# (4) rain 和 coast 联合显著性\n",
    "R = np.zeros_like(results.params)\n",
    "R[2:4] = 1\n",
    "\n",
    "q = 0\n",
    "r_matrix = (R, q)\n",
    "T_test = results.t_test(r_matrix)\n",
    "T_test.summary()\n",
    "\n",
    "if T_test.pvalue < 0.05:\n",
    "    print(\"因{}小于显著性水平,拒绝原假设\".format(T_test.pvalue))\n",
    "else:\n",
    "    print(\"因{}大于显著性水平,不能拒绝原假设\".format(T_test.pvalue))\n",
    "# print(T_test.pvalue)"
   ]
  },
  {
   "cell_type": "code",
   "execution_count": 82,
   "metadata": {},
   "outputs": [
    {
     "name": "stdout",
     "output_type": "stream",
     "text": [
      "因2.0328041536137152e-05小于显著性水平,拒绝原假设\n"
     ]
    }
   ],
   "source": [
    "# (5) 所有的解释变量的联合显著性\n",
    "R = np.ones_like(results.params)\n",
    "q = 0\n",
    "r_matrix = (R, q)\n",
    "T_test = results.t_test(r_matrix)\n",
    "T_test.summary()\n",
    "\n",
    "if T_test.pvalue < 0.05:\n",
    "    print(\"因{}小于显著性水平,拒绝原假设\".format(T_test.pvalue))\n",
    "else:\n",
    "    print(\"因{}大于显著性水平,不能拒绝原假设\".format(T_test.pvalue))\n",
    "# print(T_test.pvalue)"
   ]
  },
  {
   "cell_type": "markdown",
   "metadata": {},
   "source": [
    "### 5.6\n",
    "\n",
    "> 原文献很有意义，数据也很完备。值得深入学习研究\n",
    "\n",
    "研究是否绝对收敛或条件收敛之前,先理解“收敛”的经济含义。\n",
    "穷国的经济增长速度比富国快，也就是说，如果初始财富越低，经济增长率应该越高，所以收敛意味着经济增长率应该是初始财富的减函数。\n",
    "\n",
    "(1) 只将lgdp6590对lgdp65做回归分析，t检验结果不能拒绝原假设，不存在绝对收敛\n",
    "\n",
    "(2) 加入自变量syr6595后进行回归分析，t检验结果拒绝原假设，存在条件收敛"
   ]
  },
  {
   "cell_type": "code",
   "execution_count": 83,
   "metadata": {},
   "outputs": [
    {
     "data": {
      "text/html": [
       "<div>\n",
       "<style scoped>\n",
       "    .dataframe tbody tr th:only-of-type {\n",
       "        vertical-align: middle;\n",
       "    }\n",
       "\n",
       "    .dataframe tbody tr th {\n",
       "        vertical-align: top;\n",
       "    }\n",
       "\n",
       "    .dataframe thead th {\n",
       "        text-align: right;\n",
       "    }\n",
       "</style>\n",
       "<table border=\"1\" class=\"dataframe\">\n",
       "  <thead>\n",
       "    <tr style=\"text-align: right;\">\n",
       "      <th></th>\n",
       "      <th>country</th>\n",
       "      <th>gdp90</th>\n",
       "      <th>gdp65</th>\n",
       "      <th>syr1965</th>\n",
       "      <th>lgdp65</th>\n",
       "      <th>gdpg6590</th>\n",
       "    </tr>\n",
       "  </thead>\n",
       "  <tbody>\n",
       "    <tr>\n",
       "      <th>4</th>\n",
       "      <td>Argentina</td>\n",
       "      <td>6581.0</td>\n",
       "      <td>5011.001465</td>\n",
       "      <td>-0.281038</td>\n",
       "      <td>8.519391</td>\n",
       "      <td>0.007818</td>\n",
       "    </tr>\n",
       "    <tr>\n",
       "      <th>6</th>\n",
       "      <td>Australia</td>\n",
       "      <td>16417.0</td>\n",
       "      <td>8825.997070</td>\n",
       "      <td>0.960116</td>\n",
       "      <td>9.085457</td>\n",
       "      <td>0.017890</td>\n",
       "    </tr>\n",
       "    <tr>\n",
       "      <th>7</th>\n",
       "      <td>Austria</td>\n",
       "      <td>16792.0</td>\n",
       "      <td>6125.997559</td>\n",
       "      <td>0.123102</td>\n",
       "      <td>8.720297</td>\n",
       "      <td>0.029229</td>\n",
       "    </tr>\n",
       "    <tr>\n",
       "      <th>10</th>\n",
       "      <td>Belgium</td>\n",
       "      <td>16807.0</td>\n",
       "      <td>6733.002441</td>\n",
       "      <td>0.445967</td>\n",
       "      <td>8.814776</td>\n",
       "      <td>0.026481</td>\n",
       "    </tr>\n",
       "    <tr>\n",
       "      <th>11</th>\n",
       "      <td>Benin</td>\n",
       "      <td>1107.0</td>\n",
       "      <td>1175.000244</td>\n",
       "      <td>-2.645075</td>\n",
       "      <td>7.069024</td>\n",
       "      <td>-0.001702</td>\n",
       "    </tr>\n",
       "  </tbody>\n",
       "</table>\n",
       "</div>"
      ],
      "text/plain": [
       "      country    gdp90        gdp65   syr1965    lgdp65  gdpg6590\n",
       "4   Argentina   6581.0  5011.001465 -0.281038  8.519391  0.007818\n",
       "6   Australia  16417.0  8825.997070  0.960116  9.085457  0.017890\n",
       "7     Austria  16792.0  6125.997559  0.123102  8.720297  0.029229\n",
       "10    Belgium  16807.0  6733.002441  0.445967  8.814776  0.026481\n",
       "11      Benin   1107.0  1175.000244 -2.645075  7.069024 -0.001702"
      ]
     },
     "execution_count": 83,
     "metadata": {},
     "output_type": "execute_result"
    }
   ],
   "source": [
    "# 因原始数据中，有缺失值，需要进行数据清洗\n",
    "\n",
    "geo = pd.read_stata('../2_Data/Data-2e/geodata_short.dta')\n",
    "df = geo[(geo['gdpg6590'].notna()) & (geo['syr1965'].notna())]\n",
    "df.head()"
   ]
  },
  {
   "cell_type": "code",
   "execution_count": 90,
   "metadata": {},
   "outputs": [
    {
     "name": "stdout",
     "output_type": "stream",
     "text": [
      "因p值0.161大等于0.025，不能拒绝原假设，不存在绝对收敛现象。\n"
     ]
    }
   ],
   "source": [
    "## （1）是否存在绝对收敛 \n",
    "X = df[['lgdp65']]\n",
    "y = df['gdpg6590']\n",
    "X = sm.add_constant(X)\n",
    "model = sm.OLS(y, X)\n",
    "results = model.fit()\n",
    "P_value = results.pvalues \n",
    "\n",
    "if P_value['lgdp65'] < 0.05/2:\n",
    "    print(\"因p值{}小于0.025，可以拒绝原假设，存在绝对收敛现象。\".format(round(P_value['lgdp65'],3)))\n",
    "else:\n",
    "    print(\"因p值{}大等于0.025，不能拒绝原假设，不存在绝对收敛现象。\".format(round(P_value['lgdp65'],3)))"
   ]
  },
  {
   "cell_type": "code",
   "execution_count": 89,
   "metadata": {},
   "outputs": [
    {
     "name": "stdout",
     "output_type": "stream",
     "text": [
      "因p值0.021小于0.025，存在条件收敛现象。\n"
     ]
    }
   ],
   "source": [
    "X1 = df[['lgdp65', 'syr1965']]\n",
    "y = df['gdpg6590']\n",
    "X1 = sm.add_constant(X1)\n",
    "model1 = sm.OLS(y, X1)\n",
    "results = model1.fit()\n",
    "P_value1 = results.pvalues \n",
    "\n",
    "if P_value1['lgdp65'] < 0.05/2:\n",
    "    print(\"因p值{}小于0.025，存在条件收敛现象。\".format(round(P_value1['lgdp65'],3)))\n",
    "else:\n",
    "    print(\"因p值{}大等于0.025，不存在条件收敛现象。\".format(round(P_value1['lgdp65'],3)))"
   ]
  },
  {
   "cell_type": "markdown",
   "metadata": {},
   "source": [
    "### 5.7\n",
    "#### (1)\n",
    "\n",
    "#### (2)\n",
    "- 竞争者回归系数 -9074，p=0，高度显著，多1个竞争者，收入减少 9074 元；\n",
    "- 人口数回归系数 0.3547，p=0，高度显著，多1个人口数，收入增加0.3547元；\n",
    "- 家庭收入回归系数 1.2879，p=0.025，显著，多1元家庭收入，收入增加1.2879元；\n",
    "\n",
    "#### (3)\n",
    "经可能不要在2英里以内有竞争对手的位置开店，选择人口密度大且家庭平均收入高的地方开店。"
   ]
  },
  {
   "cell_type": "code",
   "execution_count": 91,
   "metadata": {},
   "outputs": [
    {
     "data": {
      "text/html": [
       "<div>\n",
       "<style scoped>\n",
       "    .dataframe tbody tr th:only-of-type {\n",
       "        vertical-align: middle;\n",
       "    }\n",
       "\n",
       "    .dataframe tbody tr th {\n",
       "        vertical-align: top;\n",
       "    }\n",
       "\n",
       "    .dataframe thead th {\n",
       "        text-align: right;\n",
       "    }\n",
       "</style>\n",
       "<table border=\"1\" class=\"dataframe\">\n",
       "  <thead>\n",
       "    <tr style=\"text-align: right;\">\n",
       "      <th></th>\n",
       "      <th>y</th>\n",
       "      <th>competitors</th>\n",
       "      <th>pop</th>\n",
       "      <th>income</th>\n",
       "    </tr>\n",
       "  </thead>\n",
       "  <tbody>\n",
       "    <tr>\n",
       "      <th>0</th>\n",
       "      <td>107919</td>\n",
       "      <td>3</td>\n",
       "      <td>65044</td>\n",
       "      <td>13240</td>\n",
       "    </tr>\n",
       "    <tr>\n",
       "      <th>1</th>\n",
       "      <td>118866</td>\n",
       "      <td>5</td>\n",
       "      <td>101376</td>\n",
       "      <td>22554</td>\n",
       "    </tr>\n",
       "    <tr>\n",
       "      <th>2</th>\n",
       "      <td>98579</td>\n",
       "      <td>7</td>\n",
       "      <td>124989</td>\n",
       "      <td>16916</td>\n",
       "    </tr>\n",
       "    <tr>\n",
       "      <th>3</th>\n",
       "      <td>122015</td>\n",
       "      <td>2</td>\n",
       "      <td>55249</td>\n",
       "      <td>20967</td>\n",
       "    </tr>\n",
       "    <tr>\n",
       "      <th>4</th>\n",
       "      <td>152827</td>\n",
       "      <td>3</td>\n",
       "      <td>73775</td>\n",
       "      <td>19576</td>\n",
       "    </tr>\n",
       "  </tbody>\n",
       "</table>\n",
       "</div>"
      ],
      "text/plain": [
       "        y  competitors     pop  income\n",
       "0  107919            3   65044   13240\n",
       "1  118866            5  101376   22554\n",
       "2   98579            7  124989   16916\n",
       "3  122015            2   55249   20967\n",
       "4  152827            3   73775   19576"
      ]
     },
     "execution_count": 91,
     "metadata": {},
     "output_type": "execute_result"
    }
   ],
   "source": [
    "woody = pd.read_stata('../2_Data/Data-2e/Woody3.dta')\n",
    "woody.head()"
   ]
  },
  {
   "cell_type": "code",
   "execution_count": 92,
   "metadata": {},
   "outputs": [
    {
     "name": "stdout",
     "output_type": "stream",
     "text": [
      "                            OLS Regression Results                            \n",
      "==============================================================================\n",
      "Dep. Variable:                      y   R-squared:                       0.618\n",
      "Model:                            OLS   Adj. R-squared:                  0.579\n",
      "Method:                 Least Squares   F-statistic:                     15.65\n",
      "Date:                Wed, 10 Apr 2024   Prob (F-statistic):           3.06e-06\n",
      "Time:                        00:52:25   Log-Likelihood:                -360.99\n",
      "No. Observations:                  33   AIC:                             730.0\n",
      "Df Residuals:                      29   BIC:                             736.0\n",
      "Df Model:                           3                                         \n",
      "Covariance Type:            nonrobust                                         \n",
      "===============================================================================\n",
      "                  coef    std err          t      P>|t|      [0.025      0.975]\n",
      "-------------------------------------------------------------------------------\n",
      "const        1.022e+05   1.28e+04      7.984      0.000     7.6e+04    1.28e+05\n",
      "competitors -9074.6744   2052.674     -4.421      0.000   -1.33e+04   -4876.485\n",
      "pop             0.3547      0.073      4.880      0.000       0.206       0.503\n",
      "income          1.2879      0.543      2.371      0.025       0.177       2.399\n",
      "==============================================================================\n",
      "Omnibus:                        5.575   Durbin-Watson:                   1.758\n",
      "Prob(Omnibus):                  0.062   Jarque-Bera (JB):                4.450\n",
      "Skew:                           0.890   Prob(JB):                        0.108\n",
      "Kurtosis:                       3.260   Cond. No.                     6.04e+05\n",
      "==============================================================================\n",
      "\n",
      "Notes:\n",
      "[1] Standard Errors assume that the covariance matrix of the errors is correctly specified.\n",
      "[2] The condition number is large, 6.04e+05. This might indicate that there are\n",
      "strong multicollinearity or other numerical problems.\n"
     ]
    }
   ],
   "source": [
    "X = woody[['competitors','pop', 'income']]\n",
    "y = woody['y']\n",
    "X = sm.add_constant(X)\n",
    "model = sm.OLS(y, X)\n",
    "results = model.fit()\n",
    "print(results.summary())"
   ]
  },
  {
   "cell_type": "code",
   "execution_count": null,
   "metadata": {},
   "outputs": [],
   "source": []
  }
 ],
 "metadata": {
  "kernelspec": {
   "display_name": ".venv",
   "language": "python",
   "name": "python3"
  },
  "language_info": {
   "codemirror_mode": {
    "name": "ipython",
    "version": 3
   },
   "file_extension": ".py",
   "mimetype": "text/x-python",
   "name": "python",
   "nbconvert_exporter": "python",
   "pygments_lexer": "ipython3",
   "version": "3.10.8"
  }
 },
 "nbformat": 4,
 "nbformat_minor": 2
}
