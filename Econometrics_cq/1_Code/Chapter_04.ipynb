{
 "cells": [
  {
   "cell_type": "markdown",
   "metadata": {},
   "source": [
    "# 4 一元线性回归\n",
    "\n",
    "## 4.1 一元线性回归模型\n",
    "\n",
    "### 明瑟方程\n",
    "\n",
    "$\\ln w = \\alpha + \\beta s + \\epsilon$"
   ]
  },
  {
   "cell_type": "code",
   "execution_count": 28,
   "metadata": {},
   "outputs": [],
   "source": [
    "import pandas as pd\n",
    "import statsmodels.api as sm\n",
    "import seaborn as sns"
   ]
  },
  {
   "cell_type": "code",
   "execution_count": 29,
   "metadata": {},
   "outputs": [
    {
     "data": {
      "text/html": [
       "<div>\n",
       "<style scoped>\n",
       "    .dataframe tbody tr th:only-of-type {\n",
       "        vertical-align: middle;\n",
       "    }\n",
       "\n",
       "    .dataframe tbody tr th {\n",
       "        vertical-align: top;\n",
       "    }\n",
       "\n",
       "    .dataframe thead th {\n",
       "        text-align: right;\n",
       "    }\n",
       "</style>\n",
       "<table border=\"1\" class=\"dataframe\">\n",
       "  <thead>\n",
       "    <tr style=\"text-align: right;\">\n",
       "      <th></th>\n",
       "      <th>rns</th>\n",
       "      <th>mrt</th>\n",
       "      <th>smsa</th>\n",
       "      <th>med</th>\n",
       "      <th>iq</th>\n",
       "      <th>kww</th>\n",
       "      <th>age</th>\n",
       "      <th>s</th>\n",
       "      <th>expr</th>\n",
       "      <th>tenure</th>\n",
       "      <th>lnw</th>\n",
       "    </tr>\n",
       "  </thead>\n",
       "  <tbody>\n",
       "    <tr>\n",
       "      <th>0</th>\n",
       "      <td>0</td>\n",
       "      <td>0</td>\n",
       "      <td>1</td>\n",
       "      <td>8</td>\n",
       "      <td>93</td>\n",
       "      <td>35</td>\n",
       "      <td>19</td>\n",
       "      <td>12</td>\n",
       "      <td>0.462</td>\n",
       "      <td>0</td>\n",
       "      <td>5.900</td>\n",
       "    </tr>\n",
       "    <tr>\n",
       "      <th>1</th>\n",
       "      <td>0</td>\n",
       "      <td>0</td>\n",
       "      <td>1</td>\n",
       "      <td>14</td>\n",
       "      <td>119</td>\n",
       "      <td>41</td>\n",
       "      <td>23</td>\n",
       "      <td>16</td>\n",
       "      <td>0.000</td>\n",
       "      <td>2</td>\n",
       "      <td>5.438</td>\n",
       "    </tr>\n",
       "    <tr>\n",
       "      <th>2</th>\n",
       "      <td>0</td>\n",
       "      <td>0</td>\n",
       "      <td>1</td>\n",
       "      <td>14</td>\n",
       "      <td>108</td>\n",
       "      <td>46</td>\n",
       "      <td>20</td>\n",
       "      <td>14</td>\n",
       "      <td>0.423</td>\n",
       "      <td>1</td>\n",
       "      <td>5.710</td>\n",
       "    </tr>\n",
       "    <tr>\n",
       "      <th>3</th>\n",
       "      <td>0</td>\n",
       "      <td>0</td>\n",
       "      <td>1</td>\n",
       "      <td>12</td>\n",
       "      <td>96</td>\n",
       "      <td>32</td>\n",
       "      <td>18</td>\n",
       "      <td>12</td>\n",
       "      <td>0.333</td>\n",
       "      <td>1</td>\n",
       "      <td>5.481</td>\n",
       "    </tr>\n",
       "    <tr>\n",
       "      <th>4</th>\n",
       "      <td>0</td>\n",
       "      <td>1</td>\n",
       "      <td>1</td>\n",
       "      <td>6</td>\n",
       "      <td>74</td>\n",
       "      <td>27</td>\n",
       "      <td>26</td>\n",
       "      <td>9</td>\n",
       "      <td>9.013</td>\n",
       "      <td>3</td>\n",
       "      <td>5.927</td>\n",
       "    </tr>\n",
       "  </tbody>\n",
       "</table>\n",
       "</div>"
      ],
      "text/plain": [
       "   rns  mrt  smsa  med   iq  kww  age   s   expr  tenure    lnw\n",
       "0    0    0     1    8   93   35   19  12  0.462       0  5.900\n",
       "1    0    0     1   14  119   41   23  16  0.000       2  5.438\n",
       "2    0    0     1   14  108   46   20  14  0.423       1  5.710\n",
       "3    0    0     1   12   96   32   18  12  0.333       1  5.481\n",
       "4    0    1     1    6   74   27   26   9  9.013       3  5.927"
      ]
     },
     "execution_count": 29,
     "metadata": {},
     "output_type": "execute_result"
    }
   ],
   "source": [
    "# 读取grilic.dta数据\n",
    "\n",
    "import pandas as pd\n",
    "\n",
    "grilic = pd.read_stata('../2_Data/Data-2e/grilic.dta')\n",
    "grilic.head()\n"
   ]
  },
  {
   "cell_type": "code",
   "execution_count": 30,
   "metadata": {},
   "outputs": [
    {
     "data": {
      "text/html": [
       "<div>\n",
       "<style scoped>\n",
       "    .dataframe tbody tr th:only-of-type {\n",
       "        vertical-align: middle;\n",
       "    }\n",
       "\n",
       "    .dataframe tbody tr th {\n",
       "        vertical-align: top;\n",
       "    }\n",
       "\n",
       "    .dataframe thead th {\n",
       "        text-align: right;\n",
       "    }\n",
       "</style>\n",
       "<table border=\"1\" class=\"dataframe\">\n",
       "  <thead>\n",
       "    <tr style=\"text-align: right;\">\n",
       "      <th></th>\n",
       "      <th>s</th>\n",
       "      <th>lnw</th>\n",
       "    </tr>\n",
       "  </thead>\n",
       "  <tbody>\n",
       "    <tr>\n",
       "      <th>0</th>\n",
       "      <td>12</td>\n",
       "      <td>5.900</td>\n",
       "    </tr>\n",
       "    <tr>\n",
       "      <th>1</th>\n",
       "      <td>16</td>\n",
       "      <td>5.438</td>\n",
       "    </tr>\n",
       "    <tr>\n",
       "      <th>2</th>\n",
       "      <td>14</td>\n",
       "      <td>5.710</td>\n",
       "    </tr>\n",
       "    <tr>\n",
       "      <th>3</th>\n",
       "      <td>12</td>\n",
       "      <td>5.481</td>\n",
       "    </tr>\n",
       "    <tr>\n",
       "      <th>4</th>\n",
       "      <td>9</td>\n",
       "      <td>5.927</td>\n",
       "    </tr>\n",
       "    <tr>\n",
       "      <th>5</th>\n",
       "      <td>9</td>\n",
       "      <td>4.804</td>\n",
       "    </tr>\n",
       "    <tr>\n",
       "      <th>6</th>\n",
       "      <td>18</td>\n",
       "      <td>6.512</td>\n",
       "    </tr>\n",
       "    <tr>\n",
       "      <th>7</th>\n",
       "      <td>15</td>\n",
       "      <td>5.808</td>\n",
       "    </tr>\n",
       "    <tr>\n",
       "      <th>8</th>\n",
       "      <td>12</td>\n",
       "      <td>5.737</td>\n",
       "    </tr>\n",
       "    <tr>\n",
       "      <th>9</th>\n",
       "      <td>18</td>\n",
       "      <td>6.382</td>\n",
       "    </tr>\n",
       "  </tbody>\n",
       "</table>\n",
       "</div>"
      ],
      "text/plain": [
       "    s    lnw\n",
       "0  12  5.900\n",
       "1  16  5.438\n",
       "2  14  5.710\n",
       "3  12  5.481\n",
       "4   9  5.927\n",
       "5   9  4.804\n",
       "6  18  6.512\n",
       "7  15  5.808\n",
       "8  12  5.737\n",
       "9  18  6.382"
      ]
     },
     "execution_count": 30,
     "metadata": {},
     "output_type": "execute_result"
    }
   ],
   "source": [
    "# 数据集中有很多字段（变量，列的名称），我们只需要对lnw和s进行分析。\n",
    "grilic[['s','lnw']].head(10)"
   ]
  },
  {
   "cell_type": "code",
   "execution_count": 31,
   "metadata": {},
   "outputs": [
    {
     "name": "stdout",
     "output_type": "stream",
     "text": [
      "                            OLS Regression Results                            \n",
      "==============================================================================\n",
      "Dep. Variable:                    lnw   R-squared:                      -2.574\n",
      "Model:                            OLS   Adj. R-squared:                 -2.574\n",
      "Method:                 Least Squares   F-statistic:                       nan\n",
      "Date:                Fri, 29 Mar 2024   Prob (F-statistic):                nan\n",
      "Time:                        11:45:11   Log-Likelihood:                -916.23\n",
      "No. Observations:                 758   AIC:                             1834.\n",
      "Df Residuals:                     757   BIC:                             1839.\n",
      "Df Model:                           0                                         \n",
      "Covariance Type:            nonrobust                                         \n",
      "==============================================================================\n",
      "                 coef    std err          t      P>|t|      [0.025      0.975]\n",
      "------------------------------------------------------------------------------\n",
      "s              0.4154      0.002    191.644      0.000       0.411       0.420\n",
      "==============================================================================\n",
      "Omnibus:                       13.323   Durbin-Watson:                   1.796\n",
      "Prob(Omnibus):                  0.001   Jarque-Bera (JB):               13.278\n",
      "Skew:                          -0.298   Prob(JB):                      0.00131\n",
      "Kurtosis:                       2.745   Cond. No.                         1.00\n",
      "==============================================================================\n",
      "\n",
      "Notes:\n",
      "[1] Standard Errors assume that the covariance matrix of the errors is correctly specified.\n"
     ]
    }
   ],
   "source": [
    "# 一元线性回归模型只需要用到‘lnw’和‘s’两个字段\n",
    "\n",
    "grilic_to_ols = sm.OLS(endog=grilic['lnw'], \n",
    "                       exog=grilic['s'],\n",
    "                       hasconst=True).fit()\n",
    "print(grilic_to_ols.summary())"
   ]
  },
  {
   "cell_type": "code",
   "execution_count": 32,
   "metadata": {},
   "outputs": [
    {
     "data": {
      "text/plain": [
       "<Axes: xlabel='s', ylabel='lnw'>"
      ]
     },
     "execution_count": 32,
     "metadata": {},
     "output_type": "execute_result"
    },
    {
     "data": {
      "image/png": "[encoded data removed]",
      "text/plain": [
       "<Figure size 640x480 with 1 Axes>"
      ]
     },
     "metadata": {},
     "output_type": "display_data"
    }
   ],
   "source": [
    "# 对上面的回归结果进行绘图\n",
    "\n",
    "sns.regplot(x=\"s\", y=\"lnw\", \n",
    "            data=grilic, \n",
    "            ci=None, \n",
    "            scatter_kws={\"alpha\": 0.5})\n"
   ]
  },
  {
   "cell_type": "code",
   "execution_count": null,
   "metadata": {},
   "outputs": [],
   "source": []
  }
 ],
 "metadata": {
  "kernelspec": {
   "display_name": ".venv",
   "language": "python",
   "name": "python3"
  },
  "language_info": {
   "codemirror_mode": {
    "name": "ipython",
    "version": 3
   },
   "file_extension": ".py",
   "mimetype": "text/x-python",
   "name": "python",
   "nbconvert_exporter": "python",
   "pygments_lexer": "ipython3",
   "version": "3.10.8"
  }
 },
 "nbformat": 4,
 "nbformat_minor": 2
}
